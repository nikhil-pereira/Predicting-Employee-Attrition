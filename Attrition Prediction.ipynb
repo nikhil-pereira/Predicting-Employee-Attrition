{
 "cells": [
  {
   "cell_type": "markdown",
   "metadata": {
    "id": "wLnjMLM30fMX"
   },
   "source": [
    "# This notebook is set up to run multiple data files through developed pipeline that preprocesses data with modular functions, and train/tests multiple datasets against ML algorithms. One key feature of this notebook is the sentence semantic encoder which maps similar questions from dataset to datset allowing automatic mapping between old and future surveys.This notebook can do the train on one data set, test on another to show predictive capabilities of ML algorithms. The team developed tensor flow Boosted Tree Classifier, hyperparameter search on Random Forest, Gradient Boost and Xtreme Gradient Boost and finally Auto Keras. All ML Outputs have a report that shows the ROC curve, confusion matrix, statistical performance metrics and finally the feature importance visuals."
   ]
  },
  {
   "cell_type": "markdown",
   "metadata": {
    "id": "lFQ9YscS0Puv"
   },
   "source": [
    "# Data for this notebook is stored in the Client Data directory of VTSD21's Google Drive and can be accessed when that folder is made a shortcut to the user's personal drive"
   ]
  },
  {
   "cell_type": "markdown",
   "metadata": {
    "id": "Ia9-HzAfQ8Wp"
   },
   "source": [
    "# Authorization and accessing the data from the Client Data Folder"
   ]
  },
  {
   "cell_type": "markdown",
   "metadata": {
    "id": "xqTsHFnHT6SJ"
   },
   "source": [
    "\n",
    "# Security Access and Import Libraries"
   ]
  },
  {
   "cell_type": "code",
   "execution_count": 1,
   "metadata": {
    "executionInfo": {
     "elapsed": 5999,
     "status": "ok",
     "timestamp": 1618504694042,
     "user": {
      "displayName": "Nikhil Pereira",
      "photoUrl": "https://lh3.googleusercontent.com/-KmpYA79GZFM/AAAAAAAAAAI/AAAAAAAAAPs/M7RMlSus4Ck/s64/photo.jpg",
      "userId": "01764547955641237902"
     },
     "user_tz": 240
    },
    "id": "8u3Z2zCH_6sA"
   },
   "outputs": [],
   "source": [
    "# Code to read csv file into colaboratory:\n",
    "!pip install -U -q PyDrive\n",
    "from pydrive.auth import GoogleAuth\n",
    "from pydrive.drive import GoogleDrive\n",
    "from google.colab import auth\n",
    "from oauth2client.client import GoogleCredentials"
   ]
  },
  {
   "cell_type": "code",
   "execution_count": 3,
   "metadata": {
    "colab": {
     "base_uri": "https://localhost:8080/"
    },
    "executionInfo": {
     "elapsed": 36686,
     "status": "ok",
     "timestamp": 1618504745802,
     "user": {
      "displayName": "Nikhil Pereira",
      "photoUrl": "https://lh3.googleusercontent.com/-KmpYA79GZFM/AAAAAAAAAAI/AAAAAAAAAPs/M7RMlSus4Ck/s64/photo.jpg",
      "userId": "01764547955641237902"
     },
     "user_tz": 240
    },
    "id": "yU0YpnzsEEoq",
    "outputId": "0362e0dc-f0dc-4be6-a136-527dd6b96605"
   },
   "outputs": [
    {
     "name": "stdout",
     "output_type": "stream",
     "text": [
      "Mounted at /content/drive\n"
     ]
    }
   ],
   "source": [
    "from google.colab import drive\n",
    "drive.mount('/content/drive')"
   ]
  },
  {
   "cell_type": "code",
   "execution_count": 4,
   "metadata": {
    "executionInfo": {
     "elapsed": 25703,
     "status": "ok",
     "timestamp": 1618504774172,
     "user": {
      "displayName": "Nikhil Pereira",
      "photoUrl": "https://lh3.googleusercontent.com/-KmpYA79GZFM/AAAAAAAAAAI/AAAAAAAAAPs/M7RMlSus4Ck/s64/photo.jpg",
      "userId": "01764547955641237902"
     },
     "user_tz": 240
    },
    "id": "sNQAws4QCIDY"
   },
   "outputs": [],
   "source": [
    "auth.authenticate_user()\n",
    "gauth = GoogleAuth()\n",
    "gauth.credentials = GoogleCredentials.get_application_default()\n",
    "drive = GoogleDrive(gauth)\n"
   ]
  },
  {
   "cell_type": "code",
   "execution_count": 5,
   "metadata": {
    "colab": {
     "base_uri": "https://localhost:8080/"
    },
    "executionInfo": {
     "elapsed": 17238,
     "status": "ok",
     "timestamp": 1618504794646,
     "user": {
      "displayName": "Nikhil Pereira",
      "photoUrl": "https://lh3.googleusercontent.com/-KmpYA79GZFM/AAAAAAAAAAI/AAAAAAAAAPs/M7RMlSus4Ck/s64/photo.jpg",
      "userId": "01764547955641237902"
     },
     "user_tz": 240
    },
    "id": "W9GP3ymSFng9",
    "outputId": "7839e2ad-c7be-4db8-8d1c-967127b46aca"
   },
   "outputs": [
    {
     "name": "stdout",
     "output_type": "stream",
     "text": [
      "\u001b[?25l\r",
      "\u001b[K     |█████▏                          | 10kB 11.9MB/s eta 0:00:01\r",
      "\u001b[K     |██████████▍                     | 20kB 14.0MB/s eta 0:00:01\r",
      "\u001b[K     |███████████████▋                | 30kB 17.2MB/s eta 0:00:01\r",
      "\u001b[K     |████████████████████▉           | 40kB 19.3MB/s eta 0:00:01\r",
      "\u001b[K     |██████████████████████████      | 51kB 20.1MB/s eta 0:00:01\r",
      "\u001b[K     |███████████████████████████████▎| 61kB 15.9MB/s eta 0:00:01\r",
      "\u001b[K     |████████████████████████████████| 71kB 3.8MB/s \n",
      "\u001b[?25h  Building wheel for keras-tuner (setup.py) ... \u001b[?25l\u001b[?25hdone\n",
      "  Building wheel for terminaltables (setup.py) ... \u001b[?25l\u001b[?25hdone\n",
      "Collecting autokeras\n",
      "\u001b[?25l  Downloading https://files.pythonhosted.org/packages/09/12/cf698586ccc8245f08d1843dcafb65b064a2e9e2923b889dc58e1019f099/autokeras-1.0.12-py3-none-any.whl (164kB)\n",
      "\u001b[K     |████████████████████████████████| 174kB 9.8MB/s \n",
      "\u001b[?25hRequirement already satisfied: pandas in /usr/local/lib/python3.7/dist-packages (from autokeras) (1.1.5)\n",
      "Requirement already satisfied: scikit-learn in /usr/local/lib/python3.7/dist-packages (from autokeras) (0.22.2.post1)\n",
      "Requirement already satisfied: keras-tuner>=1.0.2 in /usr/local/lib/python3.7/dist-packages (from autokeras) (1.0.2)\n",
      "Requirement already satisfied: packaging in /usr/local/lib/python3.7/dist-packages (from autokeras) (20.9)\n",
      "Requirement already satisfied: tensorflow>=2.3.0 in /usr/local/lib/python3.7/dist-packages (from autokeras) (2.4.1)\n",
      "Requirement already satisfied: pytz>=2017.2 in /usr/local/lib/python3.7/dist-packages (from pandas->autokeras) (2018.9)\n",
      "Requirement already satisfied: python-dateutil>=2.7.3 in /usr/local/lib/python3.7/dist-packages (from pandas->autokeras) (2.8.1)\n",
      "Requirement already satisfied: numpy>=1.15.4 in /usr/local/lib/python3.7/dist-packages (from pandas->autokeras) (1.19.5)\n",
      "Requirement already satisfied: scipy>=0.17.0 in /usr/local/lib/python3.7/dist-packages (from scikit-learn->autokeras) (1.4.1)\n",
      "Requirement already satisfied: joblib>=0.11 in /usr/local/lib/python3.7/dist-packages (from scikit-learn->autokeras) (1.0.1)\n",
      "Requirement already satisfied: future in /usr/local/lib/python3.7/dist-packages (from keras-tuner>=1.0.2->autokeras) (0.16.0)\n",
      "Requirement already satisfied: colorama in /usr/local/lib/python3.7/dist-packages (from keras-tuner>=1.0.2->autokeras) (0.4.4)\n",
      "Requirement already satisfied: tabulate in /usr/local/lib/python3.7/dist-packages (from keras-tuner>=1.0.2->autokeras) (0.8.9)\n",
      "Requirement already satisfied: terminaltables in /usr/local/lib/python3.7/dist-packages (from keras-tuner>=1.0.2->autokeras) (3.1.0)\n",
      "Requirement already satisfied: tqdm in /usr/local/lib/python3.7/dist-packages (from keras-tuner>=1.0.2->autokeras) (4.41.1)\n",
      "Requirement already satisfied: requests in /usr/local/lib/python3.7/dist-packages (from keras-tuner>=1.0.2->autokeras) (2.23.0)\n",
      "Requirement already satisfied: pyparsing>=2.0.2 in /usr/local/lib/python3.7/dist-packages (from packaging->autokeras) (2.4.7)\n",
      "Requirement already satisfied: opt-einsum~=3.3.0 in /usr/local/lib/python3.7/dist-packages (from tensorflow>=2.3.0->autokeras) (3.3.0)\n",
      "Requirement already satisfied: tensorflow-estimator<2.5.0,>=2.4.0 in /usr/local/lib/python3.7/dist-packages (from tensorflow>=2.3.0->autokeras) (2.4.0)\n",
      "Requirement already satisfied: keras-preprocessing~=1.1.2 in /usr/local/lib/python3.7/dist-packages (from tensorflow>=2.3.0->autokeras) (1.1.2)\n",
      "Requirement already satisfied: wheel~=0.35 in /usr/local/lib/python3.7/dist-packages (from tensorflow>=2.3.0->autokeras) (0.36.2)\n",
      "Requirement already satisfied: six~=1.15.0 in /usr/local/lib/python3.7/dist-packages (from tensorflow>=2.3.0->autokeras) (1.15.0)\n",
      "Requirement already satisfied: grpcio~=1.32.0 in /usr/local/lib/python3.7/dist-packages (from tensorflow>=2.3.0->autokeras) (1.32.0)\n",
      "Requirement already satisfied: astunparse~=1.6.3 in /usr/local/lib/python3.7/dist-packages (from tensorflow>=2.3.0->autokeras) (1.6.3)\n",
      "Requirement already satisfied: wrapt~=1.12.1 in /usr/local/lib/python3.7/dist-packages (from tensorflow>=2.3.0->autokeras) (1.12.1)\n",
      "Requirement already satisfied: gast==0.3.3 in /usr/local/lib/python3.7/dist-packages (from tensorflow>=2.3.0->autokeras) (0.3.3)\n",
      "Requirement already satisfied: flatbuffers~=1.12.0 in /usr/local/lib/python3.7/dist-packages (from tensorflow>=2.3.0->autokeras) (1.12)\n",
      "Requirement already satisfied: h5py~=2.10.0 in /usr/local/lib/python3.7/dist-packages (from tensorflow>=2.3.0->autokeras) (2.10.0)\n",
      "Requirement already satisfied: tensorboard~=2.4 in /usr/local/lib/python3.7/dist-packages (from tensorflow>=2.3.0->autokeras) (2.4.1)\n",
      "Requirement already satisfied: protobuf>=3.9.2 in /usr/local/lib/python3.7/dist-packages (from tensorflow>=2.3.0->autokeras) (3.12.4)\n",
      "Requirement already satisfied: termcolor~=1.1.0 in /usr/local/lib/python3.7/dist-packages (from tensorflow>=2.3.0->autokeras) (1.1.0)\n",
      "Requirement already satisfied: typing-extensions~=3.7.4 in /usr/local/lib/python3.7/dist-packages (from tensorflow>=2.3.0->autokeras) (3.7.4.3)\n",
      "Requirement already satisfied: absl-py~=0.10 in /usr/local/lib/python3.7/dist-packages (from tensorflow>=2.3.0->autokeras) (0.12.0)\n",
      "Requirement already satisfied: google-pasta~=0.2 in /usr/local/lib/python3.7/dist-packages (from tensorflow>=2.3.0->autokeras) (0.2.0)\n",
      "Requirement already satisfied: certifi>=2017.4.17 in /usr/local/lib/python3.7/dist-packages (from requests->keras-tuner>=1.0.2->autokeras) (2020.12.5)\n",
      "Requirement already satisfied: urllib3!=1.25.0,!=1.25.1,<1.26,>=1.21.1 in /usr/local/lib/python3.7/dist-packages (from requests->keras-tuner>=1.0.2->autokeras) (1.24.3)\n",
      "Requirement already satisfied: chardet<4,>=3.0.2 in /usr/local/lib/python3.7/dist-packages (from requests->keras-tuner>=1.0.2->autokeras) (3.0.4)\n",
      "Requirement already satisfied: idna<3,>=2.5 in /usr/local/lib/python3.7/dist-packages (from requests->keras-tuner>=1.0.2->autokeras) (2.10)\n",
      "Requirement already satisfied: markdown>=2.6.8 in /usr/local/lib/python3.7/dist-packages (from tensorboard~=2.4->tensorflow>=2.3.0->autokeras) (3.3.4)\n",
      "Requirement already satisfied: google-auth<2,>=1.6.3 in /usr/local/lib/python3.7/dist-packages (from tensorboard~=2.4->tensorflow>=2.3.0->autokeras) (1.28.1)\n",
      "Requirement already satisfied: tensorboard-plugin-wit>=1.6.0 in /usr/local/lib/python3.7/dist-packages (from tensorboard~=2.4->tensorflow>=2.3.0->autokeras) (1.8.0)\n",
      "Requirement already satisfied: werkzeug>=0.11.15 in /usr/local/lib/python3.7/dist-packages (from tensorboard~=2.4->tensorflow>=2.3.0->autokeras) (1.0.1)\n",
      "Requirement already satisfied: google-auth-oauthlib<0.5,>=0.4.1 in /usr/local/lib/python3.7/dist-packages (from tensorboard~=2.4->tensorflow>=2.3.0->autokeras) (0.4.4)\n",
      "Requirement already satisfied: setuptools>=41.0.0 in /usr/local/lib/python3.7/dist-packages (from tensorboard~=2.4->tensorflow>=2.3.0->autokeras) (54.2.0)\n",
      "Requirement already satisfied: importlib-metadata; python_version < \"3.8\" in /usr/local/lib/python3.7/dist-packages (from markdown>=2.6.8->tensorboard~=2.4->tensorflow>=2.3.0->autokeras) (3.10.0)\n",
      "Requirement already satisfied: pyasn1-modules>=0.2.1 in /usr/local/lib/python3.7/dist-packages (from google-auth<2,>=1.6.3->tensorboard~=2.4->tensorflow>=2.3.0->autokeras) (0.2.8)\n",
      "Requirement already satisfied: cachetools<5.0,>=2.0.0 in /usr/local/lib/python3.7/dist-packages (from google-auth<2,>=1.6.3->tensorboard~=2.4->tensorflow>=2.3.0->autokeras) (4.2.1)\n",
      "Requirement already satisfied: rsa<5,>=3.1.4; python_version >= \"3.6\" in /usr/local/lib/python3.7/dist-packages (from google-auth<2,>=1.6.3->tensorboard~=2.4->tensorflow>=2.3.0->autokeras) (4.7.2)\n",
      "Requirement already satisfied: requests-oauthlib>=0.7.0 in /usr/local/lib/python3.7/dist-packages (from google-auth-oauthlib<0.5,>=0.4.1->tensorboard~=2.4->tensorflow>=2.3.0->autokeras) (1.3.0)\n",
      "Requirement already satisfied: zipp>=0.5 in /usr/local/lib/python3.7/dist-packages (from importlib-metadata; python_version < \"3.8\"->markdown>=2.6.8->tensorboard~=2.4->tensorflow>=2.3.0->autokeras) (3.4.1)\n",
      "Requirement already satisfied: pyasn1<0.5.0,>=0.4.6 in /usr/local/lib/python3.7/dist-packages (from pyasn1-modules>=0.2.1->google-auth<2,>=1.6.3->tensorboard~=2.4->tensorflow>=2.3.0->autokeras) (0.4.8)\n",
      "Requirement already satisfied: oauthlib>=3.0.0 in /usr/local/lib/python3.7/dist-packages (from requests-oauthlib>=0.7.0->google-auth-oauthlib<0.5,>=0.4.1->tensorboard~=2.4->tensorflow>=2.3.0->autokeras) (3.1.0)\n",
      "Installing collected packages: autokeras\n",
      "Successfully installed autokeras-1.0.12\n",
      "Requirement already satisfied: tensorflow in /usr/local/lib/python3.7/dist-packages (2.4.1)\n",
      "Requirement already satisfied: google-pasta~=0.2 in /usr/local/lib/python3.7/dist-packages (from tensorflow) (0.2.0)\n",
      "Requirement already satisfied: keras-preprocessing~=1.1.2 in /usr/local/lib/python3.7/dist-packages (from tensorflow) (1.1.2)\n",
      "Requirement already satisfied: h5py~=2.10.0 in /usr/local/lib/python3.7/dist-packages (from tensorflow) (2.10.0)\n",
      "Requirement already satisfied: termcolor~=1.1.0 in /usr/local/lib/python3.7/dist-packages (from tensorflow) (1.1.0)\n",
      "Requirement already satisfied: gast==0.3.3 in /usr/local/lib/python3.7/dist-packages (from tensorflow) (0.3.3)\n",
      "Requirement already satisfied: tensorboard~=2.4 in /usr/local/lib/python3.7/dist-packages (from tensorflow) (2.4.1)\n",
      "Requirement already satisfied: tensorflow-estimator<2.5.0,>=2.4.0 in /usr/local/lib/python3.7/dist-packages (from tensorflow) (2.4.0)\n",
      "Requirement already satisfied: opt-einsum~=3.3.0 in /usr/local/lib/python3.7/dist-packages (from tensorflow) (3.3.0)\n",
      "Requirement already satisfied: six~=1.15.0 in /usr/local/lib/python3.7/dist-packages (from tensorflow) (1.15.0)\n",
      "Requirement already satisfied: wheel~=0.35 in /usr/local/lib/python3.7/dist-packages (from tensorflow) (0.36.2)\n",
      "Requirement already satisfied: flatbuffers~=1.12.0 in /usr/local/lib/python3.7/dist-packages (from tensorflow) (1.12)\n",
      "Requirement already satisfied: wrapt~=1.12.1 in /usr/local/lib/python3.7/dist-packages (from tensorflow) (1.12.1)\n",
      "Requirement already satisfied: absl-py~=0.10 in /usr/local/lib/python3.7/dist-packages (from tensorflow) (0.12.0)\n",
      "Requirement already satisfied: grpcio~=1.32.0 in /usr/local/lib/python3.7/dist-packages (from tensorflow) (1.32.0)\n",
      "Requirement already satisfied: protobuf>=3.9.2 in /usr/local/lib/python3.7/dist-packages (from tensorflow) (3.12.4)\n",
      "Requirement already satisfied: numpy~=1.19.2 in /usr/local/lib/python3.7/dist-packages (from tensorflow) (1.19.5)\n",
      "Requirement already satisfied: astunparse~=1.6.3 in /usr/local/lib/python3.7/dist-packages (from tensorflow) (1.6.3)\n",
      "Requirement already satisfied: typing-extensions~=3.7.4 in /usr/local/lib/python3.7/dist-packages (from tensorflow) (3.7.4.3)\n",
      "Requirement already satisfied: tensorboard-plugin-wit>=1.6.0 in /usr/local/lib/python3.7/dist-packages (from tensorboard~=2.4->tensorflow) (1.8.0)\n",
      "Requirement already satisfied: setuptools>=41.0.0 in /usr/local/lib/python3.7/dist-packages (from tensorboard~=2.4->tensorflow) (54.2.0)\n",
      "Requirement already satisfied: markdown>=2.6.8 in /usr/local/lib/python3.7/dist-packages (from tensorboard~=2.4->tensorflow) (3.3.4)\n",
      "Requirement already satisfied: google-auth-oauthlib<0.5,>=0.4.1 in /usr/local/lib/python3.7/dist-packages (from tensorboard~=2.4->tensorflow) (0.4.4)\n",
      "Requirement already satisfied: requests<3,>=2.21.0 in /usr/local/lib/python3.7/dist-packages (from tensorboard~=2.4->tensorflow) (2.23.0)\n",
      "Requirement already satisfied: werkzeug>=0.11.15 in /usr/local/lib/python3.7/dist-packages (from tensorboard~=2.4->tensorflow) (1.0.1)\n",
      "Requirement already satisfied: google-auth<2,>=1.6.3 in /usr/local/lib/python3.7/dist-packages (from tensorboard~=2.4->tensorflow) (1.28.1)\n",
      "Requirement already satisfied: importlib-metadata; python_version < \"3.8\" in /usr/local/lib/python3.7/dist-packages (from markdown>=2.6.8->tensorboard~=2.4->tensorflow) (3.10.0)\n",
      "Requirement already satisfied: requests-oauthlib>=0.7.0 in /usr/local/lib/python3.7/dist-packages (from google-auth-oauthlib<0.5,>=0.4.1->tensorboard~=2.4->tensorflow) (1.3.0)\n",
      "Requirement already satisfied: idna<3,>=2.5 in /usr/local/lib/python3.7/dist-packages (from requests<3,>=2.21.0->tensorboard~=2.4->tensorflow) (2.10)\n",
      "Requirement already satisfied: urllib3!=1.25.0,!=1.25.1,<1.26,>=1.21.1 in /usr/local/lib/python3.7/dist-packages (from requests<3,>=2.21.0->tensorboard~=2.4->tensorflow) (1.24.3)\n",
      "Requirement already satisfied: certifi>=2017.4.17 in /usr/local/lib/python3.7/dist-packages (from requests<3,>=2.21.0->tensorboard~=2.4->tensorflow) (2020.12.5)\n",
      "Requirement already satisfied: chardet<4,>=3.0.2 in /usr/local/lib/python3.7/dist-packages (from requests<3,>=2.21.0->tensorboard~=2.4->tensorflow) (3.0.4)\n",
      "Requirement already satisfied: rsa<5,>=3.1.4; python_version >= \"3.6\" in /usr/local/lib/python3.7/dist-packages (from google-auth<2,>=1.6.3->tensorboard~=2.4->tensorflow) (4.7.2)\n",
      "Requirement already satisfied: cachetools<5.0,>=2.0.0 in /usr/local/lib/python3.7/dist-packages (from google-auth<2,>=1.6.3->tensorboard~=2.4->tensorflow) (4.2.1)\n",
      "Requirement already satisfied: pyasn1-modules>=0.2.1 in /usr/local/lib/python3.7/dist-packages (from google-auth<2,>=1.6.3->tensorboard~=2.4->tensorflow) (0.2.8)\n",
      "Requirement already satisfied: zipp>=0.5 in /usr/local/lib/python3.7/dist-packages (from importlib-metadata; python_version < \"3.8\"->markdown>=2.6.8->tensorboard~=2.4->tensorflow) (3.4.1)\n",
      "Requirement already satisfied: oauthlib>=3.0.0 in /usr/local/lib/python3.7/dist-packages (from requests-oauthlib>=0.7.0->google-auth-oauthlib<0.5,>=0.4.1->tensorboard~=2.4->tensorflow) (3.1.0)\n",
      "Requirement already satisfied: pyasn1>=0.1.3 in /usr/local/lib/python3.7/dist-packages (from rsa<5,>=3.1.4; python_version >= \"3.6\"->google-auth<2,>=1.6.3->tensorboard~=2.4->tensorflow) (0.4.8)\n"
     ]
    }
   ],
   "source": [
    "!pip install -q -U keras-tuner\n",
    "!pip install autokeras\n",
    "!pip install tensorflow"
   ]
  },
  {
   "cell_type": "code",
   "execution_count": 6,
   "metadata": {
    "colab": {
     "base_uri": "https://localhost:8080/",
     "height": 17
    },
    "executionInfo": {
     "elapsed": 11907,
     "status": "ok",
     "timestamp": 1618504805234,
     "user": {
      "displayName": "Nikhil Pereira",
      "photoUrl": "https://lh3.googleusercontent.com/-KmpYA79GZFM/AAAAAAAAAAI/AAAAAAAAAPs/M7RMlSus4Ck/s64/photo.jpg",
      "userId": "01764547955641237902"
     },
     "user_tz": 240
    },
    "id": "a0VagxGxDigq",
    "outputId": "71ef1d5b-571f-4dee-9d83-e9e98ca15722"
   },
   "outputs": [
    {
     "data": {
      "text/html": [
       "        <script type=\"text/javascript\">\n",
       "        window.PlotlyConfig = {MathJaxConfig: 'local'};\n",
       "        if (window.MathJax) {MathJax.Hub.Config({SVG: {font: \"STIX-Web\"}});}\n",
       "        if (typeof require !== 'undefined') {\n",
       "        require.undef(\"plotly\");\n",
       "        requirejs.config({\n",
       "            paths: {\n",
       "                'plotly': ['https://cdn.plot.ly/plotly-latest.min']\n",
       "            }\n",
       "        });\n",
       "        require(['plotly'], function(Plotly) {\n",
       "            window._Plotly = Plotly;\n",
       "        });\n",
       "        }\n",
       "        </script>\n",
       "        "
      ]
     },
     "metadata": {
      "tags": []
     },
     "output_type": "display_data"
    }
   ],
   "source": [
    "#libraries\n",
    "import pandas as pd\n",
    "import numpy as np\n",
    "import seaborn as sns\n",
    "import tensorflow as tf\n",
    "import tensorflow_hub as hub\n",
    "from tensorflow import keras\n",
    "import autokeras as ak\n",
    "import kerastuner as kt\n",
    "import matplotlib.pyplot as plt\n",
    "%matplotlib inline\n",
    "\n",
    "\n",
    "# Import statements required for Plotly \n",
    "import plotly.offline as py\n",
    "py.init_notebook_mode(connected=True)\n",
    "import plotly.graph_objs as go\n",
    "import plotly.tools as tls\n",
    "tf.random.set_seed(123)"
   ]
  },
  {
   "cell_type": "markdown",
   "metadata": {
    "id": "1HGi0WgjOacH"
   },
   "source": [
    "# Reading in the Data based on 7 files in directory"
   ]
  },
  {
   "cell_type": "code",
   "execution_count": 7,
   "metadata": {
    "executionInfo": {
     "elapsed": 5701,
     "status": "ok",
     "timestamp": 1618504813973,
     "user": {
      "displayName": "Nikhil Pereira",
      "photoUrl": "https://lh3.googleusercontent.com/-KmpYA79GZFM/AAAAAAAAAAI/AAAAAAAAAPs/M7RMlSus4Ck/s64/photo.jpg",
      "userId": "01764547955641237902"
     },
     "user_tz": 240
    },
    "id": "C2oGUE2QIJlS"
   },
   "outputs": [],
   "source": [
    "pathDict = {'Q1_2018':'bianual_survey_1_2018_processed.csv',\n",
    "            'Q3_2018':'bianual_survey_3_2018_processed.csv',\n",
    "            'Q1_2019':'bianual_survey_1_2019_processed.csv',\n",
    "            'Q3_2019':'bianual_survey_3_2019_processed.csv',\n",
    "            'Q1_2020':'bianual_survey_1_2020_processed.csv'}\n",
    "\n",
    "#consider training on one quarter and then testing on the next quarter\n",
    "\n",
    "def setFilePath(filename):\n",
    "  return pathDict[filename]"
   ]
  },
  {
   "cell_type": "markdown",
   "metadata": {
    "id": "28Oq6jeuOf_p"
   },
   "source": [
    "# Call the path of the file you want to read in for training"
   ]
  },
  {
   "cell_type": "code",
   "execution_count": 8,
   "metadata": {
    "colab": {
     "base_uri": "https://localhost:8080/",
     "height": 49
    },
    "executionInfo": {
     "elapsed": 2716,
     "status": "ok",
     "timestamp": 1618504818378,
     "user": {
      "displayName": "Nikhil Pereira",
      "photoUrl": "https://lh3.googleusercontent.com/-KmpYA79GZFM/AAAAAAAAAAI/AAAAAAAAAPs/M7RMlSus4Ck/s64/photo.jpg",
      "userId": "01764547955641237902"
     },
     "user_tz": 240
    },
    "id": "MVFAiCwGKyGp",
    "outputId": "604d7210-17ef-4193-e7aa-64b81d668112"
   },
   "outputs": [
    {
     "data": {
      "application/vnd.jupyter.widget-view+json": {
       "model_id": "90241fff64844e8bbf31230d3de3b372",
       "version_major": 2,
       "version_minor": 0
      },
      "text/plain": [
       "Dropdown(description='Training Data:', options=('Q1_2018', 'Q3_2018', 'Q1_2019', 'Q3_2019', 'Q1_2020'), value=…"
      ]
     },
     "metadata": {
      "tags": []
     },
     "output_type": "display_data"
    }
   ],
   "source": [
    "import ipywidgets as widgets\n",
    "\n",
    "wTrain = widgets.Dropdown(\n",
    "    options=pathDict.keys(),\n",
    "    description='Training Data:',\n",
    "    disabled=False,\n",
    ")\n",
    "def on_change(change):\n",
    "    if change['type'] == 'change' and change['name'] == 'value':\n",
    "        print(\"File set to %s\" % change['new'])\n",
    "        return change\n",
    "\n",
    "wTrain.observe(on_change)\n",
    "display(wTrain)"
   ]
  },
  {
   "cell_type": "code",
   "execution_count": 9,
   "metadata": {
    "executionInfo": {
     "elapsed": 4491,
     "status": "ok",
     "timestamp": 1618504825829,
     "user": {
      "displayName": "Nikhil Pereira",
      "photoUrl": "https://lh3.googleusercontent.com/-KmpYA79GZFM/AAAAAAAAAAI/AAAAAAAAAPs/M7RMlSus4Ck/s64/photo.jpg",
      "userId": "01764547955641237902"
     },
     "user_tz": 240
    },
    "id": "vvyVwKfo4Wm8"
   },
   "outputs": [],
   "source": [
    "FileNameTrain = wTrain.value\n",
    "pathTrain = setFilePath(FileNameTrain)"
   ]
  },
  {
   "cell_type": "markdown",
   "metadata": {
    "id": "ww9R19ldeLiY"
   },
   "source": [
    "# Call the path of the file you want to read for testing"
   ]
  },
  {
   "cell_type": "code",
   "execution_count": 10,
   "metadata": {
    "colab": {
     "base_uri": "https://localhost:8080/",
     "height": 66
    },
    "executionInfo": {
     "elapsed": 5639,
     "status": "ok",
     "timestamp": 1618504832945,
     "user": {
      "displayName": "Nikhil Pereira",
      "photoUrl": "https://lh3.googleusercontent.com/-KmpYA79GZFM/AAAAAAAAAAI/AAAAAAAAAPs/M7RMlSus4Ck/s64/photo.jpg",
      "userId": "01764547955641237902"
     },
     "user_tz": 240
    },
    "id": "-smHS2uHanoa",
    "outputId": "5894b2af-3671-4415-c259-fb06119e5016"
   },
   "outputs": [
    {
     "data": {
      "application/vnd.jupyter.widget-view+json": {
       "model_id": "4f0d3fbe6b4b466396b1c1a6d8e5d132",
       "version_major": 2,
       "version_minor": 0
      },
      "text/plain": [
       "Dropdown(description='Test Data:', options=('Q1_2018', 'Q3_2018', 'Q1_2019', 'Q3_2019', 'Q1_2020'), value='Q1_…"
      ]
     },
     "metadata": {
      "tags": []
     },
     "output_type": "display_data"
    },
    {
     "name": "stdout",
     "output_type": "stream",
     "text": [
      "File set to Q3_2018\n"
     ]
    }
   ],
   "source": [
    "import ipywidgets as widgets\n",
    "\n",
    "wTest = widgets.Dropdown(\n",
    "    options=pathDict.keys(),\n",
    "    description='Test Data:',\n",
    "    disabled=False,\n",
    ")\n",
    "def on_change1(change):\n",
    "    if change['type'] == 'change' and change['name'] == 'value':\n",
    "        print(\"File set to %s\" % change['new'])\n",
    "        return change\n",
    "\n",
    "wTest.observe(on_change1)\n",
    "display(wTest)"
   ]
  },
  {
   "cell_type": "code",
   "execution_count": 11,
   "metadata": {
    "executionInfo": {
     "elapsed": 1200,
     "status": "ok",
     "timestamp": 1618504840852,
     "user": {
      "displayName": "Nikhil Pereira",
      "photoUrl": "https://lh3.googleusercontent.com/-KmpYA79GZFM/AAAAAAAAAAI/AAAAAAAAAPs/M7RMlSus4Ck/s64/photo.jpg",
      "userId": "01764547955641237902"
     },
     "user_tz": 240
    },
    "id": "Fx5aiALVaLWv"
   },
   "outputs": [],
   "source": [
    "FileNameTest = wTest.value\n",
    "pathTest = setFilePath(FileNameTest)"
   ]
  },
  {
   "cell_type": "markdown",
   "metadata": {
    "id": "zq8r8lZJPZBz"
   },
   "source": [
    "# Modularized the Preprocessing Code "
   ]
  },
  {
   "cell_type": "code",
   "execution_count": 12,
   "metadata": {
    "executionInfo": {
     "elapsed": 3470,
     "status": "ok",
     "timestamp": 1618504848946,
     "user": {
      "displayName": "Nikhil Pereira",
      "photoUrl": "https://lh3.googleusercontent.com/-KmpYA79GZFM/AAAAAAAAAAI/AAAAAAAAAPs/M7RMlSus4Ck/s64/photo.jpg",
      "userId": "01764547955641237902"
     },
     "user_tz": 240
    },
    "id": "Hh51YEfxKZHU"
   },
   "outputs": [],
   "source": [
    "## Reads the path of the file and tests if the last column is a boolean target value\n",
    "def readFile(path,FileName):\n",
    "  # set the path of the file\n",
    "  colab_path = '/content/drive/MyDrive/Client Data/'\n",
    "  surveyFile = colab_path + path\n",
    "  #use the read csv method to read the file\n",
    "  surveyPd = pd.read_csv(surveyFile,header=0,index_col=0)\n",
    "  #test if the last column is a boolean value\n",
    "  target = surveyPd[surveyPd.columns[-1]]\n",
    "  if target.dtype != bool:\n",
    "      raise Exception('Last column is not formatted as the Target Boolean Column'.format(target))\n",
    "      print(\"File \" + FileName + \" is formatted incorrectly for python script\")\n",
    "  else:\n",
    "      print(\"File \" + FileName + \" is formatted correctly for python script\")\n",
    "  #return the raw file\n",
    "  return surveyPd"
   ]
  },
  {
   "cell_type": "code",
   "execution_count": 13,
   "metadata": {
    "executionInfo": {
     "elapsed": 738,
     "status": "ok",
     "timestamp": 1618504855405,
     "user": {
      "displayName": "Nikhil Pereira",
      "photoUrl": "https://lh3.googleusercontent.com/-KmpYA79GZFM/AAAAAAAAAAI/AAAAAAAAAPs/M7RMlSus4Ck/s64/photo.jpg",
      "userId": "01764547955641237902"
     },
     "user_tz": 240
    },
    "id": "DGw8PFitgmMB"
   },
   "outputs": [],
   "source": [
    "## Code to preprocess data including filling the categorical data into strings and filling blanks, numerical data into floats and blanks = 0.0\n",
    "##Then do preprocessing on the columns because Tensor Flow needs them to not be sentences.\n",
    "## Finally drop the columns of no interest because the dont meet the threshold value of not blank > 30 percent\n",
    "## If more than 30% of the data is blank we drop the column, in the code we say that if the non-blank percentage is not more than 30 percent drop the column\n",
    "def preprocessPd(surveyPd):\n",
    "  cat = ['object']\n",
    "  num = ['float']\n",
    "  #Do the preprocessing on the data itself\n",
    "  x1 = surveyPd.select_dtypes(include=cat).fillna('blank').applymap(str)\n",
    "  x2 = surveyPd.select_dtypes(include=num).fillna(0).applymap(float)\n",
    "  x3 = surveyPd[surveyPd.columns[-1]]\n",
    "  surveyPd = pd.concat([x1,x2,x3],axis=1)\n",
    "  ## Do preprocessing on the columns \n",
    "  import re \n",
    "  surveyPd.columns = [re.sub(r'[^\\w\\s]', '',s)  for s in list(surveyPd.columns)]\n",
    "  l1 = [x.replace(\" \",\"\") for x in list(surveyPd.select_dtypes(include=cat).columns)]\n",
    "  l2 = [str(y) for y in list(range(len(surveyPd.select_dtypes(include=num).columns)))]\n",
    "  l3 = [surveyPd.columns[-1]]\n",
    "  surveyPd.columns = l1 + l2 + l3\n",
    "  ## Do the preprocessing to drop columns where the average of the non blanks is not gerater than 30%\n",
    "  threshold = 0.3\n",
    "  droplist = []\n",
    "  for col in list(surveyPd.select_dtypes(include = num)):\n",
    "    if (surveyPd[col] > 0).mean() < threshold:\n",
    "      droplist.append(col)\n",
    "      surveyPd = surveyPd.drop(col,axis=1)\n",
    "  print(\"Columns dropped:\" + str(droplist))\n",
    "  return (surveyPd,droplist)"
   ]
  },
  {
   "cell_type": "code",
   "execution_count": 14,
   "metadata": {
    "executionInfo": {
     "elapsed": 963,
     "status": "ok",
     "timestamp": 1618504855650,
     "user": {
      "displayName": "Nikhil Pereira",
      "photoUrl": "https://lh3.googleusercontent.com/-KmpYA79GZFM/AAAAAAAAAAI/AAAAAAAAAPs/M7RMlSus4Ck/s64/photo.jpg",
      "userId": "01764547955641237902"
     },
     "user_tz": 240
    },
    "id": "G7LMBRnRipRZ"
   },
   "outputs": [],
   "source": [
    "## Function to get the questions of the final data set after the empty columns have been dropped\n",
    "def getQuestions(surveyPd,droplist):\n",
    "  num = ['float']\n",
    "  questions = [str(y) for y in surveyPd.select_dtypes(include=num).columns] #changing this so the categorical column names are included in the questions var\n",
    "  dictQs = {}\n",
    "  i=0\n",
    "  for x in questions:\n",
    "    dictQs.update( {i:x} )\n",
    "    i = i + 1\n",
    "  for index in droplist:\n",
    "    del dictQs[int(index)]\n",
    "  return list(dictQs.values())"
   ]
  },
  {
   "cell_type": "markdown",
   "metadata": {
    "id": "eMaDg_ivebE9"
   },
   "source": [
    "# Training Data Set (Time of year should be before test data)\n"
   ]
  },
  {
   "cell_type": "code",
   "execution_count": 15,
   "metadata": {
    "colab": {
     "base_uri": "https://localhost:8080/",
     "height": 829
    },
    "executionInfo": {
     "elapsed": 2720,
     "status": "ok",
     "timestamp": 1618504860722,
     "user": {
      "displayName": "Nikhil Pereira",
      "photoUrl": "https://lh3.googleusercontent.com/-KmpYA79GZFM/AAAAAAAAAAI/AAAAAAAAAPs/M7RMlSus4Ck/s64/photo.jpg",
      "userId": "01764547955641237902"
     },
     "user_tz": 240
    },
    "id": "o4YR92hQ7Xe3",
    "outputId": "1037b413-7c64-4766-cf1c-dad843cfcc4f"
   },
   "outputs": [
    {
     "name": "stdout",
     "output_type": "stream",
     "text": [
      "File Q1_2018 is formatted correctly for python script\n",
      "Columns dropped:[]\n"
     ]
    },
    {
     "data": {
      "text/html": [
       "<div>\n",
       "<style scoped>\n",
       "    .dataframe tbody tr th:only-of-type {\n",
       "        vertical-align: middle;\n",
       "    }\n",
       "\n",
       "    .dataframe tbody tr th {\n",
       "        vertical-align: top;\n",
       "    }\n",
       "\n",
       "    .dataframe thead th {\n",
       "        text-align: right;\n",
       "    }\n",
       "</style>\n",
       "<table border=\"1\" class=\"dataframe\">\n",
       "  <thead>\n",
       "    <tr style=\"text-align: right;\">\n",
       "      <th></th>\n",
       "      <th>BusinessUnit</th>\n",
       "      <th>TenureRange</th>\n",
       "      <th>Location</th>\n",
       "      <th>EmployeeType</th>\n",
       "      <th>Gender</th>\n",
       "      <th>Generation</th>\n",
       "      <th>TermType</th>\n",
       "      <th>TermReason</th>\n",
       "      <th>QuarterTermed</th>\n",
       "      <th>DateSurveywasCompleted</th>\n",
       "      <th>0</th>\n",
       "      <th>1</th>\n",
       "      <th>2</th>\n",
       "      <th>3</th>\n",
       "      <th>4</th>\n",
       "      <th>5</th>\n",
       "      <th>6</th>\n",
       "      <th>7</th>\n",
       "      <th>8</th>\n",
       "      <th>9</th>\n",
       "      <th>10</th>\n",
       "      <th>11</th>\n",
       "      <th>12</th>\n",
       "      <th>13</th>\n",
       "      <th>14</th>\n",
       "      <th>15</th>\n",
       "      <th>16</th>\n",
       "      <th>17</th>\n",
       "      <th>18</th>\n",
       "      <th>target</th>\n",
       "    </tr>\n",
       "  </thead>\n",
       "  <tbody>\n",
       "    <tr>\n",
       "      <th>0</th>\n",
       "      <td>Finance</td>\n",
       "      <td>2 to 5 years</td>\n",
       "      <td>Belmont</td>\n",
       "      <td>Regular</td>\n",
       "      <td>Female</td>\n",
       "      <td>Generation X (1965 -1980)</td>\n",
       "      <td>Terminate Employee &gt; Voluntary</td>\n",
       "      <td>Personal/Family</td>\n",
       "      <td>Q3'18</td>\n",
       "      <td>2/5/18 13:58</td>\n",
       "      <td>3.0</td>\n",
       "      <td>3.0</td>\n",
       "      <td>3.0</td>\n",
       "      <td>3.0</td>\n",
       "      <td>2.0</td>\n",
       "      <td>4.0</td>\n",
       "      <td>3.0</td>\n",
       "      <td>4.0</td>\n",
       "      <td>4.0</td>\n",
       "      <td>4.0</td>\n",
       "      <td>4.0</td>\n",
       "      <td>4.0</td>\n",
       "      <td>4.0</td>\n",
       "      <td>4.0</td>\n",
       "      <td>4.0</td>\n",
       "      <td>4.0</td>\n",
       "      <td>3.0</td>\n",
       "      <td>4.0</td>\n",
       "      <td>3.0</td>\n",
       "      <td>False</td>\n",
       "    </tr>\n",
       "    <tr>\n",
       "      <th>1</th>\n",
       "      <td>Sales</td>\n",
       "      <td>Less than a year</td>\n",
       "      <td>Denver</td>\n",
       "      <td>Regular</td>\n",
       "      <td>Female</td>\n",
       "      <td>Generation Y / Millennials (1981 -1996)</td>\n",
       "      <td>Terminate Employee &gt; Voluntary</td>\n",
       "      <td>Relocation</td>\n",
       "      <td>Q3'18</td>\n",
       "      <td>2/5/18 13:59</td>\n",
       "      <td>0.0</td>\n",
       "      <td>5.0</td>\n",
       "      <td>5.0</td>\n",
       "      <td>5.0</td>\n",
       "      <td>5.0</td>\n",
       "      <td>5.0</td>\n",
       "      <td>5.0</td>\n",
       "      <td>5.0</td>\n",
       "      <td>5.0</td>\n",
       "      <td>5.0</td>\n",
       "      <td>5.0</td>\n",
       "      <td>5.0</td>\n",
       "      <td>5.0</td>\n",
       "      <td>5.0</td>\n",
       "      <td>5.0</td>\n",
       "      <td>5.0</td>\n",
       "      <td>5.0</td>\n",
       "      <td>5.0</td>\n",
       "      <td>5.0</td>\n",
       "      <td>False</td>\n",
       "    </tr>\n",
       "    <tr>\n",
       "      <th>2</th>\n",
       "      <td>GSS</td>\n",
       "      <td>1 to 2 years</td>\n",
       "      <td>Manila</td>\n",
       "      <td>Contractor</td>\n",
       "      <td>blank</td>\n",
       "      <td>blank</td>\n",
       "      <td>blank</td>\n",
       "      <td>blank</td>\n",
       "      <td>blank</td>\n",
       "      <td>2/5/18 14:00</td>\n",
       "      <td>5.0</td>\n",
       "      <td>5.0</td>\n",
       "      <td>5.0</td>\n",
       "      <td>5.0</td>\n",
       "      <td>5.0</td>\n",
       "      <td>5.0</td>\n",
       "      <td>5.0</td>\n",
       "      <td>5.0</td>\n",
       "      <td>5.0</td>\n",
       "      <td>5.0</td>\n",
       "      <td>5.0</td>\n",
       "      <td>5.0</td>\n",
       "      <td>5.0</td>\n",
       "      <td>5.0</td>\n",
       "      <td>5.0</td>\n",
       "      <td>5.0</td>\n",
       "      <td>5.0</td>\n",
       "      <td>5.0</td>\n",
       "      <td>5.0</td>\n",
       "      <td>False</td>\n",
       "    </tr>\n",
       "    <tr>\n",
       "      <th>3</th>\n",
       "      <td>Finance</td>\n",
       "      <td>Less than a year</td>\n",
       "      <td>Belmont</td>\n",
       "      <td>Regular</td>\n",
       "      <td>Male</td>\n",
       "      <td>Generation X (1965 -1980)</td>\n",
       "      <td>blank</td>\n",
       "      <td>blank</td>\n",
       "      <td>blank</td>\n",
       "      <td>2/5/18 14:00</td>\n",
       "      <td>3.0</td>\n",
       "      <td>5.0</td>\n",
       "      <td>3.0</td>\n",
       "      <td>5.0</td>\n",
       "      <td>2.0</td>\n",
       "      <td>3.0</td>\n",
       "      <td>3.0</td>\n",
       "      <td>5.0</td>\n",
       "      <td>5.0</td>\n",
       "      <td>5.0</td>\n",
       "      <td>5.0</td>\n",
       "      <td>5.0</td>\n",
       "      <td>5.0</td>\n",
       "      <td>4.0</td>\n",
       "      <td>4.0</td>\n",
       "      <td>5.0</td>\n",
       "      <td>2.0</td>\n",
       "      <td>5.0</td>\n",
       "      <td>5.0</td>\n",
       "      <td>False</td>\n",
       "    </tr>\n",
       "    <tr>\n",
       "      <th>4</th>\n",
       "      <td>Sales</td>\n",
       "      <td>5 to 10 years</td>\n",
       "      <td>Denver</td>\n",
       "      <td>Regular</td>\n",
       "      <td>Male</td>\n",
       "      <td>Generation Y / Millennials (1981 -1996)</td>\n",
       "      <td>blank</td>\n",
       "      <td>blank</td>\n",
       "      <td>blank</td>\n",
       "      <td>2/5/18 14:01</td>\n",
       "      <td>4.0</td>\n",
       "      <td>4.0</td>\n",
       "      <td>4.0</td>\n",
       "      <td>4.0</td>\n",
       "      <td>3.0</td>\n",
       "      <td>4.0</td>\n",
       "      <td>4.0</td>\n",
       "      <td>4.0</td>\n",
       "      <td>4.0</td>\n",
       "      <td>3.0</td>\n",
       "      <td>4.0</td>\n",
       "      <td>4.0</td>\n",
       "      <td>4.0</td>\n",
       "      <td>4.0</td>\n",
       "      <td>4.0</td>\n",
       "      <td>4.0</td>\n",
       "      <td>4.0</td>\n",
       "      <td>4.0</td>\n",
       "      <td>4.0</td>\n",
       "      <td>False</td>\n",
       "    </tr>\n",
       "    <tr>\n",
       "      <th>...</th>\n",
       "      <td>...</td>\n",
       "      <td>...</td>\n",
       "      <td>...</td>\n",
       "      <td>...</td>\n",
       "      <td>...</td>\n",
       "      <td>...</td>\n",
       "      <td>...</td>\n",
       "      <td>...</td>\n",
       "      <td>...</td>\n",
       "      <td>...</td>\n",
       "      <td>...</td>\n",
       "      <td>...</td>\n",
       "      <td>...</td>\n",
       "      <td>...</td>\n",
       "      <td>...</td>\n",
       "      <td>...</td>\n",
       "      <td>...</td>\n",
       "      <td>...</td>\n",
       "      <td>...</td>\n",
       "      <td>...</td>\n",
       "      <td>...</td>\n",
       "      <td>...</td>\n",
       "      <td>...</td>\n",
       "      <td>...</td>\n",
       "      <td>...</td>\n",
       "      <td>...</td>\n",
       "      <td>...</td>\n",
       "      <td>...</td>\n",
       "      <td>...</td>\n",
       "      <td>...</td>\n",
       "    </tr>\n",
       "    <tr>\n",
       "      <th>3075</th>\n",
       "      <td>Innovation</td>\n",
       "      <td>1 to 2 years</td>\n",
       "      <td>St. Petersburg</td>\n",
       "      <td>Contractor</td>\n",
       "      <td>blank</td>\n",
       "      <td>blank</td>\n",
       "      <td>blank</td>\n",
       "      <td>blank</td>\n",
       "      <td>blank</td>\n",
       "      <td>blank</td>\n",
       "      <td>0.0</td>\n",
       "      <td>0.0</td>\n",
       "      <td>0.0</td>\n",
       "      <td>0.0</td>\n",
       "      <td>0.0</td>\n",
       "      <td>0.0</td>\n",
       "      <td>0.0</td>\n",
       "      <td>0.0</td>\n",
       "      <td>0.0</td>\n",
       "      <td>0.0</td>\n",
       "      <td>0.0</td>\n",
       "      <td>0.0</td>\n",
       "      <td>0.0</td>\n",
       "      <td>0.0</td>\n",
       "      <td>0.0</td>\n",
       "      <td>0.0</td>\n",
       "      <td>0.0</td>\n",
       "      <td>0.0</td>\n",
       "      <td>0.0</td>\n",
       "      <td>False</td>\n",
       "    </tr>\n",
       "    <tr>\n",
       "      <th>3076</th>\n",
       "      <td>Sales</td>\n",
       "      <td>2 to 5 years</td>\n",
       "      <td>Manila</td>\n",
       "      <td>Contractor</td>\n",
       "      <td>blank</td>\n",
       "      <td>blank</td>\n",
       "      <td>blank</td>\n",
       "      <td>blank</td>\n",
       "      <td>blank</td>\n",
       "      <td>blank</td>\n",
       "      <td>0.0</td>\n",
       "      <td>0.0</td>\n",
       "      <td>0.0</td>\n",
       "      <td>0.0</td>\n",
       "      <td>0.0</td>\n",
       "      <td>0.0</td>\n",
       "      <td>0.0</td>\n",
       "      <td>0.0</td>\n",
       "      <td>0.0</td>\n",
       "      <td>0.0</td>\n",
       "      <td>0.0</td>\n",
       "      <td>0.0</td>\n",
       "      <td>0.0</td>\n",
       "      <td>0.0</td>\n",
       "      <td>0.0</td>\n",
       "      <td>0.0</td>\n",
       "      <td>0.0</td>\n",
       "      <td>0.0</td>\n",
       "      <td>0.0</td>\n",
       "      <td>False</td>\n",
       "    </tr>\n",
       "    <tr>\n",
       "      <th>3077</th>\n",
       "      <td>Innovation</td>\n",
       "      <td>Less than a year</td>\n",
       "      <td>St. Petersburg</td>\n",
       "      <td>Contractor</td>\n",
       "      <td>blank</td>\n",
       "      <td>blank</td>\n",
       "      <td>blank</td>\n",
       "      <td>blank</td>\n",
       "      <td>blank</td>\n",
       "      <td>blank</td>\n",
       "      <td>0.0</td>\n",
       "      <td>0.0</td>\n",
       "      <td>0.0</td>\n",
       "      <td>0.0</td>\n",
       "      <td>0.0</td>\n",
       "      <td>0.0</td>\n",
       "      <td>0.0</td>\n",
       "      <td>0.0</td>\n",
       "      <td>0.0</td>\n",
       "      <td>0.0</td>\n",
       "      <td>0.0</td>\n",
       "      <td>0.0</td>\n",
       "      <td>0.0</td>\n",
       "      <td>0.0</td>\n",
       "      <td>0.0</td>\n",
       "      <td>0.0</td>\n",
       "      <td>0.0</td>\n",
       "      <td>0.0</td>\n",
       "      <td>0.0</td>\n",
       "      <td>False</td>\n",
       "    </tr>\n",
       "    <tr>\n",
       "      <th>3078</th>\n",
       "      <td>Sales</td>\n",
       "      <td>1 to 2 years</td>\n",
       "      <td>Canada</td>\n",
       "      <td>Regular</td>\n",
       "      <td>Male</td>\n",
       "      <td>Generation Y / Millennials (1981 -1996)</td>\n",
       "      <td>Terminate Employee &gt; Voluntary</td>\n",
       "      <td>Dissatisfaction with Job</td>\n",
       "      <td>Q1'18</td>\n",
       "      <td>blank</td>\n",
       "      <td>0.0</td>\n",
       "      <td>0.0</td>\n",
       "      <td>0.0</td>\n",
       "      <td>0.0</td>\n",
       "      <td>0.0</td>\n",
       "      <td>0.0</td>\n",
       "      <td>0.0</td>\n",
       "      <td>0.0</td>\n",
       "      <td>0.0</td>\n",
       "      <td>0.0</td>\n",
       "      <td>0.0</td>\n",
       "      <td>0.0</td>\n",
       "      <td>0.0</td>\n",
       "      <td>0.0</td>\n",
       "      <td>0.0</td>\n",
       "      <td>0.0</td>\n",
       "      <td>0.0</td>\n",
       "      <td>0.0</td>\n",
       "      <td>0.0</td>\n",
       "      <td>False</td>\n",
       "    </tr>\n",
       "    <tr>\n",
       "      <th>3079</th>\n",
       "      <td>Sales</td>\n",
       "      <td>Less than a year</td>\n",
       "      <td>Remote</td>\n",
       "      <td>Regular</td>\n",
       "      <td>Male</td>\n",
       "      <td>Generation X (1965 -1980)</td>\n",
       "      <td>blank</td>\n",
       "      <td>blank</td>\n",
       "      <td>blank</td>\n",
       "      <td>blank</td>\n",
       "      <td>0.0</td>\n",
       "      <td>0.0</td>\n",
       "      <td>0.0</td>\n",
       "      <td>0.0</td>\n",
       "      <td>0.0</td>\n",
       "      <td>0.0</td>\n",
       "      <td>0.0</td>\n",
       "      <td>0.0</td>\n",
       "      <td>0.0</td>\n",
       "      <td>0.0</td>\n",
       "      <td>0.0</td>\n",
       "      <td>0.0</td>\n",
       "      <td>0.0</td>\n",
       "      <td>0.0</td>\n",
       "      <td>0.0</td>\n",
       "      <td>0.0</td>\n",
       "      <td>0.0</td>\n",
       "      <td>0.0</td>\n",
       "      <td>0.0</td>\n",
       "      <td>False</td>\n",
       "    </tr>\n",
       "  </tbody>\n",
       "</table>\n",
       "<p>3080 rows × 30 columns</p>\n",
       "</div>"
      ],
      "text/plain": [
       "     BusinessUnit       TenureRange        Location  ...   17   18 target\n",
       "0         Finance      2 to 5 years         Belmont  ...  4.0  3.0  False\n",
       "1           Sales  Less than a year          Denver  ...  5.0  5.0  False\n",
       "2             GSS      1 to 2 years          Manila  ...  5.0  5.0  False\n",
       "3         Finance  Less than a year         Belmont  ...  5.0  5.0  False\n",
       "4           Sales     5 to 10 years          Denver  ...  4.0  4.0  False\n",
       "...           ...               ...             ...  ...  ...  ...    ...\n",
       "3075   Innovation      1 to 2 years  St. Petersburg  ...  0.0  0.0  False\n",
       "3076        Sales      2 to 5 years          Manila  ...  0.0  0.0  False\n",
       "3077   Innovation  Less than a year  St. Petersburg  ...  0.0  0.0  False\n",
       "3078        Sales      1 to 2 years          Canada  ...  0.0  0.0  False\n",
       "3079        Sales  Less than a year          Remote  ...  0.0  0.0  False\n",
       "\n",
       "[3080 rows x 30 columns]"
      ]
     },
     "execution_count": 15,
     "metadata": {
      "tags": []
     },
     "output_type": "execute_result"
    }
   ],
   "source": [
    "## Calling all three functions to store variables needed for next steps\n",
    "num = ['float'] #added this because it was saying that num wasn't defined \n",
    "trainRaw = readFile(pathTrain,FileNameTrain)\n",
    "rawTrainQs = trainRaw.select_dtypes(include=num).columns\n",
    "trainData,droplist = preprocessPd(trainRaw)\n",
    "trainQuestions = getQuestions(trainRaw,droplist)\n",
    "trainData"
   ]
  },
  {
   "cell_type": "markdown",
   "metadata": {
    "id": "z3SsbOBfeppp"
   },
   "source": [
    "# Testing Data Set (Time of year should be after train data)"
   ]
  },
  {
   "cell_type": "code",
   "execution_count": 16,
   "metadata": {
    "colab": {
     "base_uri": "https://localhost:8080/",
     "height": 536
    },
    "executionInfo": {
     "elapsed": 1437,
     "status": "ok",
     "timestamp": 1618504863907,
     "user": {
      "displayName": "Nikhil Pereira",
      "photoUrl": "https://lh3.googleusercontent.com/-KmpYA79GZFM/AAAAAAAAAAI/AAAAAAAAAPs/M7RMlSus4Ck/s64/photo.jpg",
      "userId": "01764547955641237902"
     },
     "user_tz": 240
    },
    "id": "Mjd0_MFxd6gU",
    "outputId": "bb623a8c-2fb7-4c5f-870d-a7aba0f8d6fd"
   },
   "outputs": [
    {
     "name": "stdout",
     "output_type": "stream",
     "text": [
      "File Q3_2018 is formatted correctly for python script\n",
      "Columns dropped:[]\n"
     ]
    },
    {
     "data": {
      "text/html": [
       "<div>\n",
       "<style scoped>\n",
       "    .dataframe tbody tr th:only-of-type {\n",
       "        vertical-align: middle;\n",
       "    }\n",
       "\n",
       "    .dataframe tbody tr th {\n",
       "        vertical-align: top;\n",
       "    }\n",
       "\n",
       "    .dataframe thead th {\n",
       "        text-align: right;\n",
       "    }\n",
       "</style>\n",
       "<table border=\"1\" class=\"dataframe\">\n",
       "  <thead>\n",
       "    <tr style=\"text-align: right;\">\n",
       "      <th></th>\n",
       "      <th>BusinessUnit</th>\n",
       "      <th>TenureRange</th>\n",
       "      <th>Location</th>\n",
       "      <th>EmployeeType</th>\n",
       "      <th>Gender</th>\n",
       "      <th>Generation</th>\n",
       "      <th>TermType</th>\n",
       "      <th>TermReason</th>\n",
       "      <th>QuarterTermed</th>\n",
       "      <th>DateSurveywasCompleted</th>\n",
       "      <th>0</th>\n",
       "      <th>1</th>\n",
       "      <th>2</th>\n",
       "      <th>3</th>\n",
       "      <th>4</th>\n",
       "      <th>5</th>\n",
       "      <th>6</th>\n",
       "      <th>7</th>\n",
       "      <th>8</th>\n",
       "      <th>9</th>\n",
       "      <th>10</th>\n",
       "      <th>11</th>\n",
       "      <th>12</th>\n",
       "      <th>13</th>\n",
       "      <th>14</th>\n",
       "      <th>15</th>\n",
       "      <th>16</th>\n",
       "      <th>17</th>\n",
       "      <th>18</th>\n",
       "      <th>19</th>\n",
       "      <th>20</th>\n",
       "      <th>21</th>\n",
       "      <th>target</th>\n",
       "    </tr>\n",
       "  </thead>\n",
       "  <tbody>\n",
       "    <tr>\n",
       "      <th>0</th>\n",
       "      <td>GSS</td>\n",
       "      <td>blank</td>\n",
       "      <td>Manila</td>\n",
       "      <td>Contractor</td>\n",
       "      <td>blank</td>\n",
       "      <td>blank</td>\n",
       "      <td>blank</td>\n",
       "      <td>blank</td>\n",
       "      <td>blank</td>\n",
       "      <td>8/12/18 17:03</td>\n",
       "      <td>5.0</td>\n",
       "      <td>5.0</td>\n",
       "      <td>5.0</td>\n",
       "      <td>5.0</td>\n",
       "      <td>4.0</td>\n",
       "      <td>5.0</td>\n",
       "      <td>4.0</td>\n",
       "      <td>4.0</td>\n",
       "      <td>5.0</td>\n",
       "      <td>5.0</td>\n",
       "      <td>5.0</td>\n",
       "      <td>5.0</td>\n",
       "      <td>5.0</td>\n",
       "      <td>4.0</td>\n",
       "      <td>4.0</td>\n",
       "      <td>5.0</td>\n",
       "      <td>5.0</td>\n",
       "      <td>5.0</td>\n",
       "      <td>4.0</td>\n",
       "      <td>4.0</td>\n",
       "      <td>3.0</td>\n",
       "      <td>10.0</td>\n",
       "      <td>False</td>\n",
       "    </tr>\n",
       "    <tr>\n",
       "      <th>1</th>\n",
       "      <td>Sales</td>\n",
       "      <td>blank</td>\n",
       "      <td>Manila</td>\n",
       "      <td>Contractor</td>\n",
       "      <td>blank</td>\n",
       "      <td>blank</td>\n",
       "      <td>blank</td>\n",
       "      <td>blank</td>\n",
       "      <td>blank</td>\n",
       "      <td>8/12/18 17:03</td>\n",
       "      <td>4.0</td>\n",
       "      <td>5.0</td>\n",
       "      <td>4.0</td>\n",
       "      <td>4.0</td>\n",
       "      <td>3.0</td>\n",
       "      <td>5.0</td>\n",
       "      <td>4.0</td>\n",
       "      <td>4.0</td>\n",
       "      <td>4.0</td>\n",
       "      <td>4.0</td>\n",
       "      <td>4.0</td>\n",
       "      <td>4.0</td>\n",
       "      <td>4.0</td>\n",
       "      <td>4.0</td>\n",
       "      <td>4.0</td>\n",
       "      <td>4.0</td>\n",
       "      <td>4.0</td>\n",
       "      <td>4.0</td>\n",
       "      <td>5.0</td>\n",
       "      <td>5.0</td>\n",
       "      <td>5.0</td>\n",
       "      <td>9.0</td>\n",
       "      <td>False</td>\n",
       "    </tr>\n",
       "    <tr>\n",
       "      <th>2</th>\n",
       "      <td>Cloud Operations</td>\n",
       "      <td>blank</td>\n",
       "      <td>Manila</td>\n",
       "      <td>Contractor</td>\n",
       "      <td>blank</td>\n",
       "      <td>blank</td>\n",
       "      <td>blank</td>\n",
       "      <td>blank</td>\n",
       "      <td>blank</td>\n",
       "      <td>8/12/18 17:05</td>\n",
       "      <td>4.0</td>\n",
       "      <td>4.0</td>\n",
       "      <td>4.0</td>\n",
       "      <td>4.0</td>\n",
       "      <td>4.0</td>\n",
       "      <td>4.0</td>\n",
       "      <td>4.0</td>\n",
       "      <td>4.0</td>\n",
       "      <td>4.0</td>\n",
       "      <td>4.0</td>\n",
       "      <td>4.0</td>\n",
       "      <td>4.0</td>\n",
       "      <td>4.0</td>\n",
       "      <td>4.0</td>\n",
       "      <td>0.0</td>\n",
       "      <td>4.0</td>\n",
       "      <td>4.0</td>\n",
       "      <td>4.0</td>\n",
       "      <td>4.0</td>\n",
       "      <td>4.0</td>\n",
       "      <td>4.0</td>\n",
       "      <td>9.0</td>\n",
       "      <td>False</td>\n",
       "    </tr>\n",
       "    <tr>\n",
       "      <th>3</th>\n",
       "      <td>HR</td>\n",
       "      <td>blank</td>\n",
       "      <td>Manila</td>\n",
       "      <td>Contractor</td>\n",
       "      <td>blank</td>\n",
       "      <td>blank</td>\n",
       "      <td>blank</td>\n",
       "      <td>blank</td>\n",
       "      <td>blank</td>\n",
       "      <td>8/12/18 17:10</td>\n",
       "      <td>5.0</td>\n",
       "      <td>5.0</td>\n",
       "      <td>5.0</td>\n",
       "      <td>5.0</td>\n",
       "      <td>5.0</td>\n",
       "      <td>5.0</td>\n",
       "      <td>5.0</td>\n",
       "      <td>2.0</td>\n",
       "      <td>5.0</td>\n",
       "      <td>5.0</td>\n",
       "      <td>5.0</td>\n",
       "      <td>5.0</td>\n",
       "      <td>5.0</td>\n",
       "      <td>5.0</td>\n",
       "      <td>5.0</td>\n",
       "      <td>5.0</td>\n",
       "      <td>5.0</td>\n",
       "      <td>5.0</td>\n",
       "      <td>5.0</td>\n",
       "      <td>5.0</td>\n",
       "      <td>5.0</td>\n",
       "      <td>11.0</td>\n",
       "      <td>False</td>\n",
       "    </tr>\n",
       "    <tr>\n",
       "      <th>4</th>\n",
       "      <td>GSS</td>\n",
       "      <td>blank</td>\n",
       "      <td>Manila</td>\n",
       "      <td>Contractor</td>\n",
       "      <td>blank</td>\n",
       "      <td>blank</td>\n",
       "      <td>blank</td>\n",
       "      <td>blank</td>\n",
       "      <td>blank</td>\n",
       "      <td>8/12/18 17:10</td>\n",
       "      <td>1.0</td>\n",
       "      <td>1.0</td>\n",
       "      <td>3.0</td>\n",
       "      <td>1.0</td>\n",
       "      <td>1.0</td>\n",
       "      <td>1.0</td>\n",
       "      <td>1.0</td>\n",
       "      <td>1.0</td>\n",
       "      <td>1.0</td>\n",
       "      <td>1.0</td>\n",
       "      <td>1.0</td>\n",
       "      <td>1.0</td>\n",
       "      <td>1.0</td>\n",
       "      <td>1.0</td>\n",
       "      <td>1.0</td>\n",
       "      <td>1.0</td>\n",
       "      <td>1.0</td>\n",
       "      <td>1.0</td>\n",
       "      <td>4.0</td>\n",
       "      <td>3.0</td>\n",
       "      <td>3.0</td>\n",
       "      <td>6.0</td>\n",
       "      <td>False</td>\n",
       "    </tr>\n",
       "    <tr>\n",
       "      <th>...</th>\n",
       "      <td>...</td>\n",
       "      <td>...</td>\n",
       "      <td>...</td>\n",
       "      <td>...</td>\n",
       "      <td>...</td>\n",
       "      <td>...</td>\n",
       "      <td>...</td>\n",
       "      <td>...</td>\n",
       "      <td>...</td>\n",
       "      <td>...</td>\n",
       "      <td>...</td>\n",
       "      <td>...</td>\n",
       "      <td>...</td>\n",
       "      <td>...</td>\n",
       "      <td>...</td>\n",
       "      <td>...</td>\n",
       "      <td>...</td>\n",
       "      <td>...</td>\n",
       "      <td>...</td>\n",
       "      <td>...</td>\n",
       "      <td>...</td>\n",
       "      <td>...</td>\n",
       "      <td>...</td>\n",
       "      <td>...</td>\n",
       "      <td>...</td>\n",
       "      <td>...</td>\n",
       "      <td>...</td>\n",
       "      <td>...</td>\n",
       "      <td>...</td>\n",
       "      <td>...</td>\n",
       "      <td>...</td>\n",
       "      <td>...</td>\n",
       "      <td>...</td>\n",
       "    </tr>\n",
       "    <tr>\n",
       "      <th>3545</th>\n",
       "      <td>Innovation</td>\n",
       "      <td>blank</td>\n",
       "      <td>St. Petersburg</td>\n",
       "      <td>Contractor</td>\n",
       "      <td>blank</td>\n",
       "      <td>blank</td>\n",
       "      <td>blank</td>\n",
       "      <td>blank</td>\n",
       "      <td>blank</td>\n",
       "      <td>blank</td>\n",
       "      <td>0.0</td>\n",
       "      <td>0.0</td>\n",
       "      <td>0.0</td>\n",
       "      <td>0.0</td>\n",
       "      <td>0.0</td>\n",
       "      <td>0.0</td>\n",
       "      <td>0.0</td>\n",
       "      <td>0.0</td>\n",
       "      <td>0.0</td>\n",
       "      <td>0.0</td>\n",
       "      <td>0.0</td>\n",
       "      <td>0.0</td>\n",
       "      <td>0.0</td>\n",
       "      <td>0.0</td>\n",
       "      <td>0.0</td>\n",
       "      <td>0.0</td>\n",
       "      <td>0.0</td>\n",
       "      <td>0.0</td>\n",
       "      <td>0.0</td>\n",
       "      <td>0.0</td>\n",
       "      <td>0.0</td>\n",
       "      <td>0.0</td>\n",
       "      <td>False</td>\n",
       "    </tr>\n",
       "    <tr>\n",
       "      <th>3546</th>\n",
       "      <td>Finance</td>\n",
       "      <td>blank</td>\n",
       "      <td>Manila</td>\n",
       "      <td>Contractor</td>\n",
       "      <td>blank</td>\n",
       "      <td>blank</td>\n",
       "      <td>blank</td>\n",
       "      <td>blank</td>\n",
       "      <td>blank</td>\n",
       "      <td>blank</td>\n",
       "      <td>0.0</td>\n",
       "      <td>0.0</td>\n",
       "      <td>0.0</td>\n",
       "      <td>0.0</td>\n",
       "      <td>0.0</td>\n",
       "      <td>0.0</td>\n",
       "      <td>0.0</td>\n",
       "      <td>0.0</td>\n",
       "      <td>0.0</td>\n",
       "      <td>0.0</td>\n",
       "      <td>0.0</td>\n",
       "      <td>0.0</td>\n",
       "      <td>0.0</td>\n",
       "      <td>0.0</td>\n",
       "      <td>0.0</td>\n",
       "      <td>0.0</td>\n",
       "      <td>0.0</td>\n",
       "      <td>0.0</td>\n",
       "      <td>0.0</td>\n",
       "      <td>0.0</td>\n",
       "      <td>0.0</td>\n",
       "      <td>0.0</td>\n",
       "      <td>False</td>\n",
       "    </tr>\n",
       "    <tr>\n",
       "      <th>3547</th>\n",
       "      <td>Sales</td>\n",
       "      <td>blank</td>\n",
       "      <td>Manila</td>\n",
       "      <td>Contractor</td>\n",
       "      <td>blank</td>\n",
       "      <td>blank</td>\n",
       "      <td>blank</td>\n",
       "      <td>blank</td>\n",
       "      <td>blank</td>\n",
       "      <td>blank</td>\n",
       "      <td>0.0</td>\n",
       "      <td>0.0</td>\n",
       "      <td>0.0</td>\n",
       "      <td>0.0</td>\n",
       "      <td>0.0</td>\n",
       "      <td>0.0</td>\n",
       "      <td>0.0</td>\n",
       "      <td>0.0</td>\n",
       "      <td>0.0</td>\n",
       "      <td>0.0</td>\n",
       "      <td>0.0</td>\n",
       "      <td>0.0</td>\n",
       "      <td>0.0</td>\n",
       "      <td>0.0</td>\n",
       "      <td>0.0</td>\n",
       "      <td>0.0</td>\n",
       "      <td>0.0</td>\n",
       "      <td>0.0</td>\n",
       "      <td>0.0</td>\n",
       "      <td>0.0</td>\n",
       "      <td>0.0</td>\n",
       "      <td>0.0</td>\n",
       "      <td>False</td>\n",
       "    </tr>\n",
       "    <tr>\n",
       "      <th>3548</th>\n",
       "      <td>Innovation</td>\n",
       "      <td>blank</td>\n",
       "      <td>St. Petersburg</td>\n",
       "      <td>Contractor</td>\n",
       "      <td>blank</td>\n",
       "      <td>blank</td>\n",
       "      <td>blank</td>\n",
       "      <td>blank</td>\n",
       "      <td>blank</td>\n",
       "      <td>blank</td>\n",
       "      <td>0.0</td>\n",
       "      <td>0.0</td>\n",
       "      <td>0.0</td>\n",
       "      <td>0.0</td>\n",
       "      <td>0.0</td>\n",
       "      <td>0.0</td>\n",
       "      <td>0.0</td>\n",
       "      <td>0.0</td>\n",
       "      <td>0.0</td>\n",
       "      <td>0.0</td>\n",
       "      <td>0.0</td>\n",
       "      <td>0.0</td>\n",
       "      <td>0.0</td>\n",
       "      <td>0.0</td>\n",
       "      <td>0.0</td>\n",
       "      <td>0.0</td>\n",
       "      <td>0.0</td>\n",
       "      <td>0.0</td>\n",
       "      <td>0.0</td>\n",
       "      <td>0.0</td>\n",
       "      <td>0.0</td>\n",
       "      <td>0.0</td>\n",
       "      <td>False</td>\n",
       "    </tr>\n",
       "    <tr>\n",
       "      <th>3549</th>\n",
       "      <td>Innovation</td>\n",
       "      <td>blank</td>\n",
       "      <td>St. Petersburg</td>\n",
       "      <td>Contractor</td>\n",
       "      <td>blank</td>\n",
       "      <td>blank</td>\n",
       "      <td>blank</td>\n",
       "      <td>blank</td>\n",
       "      <td>blank</td>\n",
       "      <td>blank</td>\n",
       "      <td>0.0</td>\n",
       "      <td>0.0</td>\n",
       "      <td>0.0</td>\n",
       "      <td>0.0</td>\n",
       "      <td>0.0</td>\n",
       "      <td>0.0</td>\n",
       "      <td>0.0</td>\n",
       "      <td>0.0</td>\n",
       "      <td>0.0</td>\n",
       "      <td>0.0</td>\n",
       "      <td>0.0</td>\n",
       "      <td>0.0</td>\n",
       "      <td>0.0</td>\n",
       "      <td>0.0</td>\n",
       "      <td>0.0</td>\n",
       "      <td>0.0</td>\n",
       "      <td>0.0</td>\n",
       "      <td>0.0</td>\n",
       "      <td>0.0</td>\n",
       "      <td>0.0</td>\n",
       "      <td>0.0</td>\n",
       "      <td>0.0</td>\n",
       "      <td>False</td>\n",
       "    </tr>\n",
       "  </tbody>\n",
       "</table>\n",
       "<p>3550 rows × 33 columns</p>\n",
       "</div>"
      ],
      "text/plain": [
       "          BusinessUnit TenureRange        Location  ...   20    21 target\n",
       "0                  GSS       blank          Manila  ...  3.0  10.0  False\n",
       "1                Sales       blank          Manila  ...  5.0   9.0  False\n",
       "2     Cloud Operations       blank          Manila  ...  4.0   9.0  False\n",
       "3                   HR       blank          Manila  ...  5.0  11.0  False\n",
       "4                  GSS       blank          Manila  ...  3.0   6.0  False\n",
       "...                ...         ...             ...  ...  ...   ...    ...\n",
       "3545        Innovation       blank  St. Petersburg  ...  0.0   0.0  False\n",
       "3546           Finance       blank          Manila  ...  0.0   0.0  False\n",
       "3547             Sales       blank          Manila  ...  0.0   0.0  False\n",
       "3548        Innovation       blank  St. Petersburg  ...  0.0   0.0  False\n",
       "3549        Innovation       blank  St. Petersburg  ...  0.0   0.0  False\n",
       "\n",
       "[3550 rows x 33 columns]"
      ]
     },
     "execution_count": 16,
     "metadata": {
      "tags": []
     },
     "output_type": "execute_result"
    }
   ],
   "source": [
    "testRaw = readFile(pathTest,FileNameTest)\n",
    "rawTestQs = testRaw.select_dtypes(include=num).columns\n",
    "testData,droplist = preprocessPd(testRaw)\n",
    "testQuestions = getQuestions(testRaw,droplist)\n",
    "testData"
   ]
  },
  {
   "cell_type": "markdown",
   "metadata": {
    "id": "TrgWGWjwpNDu"
   },
   "source": [
    "# Using Sentence Encoding to figure out the most similar questions in each data set and to make a mapping so that the size of each data set is same"
   ]
  },
  {
   "cell_type": "code",
   "execution_count": 17,
   "metadata": {
    "cellView": "form",
    "colab": {
     "base_uri": "https://localhost:8080/"
    },
    "executionInfo": {
     "elapsed": 21171,
     "status": "ok",
     "timestamp": 1618504887139,
     "user": {
      "displayName": "Nikhil Pereira",
      "photoUrl": "https://lh3.googleusercontent.com/-KmpYA79GZFM/AAAAAAAAAAI/AAAAAAAAAPs/M7RMlSus4Ck/s64/photo.jpg",
      "userId": "01764547955641237902"
     },
     "user_tz": 240
    },
    "id": "zwty8Z6mAkdV",
    "outputId": "568353ca-d1d4-4352-a88b-bee9cbe9c829"
   },
   "outputs": [
    {
     "name": "stdout",
     "output_type": "stream",
     "text": [
      "module https://tfhub.dev/google/universal-sentence-encoder/4 loaded\n"
     ]
    }
   ],
   "source": [
    "#@title Load the Universal Sentence Encoder's TF Hub module\n",
    "from absl import logging\n",
    "\n",
    "import tensorflow as tf\n",
    "\n",
    "import tensorflow_hub as hub\n",
    "import matplotlib.pyplot as plt\n",
    "import numpy as np\n",
    "import os\n",
    "import pandas as pd\n",
    "import re\n",
    "import seaborn as sns\n",
    "\n",
    "module_url = \"https://tfhub.dev/google/universal-sentence-encoder/4\" #@param [\"https://tfhub.dev/google/universal-sentence-encoder/4\", \"https://tfhub.dev/google/universal-sentence-encoder-large/5\"]\n",
    "model = hub.load(module_url)\n",
    "print (\"module %s loaded\" % module_url)\n",
    "def embed(input):\n",
    "  return model(input)"
   ]
  },
  {
   "cell_type": "code",
   "execution_count": 18,
   "metadata": {
    "executionInfo": {
     "elapsed": 4544,
     "status": "ok",
     "timestamp": 1618504891895,
     "user": {
      "displayName": "Nikhil Pereira",
      "photoUrl": "https://lh3.googleusercontent.com/-KmpYA79GZFM/AAAAAAAAAAI/AAAAAAAAAPs/M7RMlSus4Ck/s64/photo.jpg",
      "userId": "01764547955641237902"
     },
     "user_tz": 240
    },
    "id": "fCeNHu7KsPwW"
   },
   "outputs": [],
   "source": [
    "def run_Semantic(messages_):\n",
    "  message_embeddings_ = embed(messages_)\n",
    "  return message_embeddings_"
   ]
  },
  {
   "cell_type": "markdown",
   "metadata": {
    "id": "47jDJViYPlBm"
   },
   "source": [
    "# Finding the highest embedding scores and creating the mapping"
   ]
  },
  {
   "cell_type": "code",
   "execution_count": 19,
   "metadata": {
    "colab": {
     "base_uri": "https://localhost:8080/"
    },
    "executionInfo": {
     "elapsed": 3210,
     "status": "ok",
     "timestamp": 1618504891896,
     "user": {
      "displayName": "Nikhil Pereira",
      "photoUrl": "https://lh3.googleusercontent.com/-KmpYA79GZFM/AAAAAAAAAAI/AAAAAAAAAPs/M7RMlSus4Ck/s64/photo.jpg",
      "userId": "01764547955641237902"
     },
     "user_tz": 240
    },
    "id": "nWNFWbgXWIBj",
    "outputId": "ecd916b8-fd7d-44bb-f7bc-ec844c81074a"
   },
   "outputs": [
    {
     "data": {
      "text/plain": [
       "[('0', '0'),\n",
       " ('1', '1'),\n",
       " ('2', '2'),\n",
       " ('3', '3'),\n",
       " ('4', '4'),\n",
       " ('5', '5'),\n",
       " ('6', '6'),\n",
       " ('7', '7'),\n",
       " ('8', '8'),\n",
       " ('9', '9'),\n",
       " ('10', '10'),\n",
       " ('11', '11'),\n",
       " ('12', '12'),\n",
       " ('13', '13'),\n",
       " ('14', '14'),\n",
       " ('15', '15'),\n",
       " ('16', '16'),\n",
       " ('17', '17'),\n",
       " ('21', '18')]"
      ]
     },
     "execution_count": 19,
     "metadata": {
      "tags": []
     },
     "output_type": "execute_result"
    }
   ],
   "source": [
    "train_matrix = run_Semantic(trainQuestions)\n",
    "test_matrix = run_Semantic(testQuestions)\n",
    "sim_matrix = np.inner(test_matrix, train_matrix)\n",
    "work = pd.DataFrame(sim_matrix,index = testData.select_dtypes(include=num).columns, columns = trainData.select_dtypes(include=num).columns)\n",
    "work\n",
    "# #Findthing the max\n",
    "# #columnMaxs = [work[column].max() for column in work.columns if work[column].max() > 0.8] #Find all max values among the train data (smaller)\n",
    "columnMaxIndex = [work[column].idxmax() for column in work.columns] #Find all max index among the test data (bigger)\n",
    "indexMap = list(zip(columnMaxIndex,work.columns)) #Zip the two lists\n",
    "indexMap"
   ]
  },
  {
   "cell_type": "markdown",
   "metadata": {
    "id": "5-vM7rAOPt-D"
   },
   "source": [
    "# FInal test data ready for ML Algos"
   ]
  },
  {
   "cell_type": "code",
   "execution_count": 20,
   "metadata": {
    "colab": {
     "base_uri": "https://localhost:8080/",
     "height": 413
    },
    "executionInfo": {
     "elapsed": 2414,
     "status": "ok",
     "timestamp": 1618504896590,
     "user": {
      "displayName": "Nikhil Pereira",
      "photoUrl": "https://lh3.googleusercontent.com/-KmpYA79GZFM/AAAAAAAAAAI/AAAAAAAAAPs/M7RMlSus4Ck/s64/photo.jpg",
      "userId": "01764547955641237902"
     },
     "user_tz": 240
    },
    "id": "ONa5YaxX9uJX",
    "outputId": "dbd9d477-e4ea-4bd5-e54a-48a1acc0fee9"
   },
   "outputs": [
    {
     "data": {
      "text/html": [
       "<div>\n",
       "<style scoped>\n",
       "    .dataframe tbody tr th:only-of-type {\n",
       "        vertical-align: middle;\n",
       "    }\n",
       "\n",
       "    .dataframe tbody tr th {\n",
       "        vertical-align: top;\n",
       "    }\n",
       "\n",
       "    .dataframe thead th {\n",
       "        text-align: right;\n",
       "    }\n",
       "</style>\n",
       "<table border=\"1\" class=\"dataframe\">\n",
       "  <thead>\n",
       "    <tr style=\"text-align: right;\">\n",
       "      <th></th>\n",
       "      <th>0</th>\n",
       "      <th>1</th>\n",
       "      <th>2</th>\n",
       "      <th>3</th>\n",
       "      <th>4</th>\n",
       "      <th>5</th>\n",
       "      <th>6</th>\n",
       "      <th>7</th>\n",
       "      <th>8</th>\n",
       "      <th>9</th>\n",
       "      <th>10</th>\n",
       "      <th>11</th>\n",
       "      <th>12</th>\n",
       "      <th>13</th>\n",
       "      <th>14</th>\n",
       "      <th>15</th>\n",
       "      <th>16</th>\n",
       "      <th>17</th>\n",
       "      <th>21</th>\n",
       "      <th>target</th>\n",
       "    </tr>\n",
       "  </thead>\n",
       "  <tbody>\n",
       "    <tr>\n",
       "      <th>0</th>\n",
       "      <td>5.0</td>\n",
       "      <td>5.0</td>\n",
       "      <td>5.0</td>\n",
       "      <td>5.0</td>\n",
       "      <td>4.0</td>\n",
       "      <td>5.0</td>\n",
       "      <td>4.0</td>\n",
       "      <td>4.0</td>\n",
       "      <td>5.0</td>\n",
       "      <td>5.0</td>\n",
       "      <td>5.0</td>\n",
       "      <td>5.0</td>\n",
       "      <td>5.0</td>\n",
       "      <td>4.0</td>\n",
       "      <td>4.0</td>\n",
       "      <td>5.0</td>\n",
       "      <td>5.0</td>\n",
       "      <td>5.0</td>\n",
       "      <td>10.0</td>\n",
       "      <td>False</td>\n",
       "    </tr>\n",
       "    <tr>\n",
       "      <th>1</th>\n",
       "      <td>4.0</td>\n",
       "      <td>5.0</td>\n",
       "      <td>4.0</td>\n",
       "      <td>4.0</td>\n",
       "      <td>3.0</td>\n",
       "      <td>5.0</td>\n",
       "      <td>4.0</td>\n",
       "      <td>4.0</td>\n",
       "      <td>4.0</td>\n",
       "      <td>4.0</td>\n",
       "      <td>4.0</td>\n",
       "      <td>4.0</td>\n",
       "      <td>4.0</td>\n",
       "      <td>4.0</td>\n",
       "      <td>4.0</td>\n",
       "      <td>4.0</td>\n",
       "      <td>4.0</td>\n",
       "      <td>4.0</td>\n",
       "      <td>9.0</td>\n",
       "      <td>False</td>\n",
       "    </tr>\n",
       "    <tr>\n",
       "      <th>2</th>\n",
       "      <td>4.0</td>\n",
       "      <td>4.0</td>\n",
       "      <td>4.0</td>\n",
       "      <td>4.0</td>\n",
       "      <td>4.0</td>\n",
       "      <td>4.0</td>\n",
       "      <td>4.0</td>\n",
       "      <td>4.0</td>\n",
       "      <td>4.0</td>\n",
       "      <td>4.0</td>\n",
       "      <td>4.0</td>\n",
       "      <td>4.0</td>\n",
       "      <td>4.0</td>\n",
       "      <td>4.0</td>\n",
       "      <td>0.0</td>\n",
       "      <td>4.0</td>\n",
       "      <td>4.0</td>\n",
       "      <td>4.0</td>\n",
       "      <td>9.0</td>\n",
       "      <td>False</td>\n",
       "    </tr>\n",
       "    <tr>\n",
       "      <th>3</th>\n",
       "      <td>5.0</td>\n",
       "      <td>5.0</td>\n",
       "      <td>5.0</td>\n",
       "      <td>5.0</td>\n",
       "      <td>5.0</td>\n",
       "      <td>5.0</td>\n",
       "      <td>5.0</td>\n",
       "      <td>2.0</td>\n",
       "      <td>5.0</td>\n",
       "      <td>5.0</td>\n",
       "      <td>5.0</td>\n",
       "      <td>5.0</td>\n",
       "      <td>5.0</td>\n",
       "      <td>5.0</td>\n",
       "      <td>5.0</td>\n",
       "      <td>5.0</td>\n",
       "      <td>5.0</td>\n",
       "      <td>5.0</td>\n",
       "      <td>11.0</td>\n",
       "      <td>False</td>\n",
       "    </tr>\n",
       "    <tr>\n",
       "      <th>4</th>\n",
       "      <td>1.0</td>\n",
       "      <td>1.0</td>\n",
       "      <td>3.0</td>\n",
       "      <td>1.0</td>\n",
       "      <td>1.0</td>\n",
       "      <td>1.0</td>\n",
       "      <td>1.0</td>\n",
       "      <td>1.0</td>\n",
       "      <td>1.0</td>\n",
       "      <td>1.0</td>\n",
       "      <td>1.0</td>\n",
       "      <td>1.0</td>\n",
       "      <td>1.0</td>\n",
       "      <td>1.0</td>\n",
       "      <td>1.0</td>\n",
       "      <td>1.0</td>\n",
       "      <td>1.0</td>\n",
       "      <td>1.0</td>\n",
       "      <td>6.0</td>\n",
       "      <td>False</td>\n",
       "    </tr>\n",
       "    <tr>\n",
       "      <th>...</th>\n",
       "      <td>...</td>\n",
       "      <td>...</td>\n",
       "      <td>...</td>\n",
       "      <td>...</td>\n",
       "      <td>...</td>\n",
       "      <td>...</td>\n",
       "      <td>...</td>\n",
       "      <td>...</td>\n",
       "      <td>...</td>\n",
       "      <td>...</td>\n",
       "      <td>...</td>\n",
       "      <td>...</td>\n",
       "      <td>...</td>\n",
       "      <td>...</td>\n",
       "      <td>...</td>\n",
       "      <td>...</td>\n",
       "      <td>...</td>\n",
       "      <td>...</td>\n",
       "      <td>...</td>\n",
       "      <td>...</td>\n",
       "    </tr>\n",
       "    <tr>\n",
       "      <th>3545</th>\n",
       "      <td>0.0</td>\n",
       "      <td>0.0</td>\n",
       "      <td>0.0</td>\n",
       "      <td>0.0</td>\n",
       "      <td>0.0</td>\n",
       "      <td>0.0</td>\n",
       "      <td>0.0</td>\n",
       "      <td>0.0</td>\n",
       "      <td>0.0</td>\n",
       "      <td>0.0</td>\n",
       "      <td>0.0</td>\n",
       "      <td>0.0</td>\n",
       "      <td>0.0</td>\n",
       "      <td>0.0</td>\n",
       "      <td>0.0</td>\n",
       "      <td>0.0</td>\n",
       "      <td>0.0</td>\n",
       "      <td>0.0</td>\n",
       "      <td>0.0</td>\n",
       "      <td>False</td>\n",
       "    </tr>\n",
       "    <tr>\n",
       "      <th>3546</th>\n",
       "      <td>0.0</td>\n",
       "      <td>0.0</td>\n",
       "      <td>0.0</td>\n",
       "      <td>0.0</td>\n",
       "      <td>0.0</td>\n",
       "      <td>0.0</td>\n",
       "      <td>0.0</td>\n",
       "      <td>0.0</td>\n",
       "      <td>0.0</td>\n",
       "      <td>0.0</td>\n",
       "      <td>0.0</td>\n",
       "      <td>0.0</td>\n",
       "      <td>0.0</td>\n",
       "      <td>0.0</td>\n",
       "      <td>0.0</td>\n",
       "      <td>0.0</td>\n",
       "      <td>0.0</td>\n",
       "      <td>0.0</td>\n",
       "      <td>0.0</td>\n",
       "      <td>False</td>\n",
       "    </tr>\n",
       "    <tr>\n",
       "      <th>3547</th>\n",
       "      <td>0.0</td>\n",
       "      <td>0.0</td>\n",
       "      <td>0.0</td>\n",
       "      <td>0.0</td>\n",
       "      <td>0.0</td>\n",
       "      <td>0.0</td>\n",
       "      <td>0.0</td>\n",
       "      <td>0.0</td>\n",
       "      <td>0.0</td>\n",
       "      <td>0.0</td>\n",
       "      <td>0.0</td>\n",
       "      <td>0.0</td>\n",
       "      <td>0.0</td>\n",
       "      <td>0.0</td>\n",
       "      <td>0.0</td>\n",
       "      <td>0.0</td>\n",
       "      <td>0.0</td>\n",
       "      <td>0.0</td>\n",
       "      <td>0.0</td>\n",
       "      <td>False</td>\n",
       "    </tr>\n",
       "    <tr>\n",
       "      <th>3548</th>\n",
       "      <td>0.0</td>\n",
       "      <td>0.0</td>\n",
       "      <td>0.0</td>\n",
       "      <td>0.0</td>\n",
       "      <td>0.0</td>\n",
       "      <td>0.0</td>\n",
       "      <td>0.0</td>\n",
       "      <td>0.0</td>\n",
       "      <td>0.0</td>\n",
       "      <td>0.0</td>\n",
       "      <td>0.0</td>\n",
       "      <td>0.0</td>\n",
       "      <td>0.0</td>\n",
       "      <td>0.0</td>\n",
       "      <td>0.0</td>\n",
       "      <td>0.0</td>\n",
       "      <td>0.0</td>\n",
       "      <td>0.0</td>\n",
       "      <td>0.0</td>\n",
       "      <td>False</td>\n",
       "    </tr>\n",
       "    <tr>\n",
       "      <th>3549</th>\n",
       "      <td>0.0</td>\n",
       "      <td>0.0</td>\n",
       "      <td>0.0</td>\n",
       "      <td>0.0</td>\n",
       "      <td>0.0</td>\n",
       "      <td>0.0</td>\n",
       "      <td>0.0</td>\n",
       "      <td>0.0</td>\n",
       "      <td>0.0</td>\n",
       "      <td>0.0</td>\n",
       "      <td>0.0</td>\n",
       "      <td>0.0</td>\n",
       "      <td>0.0</td>\n",
       "      <td>0.0</td>\n",
       "      <td>0.0</td>\n",
       "      <td>0.0</td>\n",
       "      <td>0.0</td>\n",
       "      <td>0.0</td>\n",
       "      <td>0.0</td>\n",
       "      <td>False</td>\n",
       "    </tr>\n",
       "  </tbody>\n",
       "</table>\n",
       "<p>3550 rows × 20 columns</p>\n",
       "</div>"
      ],
      "text/plain": [
       "        0    1    2    3    4    5    6  ...   13   14   15   16   17    21  target\n",
       "0     5.0  5.0  5.0  5.0  4.0  5.0  4.0  ...  4.0  4.0  5.0  5.0  5.0  10.0   False\n",
       "1     4.0  5.0  4.0  4.0  3.0  5.0  4.0  ...  4.0  4.0  4.0  4.0  4.0   9.0   False\n",
       "2     4.0  4.0  4.0  4.0  4.0  4.0  4.0  ...  4.0  0.0  4.0  4.0  4.0   9.0   False\n",
       "3     5.0  5.0  5.0  5.0  5.0  5.0  5.0  ...  5.0  5.0  5.0  5.0  5.0  11.0   False\n",
       "4     1.0  1.0  3.0  1.0  1.0  1.0  1.0  ...  1.0  1.0  1.0  1.0  1.0   6.0   False\n",
       "...   ...  ...  ...  ...  ...  ...  ...  ...  ...  ...  ...  ...  ...   ...     ...\n",
       "3545  0.0  0.0  0.0  0.0  0.0  0.0  0.0  ...  0.0  0.0  0.0  0.0  0.0   0.0   False\n",
       "3546  0.0  0.0  0.0  0.0  0.0  0.0  0.0  ...  0.0  0.0  0.0  0.0  0.0   0.0   False\n",
       "3547  0.0  0.0  0.0  0.0  0.0  0.0  0.0  ...  0.0  0.0  0.0  0.0  0.0   0.0   False\n",
       "3548  0.0  0.0  0.0  0.0  0.0  0.0  0.0  ...  0.0  0.0  0.0  0.0  0.0   0.0   False\n",
       "3549  0.0  0.0  0.0  0.0  0.0  0.0  0.0  ...  0.0  0.0  0.0  0.0  0.0   0.0   False\n",
       "\n",
       "[3550 rows x 20 columns]"
      ]
     },
     "execution_count": 20,
     "metadata": {
      "tags": []
     },
     "output_type": "execute_result"
    }
   ],
   "source": [
    "# need to prepare the train and test set accor\n",
    "testColumns = [x[0] for x in indexMap]\n",
    "testFrame = pd.concat([testData.loc[:,testColumns],testData[testData.columns[-1]]],axis=1)\n",
    "testFrame"
   ]
  },
  {
   "cell_type": "markdown",
   "metadata": {
    "id": "wevKuGpUPzXb"
   },
   "source": [
    "# Final train data ready for Algos"
   ]
  },
  {
   "cell_type": "code",
   "execution_count": 21,
   "metadata": {
    "colab": {
     "base_uri": "https://localhost:8080/",
     "height": 413
    },
    "executionInfo": {
     "elapsed": 3297,
     "status": "ok",
     "timestamp": 1618504902195,
     "user": {
      "displayName": "Nikhil Pereira",
      "photoUrl": "https://lh3.googleusercontent.com/-KmpYA79GZFM/AAAAAAAAAAI/AAAAAAAAAPs/M7RMlSus4Ck/s64/photo.jpg",
      "userId": "01764547955641237902"
     },
     "user_tz": 240
    },
    "id": "y9lQELCHr2Nl",
    "outputId": "b2014769-3354-4384-c3bc-243585f8ef89"
   },
   "outputs": [
    {
     "data": {
      "text/html": [
       "<div>\n",
       "<style scoped>\n",
       "    .dataframe tbody tr th:only-of-type {\n",
       "        vertical-align: middle;\n",
       "    }\n",
       "\n",
       "    .dataframe tbody tr th {\n",
       "        vertical-align: top;\n",
       "    }\n",
       "\n",
       "    .dataframe thead th {\n",
       "        text-align: right;\n",
       "    }\n",
       "</style>\n",
       "<table border=\"1\" class=\"dataframe\">\n",
       "  <thead>\n",
       "    <tr style=\"text-align: right;\">\n",
       "      <th></th>\n",
       "      <th>0</th>\n",
       "      <th>1</th>\n",
       "      <th>2</th>\n",
       "      <th>3</th>\n",
       "      <th>4</th>\n",
       "      <th>5</th>\n",
       "      <th>6</th>\n",
       "      <th>7</th>\n",
       "      <th>8</th>\n",
       "      <th>9</th>\n",
       "      <th>10</th>\n",
       "      <th>11</th>\n",
       "      <th>12</th>\n",
       "      <th>13</th>\n",
       "      <th>14</th>\n",
       "      <th>15</th>\n",
       "      <th>16</th>\n",
       "      <th>17</th>\n",
       "      <th>18</th>\n",
       "      <th>target</th>\n",
       "    </tr>\n",
       "  </thead>\n",
       "  <tbody>\n",
       "    <tr>\n",
       "      <th>0</th>\n",
       "      <td>3.0</td>\n",
       "      <td>3.0</td>\n",
       "      <td>3.0</td>\n",
       "      <td>3.0</td>\n",
       "      <td>2.0</td>\n",
       "      <td>4.0</td>\n",
       "      <td>3.0</td>\n",
       "      <td>4.0</td>\n",
       "      <td>4.0</td>\n",
       "      <td>4.0</td>\n",
       "      <td>4.0</td>\n",
       "      <td>4.0</td>\n",
       "      <td>4.0</td>\n",
       "      <td>4.0</td>\n",
       "      <td>4.0</td>\n",
       "      <td>4.0</td>\n",
       "      <td>3.0</td>\n",
       "      <td>4.0</td>\n",
       "      <td>3.0</td>\n",
       "      <td>False</td>\n",
       "    </tr>\n",
       "    <tr>\n",
       "      <th>1</th>\n",
       "      <td>0.0</td>\n",
       "      <td>5.0</td>\n",
       "      <td>5.0</td>\n",
       "      <td>5.0</td>\n",
       "      <td>5.0</td>\n",
       "      <td>5.0</td>\n",
       "      <td>5.0</td>\n",
       "      <td>5.0</td>\n",
       "      <td>5.0</td>\n",
       "      <td>5.0</td>\n",
       "      <td>5.0</td>\n",
       "      <td>5.0</td>\n",
       "      <td>5.0</td>\n",
       "      <td>5.0</td>\n",
       "      <td>5.0</td>\n",
       "      <td>5.0</td>\n",
       "      <td>5.0</td>\n",
       "      <td>5.0</td>\n",
       "      <td>5.0</td>\n",
       "      <td>False</td>\n",
       "    </tr>\n",
       "    <tr>\n",
       "      <th>2</th>\n",
       "      <td>5.0</td>\n",
       "      <td>5.0</td>\n",
       "      <td>5.0</td>\n",
       "      <td>5.0</td>\n",
       "      <td>5.0</td>\n",
       "      <td>5.0</td>\n",
       "      <td>5.0</td>\n",
       "      <td>5.0</td>\n",
       "      <td>5.0</td>\n",
       "      <td>5.0</td>\n",
       "      <td>5.0</td>\n",
       "      <td>5.0</td>\n",
       "      <td>5.0</td>\n",
       "      <td>5.0</td>\n",
       "      <td>5.0</td>\n",
       "      <td>5.0</td>\n",
       "      <td>5.0</td>\n",
       "      <td>5.0</td>\n",
       "      <td>5.0</td>\n",
       "      <td>False</td>\n",
       "    </tr>\n",
       "    <tr>\n",
       "      <th>3</th>\n",
       "      <td>3.0</td>\n",
       "      <td>5.0</td>\n",
       "      <td>3.0</td>\n",
       "      <td>5.0</td>\n",
       "      <td>2.0</td>\n",
       "      <td>3.0</td>\n",
       "      <td>3.0</td>\n",
       "      <td>5.0</td>\n",
       "      <td>5.0</td>\n",
       "      <td>5.0</td>\n",
       "      <td>5.0</td>\n",
       "      <td>5.0</td>\n",
       "      <td>5.0</td>\n",
       "      <td>4.0</td>\n",
       "      <td>4.0</td>\n",
       "      <td>5.0</td>\n",
       "      <td>2.0</td>\n",
       "      <td>5.0</td>\n",
       "      <td>5.0</td>\n",
       "      <td>False</td>\n",
       "    </tr>\n",
       "    <tr>\n",
       "      <th>4</th>\n",
       "      <td>4.0</td>\n",
       "      <td>4.0</td>\n",
       "      <td>4.0</td>\n",
       "      <td>4.0</td>\n",
       "      <td>3.0</td>\n",
       "      <td>4.0</td>\n",
       "      <td>4.0</td>\n",
       "      <td>4.0</td>\n",
       "      <td>4.0</td>\n",
       "      <td>3.0</td>\n",
       "      <td>4.0</td>\n",
       "      <td>4.0</td>\n",
       "      <td>4.0</td>\n",
       "      <td>4.0</td>\n",
       "      <td>4.0</td>\n",
       "      <td>4.0</td>\n",
       "      <td>4.0</td>\n",
       "      <td>4.0</td>\n",
       "      <td>4.0</td>\n",
       "      <td>False</td>\n",
       "    </tr>\n",
       "    <tr>\n",
       "      <th>...</th>\n",
       "      <td>...</td>\n",
       "      <td>...</td>\n",
       "      <td>...</td>\n",
       "      <td>...</td>\n",
       "      <td>...</td>\n",
       "      <td>...</td>\n",
       "      <td>...</td>\n",
       "      <td>...</td>\n",
       "      <td>...</td>\n",
       "      <td>...</td>\n",
       "      <td>...</td>\n",
       "      <td>...</td>\n",
       "      <td>...</td>\n",
       "      <td>...</td>\n",
       "      <td>...</td>\n",
       "      <td>...</td>\n",
       "      <td>...</td>\n",
       "      <td>...</td>\n",
       "      <td>...</td>\n",
       "      <td>...</td>\n",
       "    </tr>\n",
       "    <tr>\n",
       "      <th>3075</th>\n",
       "      <td>0.0</td>\n",
       "      <td>0.0</td>\n",
       "      <td>0.0</td>\n",
       "      <td>0.0</td>\n",
       "      <td>0.0</td>\n",
       "      <td>0.0</td>\n",
       "      <td>0.0</td>\n",
       "      <td>0.0</td>\n",
       "      <td>0.0</td>\n",
       "      <td>0.0</td>\n",
       "      <td>0.0</td>\n",
       "      <td>0.0</td>\n",
       "      <td>0.0</td>\n",
       "      <td>0.0</td>\n",
       "      <td>0.0</td>\n",
       "      <td>0.0</td>\n",
       "      <td>0.0</td>\n",
       "      <td>0.0</td>\n",
       "      <td>0.0</td>\n",
       "      <td>False</td>\n",
       "    </tr>\n",
       "    <tr>\n",
       "      <th>3076</th>\n",
       "      <td>0.0</td>\n",
       "      <td>0.0</td>\n",
       "      <td>0.0</td>\n",
       "      <td>0.0</td>\n",
       "      <td>0.0</td>\n",
       "      <td>0.0</td>\n",
       "      <td>0.0</td>\n",
       "      <td>0.0</td>\n",
       "      <td>0.0</td>\n",
       "      <td>0.0</td>\n",
       "      <td>0.0</td>\n",
       "      <td>0.0</td>\n",
       "      <td>0.0</td>\n",
       "      <td>0.0</td>\n",
       "      <td>0.0</td>\n",
       "      <td>0.0</td>\n",
       "      <td>0.0</td>\n",
       "      <td>0.0</td>\n",
       "      <td>0.0</td>\n",
       "      <td>False</td>\n",
       "    </tr>\n",
       "    <tr>\n",
       "      <th>3077</th>\n",
       "      <td>0.0</td>\n",
       "      <td>0.0</td>\n",
       "      <td>0.0</td>\n",
       "      <td>0.0</td>\n",
       "      <td>0.0</td>\n",
       "      <td>0.0</td>\n",
       "      <td>0.0</td>\n",
       "      <td>0.0</td>\n",
       "      <td>0.0</td>\n",
       "      <td>0.0</td>\n",
       "      <td>0.0</td>\n",
       "      <td>0.0</td>\n",
       "      <td>0.0</td>\n",
       "      <td>0.0</td>\n",
       "      <td>0.0</td>\n",
       "      <td>0.0</td>\n",
       "      <td>0.0</td>\n",
       "      <td>0.0</td>\n",
       "      <td>0.0</td>\n",
       "      <td>False</td>\n",
       "    </tr>\n",
       "    <tr>\n",
       "      <th>3078</th>\n",
       "      <td>0.0</td>\n",
       "      <td>0.0</td>\n",
       "      <td>0.0</td>\n",
       "      <td>0.0</td>\n",
       "      <td>0.0</td>\n",
       "      <td>0.0</td>\n",
       "      <td>0.0</td>\n",
       "      <td>0.0</td>\n",
       "      <td>0.0</td>\n",
       "      <td>0.0</td>\n",
       "      <td>0.0</td>\n",
       "      <td>0.0</td>\n",
       "      <td>0.0</td>\n",
       "      <td>0.0</td>\n",
       "      <td>0.0</td>\n",
       "      <td>0.0</td>\n",
       "      <td>0.0</td>\n",
       "      <td>0.0</td>\n",
       "      <td>0.0</td>\n",
       "      <td>False</td>\n",
       "    </tr>\n",
       "    <tr>\n",
       "      <th>3079</th>\n",
       "      <td>0.0</td>\n",
       "      <td>0.0</td>\n",
       "      <td>0.0</td>\n",
       "      <td>0.0</td>\n",
       "      <td>0.0</td>\n",
       "      <td>0.0</td>\n",
       "      <td>0.0</td>\n",
       "      <td>0.0</td>\n",
       "      <td>0.0</td>\n",
       "      <td>0.0</td>\n",
       "      <td>0.0</td>\n",
       "      <td>0.0</td>\n",
       "      <td>0.0</td>\n",
       "      <td>0.0</td>\n",
       "      <td>0.0</td>\n",
       "      <td>0.0</td>\n",
       "      <td>0.0</td>\n",
       "      <td>0.0</td>\n",
       "      <td>0.0</td>\n",
       "      <td>False</td>\n",
       "    </tr>\n",
       "  </tbody>\n",
       "</table>\n",
       "<p>3080 rows × 20 columns</p>\n",
       "</div>"
      ],
      "text/plain": [
       "        0    1    2    3    4    5    6  ...   13   14   15   16   17   18  target\n",
       "0     3.0  3.0  3.0  3.0  2.0  4.0  3.0  ...  4.0  4.0  4.0  3.0  4.0  3.0   False\n",
       "1     0.0  5.0  5.0  5.0  5.0  5.0  5.0  ...  5.0  5.0  5.0  5.0  5.0  5.0   False\n",
       "2     5.0  5.0  5.0  5.0  5.0  5.0  5.0  ...  5.0  5.0  5.0  5.0  5.0  5.0   False\n",
       "3     3.0  5.0  3.0  5.0  2.0  3.0  3.0  ...  4.0  4.0  5.0  2.0  5.0  5.0   False\n",
       "4     4.0  4.0  4.0  4.0  3.0  4.0  4.0  ...  4.0  4.0  4.0  4.0  4.0  4.0   False\n",
       "...   ...  ...  ...  ...  ...  ...  ...  ...  ...  ...  ...  ...  ...  ...     ...\n",
       "3075  0.0  0.0  0.0  0.0  0.0  0.0  0.0  ...  0.0  0.0  0.0  0.0  0.0  0.0   False\n",
       "3076  0.0  0.0  0.0  0.0  0.0  0.0  0.0  ...  0.0  0.0  0.0  0.0  0.0  0.0   False\n",
       "3077  0.0  0.0  0.0  0.0  0.0  0.0  0.0  ...  0.0  0.0  0.0  0.0  0.0  0.0   False\n",
       "3078  0.0  0.0  0.0  0.0  0.0  0.0  0.0  ...  0.0  0.0  0.0  0.0  0.0  0.0   False\n",
       "3079  0.0  0.0  0.0  0.0  0.0  0.0  0.0  ...  0.0  0.0  0.0  0.0  0.0  0.0   False\n",
       "\n",
       "[3080 rows x 20 columns]"
      ]
     },
     "execution_count": 21,
     "metadata": {
      "tags": []
     },
     "output_type": "execute_result"
    }
   ],
   "source": [
    "trainFrame = pd.concat([trainData.select_dtypes(include=num),trainData[trainData.columns[-1]]],axis=1)\n",
    "trainFrame"
   ]
  },
  {
   "cell_type": "markdown",
   "metadata": {
    "id": "BwDjcTVzP4NY"
   },
   "source": [
    "# Setting the train and test data variables to the frames created above"
   ]
  },
  {
   "cell_type": "code",
   "execution_count": 22,
   "metadata": {
    "executionInfo": {
     "elapsed": 2955,
     "status": "ok",
     "timestamp": 1618504907476,
     "user": {
      "displayName": "Nikhil Pereira",
      "photoUrl": "https://lh3.googleusercontent.com/-KmpYA79GZFM/AAAAAAAAAAI/AAAAAAAAAPs/M7RMlSus4Ck/s64/photo.jpg",
      "userId": "01764547955641237902"
     },
     "user_tz": 240
    },
    "id": "1cT1zUg0vYKG"
   },
   "outputs": [],
   "source": [
    "#using sklearn to split the data\n",
    "from sklearn.model_selection import KFold, train_test_split\n",
    "from sklearn.ensemble import RandomForestClassifier, GradientBoostingClassifier\n",
    "\n",
    "from sklearn.metrics import classification_report, plot_confusion_matrix, plot_precision_recall_curve, plot_roc_curve\n",
    "\n",
    "\n",
    "\n",
    "X_train, y_train = trainFrame.iloc[:,0:-1], trainData[trainData.columns[-1]]\n",
    "X_test, y_test = testFrame.iloc[:,0:-1], testData[testData.columns[-1]]\n",
    "\n"
   ]
  },
  {
   "cell_type": "markdown",
   "metadata": {
    "id": "6dcUDSnbFpYM"
   },
   "source": [
    "# Running Tensor Flow's Gradient Boost Classifier"
   ]
  },
  {
   "cell_type": "markdown",
   "metadata": {
    "id": "5j4V4lJqq57B"
   },
   "source": [
    "# Pre Processing Data Using One Hot Encoder"
   ]
  },
  {
   "cell_type": "code",
   "execution_count": 23,
   "metadata": {
    "executionInfo": {
     "elapsed": 1178,
     "status": "ok",
     "timestamp": 1618504910495,
     "user": {
      "displayName": "Nikhil Pereira",
      "photoUrl": "https://lh3.googleusercontent.com/-KmpYA79GZFM/AAAAAAAAAAI/AAAAAAAAAPs/M7RMlSus4Ck/s64/photo.jpg",
      "userId": "01764547955641237902"
     },
     "user_tz": 240
    },
    "id": "k9l0HR1tK-c4"
   },
   "outputs": [],
   "source": [
    "tf_X_test = X_test\n",
    "tf_Y_test = y_test\n",
    "tf_X_test.columns = X_train.columns\n",
    "surveyPd = X_train\n",
    "\n",
    "#setting the seed\n",
    "tf.random.set_seed(42)"
   ]
  },
  {
   "cell_type": "code",
   "execution_count": 24,
   "metadata": {
    "executionInfo": {
     "elapsed": 6469,
     "status": "ok",
     "timestamp": 1618504918004,
     "user": {
      "displayName": "Nikhil Pereira",
      "photoUrl": "https://lh3.googleusercontent.com/-KmpYA79GZFM/AAAAAAAAAAI/AAAAAAAAAPs/M7RMlSus4Ck/s64/photo.jpg",
      "userId": "01764547955641237902"
     },
     "user_tz": 240
    },
    "id": "FvYydksjq-lL"
   },
   "outputs": [],
   "source": [
    "fc = tf.feature_column\n",
    "cat = ['object']\n",
    "num = ['float']\n",
    "CATEGORICAL_COLUMNS = trainFrame.select_dtypes(include=cat).columns\n",
    "NUMERIC_COLUMNS = trainFrame.select_dtypes(include=num).columns\n",
    "\n",
    "def one_hot_cat_column(feature_name, vocab):\n",
    "  return fc.indicator_column(\n",
    "      fc.categorical_column_with_vocabulary_list(feature_name,\n",
    "                                                 vocab))\n",
    "feature_columns = []\n",
    "for feature_name in CATEGORICAL_COLUMNS:\n",
    "  # Need to one-hot encode categorical features.\n",
    "  vocabulary = X_train[feature_name].unique()\n",
    "  feature_columns.append(one_hot_cat_column(feature_name, vocabulary))\n",
    "\n",
    "for feature_name in NUMERIC_COLUMNS:\n",
    "  feature_columns.append(fc.numeric_column(feature_name,\n",
    "                                           dtype=tf.float32))"
   ]
  },
  {
   "cell_type": "markdown",
   "metadata": {
    "id": "zDfV4Wc3ygYo"
   },
   "source": [
    "# Build the input Pipeline"
   ]
  },
  {
   "cell_type": "code",
   "execution_count": 25,
   "metadata": {
    "executionInfo": {
     "elapsed": 2655,
     "status": "ok",
     "timestamp": 1618504922686,
     "user": {
      "displayName": "Nikhil Pereira",
      "photoUrl": "https://lh3.googleusercontent.com/-KmpYA79GZFM/AAAAAAAAAAI/AAAAAAAAAPs/M7RMlSus4Ck/s64/photo.jpg",
      "userId": "01764547955641237902"
     },
     "user_tz": 240
    },
    "id": "uHYKgUw4xSif"
   },
   "outputs": [],
   "source": [
    "# Use entire batch since this is such a small dataset.\n",
    "NUM_EXAMPLES = len(y_train)\n",
    "\n",
    "def make_input_fn(X, y, n_epochs=None, shuffle=True):\n",
    "  def input_fn():\n",
    "    dataset = tf.data.Dataset.from_tensor_slices((X.to_dict(orient='list'), y))\n",
    "    if shuffle:\n",
    "      dataset = dataset.shuffle(NUM_EXAMPLES)\n",
    "    # For training, cycle thru dataset as many times as need (n_epochs=None).\n",
    "    dataset = (dataset\n",
    "      .repeat(n_epochs)\n",
    "      .batch(NUM_EXAMPLES))\n",
    "    return dataset\n",
    "  return input_fn\n",
    "\n",
    "# Training and evaluation input functions.\n",
    "\n",
    "\n",
    "train_input_fn = make_input_fn(X_train, y_train)\n",
    "eval_input_fn = make_input_fn(tf_X_test, tf_Y_test, shuffle=False, n_epochs=1)"
   ]
  },
  {
   "cell_type": "markdown",
   "metadata": {
    "id": "R1VMUdzRyx1G"
   },
   "source": [
    "# Train the model"
   ]
  },
  {
   "cell_type": "code",
   "execution_count": 26,
   "metadata": {
    "colab": {
     "base_uri": "https://localhost:8080/",
     "height": 1000
    },
    "executionInfo": {
     "elapsed": 12950,
     "status": "ok",
     "timestamp": 1618504934918,
     "user": {
      "displayName": "Nikhil Pereira",
      "photoUrl": "https://lh3.googleusercontent.com/-KmpYA79GZFM/AAAAAAAAAAI/AAAAAAAAAPs/M7RMlSus4Ck/s64/photo.jpg",
      "userId": "01764547955641237902"
     },
     "user_tz": 240
    },
    "id": "-gB3R6o1xtof",
    "outputId": "118daaf5-a62e-4e1c-d698-8eb0d07061e1"
   },
   "outputs": [
    {
     "name": "stdout",
     "output_type": "stream",
     "text": [
      "INFO:tensorflow:Using default config.\n"
     ]
    },
    {
     "name": "stderr",
     "output_type": "stream",
     "text": [
      "INFO:tensorflow:Using default config.\n"
     ]
    },
    {
     "name": "stdout",
     "output_type": "stream",
     "text": [
      "WARNING:tensorflow:Using temporary folder as model directory: /tmp/tmpmnww2o8f\n"
     ]
    },
    {
     "name": "stderr",
     "output_type": "stream",
     "text": [
      "WARNING:tensorflow:Using temporary folder as model directory: /tmp/tmpmnww2o8f\n"
     ]
    },
    {
     "name": "stdout",
     "output_type": "stream",
     "text": [
      "INFO:tensorflow:Using config: {'_model_dir': '/tmp/tmpmnww2o8f', '_tf_random_seed': None, '_save_summary_steps': 100, '_save_checkpoints_steps': None, '_save_checkpoints_secs': 600, '_session_config': allow_soft_placement: true\n",
      "graph_options {\n",
      "  rewrite_options {\n",
      "    meta_optimizer_iterations: ONE\n",
      "  }\n",
      "}\n",
      ", '_keep_checkpoint_max': 5, '_keep_checkpoint_every_n_hours': 10000, '_log_step_count_steps': 100, '_train_distribute': None, '_device_fn': None, '_protocol': None, '_eval_distribute': None, '_experimental_distribute': None, '_experimental_max_worker_delay_secs': None, '_session_creation_timeout_secs': 7200, '_checkpoint_save_graph_def': True, '_service': None, '_cluster_spec': ClusterSpec({}), '_task_type': 'worker', '_task_id': 0, '_global_id_in_cluster': 0, '_master': '', '_evaluation_master': '', '_is_chief': True, '_num_ps_replicas': 0, '_num_worker_replicas': 1}\n"
     ]
    },
    {
     "name": "stderr",
     "output_type": "stream",
     "text": [
      "INFO:tensorflow:Using config: {'_model_dir': '/tmp/tmpmnww2o8f', '_tf_random_seed': None, '_save_summary_steps': 100, '_save_checkpoints_steps': None, '_save_checkpoints_secs': 600, '_session_config': allow_soft_placement: true\n",
      "graph_options {\n",
      "  rewrite_options {\n",
      "    meta_optimizer_iterations: ONE\n",
      "  }\n",
      "}\n",
      ", '_keep_checkpoint_max': 5, '_keep_checkpoint_every_n_hours': 10000, '_log_step_count_steps': 100, '_train_distribute': None, '_device_fn': None, '_protocol': None, '_eval_distribute': None, '_experimental_distribute': None, '_experimental_max_worker_delay_secs': None, '_session_creation_timeout_secs': 7200, '_checkpoint_save_graph_def': True, '_service': None, '_cluster_spec': ClusterSpec({}), '_task_type': 'worker', '_task_id': 0, '_global_id_in_cluster': 0, '_master': '', '_evaluation_master': '', '_is_chief': True, '_num_ps_replicas': 0, '_num_worker_replicas': 1}\n"
     ]
    },
    {
     "name": "stdout",
     "output_type": "stream",
     "text": [
      "WARNING:tensorflow:From /usr/local/lib/python3.7/dist-packages/tensorflow/python/training/training_util.py:236: Variable.initialized_value (from tensorflow.python.ops.variables) is deprecated and will be removed in a future version.\n",
      "Instructions for updating:\n",
      "Use Variable.read_value. Variables in 2.X are initialized automatically both in eager and graph (inside tf.defun) contexts.\n"
     ]
    },
    {
     "name": "stderr",
     "output_type": "stream",
     "text": [
      "WARNING:tensorflow:From /usr/local/lib/python3.7/dist-packages/tensorflow/python/training/training_util.py:236: Variable.initialized_value (from tensorflow.python.ops.variables) is deprecated and will be removed in a future version.\n",
      "Instructions for updating:\n",
      "Use Variable.read_value. Variables in 2.X are initialized automatically both in eager and graph (inside tf.defun) contexts.\n"
     ]
    },
    {
     "name": "stdout",
     "output_type": "stream",
     "text": [
      "INFO:tensorflow:Calling model_fn.\n"
     ]
    },
    {
     "name": "stderr",
     "output_type": "stream",
     "text": [
      "INFO:tensorflow:Calling model_fn.\n"
     ]
    },
    {
     "name": "stdout",
     "output_type": "stream",
     "text": [
      "INFO:tensorflow:Done calling model_fn.\n"
     ]
    },
    {
     "name": "stderr",
     "output_type": "stream",
     "text": [
      "INFO:tensorflow:Done calling model_fn.\n"
     ]
    },
    {
     "name": "stdout",
     "output_type": "stream",
     "text": [
      "INFO:tensorflow:Create CheckpointSaverHook.\n"
     ]
    },
    {
     "name": "stderr",
     "output_type": "stream",
     "text": [
      "INFO:tensorflow:Create CheckpointSaverHook.\n"
     ]
    },
    {
     "name": "stdout",
     "output_type": "stream",
     "text": [
      "WARNING:tensorflow:Issue encountered when serializing resources.\n",
      "Type is unsupported, or the types of the items don't match field type in CollectionDef. Note this is a warning and probably safe to ignore.\n",
      "'_Resource' object has no attribute 'name'\n"
     ]
    },
    {
     "name": "stderr",
     "output_type": "stream",
     "text": [
      "WARNING:tensorflow:Issue encountered when serializing resources.\n",
      "Type is unsupported, or the types of the items don't match field type in CollectionDef. Note this is a warning and probably safe to ignore.\n",
      "'_Resource' object has no attribute 'name'\n"
     ]
    },
    {
     "name": "stdout",
     "output_type": "stream",
     "text": [
      "INFO:tensorflow:Graph was finalized.\n"
     ]
    },
    {
     "name": "stderr",
     "output_type": "stream",
     "text": [
      "INFO:tensorflow:Graph was finalized.\n"
     ]
    },
    {
     "name": "stdout",
     "output_type": "stream",
     "text": [
      "INFO:tensorflow:Running local_init_op.\n"
     ]
    },
    {
     "name": "stderr",
     "output_type": "stream",
     "text": [
      "INFO:tensorflow:Running local_init_op.\n"
     ]
    },
    {
     "name": "stdout",
     "output_type": "stream",
     "text": [
      "INFO:tensorflow:Done running local_init_op.\n"
     ]
    },
    {
     "name": "stderr",
     "output_type": "stream",
     "text": [
      "INFO:tensorflow:Done running local_init_op.\n"
     ]
    },
    {
     "name": "stdout",
     "output_type": "stream",
     "text": [
      "WARNING:tensorflow:Issue encountered when serializing resources.\n",
      "Type is unsupported, or the types of the items don't match field type in CollectionDef. Note this is a warning and probably safe to ignore.\n",
      "'_Resource' object has no attribute 'name'\n"
     ]
    },
    {
     "name": "stderr",
     "output_type": "stream",
     "text": [
      "WARNING:tensorflow:Issue encountered when serializing resources.\n",
      "Type is unsupported, or the types of the items don't match field type in CollectionDef. Note this is a warning and probably safe to ignore.\n",
      "'_Resource' object has no attribute 'name'\n"
     ]
    },
    {
     "name": "stdout",
     "output_type": "stream",
     "text": [
      "INFO:tensorflow:Calling checkpoint listeners before saving checkpoint 0...\n"
     ]
    },
    {
     "name": "stderr",
     "output_type": "stream",
     "text": [
      "INFO:tensorflow:Calling checkpoint listeners before saving checkpoint 0...\n"
     ]
    },
    {
     "name": "stdout",
     "output_type": "stream",
     "text": [
      "INFO:tensorflow:Saving checkpoints for 0 into /tmp/tmpmnww2o8f/model.ckpt.\n"
     ]
    },
    {
     "name": "stderr",
     "output_type": "stream",
     "text": [
      "INFO:tensorflow:Saving checkpoints for 0 into /tmp/tmpmnww2o8f/model.ckpt.\n"
     ]
    },
    {
     "name": "stdout",
     "output_type": "stream",
     "text": [
      "WARNING:tensorflow:Issue encountered when serializing resources.\n",
      "Type is unsupported, or the types of the items don't match field type in CollectionDef. Note this is a warning and probably safe to ignore.\n",
      "'_Resource' object has no attribute 'name'\n"
     ]
    },
    {
     "name": "stderr",
     "output_type": "stream",
     "text": [
      "WARNING:tensorflow:Issue encountered when serializing resources.\n",
      "Type is unsupported, or the types of the items don't match field type in CollectionDef. Note this is a warning and probably safe to ignore.\n",
      "'_Resource' object has no attribute 'name'\n"
     ]
    },
    {
     "name": "stdout",
     "output_type": "stream",
     "text": [
      "INFO:tensorflow:Calling checkpoint listeners after saving checkpoint 0...\n"
     ]
    },
    {
     "name": "stderr",
     "output_type": "stream",
     "text": [
      "INFO:tensorflow:Calling checkpoint listeners after saving checkpoint 0...\n"
     ]
    },
    {
     "name": "stdout",
     "output_type": "stream",
     "text": [
      "INFO:tensorflow:loss = 0.6931462, step = 0\n"
     ]
    },
    {
     "name": "stderr",
     "output_type": "stream",
     "text": [
      "INFO:tensorflow:loss = 0.6931462, step = 0\n"
     ]
    },
    {
     "name": "stdout",
     "output_type": "stream",
     "text": [
      "WARNING:tensorflow:It seems that global step (tf.train.get_global_step) has not been increased. Current value (could be stable): 0 vs previous value: 0. You could increase the global step by passing tf.train.get_global_step() to Optimizer.apply_gradients or Optimizer.minimize.\n"
     ]
    },
    {
     "name": "stderr",
     "output_type": "stream",
     "text": [
      "WARNING:tensorflow:It seems that global step (tf.train.get_global_step) has not been increased. Current value (could be stable): 0 vs previous value: 0. You could increase the global step by passing tf.train.get_global_step() to Optimizer.apply_gradients or Optimizer.minimize.\n"
     ]
    },
    {
     "name": "stdout",
     "output_type": "stream",
     "text": [
      "INFO:tensorflow:global_step/sec: 16.6086\n"
     ]
    },
    {
     "name": "stderr",
     "output_type": "stream",
     "text": [
      "INFO:tensorflow:global_step/sec: 16.6086\n"
     ]
    },
    {
     "name": "stdout",
     "output_type": "stream",
     "text": [
      "INFO:tensorflow:loss = 0.027800124, step = 99 (6.028 sec)\n"
     ]
    },
    {
     "name": "stderr",
     "output_type": "stream",
     "text": [
      "INFO:tensorflow:loss = 0.027800124, step = 99 (6.028 sec)\n"
     ]
    },
    {
     "name": "stdout",
     "output_type": "stream",
     "text": [
      "INFO:tensorflow:Calling checkpoint listeners before saving checkpoint 100...\n"
     ]
    },
    {
     "name": "stderr",
     "output_type": "stream",
     "text": [
      "INFO:tensorflow:Calling checkpoint listeners before saving checkpoint 100...\n"
     ]
    },
    {
     "name": "stdout",
     "output_type": "stream",
     "text": [
      "INFO:tensorflow:Saving checkpoints for 100 into /tmp/tmpmnww2o8f/model.ckpt.\n"
     ]
    },
    {
     "name": "stderr",
     "output_type": "stream",
     "text": [
      "INFO:tensorflow:Saving checkpoints for 100 into /tmp/tmpmnww2o8f/model.ckpt.\n"
     ]
    },
    {
     "name": "stdout",
     "output_type": "stream",
     "text": [
      "WARNING:tensorflow:Issue encountered when serializing resources.\n",
      "Type is unsupported, or the types of the items don't match field type in CollectionDef. Note this is a warning and probably safe to ignore.\n",
      "'_Resource' object has no attribute 'name'\n"
     ]
    },
    {
     "name": "stderr",
     "output_type": "stream",
     "text": [
      "WARNING:tensorflow:Issue encountered when serializing resources.\n",
      "Type is unsupported, or the types of the items don't match field type in CollectionDef. Note this is a warning and probably safe to ignore.\n",
      "'_Resource' object has no attribute 'name'\n"
     ]
    },
    {
     "name": "stdout",
     "output_type": "stream",
     "text": [
      "INFO:tensorflow:Calling checkpoint listeners after saving checkpoint 100...\n"
     ]
    },
    {
     "name": "stderr",
     "output_type": "stream",
     "text": [
      "INFO:tensorflow:Calling checkpoint listeners after saving checkpoint 100...\n"
     ]
    },
    {
     "name": "stdout",
     "output_type": "stream",
     "text": [
      "INFO:tensorflow:Loss for final step: 0.027800124.\n"
     ]
    },
    {
     "name": "stderr",
     "output_type": "stream",
     "text": [
      "INFO:tensorflow:Loss for final step: 0.027800124.\n"
     ]
    },
    {
     "name": "stdout",
     "output_type": "stream",
     "text": [
      "INFO:tensorflow:Calling model_fn.\n"
     ]
    },
    {
     "name": "stderr",
     "output_type": "stream",
     "text": [
      "INFO:tensorflow:Calling model_fn.\n"
     ]
    },
    {
     "name": "stdout",
     "output_type": "stream",
     "text": [
      "WARNING:tensorflow:From /usr/local/lib/python3.7/dist-packages/tensorflow_estimator/python/estimator/canned/head.py:642: auc (from tensorflow.python.ops.metrics_impl) is deprecated and will be removed in a future version.\n",
      "Instructions for updating:\n",
      "The value of AUC returned by this may race with the update so this is deprecated. Please use tf.keras.metrics.AUC instead.\n"
     ]
    },
    {
     "name": "stderr",
     "output_type": "stream",
     "text": [
      "WARNING:tensorflow:From /usr/local/lib/python3.7/dist-packages/tensorflow_estimator/python/estimator/canned/head.py:642: auc (from tensorflow.python.ops.metrics_impl) is deprecated and will be removed in a future version.\n",
      "Instructions for updating:\n",
      "The value of AUC returned by this may race with the update so this is deprecated. Please use tf.keras.metrics.AUC instead.\n"
     ]
    },
    {
     "name": "stdout",
     "output_type": "stream",
     "text": [
      "WARNING:tensorflow:Trapezoidal rule is known to produce incorrect PR-AUCs; please switch to \"careful_interpolation\" instead.\n"
     ]
    },
    {
     "name": "stderr",
     "output_type": "stream",
     "text": [
      "WARNING:tensorflow:Trapezoidal rule is known to produce incorrect PR-AUCs; please switch to \"careful_interpolation\" instead.\n"
     ]
    },
    {
     "name": "stdout",
     "output_type": "stream",
     "text": [
      "WARNING:tensorflow:Trapezoidal rule is known to produce incorrect PR-AUCs; please switch to \"careful_interpolation\" instead.\n"
     ]
    },
    {
     "name": "stderr",
     "output_type": "stream",
     "text": [
      "WARNING:tensorflow:Trapezoidal rule is known to produce incorrect PR-AUCs; please switch to \"careful_interpolation\" instead.\n"
     ]
    },
    {
     "name": "stdout",
     "output_type": "stream",
     "text": [
      "INFO:tensorflow:Done calling model_fn.\n"
     ]
    },
    {
     "name": "stderr",
     "output_type": "stream",
     "text": [
      "INFO:tensorflow:Done calling model_fn.\n"
     ]
    },
    {
     "name": "stdout",
     "output_type": "stream",
     "text": [
      "INFO:tensorflow:Starting evaluation at 2021-04-15T16:42:12Z\n"
     ]
    },
    {
     "name": "stderr",
     "output_type": "stream",
     "text": [
      "INFO:tensorflow:Starting evaluation at 2021-04-15T16:42:12Z\n"
     ]
    },
    {
     "name": "stdout",
     "output_type": "stream",
     "text": [
      "INFO:tensorflow:Graph was finalized.\n"
     ]
    },
    {
     "name": "stderr",
     "output_type": "stream",
     "text": [
      "INFO:tensorflow:Graph was finalized.\n"
     ]
    },
    {
     "name": "stdout",
     "output_type": "stream",
     "text": [
      "INFO:tensorflow:Restoring parameters from /tmp/tmpmnww2o8f/model.ckpt-100\n"
     ]
    },
    {
     "name": "stderr",
     "output_type": "stream",
     "text": [
      "INFO:tensorflow:Restoring parameters from /tmp/tmpmnww2o8f/model.ckpt-100\n"
     ]
    },
    {
     "name": "stdout",
     "output_type": "stream",
     "text": [
      "INFO:tensorflow:Running local_init_op.\n"
     ]
    },
    {
     "name": "stderr",
     "output_type": "stream",
     "text": [
      "INFO:tensorflow:Running local_init_op.\n"
     ]
    },
    {
     "name": "stdout",
     "output_type": "stream",
     "text": [
      "INFO:tensorflow:Done running local_init_op.\n"
     ]
    },
    {
     "name": "stderr",
     "output_type": "stream",
     "text": [
      "INFO:tensorflow:Done running local_init_op.\n"
     ]
    },
    {
     "name": "stdout",
     "output_type": "stream",
     "text": [
      "INFO:tensorflow:Inference Time : 0.72605s\n"
     ]
    },
    {
     "name": "stderr",
     "output_type": "stream",
     "text": [
      "INFO:tensorflow:Inference Time : 0.72605s\n"
     ]
    },
    {
     "name": "stdout",
     "output_type": "stream",
     "text": [
      "INFO:tensorflow:Finished evaluation at 2021-04-15-16:42:12\n"
     ]
    },
    {
     "name": "stderr",
     "output_type": "stream",
     "text": [
      "INFO:tensorflow:Finished evaluation at 2021-04-15-16:42:12\n"
     ]
    },
    {
     "name": "stdout",
     "output_type": "stream",
     "text": [
      "INFO:tensorflow:Saving dict for global step 100: accuracy = 0.99352115, accuracy_baseline = 0.99352115, auc = 0.5387816, auc_precision_recall = 0.012158717, average_loss = 0.04209394, global_step = 100, label/mean = 0.006478873, loss = 0.044526733, precision = 0.0, prediction/mean = 0.0055356896, recall = 0.0\n"
     ]
    },
    {
     "name": "stderr",
     "output_type": "stream",
     "text": [
      "INFO:tensorflow:Saving dict for global step 100: accuracy = 0.99352115, accuracy_baseline = 0.99352115, auc = 0.5387816, auc_precision_recall = 0.012158717, average_loss = 0.04209394, global_step = 100, label/mean = 0.006478873, loss = 0.044526733, precision = 0.0, prediction/mean = 0.0055356896, recall = 0.0\n"
     ]
    },
    {
     "name": "stdout",
     "output_type": "stream",
     "text": [
      "WARNING:tensorflow:Issue encountered when serializing resources.\n",
      "Type is unsupported, or the types of the items don't match field type in CollectionDef. Note this is a warning and probably safe to ignore.\n",
      "'_Resource' object has no attribute 'name'\n"
     ]
    },
    {
     "name": "stderr",
     "output_type": "stream",
     "text": [
      "WARNING:tensorflow:Issue encountered when serializing resources.\n",
      "Type is unsupported, or the types of the items don't match field type in CollectionDef. Note this is a warning and probably safe to ignore.\n",
      "'_Resource' object has no attribute 'name'\n"
     ]
    },
    {
     "name": "stdout",
     "output_type": "stream",
     "text": [
      "INFO:tensorflow:Saving 'checkpoint_path' summary for global step 100: /tmp/tmpmnww2o8f/model.ckpt-100\n"
     ]
    },
    {
     "name": "stderr",
     "output_type": "stream",
     "text": [
      "INFO:tensorflow:Saving 'checkpoint_path' summary for global step 100: /tmp/tmpmnww2o8f/model.ckpt-100\n"
     ]
    },
    {
     "data": {
      "text/html": [
       "<div>\n",
       "<style scoped>\n",
       "    .dataframe tbody tr th:only-of-type {\n",
       "        vertical-align: middle;\n",
       "    }\n",
       "\n",
       "    .dataframe tbody tr th {\n",
       "        vertical-align: top;\n",
       "    }\n",
       "\n",
       "    .dataframe thead th {\n",
       "        text-align: right;\n",
       "    }\n",
       "</style>\n",
       "<table border=\"1\" class=\"dataframe\">\n",
       "  <thead>\n",
       "    <tr style=\"text-align: right;\">\n",
       "      <th></th>\n",
       "      <th>0</th>\n",
       "    </tr>\n",
       "  </thead>\n",
       "  <tbody>\n",
       "    <tr>\n",
       "      <th>accuracy</th>\n",
       "      <td>0.993521</td>\n",
       "    </tr>\n",
       "    <tr>\n",
       "      <th>accuracy_baseline</th>\n",
       "      <td>0.993521</td>\n",
       "    </tr>\n",
       "    <tr>\n",
       "      <th>auc</th>\n",
       "      <td>0.538782</td>\n",
       "    </tr>\n",
       "    <tr>\n",
       "      <th>auc_precision_recall</th>\n",
       "      <td>0.012159</td>\n",
       "    </tr>\n",
       "    <tr>\n",
       "      <th>average_loss</th>\n",
       "      <td>0.042094</td>\n",
       "    </tr>\n",
       "    <tr>\n",
       "      <th>label/mean</th>\n",
       "      <td>0.006479</td>\n",
       "    </tr>\n",
       "    <tr>\n",
       "      <th>loss</th>\n",
       "      <td>0.044527</td>\n",
       "    </tr>\n",
       "    <tr>\n",
       "      <th>precision</th>\n",
       "      <td>0.000000</td>\n",
       "    </tr>\n",
       "    <tr>\n",
       "      <th>prediction/mean</th>\n",
       "      <td>0.005536</td>\n",
       "    </tr>\n",
       "    <tr>\n",
       "      <th>recall</th>\n",
       "      <td>0.000000</td>\n",
       "    </tr>\n",
       "    <tr>\n",
       "      <th>global_step</th>\n",
       "      <td>100.000000</td>\n",
       "    </tr>\n",
       "  </tbody>\n",
       "</table>\n",
       "</div>"
      ],
      "text/plain": [
       "                               0\n",
       "accuracy                0.993521\n",
       "accuracy_baseline       0.993521\n",
       "auc                     0.538782\n",
       "auc_precision_recall    0.012159\n",
       "average_loss            0.042094\n",
       "label/mean              0.006479\n",
       "loss                    0.044527\n",
       "precision               0.000000\n",
       "prediction/mean         0.005536\n",
       "recall                  0.000000\n",
       "global_step           100.000000"
      ]
     },
     "execution_count": 26,
     "metadata": {
      "tags": []
     },
     "output_type": "execute_result"
    }
   ],
   "source": [
    "\n",
    "params = {\n",
    "  'n_trees': 50,\n",
    "  'max_depth': 3,\n",
    "  'n_batches_per_layer': 1,\n",
    "  # You must enable center_bias = True to get DFCs. This will force the model to\n",
    "  # make an initial prediction before using any features (e.g. use the mean of\n",
    "  # the training labels for regression or log odds for classification when\n",
    "  # using cross entropy loss).\n",
    "  'center_bias': True\n",
    "}\n",
    "\n",
    "est = tf.estimator.BoostedTreesClassifier(feature_columns, **params)\n",
    "# Train model.\n",
    "est.train(train_input_fn, max_steps=100)\n",
    "\n",
    "# Evaluation.\n",
    "results = est.evaluate(eval_input_fn)\n",
    "#clear_output()\n",
    "pd.Series(results).to_frame()"
   ]
  },
  {
   "cell_type": "markdown",
   "metadata": {
    "id": "BWZoJ3Kqy2Z5"
   },
   "source": [
    "For performance reasons, when your data fits in memory, we recommend use the arg train_in_memory=True in the tf.estimator.BoostedTreesClassifier function. However if training time is not of a concern or if you have a very large dataset and want to do distributed training, use the tf.estimator.BoostedTrees API shown above."
   ]
  },
  {
   "cell_type": "code",
   "execution_count": 27,
   "metadata": {
    "colab": {
     "base_uri": "https://localhost:8080/",
     "height": 1000
    },
    "executionInfo": {
     "elapsed": 12703,
     "status": "ok",
     "timestamp": 1618504940154,
     "user": {
      "displayName": "Nikhil Pereira",
      "photoUrl": "https://lh3.googleusercontent.com/-KmpYA79GZFM/AAAAAAAAAAI/AAAAAAAAAPs/M7RMlSus4Ck/s64/photo.jpg",
      "userId": "01764547955641237902"
     },
     "user_tz": 240
    },
    "id": "fI15DTcP76qc",
    "outputId": "df31978b-c024-49e3-b11f-f15c48926806"
   },
   "outputs": [
    {
     "name": "stdout",
     "output_type": "stream",
     "text": [
      "INFO:tensorflow:Using default config.\n"
     ]
    },
    {
     "name": "stderr",
     "output_type": "stream",
     "text": [
      "INFO:tensorflow:Using default config.\n"
     ]
    },
    {
     "name": "stdout",
     "output_type": "stream",
     "text": [
      "WARNING:tensorflow:Using temporary folder as model directory: /tmp/tmpu6fskq83\n"
     ]
    },
    {
     "name": "stderr",
     "output_type": "stream",
     "text": [
      "WARNING:tensorflow:Using temporary folder as model directory: /tmp/tmpu6fskq83\n"
     ]
    },
    {
     "name": "stdout",
     "output_type": "stream",
     "text": [
      "INFO:tensorflow:Using config: {'_model_dir': '/tmp/tmpu6fskq83', '_tf_random_seed': None, '_save_summary_steps': 100, '_save_checkpoints_steps': None, '_save_checkpoints_secs': 600, '_session_config': allow_soft_placement: true\n",
      "graph_options {\n",
      "  rewrite_options {\n",
      "    meta_optimizer_iterations: ONE\n",
      "  }\n",
      "}\n",
      ", '_keep_checkpoint_max': 5, '_keep_checkpoint_every_n_hours': 10000, '_log_step_count_steps': 100, '_train_distribute': None, '_device_fn': None, '_protocol': None, '_eval_distribute': None, '_experimental_distribute': None, '_experimental_max_worker_delay_secs': None, '_session_creation_timeout_secs': 7200, '_checkpoint_save_graph_def': True, '_service': None, '_cluster_spec': ClusterSpec({}), '_task_type': 'worker', '_task_id': 0, '_global_id_in_cluster': 0, '_master': '', '_evaluation_master': '', '_is_chief': True, '_num_ps_replicas': 0, '_num_worker_replicas': 1}\n"
     ]
    },
    {
     "name": "stderr",
     "output_type": "stream",
     "text": [
      "INFO:tensorflow:Using config: {'_model_dir': '/tmp/tmpu6fskq83', '_tf_random_seed': None, '_save_summary_steps': 100, '_save_checkpoints_steps': None, '_save_checkpoints_secs': 600, '_session_config': allow_soft_placement: true\n",
      "graph_options {\n",
      "  rewrite_options {\n",
      "    meta_optimizer_iterations: ONE\n",
      "  }\n",
      "}\n",
      ", '_keep_checkpoint_max': 5, '_keep_checkpoint_every_n_hours': 10000, '_log_step_count_steps': 100, '_train_distribute': None, '_device_fn': None, '_protocol': None, '_eval_distribute': None, '_experimental_distribute': None, '_experimental_max_worker_delay_secs': None, '_session_creation_timeout_secs': 7200, '_checkpoint_save_graph_def': True, '_service': None, '_cluster_spec': ClusterSpec({}), '_task_type': 'worker', '_task_id': 0, '_global_id_in_cluster': 0, '_master': '', '_evaluation_master': '', '_is_chief': True, '_num_ps_replicas': 0, '_num_worker_replicas': 1}\n"
     ]
    },
    {
     "name": "stdout",
     "output_type": "stream",
     "text": [
      "INFO:tensorflow:Calling model_fn.\n"
     ]
    },
    {
     "name": "stderr",
     "output_type": "stream",
     "text": [
      "INFO:tensorflow:Calling model_fn.\n"
     ]
    },
    {
     "name": "stdout",
     "output_type": "stream",
     "text": [
      "INFO:tensorflow:Done calling model_fn.\n"
     ]
    },
    {
     "name": "stderr",
     "output_type": "stream",
     "text": [
      "INFO:tensorflow:Done calling model_fn.\n"
     ]
    },
    {
     "name": "stdout",
     "output_type": "stream",
     "text": [
      "INFO:tensorflow:Create CheckpointSaverHook.\n"
     ]
    },
    {
     "name": "stderr",
     "output_type": "stream",
     "text": [
      "INFO:tensorflow:Create CheckpointSaverHook.\n"
     ]
    },
    {
     "name": "stdout",
     "output_type": "stream",
     "text": [
      "WARNING:tensorflow:Issue encountered when serializing resources.\n",
      "Type is unsupported, or the types of the items don't match field type in CollectionDef. Note this is a warning and probably safe to ignore.\n",
      "'_Resource' object has no attribute 'name'\n"
     ]
    },
    {
     "name": "stderr",
     "output_type": "stream",
     "text": [
      "WARNING:tensorflow:Issue encountered when serializing resources.\n",
      "Type is unsupported, or the types of the items don't match field type in CollectionDef. Note this is a warning and probably safe to ignore.\n",
      "'_Resource' object has no attribute 'name'\n"
     ]
    },
    {
     "name": "stdout",
     "output_type": "stream",
     "text": [
      "INFO:tensorflow:Graph was finalized.\n"
     ]
    },
    {
     "name": "stderr",
     "output_type": "stream",
     "text": [
      "INFO:tensorflow:Graph was finalized.\n"
     ]
    },
    {
     "name": "stdout",
     "output_type": "stream",
     "text": [
      "INFO:tensorflow:Running local_init_op.\n"
     ]
    },
    {
     "name": "stderr",
     "output_type": "stream",
     "text": [
      "INFO:tensorflow:Running local_init_op.\n"
     ]
    },
    {
     "name": "stdout",
     "output_type": "stream",
     "text": [
      "INFO:tensorflow:Done running local_init_op.\n"
     ]
    },
    {
     "name": "stderr",
     "output_type": "stream",
     "text": [
      "INFO:tensorflow:Done running local_init_op.\n"
     ]
    },
    {
     "name": "stdout",
     "output_type": "stream",
     "text": [
      "WARNING:tensorflow:Issue encountered when serializing resources.\n",
      "Type is unsupported, or the types of the items don't match field type in CollectionDef. Note this is a warning and probably safe to ignore.\n",
      "'_Resource' object has no attribute 'name'\n"
     ]
    },
    {
     "name": "stderr",
     "output_type": "stream",
     "text": [
      "WARNING:tensorflow:Issue encountered when serializing resources.\n",
      "Type is unsupported, or the types of the items don't match field type in CollectionDef. Note this is a warning and probably safe to ignore.\n",
      "'_Resource' object has no attribute 'name'\n"
     ]
    },
    {
     "name": "stdout",
     "output_type": "stream",
     "text": [
      "INFO:tensorflow:Calling checkpoint listeners before saving checkpoint 0...\n"
     ]
    },
    {
     "name": "stderr",
     "output_type": "stream",
     "text": [
      "INFO:tensorflow:Calling checkpoint listeners before saving checkpoint 0...\n"
     ]
    },
    {
     "name": "stdout",
     "output_type": "stream",
     "text": [
      "INFO:tensorflow:Saving checkpoints for 0 into /tmp/tmpu6fskq83/model.ckpt.\n"
     ]
    },
    {
     "name": "stderr",
     "output_type": "stream",
     "text": [
      "INFO:tensorflow:Saving checkpoints for 0 into /tmp/tmpu6fskq83/model.ckpt.\n"
     ]
    },
    {
     "name": "stdout",
     "output_type": "stream",
     "text": [
      "WARNING:tensorflow:Issue encountered when serializing resources.\n",
      "Type is unsupported, or the types of the items don't match field type in CollectionDef. Note this is a warning and probably safe to ignore.\n",
      "'_Resource' object has no attribute 'name'\n"
     ]
    },
    {
     "name": "stderr",
     "output_type": "stream",
     "text": [
      "WARNING:tensorflow:Issue encountered when serializing resources.\n",
      "Type is unsupported, or the types of the items don't match field type in CollectionDef. Note this is a warning and probably safe to ignore.\n",
      "'_Resource' object has no attribute 'name'\n"
     ]
    },
    {
     "name": "stdout",
     "output_type": "stream",
     "text": [
      "INFO:tensorflow:Calling checkpoint listeners after saving checkpoint 0...\n"
     ]
    },
    {
     "name": "stderr",
     "output_type": "stream",
     "text": [
      "INFO:tensorflow:Calling checkpoint listeners after saving checkpoint 0...\n"
     ]
    },
    {
     "name": "stdout",
     "output_type": "stream",
     "text": [
      "INFO:tensorflow:loss = 0.6931462, step = 0\n"
     ]
    },
    {
     "name": "stderr",
     "output_type": "stream",
     "text": [
      "INFO:tensorflow:loss = 0.6931462, step = 0\n"
     ]
    },
    {
     "name": "stdout",
     "output_type": "stream",
     "text": [
      "WARNING:tensorflow:It seems that global step (tf.train.get_global_step) has not been increased. Current value (could be stable): 0 vs previous value: 0. You could increase the global step by passing tf.train.get_global_step() to Optimizer.apply_gradients or Optimizer.minimize.\n"
     ]
    },
    {
     "name": "stderr",
     "output_type": "stream",
     "text": [
      "WARNING:tensorflow:It seems that global step (tf.train.get_global_step) has not been increased. Current value (could be stable): 0 vs previous value: 0. You could increase the global step by passing tf.train.get_global_step() to Optimizer.apply_gradients or Optimizer.minimize.\n"
     ]
    },
    {
     "name": "stdout",
     "output_type": "stream",
     "text": [
      "INFO:tensorflow:global_step/sec: 127.689\n"
     ]
    },
    {
     "name": "stderr",
     "output_type": "stream",
     "text": [
      "INFO:tensorflow:global_step/sec: 127.689\n"
     ]
    },
    {
     "name": "stdout",
     "output_type": "stream",
     "text": [
      "INFO:tensorflow:loss = 0.027800132, step = 99 (0.791 sec)\n"
     ]
    },
    {
     "name": "stderr",
     "output_type": "stream",
     "text": [
      "INFO:tensorflow:loss = 0.027800132, step = 99 (0.791 sec)\n"
     ]
    },
    {
     "name": "stdout",
     "output_type": "stream",
     "text": [
      "INFO:tensorflow:Calling checkpoint listeners before saving checkpoint 157...\n"
     ]
    },
    {
     "name": "stderr",
     "output_type": "stream",
     "text": [
      "INFO:tensorflow:Calling checkpoint listeners before saving checkpoint 157...\n"
     ]
    },
    {
     "name": "stdout",
     "output_type": "stream",
     "text": [
      "INFO:tensorflow:Saving checkpoints for 157 into /tmp/tmpu6fskq83/model.ckpt.\n"
     ]
    },
    {
     "name": "stderr",
     "output_type": "stream",
     "text": [
      "INFO:tensorflow:Saving checkpoints for 157 into /tmp/tmpu6fskq83/model.ckpt.\n"
     ]
    },
    {
     "name": "stdout",
     "output_type": "stream",
     "text": [
      "WARNING:tensorflow:Issue encountered when serializing resources.\n",
      "Type is unsupported, or the types of the items don't match field type in CollectionDef. Note this is a warning and probably safe to ignore.\n",
      "'_Resource' object has no attribute 'name'\n"
     ]
    },
    {
     "name": "stderr",
     "output_type": "stream",
     "text": [
      "WARNING:tensorflow:Issue encountered when serializing resources.\n",
      "Type is unsupported, or the types of the items don't match field type in CollectionDef. Note this is a warning and probably safe to ignore.\n",
      "'_Resource' object has no attribute 'name'\n"
     ]
    },
    {
     "name": "stdout",
     "output_type": "stream",
     "text": [
      "INFO:tensorflow:Calling checkpoint listeners after saving checkpoint 157...\n"
     ]
    },
    {
     "name": "stderr",
     "output_type": "stream",
     "text": [
      "INFO:tensorflow:Calling checkpoint listeners after saving checkpoint 157...\n"
     ]
    },
    {
     "name": "stdout",
     "output_type": "stream",
     "text": [
      "INFO:tensorflow:Loss for final step: 0.024551863.\n"
     ]
    },
    {
     "name": "stderr",
     "output_type": "stream",
     "text": [
      "INFO:tensorflow:Loss for final step: 0.024551863.\n"
     ]
    },
    {
     "name": "stdout",
     "output_type": "stream",
     "text": [
      "INFO:tensorflow:Calling model_fn.\n"
     ]
    },
    {
     "name": "stderr",
     "output_type": "stream",
     "text": [
      "INFO:tensorflow:Calling model_fn.\n"
     ]
    },
    {
     "name": "stdout",
     "output_type": "stream",
     "text": [
      "WARNING:tensorflow:Trapezoidal rule is known to produce incorrect PR-AUCs; please switch to \"careful_interpolation\" instead.\n"
     ]
    },
    {
     "name": "stderr",
     "output_type": "stream",
     "text": [
      "WARNING:tensorflow:Trapezoidal rule is known to produce incorrect PR-AUCs; please switch to \"careful_interpolation\" instead.\n"
     ]
    },
    {
     "name": "stdout",
     "output_type": "stream",
     "text": [
      "WARNING:tensorflow:Trapezoidal rule is known to produce incorrect PR-AUCs; please switch to \"careful_interpolation\" instead.\n"
     ]
    },
    {
     "name": "stderr",
     "output_type": "stream",
     "text": [
      "WARNING:tensorflow:Trapezoidal rule is known to produce incorrect PR-AUCs; please switch to \"careful_interpolation\" instead.\n"
     ]
    },
    {
     "name": "stdout",
     "output_type": "stream",
     "text": [
      "INFO:tensorflow:Done calling model_fn.\n"
     ]
    },
    {
     "name": "stderr",
     "output_type": "stream",
     "text": [
      "INFO:tensorflow:Done calling model_fn.\n"
     ]
    },
    {
     "name": "stdout",
     "output_type": "stream",
     "text": [
      "INFO:tensorflow:Starting evaluation at 2021-04-15T16:42:18Z\n"
     ]
    },
    {
     "name": "stderr",
     "output_type": "stream",
     "text": [
      "INFO:tensorflow:Starting evaluation at 2021-04-15T16:42:18Z\n"
     ]
    },
    {
     "name": "stdout",
     "output_type": "stream",
     "text": [
      "INFO:tensorflow:Graph was finalized.\n"
     ]
    },
    {
     "name": "stderr",
     "output_type": "stream",
     "text": [
      "INFO:tensorflow:Graph was finalized.\n"
     ]
    },
    {
     "name": "stdout",
     "output_type": "stream",
     "text": [
      "INFO:tensorflow:Restoring parameters from /tmp/tmpu6fskq83/model.ckpt-157\n"
     ]
    },
    {
     "name": "stderr",
     "output_type": "stream",
     "text": [
      "INFO:tensorflow:Restoring parameters from /tmp/tmpu6fskq83/model.ckpt-157\n"
     ]
    },
    {
     "name": "stdout",
     "output_type": "stream",
     "text": [
      "INFO:tensorflow:Running local_init_op.\n"
     ]
    },
    {
     "name": "stderr",
     "output_type": "stream",
     "text": [
      "INFO:tensorflow:Running local_init_op.\n"
     ]
    },
    {
     "name": "stdout",
     "output_type": "stream",
     "text": [
      "INFO:tensorflow:Done running local_init_op.\n"
     ]
    },
    {
     "name": "stderr",
     "output_type": "stream",
     "text": [
      "INFO:tensorflow:Done running local_init_op.\n"
     ]
    },
    {
     "name": "stdout",
     "output_type": "stream",
     "text": [
      "INFO:tensorflow:Inference Time : 0.73530s\n"
     ]
    },
    {
     "name": "stderr",
     "output_type": "stream",
     "text": [
      "INFO:tensorflow:Inference Time : 0.73530s\n"
     ]
    },
    {
     "name": "stdout",
     "output_type": "stream",
     "text": [
      "INFO:tensorflow:Finished evaluation at 2021-04-15-16:42:19\n"
     ]
    },
    {
     "name": "stderr",
     "output_type": "stream",
     "text": [
      "INFO:tensorflow:Finished evaluation at 2021-04-15-16:42:19\n"
     ]
    },
    {
     "name": "stdout",
     "output_type": "stream",
     "text": [
      "INFO:tensorflow:Saving dict for global step 157: accuracy = 0.99352115, accuracy_baseline = 0.99352115, auc = 0.5064472, auc_precision_recall = 0.008022227, average_loss = 0.045469895, global_step = 157, label/mean = 0.006478873, loss = 0.04771836, precision = 0.0, prediction/mean = 0.004890215, recall = 0.0\n"
     ]
    },
    {
     "name": "stderr",
     "output_type": "stream",
     "text": [
      "INFO:tensorflow:Saving dict for global step 157: accuracy = 0.99352115, accuracy_baseline = 0.99352115, auc = 0.5064472, auc_precision_recall = 0.008022227, average_loss = 0.045469895, global_step = 157, label/mean = 0.006478873, loss = 0.04771836, precision = 0.0, prediction/mean = 0.004890215, recall = 0.0\n"
     ]
    },
    {
     "name": "stdout",
     "output_type": "stream",
     "text": [
      "WARNING:tensorflow:Issue encountered when serializing resources.\n",
      "Type is unsupported, or the types of the items don't match field type in CollectionDef. Note this is a warning and probably safe to ignore.\n",
      "'_Resource' object has no attribute 'name'\n"
     ]
    },
    {
     "name": "stderr",
     "output_type": "stream",
     "text": [
      "WARNING:tensorflow:Issue encountered when serializing resources.\n",
      "Type is unsupported, or the types of the items don't match field type in CollectionDef. Note this is a warning and probably safe to ignore.\n",
      "'_Resource' object has no attribute 'name'\n"
     ]
    },
    {
     "name": "stdout",
     "output_type": "stream",
     "text": [
      "INFO:tensorflow:Saving 'checkpoint_path' summary for global step 157: /tmp/tmpu6fskq83/model.ckpt-157\n"
     ]
    },
    {
     "name": "stderr",
     "output_type": "stream",
     "text": [
      "INFO:tensorflow:Saving 'checkpoint_path' summary for global step 157: /tmp/tmpu6fskq83/model.ckpt-157\n"
     ]
    },
    {
     "data": {
      "text/html": [
       "<div>\n",
       "<style scoped>\n",
       "    .dataframe tbody tr th:only-of-type {\n",
       "        vertical-align: middle;\n",
       "    }\n",
       "\n",
       "    .dataframe tbody tr th {\n",
       "        vertical-align: top;\n",
       "    }\n",
       "\n",
       "    .dataframe thead th {\n",
       "        text-align: right;\n",
       "    }\n",
       "</style>\n",
       "<table border=\"1\" class=\"dataframe\">\n",
       "  <thead>\n",
       "    <tr style=\"text-align: right;\">\n",
       "      <th></th>\n",
       "      <th>0</th>\n",
       "    </tr>\n",
       "  </thead>\n",
       "  <tbody>\n",
       "    <tr>\n",
       "      <th>accuracy</th>\n",
       "      <td>0.993521</td>\n",
       "    </tr>\n",
       "    <tr>\n",
       "      <th>accuracy_baseline</th>\n",
       "      <td>0.993521</td>\n",
       "    </tr>\n",
       "    <tr>\n",
       "      <th>auc</th>\n",
       "      <td>0.506447</td>\n",
       "    </tr>\n",
       "    <tr>\n",
       "      <th>auc_precision_recall</th>\n",
       "      <td>0.008022</td>\n",
       "    </tr>\n",
       "    <tr>\n",
       "      <th>average_loss</th>\n",
       "      <td>0.045470</td>\n",
       "    </tr>\n",
       "    <tr>\n",
       "      <th>label/mean</th>\n",
       "      <td>0.006479</td>\n",
       "    </tr>\n",
       "    <tr>\n",
       "      <th>loss</th>\n",
       "      <td>0.047718</td>\n",
       "    </tr>\n",
       "    <tr>\n",
       "      <th>precision</th>\n",
       "      <td>0.000000</td>\n",
       "    </tr>\n",
       "    <tr>\n",
       "      <th>prediction/mean</th>\n",
       "      <td>0.004890</td>\n",
       "    </tr>\n",
       "    <tr>\n",
       "      <th>recall</th>\n",
       "      <td>0.000000</td>\n",
       "    </tr>\n",
       "    <tr>\n",
       "      <th>global_step</th>\n",
       "      <td>157.000000</td>\n",
       "    </tr>\n",
       "  </tbody>\n",
       "</table>\n",
       "</div>"
      ],
      "text/plain": [
       "                               0\n",
       "accuracy                0.993521\n",
       "accuracy_baseline       0.993521\n",
       "auc                     0.506447\n",
       "auc_precision_recall    0.008022\n",
       "average_loss            0.045470\n",
       "label/mean              0.006479\n",
       "loss                    0.047718\n",
       "precision               0.000000\n",
       "prediction/mean         0.004890\n",
       "recall                  0.000000\n",
       "global_step           157.000000"
      ]
     },
     "execution_count": 27,
     "metadata": {
      "tags": []
     },
     "output_type": "execute_result"
    }
   ],
   "source": [
    "in_memory_params = dict(params)\n",
    "in_memory_params['n_batches_per_layer'] = 1\n",
    "# In-memory input_fn does not use batching.\n",
    "def make_inmemory_train_input_fn(X, y):\n",
    "  y = np.expand_dims(y, axis=1)\n",
    "  def input_fn():\n",
    "    return dict(X), y\n",
    "  return input_fn\n",
    "train_input_fn = make_inmemory_train_input_fn(X_train, y_train) #Do we need to restrict to the questions?\n",
    "\n",
    "# Train the model.\n",
    "est = tf.estimator.BoostedTreesClassifier(\n",
    "    feature_columns, \n",
    "    train_in_memory=True, \n",
    "    **in_memory_params)\n",
    "\n",
    "est.train(train_input_fn)\n",
    "# Evaluation.\n",
    "results = est.evaluate(eval_input_fn)\n",
    "#clear_output()\n",
    "pd.Series(results).to_frame()"
   ]
  },
  {
   "cell_type": "code",
   "execution_count": 28,
   "metadata": {
    "colab": {
     "base_uri": "https://localhost:8080/"
    },
    "executionInfo": {
     "elapsed": 2805,
     "status": "ok",
     "timestamp": 1618504941686,
     "user": {
      "displayName": "Nikhil Pereira",
      "photoUrl": "https://lh3.googleusercontent.com/-KmpYA79GZFM/AAAAAAAAAAI/AAAAAAAAAPs/M7RMlSus4Ck/s64/photo.jpg",
      "userId": "01764547955641237902"
     },
     "user_tz": 240
    },
    "id": "QEfB1qEz4G8V",
    "outputId": "4321b6c9-ef3f-4fc9-a8d5-03401603c91e"
   },
   "outputs": [
    {
     "name": "stdout",
     "output_type": "stream",
     "text": [
      "INFO:tensorflow:Using config: {'_model_dir': '/tmp/tmpu6fskq83', '_tf_random_seed': None, '_save_summary_steps': 100, '_save_checkpoints_steps': None, '_save_checkpoints_secs': 600, '_session_config': allow_soft_placement: true\n",
      "graph_options {\n",
      "  rewrite_options {\n",
      "    meta_optimizer_iterations: ONE\n",
      "  }\n",
      "}\n",
      ", '_keep_checkpoint_max': 5, '_keep_checkpoint_every_n_hours': 10000, '_log_step_count_steps': 100, '_train_distribute': None, '_device_fn': None, '_protocol': None, '_eval_distribute': None, '_experimental_distribute': None, '_experimental_max_worker_delay_secs': None, '_session_creation_timeout_secs': 7200, '_checkpoint_save_graph_def': True, '_service': None, '_cluster_spec': ClusterSpec({}), '_task_type': 'worker', '_task_id': 0, '_global_id_in_cluster': 0, '_master': '', '_evaluation_master': '', '_is_chief': True, '_num_ps_replicas': 0, '_num_worker_replicas': 1}\n"
     ]
    },
    {
     "name": "stderr",
     "output_type": "stream",
     "text": [
      "INFO:tensorflow:Using config: {'_model_dir': '/tmp/tmpu6fskq83', '_tf_random_seed': None, '_save_summary_steps': 100, '_save_checkpoints_steps': None, '_save_checkpoints_secs': 600, '_session_config': allow_soft_placement: true\n",
      "graph_options {\n",
      "  rewrite_options {\n",
      "    meta_optimizer_iterations: ONE\n",
      "  }\n",
      "}\n",
      ", '_keep_checkpoint_max': 5, '_keep_checkpoint_every_n_hours': 10000, '_log_step_count_steps': 100, '_train_distribute': None, '_device_fn': None, '_protocol': None, '_eval_distribute': None, '_experimental_distribute': None, '_experimental_max_worker_delay_secs': None, '_session_creation_timeout_secs': 7200, '_checkpoint_save_graph_def': True, '_service': None, '_cluster_spec': ClusterSpec({}), '_task_type': 'worker', '_task_id': 0, '_global_id_in_cluster': 0, '_master': '', '_evaluation_master': '', '_is_chief': True, '_num_ps_replicas': 0, '_num_worker_replicas': 1}\n"
     ]
    },
    {
     "name": "stdout",
     "output_type": "stream",
     "text": [
      "INFO:tensorflow:Calling model_fn.\n"
     ]
    },
    {
     "name": "stderr",
     "output_type": "stream",
     "text": [
      "INFO:tensorflow:Calling model_fn.\n"
     ]
    },
    {
     "name": "stdout",
     "output_type": "stream",
     "text": [
      "INFO:tensorflow:Done calling model_fn.\n"
     ]
    },
    {
     "name": "stderr",
     "output_type": "stream",
     "text": [
      "INFO:tensorflow:Done calling model_fn.\n"
     ]
    },
    {
     "name": "stdout",
     "output_type": "stream",
     "text": [
      "INFO:tensorflow:Graph was finalized.\n"
     ]
    },
    {
     "name": "stderr",
     "output_type": "stream",
     "text": [
      "INFO:tensorflow:Graph was finalized.\n"
     ]
    },
    {
     "name": "stdout",
     "output_type": "stream",
     "text": [
      "INFO:tensorflow:Restoring parameters from /tmp/tmpu6fskq83/model.ckpt-157\n"
     ]
    },
    {
     "name": "stderr",
     "output_type": "stream",
     "text": [
      "INFO:tensorflow:Restoring parameters from /tmp/tmpu6fskq83/model.ckpt-157\n"
     ]
    },
    {
     "name": "stdout",
     "output_type": "stream",
     "text": [
      "INFO:tensorflow:Running local_init_op.\n"
     ]
    },
    {
     "name": "stderr",
     "output_type": "stream",
     "text": [
      "INFO:tensorflow:Running local_init_op.\n"
     ]
    },
    {
     "name": "stdout",
     "output_type": "stream",
     "text": [
      "INFO:tensorflow:Done running local_init_op.\n"
     ]
    },
    {
     "name": "stderr",
     "output_type": "stream",
     "text": [
      "INFO:tensorflow:Done running local_init_op.\n"
     ]
    }
   ],
   "source": [
    "import matplotlib.pyplot as plt\n",
    "import seaborn as sns\n",
    "sns_colors = sns.color_palette('colorblind')\n",
    "pred_dicts = list(est.experimental_predict_with_explanations(eval_input_fn))"
   ]
  },
  {
   "cell_type": "markdown",
   "metadata": {
    "id": "8tjuU-QvzDWk"
   },
   "source": [
    "# Feature Importance and Model Interpretability"
   ]
  },
  {
   "cell_type": "code",
   "execution_count": 29,
   "metadata": {
    "executionInfo": {
     "elapsed": 454,
     "status": "ok",
     "timestamp": 1618504943238,
     "user": {
      "displayName": "Nikhil Pereira",
      "photoUrl": "https://lh3.googleusercontent.com/-KmpYA79GZFM/AAAAAAAAAAI/AAAAAAAAAPs/M7RMlSus4Ck/s64/photo.jpg",
      "userId": "01764547955641237902"
     },
     "user_tz": 240
    },
    "id": "E2zYauIncmRV"
   },
   "outputs": [],
   "source": [
    "importances = est.experimental_feature_importances(normalize=True)\n",
    "df_imp = pd.Series(importances)"
   ]
  },
  {
   "cell_type": "markdown",
   "metadata": {
    "id": "dAqxTmEAzZM8"
   },
   "source": [
    "# Plot Feature Importance"
   ]
  },
  {
   "cell_type": "code",
   "execution_count": 30,
   "metadata": {
    "colab": {
     "base_uri": "https://localhost:8080/",
     "height": 1000
    },
    "executionInfo": {
     "elapsed": 3244,
     "status": "ok",
     "timestamp": 1618504947976,
     "user": {
      "displayName": "Nikhil Pereira",
      "photoUrl": "https://lh3.googleusercontent.com/-KmpYA79GZFM/AAAAAAAAAAI/AAAAAAAAAPs/M7RMlSus4Ck/s64/photo.jpg",
      "userId": "01764547955641237902"
     },
     "user_tz": 240
    },
    "id": "d_Fo0zFy1PFW",
    "outputId": "241c3205-92fa-4501-cacf-b91d4487f3ba"
   },
   "outputs": [
    {
     "data": {
      "application/vnd.plotly.v1+json": {
       "config": {
        "linkText": "Export to plot.ly",
        "plotlyServerURL": "https://plot.ly",
        "showLink": false
       },
       "data": [
        {
         "marker": {
          "color": [
           0.10365476775150081,
           0.10336164933724815,
           0.09708518389200492,
           0.09671638642192526,
           0.0611641066480373,
           0.0607541143906054,
           0.05791303163322474,
           0.05088689253988104,
           0.05010173214329287,
           0.044508262276615446,
           0.04431934802387109,
           0.04307227438774795,
           0.04072484330858153,
           0.037949815675398034,
           0.03749373633380431,
           0.024611492314532458,
           0.023595522812949337,
           0.01488422866996023,
           0.00720261143881912
          ],
          "colorscale": [
           [
            0,
            "rgb(12,51,131)"
           ],
           [
            0.25,
            "rgb(10,136,186)"
           ],
           [
            0.5,
            "rgb(242,211,56)"
           ],
           [
            0.75,
            "rgb(242,143,56)"
           ],
           [
            1,
            "rgb(217,30,30)"
           ]
          ],
          "showscale": true,
          "size": 13,
          "sizemode": "diameter",
          "sizeref": 1
         },
         "mode": "markers",
         "text": [
          "0",
          "1",
          "2",
          "3",
          "4",
          "5",
          "6",
          "7",
          "8",
          "9",
          "10",
          "11",
          "12",
          "13",
          "14",
          "15",
          "16",
          "17",
          "18"
         ],
         "type": "scatter",
         "x": [
          "13",
          "1",
          "18",
          "14",
          "12",
          "7",
          "4",
          "17",
          "16",
          "8",
          "6",
          "5",
          "2",
          "3",
          "11",
          "9",
          "0",
          "15",
          "10"
         ],
         "y": [
          0.10365476775150081,
          0.10336164933724815,
          0.09708518389200492,
          0.09671638642192526,
          0.0611641066480373,
          0.0607541143906054,
          0.05791303163322474,
          0.05088689253988104,
          0.05010173214329287,
          0.044508262276615446,
          0.04431934802387109,
          0.04307227438774795,
          0.04072484330858153,
          0.037949815675398034,
          0.03749373633380431,
          0.024611492314532458,
          0.023595522812949337,
          0.01488422866996023,
          0.00720261143881912
         ]
        }
       ],
       "layout": {
        "autosize": true,
        "hovermode": "closest",
        "showlegend": false,
        "template": {
         "data": {
          "bar": [
           {
            "error_x": {
             "color": "#2a3f5f"
            },
            "error_y": {
             "color": "#2a3f5f"
            },
            "marker": {
             "line": {
              "color": "#E5ECF6",
              "width": 0.5
             }
            },
            "type": "bar"
           }
          ],
          "barpolar": [
           {
            "marker": {
             "line": {
              "color": "#E5ECF6",
              "width": 0.5
             }
            },
            "type": "barpolar"
           }
          ],
          "carpet": [
           {
            "aaxis": {
             "endlinecolor": "#2a3f5f",
             "gridcolor": "white",
             "linecolor": "white",
             "minorgridcolor": "white",
             "startlinecolor": "#2a3f5f"
            },
            "baxis": {
             "endlinecolor": "#2a3f5f",
             "gridcolor": "white",
             "linecolor": "white",
             "minorgridcolor": "white",
             "startlinecolor": "#2a3f5f"
            },
            "type": "carpet"
           }
          ],
          "choropleth": [
           {
            "colorbar": {
             "outlinewidth": 0,
             "ticks": ""
            },
            "type": "choropleth"
           }
          ],
          "contour": [
           {
            "colorbar": {
             "outlinewidth": 0,
             "ticks": ""
            },
            "colorscale": [
             [
              0,
              "#0d0887"
             ],
             [
              0.1111111111111111,
              "#46039f"
             ],
             [
              0.2222222222222222,
              "#7201a8"
             ],
             [
              0.3333333333333333,
              "#9c179e"
             ],
             [
              0.4444444444444444,
              "#bd3786"
             ],
             [
              0.5555555555555556,
              "#d8576b"
             ],
             [
              0.6666666666666666,
              "#ed7953"
             ],
             [
              0.7777777777777778,
              "#fb9f3a"
             ],
             [
              0.8888888888888888,
              "#fdca26"
             ],
             [
              1,
              "#f0f921"
             ]
            ],
            "type": "contour"
           }
          ],
          "contourcarpet": [
           {
            "colorbar": {
             "outlinewidth": 0,
             "ticks": ""
            },
            "type": "contourcarpet"
           }
          ],
          "heatmap": [
           {
            "colorbar": {
             "outlinewidth": 0,
             "ticks": ""
            },
            "colorscale": [
             [
              0,
              "#0d0887"
             ],
             [
              0.1111111111111111,
              "#46039f"
             ],
             [
              0.2222222222222222,
              "#7201a8"
             ],
             [
              0.3333333333333333,
              "#9c179e"
             ],
             [
              0.4444444444444444,
              "#bd3786"
             ],
             [
              0.5555555555555556,
              "#d8576b"
             ],
             [
              0.6666666666666666,
              "#ed7953"
             ],
             [
              0.7777777777777778,
              "#fb9f3a"
             ],
             [
              0.8888888888888888,
              "#fdca26"
             ],
             [
              1,
              "#f0f921"
             ]
            ],
            "type": "heatmap"
           }
          ],
          "heatmapgl": [
           {
            "colorbar": {
             "outlinewidth": 0,
             "ticks": ""
            },
            "colorscale": [
             [
              0,
              "#0d0887"
             ],
             [
              0.1111111111111111,
              "#46039f"
             ],
             [
              0.2222222222222222,
              "#7201a8"
             ],
             [
              0.3333333333333333,
              "#9c179e"
             ],
             [
              0.4444444444444444,
              "#bd3786"
             ],
             [
              0.5555555555555556,
              "#d8576b"
             ],
             [
              0.6666666666666666,
              "#ed7953"
             ],
             [
              0.7777777777777778,
              "#fb9f3a"
             ],
             [
              0.8888888888888888,
              "#fdca26"
             ],
             [
              1,
              "#f0f921"
             ]
            ],
            "type": "heatmapgl"
           }
          ],
          "histogram": [
           {
            "marker": {
             "colorbar": {
              "outlinewidth": 0,
              "ticks": ""
             }
            },
            "type": "histogram"
           }
          ],
          "histogram2d": [
           {
            "colorbar": {
             "outlinewidth": 0,
             "ticks": ""
            },
            "colorscale": [
             [
              0,
              "#0d0887"
             ],
             [
              0.1111111111111111,
              "#46039f"
             ],
             [
              0.2222222222222222,
              "#7201a8"
             ],
             [
              0.3333333333333333,
              "#9c179e"
             ],
             [
              0.4444444444444444,
              "#bd3786"
             ],
             [
              0.5555555555555556,
              "#d8576b"
             ],
             [
              0.6666666666666666,
              "#ed7953"
             ],
             [
              0.7777777777777778,
              "#fb9f3a"
             ],
             [
              0.8888888888888888,
              "#fdca26"
             ],
             [
              1,
              "#f0f921"
             ]
            ],
            "type": "histogram2d"
           }
          ],
          "histogram2dcontour": [
           {
            "colorbar": {
             "outlinewidth": 0,
             "ticks": ""
            },
            "colorscale": [
             [
              0,
              "#0d0887"
             ],
             [
              0.1111111111111111,
              "#46039f"
             ],
             [
              0.2222222222222222,
              "#7201a8"
             ],
             [
              0.3333333333333333,
              "#9c179e"
             ],
             [
              0.4444444444444444,
              "#bd3786"
             ],
             [
              0.5555555555555556,
              "#d8576b"
             ],
             [
              0.6666666666666666,
              "#ed7953"
             ],
             [
              0.7777777777777778,
              "#fb9f3a"
             ],
             [
              0.8888888888888888,
              "#fdca26"
             ],
             [
              1,
              "#f0f921"
             ]
            ],
            "type": "histogram2dcontour"
           }
          ],
          "mesh3d": [
           {
            "colorbar": {
             "outlinewidth": 0,
             "ticks": ""
            },
            "type": "mesh3d"
           }
          ],
          "parcoords": [
           {
            "line": {
             "colorbar": {
              "outlinewidth": 0,
              "ticks": ""
             }
            },
            "type": "parcoords"
           }
          ],
          "pie": [
           {
            "automargin": true,
            "type": "pie"
           }
          ],
          "scatter": [
           {
            "marker": {
             "colorbar": {
              "outlinewidth": 0,
              "ticks": ""
             }
            },
            "type": "scatter"
           }
          ],
          "scatter3d": [
           {
            "line": {
             "colorbar": {
              "outlinewidth": 0,
              "ticks": ""
             }
            },
            "marker": {
             "colorbar": {
              "outlinewidth": 0,
              "ticks": ""
             }
            },
            "type": "scatter3d"
           }
          ],
          "scattercarpet": [
           {
            "marker": {
             "colorbar": {
              "outlinewidth": 0,
              "ticks": ""
             }
            },
            "type": "scattercarpet"
           }
          ],
          "scattergeo": [
           {
            "marker": {
             "colorbar": {
              "outlinewidth": 0,
              "ticks": ""
             }
            },
            "type": "scattergeo"
           }
          ],
          "scattergl": [
           {
            "marker": {
             "colorbar": {
              "outlinewidth": 0,
              "ticks": ""
             }
            },
            "type": "scattergl"
           }
          ],
          "scattermapbox": [
           {
            "marker": {
             "colorbar": {
              "outlinewidth": 0,
              "ticks": ""
             }
            },
            "type": "scattermapbox"
           }
          ],
          "scatterpolar": [
           {
            "marker": {
             "colorbar": {
              "outlinewidth": 0,
              "ticks": ""
             }
            },
            "type": "scatterpolar"
           }
          ],
          "scatterpolargl": [
           {
            "marker": {
             "colorbar": {
              "outlinewidth": 0,
              "ticks": ""
             }
            },
            "type": "scatterpolargl"
           }
          ],
          "scatterternary": [
           {
            "marker": {
             "colorbar": {
              "outlinewidth": 0,
              "ticks": ""
             }
            },
            "type": "scatterternary"
           }
          ],
          "surface": [
           {
            "colorbar": {
             "outlinewidth": 0,
             "ticks": ""
            },
            "colorscale": [
             [
              0,
              "#0d0887"
             ],
             [
              0.1111111111111111,
              "#46039f"
             ],
             [
              0.2222222222222222,
              "#7201a8"
             ],
             [
              0.3333333333333333,
              "#9c179e"
             ],
             [
              0.4444444444444444,
              "#bd3786"
             ],
             [
              0.5555555555555556,
              "#d8576b"
             ],
             [
              0.6666666666666666,
              "#ed7953"
             ],
             [
              0.7777777777777778,
              "#fb9f3a"
             ],
             [
              0.8888888888888888,
              "#fdca26"
             ],
             [
              1,
              "#f0f921"
             ]
            ],
            "type": "surface"
           }
          ],
          "table": [
           {
            "cells": {
             "fill": {
              "color": "#EBF0F8"
             },
             "line": {
              "color": "white"
             }
            },
            "header": {
             "fill": {
              "color": "#C8D4E3"
             },
             "line": {
              "color": "white"
             }
            },
            "type": "table"
           }
          ]
         },
         "layout": {
          "annotationdefaults": {
           "arrowcolor": "#2a3f5f",
           "arrowhead": 0,
           "arrowwidth": 1
          },
          "coloraxis": {
           "colorbar": {
            "outlinewidth": 0,
            "ticks": ""
           }
          },
          "colorscale": {
           "diverging": [
            [
             0,
             "#8e0152"
            ],
            [
             0.1,
             "#c51b7d"
            ],
            [
             0.2,
             "#de77ae"
            ],
            [
             0.3,
             "#f1b6da"
            ],
            [
             0.4,
             "#fde0ef"
            ],
            [
             0.5,
             "#f7f7f7"
            ],
            [
             0.6,
             "#e6f5d0"
            ],
            [
             0.7,
             "#b8e186"
            ],
            [
             0.8,
             "#7fbc41"
            ],
            [
             0.9,
             "#4d9221"
            ],
            [
             1,
             "#276419"
            ]
           ],
           "sequential": [
            [
             0,
             "#0d0887"
            ],
            [
             0.1111111111111111,
             "#46039f"
            ],
            [
             0.2222222222222222,
             "#7201a8"
            ],
            [
             0.3333333333333333,
             "#9c179e"
            ],
            [
             0.4444444444444444,
             "#bd3786"
            ],
            [
             0.5555555555555556,
             "#d8576b"
            ],
            [
             0.6666666666666666,
             "#ed7953"
            ],
            [
             0.7777777777777778,
             "#fb9f3a"
            ],
            [
             0.8888888888888888,
             "#fdca26"
            ],
            [
             1,
             "#f0f921"
            ]
           ],
           "sequentialminus": [
            [
             0,
             "#0d0887"
            ],
            [
             0.1111111111111111,
             "#46039f"
            ],
            [
             0.2222222222222222,
             "#7201a8"
            ],
            [
             0.3333333333333333,
             "#9c179e"
            ],
            [
             0.4444444444444444,
             "#bd3786"
            ],
            [
             0.5555555555555556,
             "#d8576b"
            ],
            [
             0.6666666666666666,
             "#ed7953"
            ],
            [
             0.7777777777777778,
             "#fb9f3a"
            ],
            [
             0.8888888888888888,
             "#fdca26"
            ],
            [
             1,
             "#f0f921"
            ]
           ]
          },
          "colorway": [
           "#636efa",
           "#EF553B",
           "#00cc96",
           "#ab63fa",
           "#FFA15A",
           "#19d3f3",
           "#FF6692",
           "#B6E880",
           "#FF97FF",
           "#FECB52"
          ],
          "font": {
           "color": "#2a3f5f"
          },
          "geo": {
           "bgcolor": "white",
           "lakecolor": "white",
           "landcolor": "#E5ECF6",
           "showlakes": true,
           "showland": true,
           "subunitcolor": "white"
          },
          "hoverlabel": {
           "align": "left"
          },
          "hovermode": "closest",
          "mapbox": {
           "style": "light"
          },
          "paper_bgcolor": "white",
          "plot_bgcolor": "#E5ECF6",
          "polar": {
           "angularaxis": {
            "gridcolor": "white",
            "linecolor": "white",
            "ticks": ""
           },
           "bgcolor": "#E5ECF6",
           "radialaxis": {
            "gridcolor": "white",
            "linecolor": "white",
            "ticks": ""
           }
          },
          "scene": {
           "xaxis": {
            "backgroundcolor": "#E5ECF6",
            "gridcolor": "white",
            "gridwidth": 2,
            "linecolor": "white",
            "showbackground": true,
            "ticks": "",
            "zerolinecolor": "white"
           },
           "yaxis": {
            "backgroundcolor": "#E5ECF6",
            "gridcolor": "white",
            "gridwidth": 2,
            "linecolor": "white",
            "showbackground": true,
            "ticks": "",
            "zerolinecolor": "white"
           },
           "zaxis": {
            "backgroundcolor": "#E5ECF6",
            "gridcolor": "white",
            "gridwidth": 2,
            "linecolor": "white",
            "showbackground": true,
            "ticks": "",
            "zerolinecolor": "white"
           }
          },
          "shapedefaults": {
           "line": {
            "color": "#2a3f5f"
           }
          },
          "ternary": {
           "aaxis": {
            "gridcolor": "white",
            "linecolor": "white",
            "ticks": ""
           },
           "baxis": {
            "gridcolor": "white",
            "linecolor": "white",
            "ticks": ""
           },
           "bgcolor": "#E5ECF6",
           "caxis": {
            "gridcolor": "white",
            "linecolor": "white",
            "ticks": ""
           }
          },
          "title": {
           "x": 0.05
          },
          "xaxis": {
           "automargin": true,
           "gridcolor": "white",
           "linecolor": "white",
           "ticks": "",
           "title": {
            "standoff": 15
           },
           "zerolinecolor": "white",
           "zerolinewidth": 2
          },
          "yaxis": {
           "automargin": true,
           "gridcolor": "white",
           "linecolor": "white",
           "ticks": "",
           "title": {
            "standoff": 15
           },
           "zerolinecolor": "white",
           "zerolinewidth": 2
          }
         }
        },
        "title": {
         "text": "Tensor Flow Gradient Boost Feature Importance"
        },
        "xaxis": {
         "showgrid": false,
         "showline": false,
         "ticklen": 1,
         "zeroline": false
        },
        "yaxis": {
         "gridwidth": 2,
         "showgrid": false,
         "ticklen": 5,
         "title": {
          "text": "Feature Importance"
         },
         "zeroline": false
        }
       }
      },
      "text/html": [
       "<div>\n",
       "        \n",
       "        \n",
       "            <div id=\"3961fece-c7b8-4cd0-aa8c-161e40977b86\" class=\"plotly-graph-div\" style=\"height:525px; width:100%;\"></div>\n",
       "            <script type=\"text/javascript\">\n",
       "                require([\"plotly\"], function(Plotly) {\n",
       "                    window.PLOTLYENV=window.PLOTLYENV || {};\n",
       "                    \n",
       "                if (document.getElementById(\"3961fece-c7b8-4cd0-aa8c-161e40977b86\")) {\n",
       "                    Plotly.newPlot(\n",
       "                        '3961fece-c7b8-4cd0-aa8c-161e40977b86',\n",
       "                        [{\"marker\": {\"color\": [0.10365476775150081, 0.10336164933724815, 0.09708518389200492, 0.09671638642192526, 0.0611641066480373, 0.0607541143906054, 0.05791303163322474, 0.05088689253988104, 0.05010173214329287, 0.044508262276615446, 0.04431934802387109, 0.04307227438774795, 0.04072484330858153, 0.037949815675398034, 0.03749373633380431, 0.024611492314532458, 0.023595522812949337, 0.01488422866996023, 0.00720261143881912], \"colorscale\": [[0.0, \"rgb(12,51,131)\"], [0.25, \"rgb(10,136,186)\"], [0.5, \"rgb(242,211,56)\"], [0.75, \"rgb(242,143,56)\"], [1.0, \"rgb(217,30,30)\"]], \"showscale\": true, \"size\": 13, \"sizemode\": \"diameter\", \"sizeref\": 1}, \"mode\": \"markers\", \"text\": [\"0\", \"1\", \"2\", \"3\", \"4\", \"5\", \"6\", \"7\", \"8\", \"9\", \"10\", \"11\", \"12\", \"13\", \"14\", \"15\", \"16\", \"17\", \"18\"], \"type\": \"scatter\", \"x\": [\"13\", \"1\", \"18\", \"14\", \"12\", \"7\", \"4\", \"17\", \"16\", \"8\", \"6\", \"5\", \"2\", \"3\", \"11\", \"9\", \"0\", \"15\", \"10\"], \"y\": [0.10365476775150081, 0.10336164933724815, 0.09708518389200492, 0.09671638642192526, 0.0611641066480373, 0.0607541143906054, 0.05791303163322474, 0.05088689253988104, 0.05010173214329287, 0.044508262276615446, 0.04431934802387109, 0.04307227438774795, 0.04072484330858153, 0.037949815675398034, 0.03749373633380431, 0.024611492314532458, 0.023595522812949337, 0.01488422866996023, 0.00720261143881912]}],\n",
       "                        {\"autosize\": true, \"hovermode\": \"closest\", \"showlegend\": false, \"template\": {\"data\": {\"bar\": [{\"error_x\": {\"color\": \"#2a3f5f\"}, \"error_y\": {\"color\": \"#2a3f5f\"}, \"marker\": {\"line\": {\"color\": \"#E5ECF6\", \"width\": 0.5}}, \"type\": \"bar\"}], \"barpolar\": [{\"marker\": {\"line\": {\"color\": \"#E5ECF6\", \"width\": 0.5}}, \"type\": \"barpolar\"}], \"carpet\": [{\"aaxis\": {\"endlinecolor\": \"#2a3f5f\", \"gridcolor\": \"white\", \"linecolor\": \"white\", \"minorgridcolor\": \"white\", \"startlinecolor\": \"#2a3f5f\"}, \"baxis\": {\"endlinecolor\": \"#2a3f5f\", \"gridcolor\": \"white\", \"linecolor\": \"white\", \"minorgridcolor\": \"white\", \"startlinecolor\": \"#2a3f5f\"}, \"type\": \"carpet\"}], \"choropleth\": [{\"colorbar\": {\"outlinewidth\": 0, \"ticks\": \"\"}, \"type\": \"choropleth\"}], \"contour\": [{\"colorbar\": {\"outlinewidth\": 0, \"ticks\": \"\"}, \"colorscale\": [[0.0, \"#0d0887\"], [0.1111111111111111, \"#46039f\"], [0.2222222222222222, \"#7201a8\"], [0.3333333333333333, \"#9c179e\"], [0.4444444444444444, \"#bd3786\"], [0.5555555555555556, \"#d8576b\"], [0.6666666666666666, \"#ed7953\"], [0.7777777777777778, \"#fb9f3a\"], [0.8888888888888888, \"#fdca26\"], [1.0, \"#f0f921\"]], \"type\": \"contour\"}], \"contourcarpet\": [{\"colorbar\": {\"outlinewidth\": 0, \"ticks\": \"\"}, \"type\": \"contourcarpet\"}], \"heatmap\": [{\"colorbar\": {\"outlinewidth\": 0, \"ticks\": \"\"}, \"colorscale\": [[0.0, \"#0d0887\"], [0.1111111111111111, \"#46039f\"], [0.2222222222222222, \"#7201a8\"], [0.3333333333333333, \"#9c179e\"], [0.4444444444444444, \"#bd3786\"], [0.5555555555555556, \"#d8576b\"], [0.6666666666666666, \"#ed7953\"], [0.7777777777777778, \"#fb9f3a\"], [0.8888888888888888, \"#fdca26\"], [1.0, \"#f0f921\"]], \"type\": \"heatmap\"}], \"heatmapgl\": [{\"colorbar\": {\"outlinewidth\": 0, \"ticks\": \"\"}, \"colorscale\": [[0.0, \"#0d0887\"], [0.1111111111111111, \"#46039f\"], [0.2222222222222222, \"#7201a8\"], [0.3333333333333333, \"#9c179e\"], [0.4444444444444444, \"#bd3786\"], [0.5555555555555556, \"#d8576b\"], [0.6666666666666666, \"#ed7953\"], [0.7777777777777778, \"#fb9f3a\"], [0.8888888888888888, \"#fdca26\"], [1.0, \"#f0f921\"]], \"type\": \"heatmapgl\"}], \"histogram\": [{\"marker\": {\"colorbar\": {\"outlinewidth\": 0, \"ticks\": \"\"}}, \"type\": \"histogram\"}], \"histogram2d\": [{\"colorbar\": {\"outlinewidth\": 0, \"ticks\": \"\"}, \"colorscale\": [[0.0, \"#0d0887\"], [0.1111111111111111, \"#46039f\"], [0.2222222222222222, \"#7201a8\"], [0.3333333333333333, \"#9c179e\"], [0.4444444444444444, \"#bd3786\"], [0.5555555555555556, \"#d8576b\"], [0.6666666666666666, \"#ed7953\"], [0.7777777777777778, \"#fb9f3a\"], [0.8888888888888888, \"#fdca26\"], [1.0, \"#f0f921\"]], \"type\": \"histogram2d\"}], \"histogram2dcontour\": [{\"colorbar\": {\"outlinewidth\": 0, \"ticks\": \"\"}, \"colorscale\": [[0.0, \"#0d0887\"], [0.1111111111111111, \"#46039f\"], [0.2222222222222222, \"#7201a8\"], [0.3333333333333333, \"#9c179e\"], [0.4444444444444444, \"#bd3786\"], [0.5555555555555556, \"#d8576b\"], [0.6666666666666666, \"#ed7953\"], [0.7777777777777778, \"#fb9f3a\"], [0.8888888888888888, \"#fdca26\"], [1.0, \"#f0f921\"]], \"type\": \"histogram2dcontour\"}], \"mesh3d\": [{\"colorbar\": {\"outlinewidth\": 0, \"ticks\": \"\"}, \"type\": \"mesh3d\"}], \"parcoords\": [{\"line\": {\"colorbar\": {\"outlinewidth\": 0, \"ticks\": \"\"}}, \"type\": \"parcoords\"}], \"pie\": [{\"automargin\": true, \"type\": \"pie\"}], \"scatter\": [{\"marker\": {\"colorbar\": {\"outlinewidth\": 0, \"ticks\": \"\"}}, \"type\": \"scatter\"}], \"scatter3d\": [{\"line\": {\"colorbar\": {\"outlinewidth\": 0, \"ticks\": \"\"}}, \"marker\": {\"colorbar\": {\"outlinewidth\": 0, \"ticks\": \"\"}}, \"type\": \"scatter3d\"}], \"scattercarpet\": [{\"marker\": {\"colorbar\": {\"outlinewidth\": 0, \"ticks\": \"\"}}, \"type\": \"scattercarpet\"}], \"scattergeo\": [{\"marker\": {\"colorbar\": {\"outlinewidth\": 0, \"ticks\": \"\"}}, \"type\": \"scattergeo\"}], \"scattergl\": [{\"marker\": {\"colorbar\": {\"outlinewidth\": 0, \"ticks\": \"\"}}, \"type\": \"scattergl\"}], \"scattermapbox\": [{\"marker\": {\"colorbar\": {\"outlinewidth\": 0, \"ticks\": \"\"}}, \"type\": \"scattermapbox\"}], \"scatterpolar\": [{\"marker\": {\"colorbar\": {\"outlinewidth\": 0, \"ticks\": \"\"}}, \"type\": \"scatterpolar\"}], \"scatterpolargl\": [{\"marker\": {\"colorbar\": {\"outlinewidth\": 0, \"ticks\": \"\"}}, \"type\": \"scatterpolargl\"}], \"scatterternary\": [{\"marker\": {\"colorbar\": {\"outlinewidth\": 0, \"ticks\": \"\"}}, \"type\": \"scatterternary\"}], \"surface\": [{\"colorbar\": {\"outlinewidth\": 0, \"ticks\": \"\"}, \"colorscale\": [[0.0, \"#0d0887\"], [0.1111111111111111, \"#46039f\"], [0.2222222222222222, \"#7201a8\"], [0.3333333333333333, \"#9c179e\"], [0.4444444444444444, \"#bd3786\"], [0.5555555555555556, \"#d8576b\"], [0.6666666666666666, \"#ed7953\"], [0.7777777777777778, \"#fb9f3a\"], [0.8888888888888888, \"#fdca26\"], [1.0, \"#f0f921\"]], \"type\": \"surface\"}], \"table\": [{\"cells\": {\"fill\": {\"color\": \"#EBF0F8\"}, \"line\": {\"color\": \"white\"}}, \"header\": {\"fill\": {\"color\": \"#C8D4E3\"}, \"line\": {\"color\": \"white\"}}, \"type\": \"table\"}]}, \"layout\": {\"annotationdefaults\": {\"arrowcolor\": \"#2a3f5f\", \"arrowhead\": 0, \"arrowwidth\": 1}, \"coloraxis\": {\"colorbar\": {\"outlinewidth\": 0, \"ticks\": \"\"}}, \"colorscale\": {\"diverging\": [[0, \"#8e0152\"], [0.1, \"#c51b7d\"], [0.2, \"#de77ae\"], [0.3, \"#f1b6da\"], [0.4, \"#fde0ef\"], [0.5, \"#f7f7f7\"], [0.6, \"#e6f5d0\"], [0.7, \"#b8e186\"], [0.8, \"#7fbc41\"], [0.9, \"#4d9221\"], [1, \"#276419\"]], \"sequential\": [[0.0, \"#0d0887\"], [0.1111111111111111, \"#46039f\"], [0.2222222222222222, \"#7201a8\"], [0.3333333333333333, \"#9c179e\"], [0.4444444444444444, \"#bd3786\"], [0.5555555555555556, \"#d8576b\"], [0.6666666666666666, \"#ed7953\"], [0.7777777777777778, \"#fb9f3a\"], [0.8888888888888888, \"#fdca26\"], [1.0, \"#f0f921\"]], \"sequentialminus\": [[0.0, \"#0d0887\"], [0.1111111111111111, \"#46039f\"], [0.2222222222222222, \"#7201a8\"], [0.3333333333333333, \"#9c179e\"], [0.4444444444444444, \"#bd3786\"], [0.5555555555555556, \"#d8576b\"], [0.6666666666666666, \"#ed7953\"], [0.7777777777777778, \"#fb9f3a\"], [0.8888888888888888, \"#fdca26\"], [1.0, \"#f0f921\"]]}, \"colorway\": [\"#636efa\", \"#EF553B\", \"#00cc96\", \"#ab63fa\", \"#FFA15A\", \"#19d3f3\", \"#FF6692\", \"#B6E880\", \"#FF97FF\", \"#FECB52\"], \"font\": {\"color\": \"#2a3f5f\"}, \"geo\": {\"bgcolor\": \"white\", \"lakecolor\": \"white\", \"landcolor\": \"#E5ECF6\", \"showlakes\": true, \"showland\": true, \"subunitcolor\": \"white\"}, \"hoverlabel\": {\"align\": \"left\"}, \"hovermode\": \"closest\", \"mapbox\": {\"style\": \"light\"}, \"paper_bgcolor\": \"white\", \"plot_bgcolor\": \"#E5ECF6\", \"polar\": {\"angularaxis\": {\"gridcolor\": \"white\", \"linecolor\": \"white\", \"ticks\": \"\"}, \"bgcolor\": \"#E5ECF6\", \"radialaxis\": {\"gridcolor\": \"white\", \"linecolor\": \"white\", \"ticks\": \"\"}}, \"scene\": {\"xaxis\": {\"backgroundcolor\": \"#E5ECF6\", \"gridcolor\": \"white\", \"gridwidth\": 2, \"linecolor\": \"white\", \"showbackground\": true, \"ticks\": \"\", \"zerolinecolor\": \"white\"}, \"yaxis\": {\"backgroundcolor\": \"#E5ECF6\", \"gridcolor\": \"white\", \"gridwidth\": 2, \"linecolor\": \"white\", \"showbackground\": true, \"ticks\": \"\", \"zerolinecolor\": \"white\"}, \"zaxis\": {\"backgroundcolor\": \"#E5ECF6\", \"gridcolor\": \"white\", \"gridwidth\": 2, \"linecolor\": \"white\", \"showbackground\": true, \"ticks\": \"\", \"zerolinecolor\": \"white\"}}, \"shapedefaults\": {\"line\": {\"color\": \"#2a3f5f\"}}, \"ternary\": {\"aaxis\": {\"gridcolor\": \"white\", \"linecolor\": \"white\", \"ticks\": \"\"}, \"baxis\": {\"gridcolor\": \"white\", \"linecolor\": \"white\", \"ticks\": \"\"}, \"bgcolor\": \"#E5ECF6\", \"caxis\": {\"gridcolor\": \"white\", \"linecolor\": \"white\", \"ticks\": \"\"}}, \"title\": {\"x\": 0.05}, \"xaxis\": {\"automargin\": true, \"gridcolor\": \"white\", \"linecolor\": \"white\", \"ticks\": \"\", \"title\": {\"standoff\": 15}, \"zerolinecolor\": \"white\", \"zerolinewidth\": 2}, \"yaxis\": {\"automargin\": true, \"gridcolor\": \"white\", \"linecolor\": \"white\", \"ticks\": \"\", \"title\": {\"standoff\": 15}, \"zerolinecolor\": \"white\", \"zerolinewidth\": 2}}}, \"title\": {\"text\": \"Tensor Flow Gradient Boost Feature Importance\"}, \"xaxis\": {\"showgrid\": false, \"showline\": false, \"ticklen\": 1, \"zeroline\": false}, \"yaxis\": {\"gridwidth\": 2, \"showgrid\": false, \"ticklen\": 5, \"title\": {\"text\": \"Feature Importance\"}, \"zeroline\": false}},\n",
       "                        {\"responsive\": true}\n",
       "                    ).then(function(){\n",
       "                            \n",
       "var gd = document.getElementById('3961fece-c7b8-4cd0-aa8c-161e40977b86');\n",
       "var x = new MutationObserver(function (mutations, observer) {{\n",
       "        var display = window.getComputedStyle(gd).display;\n",
       "        if (!display || display === 'none') {{\n",
       "            console.log([gd, 'removed!']);\n",
       "            Plotly.purge(gd);\n",
       "            observer.disconnect();\n",
       "        }}\n",
       "}});\n",
       "\n",
       "// Listen for the removal of the full notebook cells\n",
       "var notebookContainer = gd.closest('#notebook-container');\n",
       "if (notebookContainer) {{\n",
       "    x.observe(notebookContainer, {childList: true});\n",
       "}}\n",
       "\n",
       "// Listen for the clearing of the current output cell\n",
       "var outputEl = gd.closest('.output');\n",
       "if (outputEl) {{\n",
       "    x.observe(outputEl, {childList: true});\n",
       "}}\n",
       "\n",
       "                        })\n",
       "                };\n",
       "                });\n",
       "            </script>\n",
       "        </div>"
      ]
     },
     "metadata": {
      "tags": []
     },
     "output_type": "display_data"
    },
    {
     "data": {
      "text/html": [
       "<html>\n",
       "<head><meta charset=\"utf-8\" /></head>\n",
       "<body>\n",
       "    <div>\n",
       "            <script src=\"https://cdnjs.cloudflare.com/ajax/libs/mathjax/2.7.5/MathJax.js?config=TeX-AMS-MML_SVG\"></script><script type=\"text/javascript\">if (window.MathJax) {MathJax.Hub.Config({SVG: {font: \"STIX-Web\"}});}</script>\n",
       "                <script type=\"text/javascript\">window.PlotlyConfig = {MathJaxConfig: 'local'};</script>\n",
       "        <script src=\"https://cdn.plot.ly/plotly-latest.min.js\"></script>    \n",
       "            <div id=\"81c143b4-240c-4bd8-9527-ddc6d6d7c35a\" class=\"plotly-graph-div\" style=\"height:525px; width:100%;\"></div>\n",
       "            <script type=\"text/javascript\">\n",
       "                \n",
       "                    window.PLOTLYENV=window.PLOTLYENV || {};\n",
       "                    \n",
       "                if (document.getElementById(\"81c143b4-240c-4bd8-9527-ddc6d6d7c35a\")) {\n",
       "                    Plotly.newPlot(\n",
       "                        '81c143b4-240c-4bd8-9527-ddc6d6d7c35a',\n",
       "                        [{\"marker\": {\"color\": [0.10365476775150081, 0.10336164933724815, 0.09708518389200492, 0.09671638642192526, 0.0611641066480373, 0.0607541143906054, 0.05791303163322474, 0.05088689253988104, 0.05010173214329287, 0.044508262276615446, 0.04431934802387109, 0.04307227438774795, 0.04072484330858153, 0.037949815675398034, 0.03749373633380431, 0.024611492314532458, 0.023595522812949337, 0.01488422866996023, 0.00720261143881912], \"colorscale\": [[0.0, \"rgb(12,51,131)\"], [0.25, \"rgb(10,136,186)\"], [0.5, \"rgb(242,211,56)\"], [0.75, \"rgb(242,143,56)\"], [1.0, \"rgb(217,30,30)\"]], \"showscale\": true, \"size\": 13, \"sizemode\": \"diameter\", \"sizeref\": 1}, \"mode\": \"markers\", \"text\": [\"0\", \"1\", \"2\", \"3\", \"4\", \"5\", \"6\", \"7\", \"8\", \"9\", \"10\", \"11\", \"12\", \"13\", \"14\", \"15\", \"16\", \"17\", \"18\"], \"type\": \"scatter\", \"x\": [\"13\", \"1\", \"18\", \"14\", \"12\", \"7\", \"4\", \"17\", \"16\", \"8\", \"6\", \"5\", \"2\", \"3\", \"11\", \"9\", \"0\", \"15\", \"10\"], \"y\": [0.10365476775150081, 0.10336164933724815, 0.09708518389200492, 0.09671638642192526, 0.0611641066480373, 0.0607541143906054, 0.05791303163322474, 0.05088689253988104, 0.05010173214329287, 0.044508262276615446, 0.04431934802387109, 0.04307227438774795, 0.04072484330858153, 0.037949815675398034, 0.03749373633380431, 0.024611492314532458, 0.023595522812949337, 0.01488422866996023, 0.00720261143881912]}],\n",
       "                        {\"autosize\": true, \"hovermode\": \"closest\", \"showlegend\": false, \"template\": {\"data\": {\"bar\": [{\"error_x\": {\"color\": \"#2a3f5f\"}, \"error_y\": {\"color\": \"#2a3f5f\"}, \"marker\": {\"line\": {\"color\": \"#E5ECF6\", \"width\": 0.5}}, \"type\": \"bar\"}], \"barpolar\": [{\"marker\": {\"line\": {\"color\": \"#E5ECF6\", \"width\": 0.5}}, \"type\": \"barpolar\"}], \"carpet\": [{\"aaxis\": {\"endlinecolor\": \"#2a3f5f\", \"gridcolor\": \"white\", \"linecolor\": \"white\", \"minorgridcolor\": \"white\", \"startlinecolor\": \"#2a3f5f\"}, \"baxis\": {\"endlinecolor\": \"#2a3f5f\", \"gridcolor\": \"white\", \"linecolor\": \"white\", \"minorgridcolor\": \"white\", \"startlinecolor\": \"#2a3f5f\"}, \"type\": \"carpet\"}], \"choropleth\": [{\"colorbar\": {\"outlinewidth\": 0, \"ticks\": \"\"}, \"type\": \"choropleth\"}], \"contour\": [{\"colorbar\": {\"outlinewidth\": 0, \"ticks\": \"\"}, \"colorscale\": [[0.0, \"#0d0887\"], [0.1111111111111111, \"#46039f\"], [0.2222222222222222, \"#7201a8\"], [0.3333333333333333, \"#9c179e\"], [0.4444444444444444, \"#bd3786\"], [0.5555555555555556, \"#d8576b\"], [0.6666666666666666, \"#ed7953\"], [0.7777777777777778, \"#fb9f3a\"], [0.8888888888888888, \"#fdca26\"], [1.0, \"#f0f921\"]], \"type\": \"contour\"}], \"contourcarpet\": [{\"colorbar\": {\"outlinewidth\": 0, \"ticks\": \"\"}, \"type\": \"contourcarpet\"}], \"heatmap\": [{\"colorbar\": {\"outlinewidth\": 0, \"ticks\": \"\"}, \"colorscale\": [[0.0, \"#0d0887\"], [0.1111111111111111, \"#46039f\"], [0.2222222222222222, \"#7201a8\"], [0.3333333333333333, \"#9c179e\"], [0.4444444444444444, \"#bd3786\"], [0.5555555555555556, \"#d8576b\"], [0.6666666666666666, \"#ed7953\"], [0.7777777777777778, \"#fb9f3a\"], [0.8888888888888888, \"#fdca26\"], [1.0, \"#f0f921\"]], \"type\": \"heatmap\"}], \"heatmapgl\": [{\"colorbar\": {\"outlinewidth\": 0, \"ticks\": \"\"}, \"colorscale\": [[0.0, \"#0d0887\"], [0.1111111111111111, \"#46039f\"], [0.2222222222222222, \"#7201a8\"], [0.3333333333333333, \"#9c179e\"], [0.4444444444444444, \"#bd3786\"], [0.5555555555555556, \"#d8576b\"], [0.6666666666666666, \"#ed7953\"], [0.7777777777777778, \"#fb9f3a\"], [0.8888888888888888, \"#fdca26\"], [1.0, \"#f0f921\"]], \"type\": \"heatmapgl\"}], \"histogram\": [{\"marker\": {\"colorbar\": {\"outlinewidth\": 0, \"ticks\": \"\"}}, \"type\": \"histogram\"}], \"histogram2d\": [{\"colorbar\": {\"outlinewidth\": 0, \"ticks\": \"\"}, \"colorscale\": [[0.0, \"#0d0887\"], [0.1111111111111111, \"#46039f\"], [0.2222222222222222, \"#7201a8\"], [0.3333333333333333, \"#9c179e\"], [0.4444444444444444, \"#bd3786\"], [0.5555555555555556, \"#d8576b\"], [0.6666666666666666, \"#ed7953\"], [0.7777777777777778, \"#fb9f3a\"], [0.8888888888888888, \"#fdca26\"], [1.0, \"#f0f921\"]], \"type\": \"histogram2d\"}], \"histogram2dcontour\": [{\"colorbar\": {\"outlinewidth\": 0, \"ticks\": \"\"}, \"colorscale\": [[0.0, \"#0d0887\"], [0.1111111111111111, \"#46039f\"], [0.2222222222222222, \"#7201a8\"], [0.3333333333333333, \"#9c179e\"], [0.4444444444444444, \"#bd3786\"], [0.5555555555555556, \"#d8576b\"], [0.6666666666666666, \"#ed7953\"], [0.7777777777777778, \"#fb9f3a\"], [0.8888888888888888, \"#fdca26\"], [1.0, \"#f0f921\"]], \"type\": \"histogram2dcontour\"}], \"mesh3d\": [{\"colorbar\": {\"outlinewidth\": 0, \"ticks\": \"\"}, \"type\": \"mesh3d\"}], \"parcoords\": [{\"line\": {\"colorbar\": {\"outlinewidth\": 0, \"ticks\": \"\"}}, \"type\": \"parcoords\"}], \"pie\": [{\"automargin\": true, \"type\": \"pie\"}], \"scatter\": [{\"marker\": {\"colorbar\": {\"outlinewidth\": 0, \"ticks\": \"\"}}, \"type\": \"scatter\"}], \"scatter3d\": [{\"line\": {\"colorbar\": {\"outlinewidth\": 0, \"ticks\": \"\"}}, \"marker\": {\"colorbar\": {\"outlinewidth\": 0, \"ticks\": \"\"}}, \"type\": \"scatter3d\"}], \"scattercarpet\": [{\"marker\": {\"colorbar\": {\"outlinewidth\": 0, \"ticks\": \"\"}}, \"type\": \"scattercarpet\"}], \"scattergeo\": [{\"marker\": {\"colorbar\": {\"outlinewidth\": 0, \"ticks\": \"\"}}, \"type\": \"scattergeo\"}], \"scattergl\": [{\"marker\": {\"colorbar\": {\"outlinewidth\": 0, \"ticks\": \"\"}}, \"type\": \"scattergl\"}], \"scattermapbox\": [{\"marker\": {\"colorbar\": {\"outlinewidth\": 0, \"ticks\": \"\"}}, \"type\": \"scattermapbox\"}], \"scatterpolar\": [{\"marker\": {\"colorbar\": {\"outlinewidth\": 0, \"ticks\": \"\"}}, \"type\": \"scatterpolar\"}], \"scatterpolargl\": [{\"marker\": {\"colorbar\": {\"outlinewidth\": 0, \"ticks\": \"\"}}, \"type\": \"scatterpolargl\"}], \"scatterternary\": [{\"marker\": {\"colorbar\": {\"outlinewidth\": 0, \"ticks\": \"\"}}, \"type\": \"scatterternary\"}], \"surface\": [{\"colorbar\": {\"outlinewidth\": 0, \"ticks\": \"\"}, \"colorscale\": [[0.0, \"#0d0887\"], [0.1111111111111111, \"#46039f\"], [0.2222222222222222, \"#7201a8\"], [0.3333333333333333, \"#9c179e\"], [0.4444444444444444, \"#bd3786\"], [0.5555555555555556, \"#d8576b\"], [0.6666666666666666, \"#ed7953\"], [0.7777777777777778, \"#fb9f3a\"], [0.8888888888888888, \"#fdca26\"], [1.0, \"#f0f921\"]], \"type\": \"surface\"}], \"table\": [{\"cells\": {\"fill\": {\"color\": \"#EBF0F8\"}, \"line\": {\"color\": \"white\"}}, \"header\": {\"fill\": {\"color\": \"#C8D4E3\"}, \"line\": {\"color\": \"white\"}}, \"type\": \"table\"}]}, \"layout\": {\"annotationdefaults\": {\"arrowcolor\": \"#2a3f5f\", \"arrowhead\": 0, \"arrowwidth\": 1}, \"coloraxis\": {\"colorbar\": {\"outlinewidth\": 0, \"ticks\": \"\"}}, \"colorscale\": {\"diverging\": [[0, \"#8e0152\"], [0.1, \"#c51b7d\"], [0.2, \"#de77ae\"], [0.3, \"#f1b6da\"], [0.4, \"#fde0ef\"], [0.5, \"#f7f7f7\"], [0.6, \"#e6f5d0\"], [0.7, \"#b8e186\"], [0.8, \"#7fbc41\"], [0.9, \"#4d9221\"], [1, \"#276419\"]], \"sequential\": [[0.0, \"#0d0887\"], [0.1111111111111111, \"#46039f\"], [0.2222222222222222, \"#7201a8\"], [0.3333333333333333, \"#9c179e\"], [0.4444444444444444, \"#bd3786\"], [0.5555555555555556, \"#d8576b\"], [0.6666666666666666, \"#ed7953\"], [0.7777777777777778, \"#fb9f3a\"], [0.8888888888888888, \"#fdca26\"], [1.0, \"#f0f921\"]], \"sequentialminus\": [[0.0, \"#0d0887\"], [0.1111111111111111, \"#46039f\"], [0.2222222222222222, \"#7201a8\"], [0.3333333333333333, \"#9c179e\"], [0.4444444444444444, \"#bd3786\"], [0.5555555555555556, \"#d8576b\"], [0.6666666666666666, \"#ed7953\"], [0.7777777777777778, \"#fb9f3a\"], [0.8888888888888888, \"#fdca26\"], [1.0, \"#f0f921\"]]}, \"colorway\": [\"#636efa\", \"#EF553B\", \"#00cc96\", \"#ab63fa\", \"#FFA15A\", \"#19d3f3\", \"#FF6692\", \"#B6E880\", \"#FF97FF\", \"#FECB52\"], \"font\": {\"color\": \"#2a3f5f\"}, \"geo\": {\"bgcolor\": \"white\", \"lakecolor\": \"white\", \"landcolor\": \"#E5ECF6\", \"showlakes\": true, \"showland\": true, \"subunitcolor\": \"white\"}, \"hoverlabel\": {\"align\": \"left\"}, \"hovermode\": \"closest\", \"mapbox\": {\"style\": \"light\"}, \"paper_bgcolor\": \"white\", \"plot_bgcolor\": \"#E5ECF6\", \"polar\": {\"angularaxis\": {\"gridcolor\": \"white\", \"linecolor\": \"white\", \"ticks\": \"\"}, \"bgcolor\": \"#E5ECF6\", \"radialaxis\": {\"gridcolor\": \"white\", \"linecolor\": \"white\", \"ticks\": \"\"}}, \"scene\": {\"xaxis\": {\"backgroundcolor\": \"#E5ECF6\", \"gridcolor\": \"white\", \"gridwidth\": 2, \"linecolor\": \"white\", \"showbackground\": true, \"ticks\": \"\", \"zerolinecolor\": \"white\"}, \"yaxis\": {\"backgroundcolor\": \"#E5ECF6\", \"gridcolor\": \"white\", \"gridwidth\": 2, \"linecolor\": \"white\", \"showbackground\": true, \"ticks\": \"\", \"zerolinecolor\": \"white\"}, \"zaxis\": {\"backgroundcolor\": \"#E5ECF6\", \"gridcolor\": \"white\", \"gridwidth\": 2, \"linecolor\": \"white\", \"showbackground\": true, \"ticks\": \"\", \"zerolinecolor\": \"white\"}}, \"shapedefaults\": {\"line\": {\"color\": \"#2a3f5f\"}}, \"ternary\": {\"aaxis\": {\"gridcolor\": \"white\", \"linecolor\": \"white\", \"ticks\": \"\"}, \"baxis\": {\"gridcolor\": \"white\", \"linecolor\": \"white\", \"ticks\": \"\"}, \"bgcolor\": \"#E5ECF6\", \"caxis\": {\"gridcolor\": \"white\", \"linecolor\": \"white\", \"ticks\": \"\"}}, \"title\": {\"x\": 0.05}, \"xaxis\": {\"automargin\": true, \"gridcolor\": \"white\", \"linecolor\": \"white\", \"ticks\": \"\", \"title\": {\"standoff\": 15}, \"zerolinecolor\": \"white\", \"zerolinewidth\": 2}, \"yaxis\": {\"automargin\": true, \"gridcolor\": \"white\", \"linecolor\": \"white\", \"ticks\": \"\", \"title\": {\"standoff\": 15}, \"zerolinecolor\": \"white\", \"zerolinewidth\": 2}}}, \"title\": {\"text\": \"Tensor Flow Gradient Boost Feature Importance\"}, \"xaxis\": {\"showgrid\": false, \"showline\": false, \"ticklen\": 1, \"zeroline\": false}, \"yaxis\": {\"gridwidth\": 2, \"showgrid\": false, \"ticklen\": 5, \"title\": {\"text\": \"Feature Importance\"}, \"zeroline\": false}},\n",
       "                        {\"responsive\": true}\n",
       "                    ).then(function(){\n",
       "                            \n",
       "var gd = document.getElementById('81c143b4-240c-4bd8-9527-ddc6d6d7c35a');\n",
       "var x = new MutationObserver(function (mutations, observer) {{\n",
       "        var display = window.getComputedStyle(gd).display;\n",
       "        if (!display || display === 'none') {{\n",
       "            console.log([gd, 'removed!']);\n",
       "            Plotly.purge(gd);\n",
       "            observer.disconnect();\n",
       "        }}\n",
       "}});\n",
       "\n",
       "// Listen for the removal of the full notebook cells\n",
       "var notebookContainer = gd.closest('#notebook-container');\n",
       "if (notebookContainer) {{\n",
       "    x.observe(notebookContainer, {childList: true});\n",
       "}}\n",
       "\n",
       "// Listen for the clearing of the current output cell\n",
       "var outputEl = gd.closest('.output');\n",
       "if (outputEl) {{\n",
       "    x.observe(outputEl, {childList: true});\n",
       "}}\n",
       "\n",
       "                        })\n",
       "                };\n",
       "                \n",
       "            </script>\n",
       "        </div>\n",
       "</body>\n",
       "</html>"
      ]
     },
     "metadata": {
      "tags": []
     },
     "output_type": "display_data"
    }
   ],
   "source": [
    "# Scatter plot \n",
    "trace = go.Scatter(\n",
    "    y = df_imp.values,\n",
    "    x = df_imp.index,\n",
    "    mode='markers',\n",
    "    marker=dict(\n",
    "        sizemode = 'diameter',\n",
    "        sizeref = 1,\n",
    "        size = 13,\n",
    "        #size= rf.feature_importances_,\n",
    "        #color = np.random.randn(500), #set color equal to a variable\n",
    "        color = df_imp.values,\n",
    "        colorscale='Portland',\n",
    "        showscale=True\n",
    "    ),\n",
    "    text = X_train.columns.values\n",
    ")\n",
    "data = [trace]\n",
    "\n",
    "layout= go.Layout(\n",
    "    autosize= True,\n",
    "    title= 'Tensor Flow Gradient Boost Feature Importance',\n",
    "    hovermode= 'closest',\n",
    "     xaxis= dict(\n",
    "         ticklen= 1,\n",
    "         showgrid=False,\n",
    "        zeroline=False,\n",
    "        showline=False\n",
    "     ),\n",
    "    yaxis=dict(\n",
    "        title= 'Feature Importance',\n",
    "        showgrid=False,\n",
    "        zeroline=False,\n",
    "        ticklen= 5,\n",
    "        gridwidth= 2\n",
    "    ),\n",
    "    showlegend= False\n",
    ")\n",
    "fig = go.Figure(data=data, layout=layout)\n",
    "py.iplot(fig,filename='scatterrf1')\n",
    "fig.show(renderer=\"colab\")"
   ]
  },
  {
   "cell_type": "code",
   "execution_count": 31,
   "metadata": {
    "colab": {
     "base_uri": "https://localhost:8080/"
    },
    "executionInfo": {
     "elapsed": 590,
     "status": "ok",
     "timestamp": 1618504954090,
     "user": {
      "displayName": "Nikhil Pereira",
      "photoUrl": "https://lh3.googleusercontent.com/-KmpYA79GZFM/AAAAAAAAAAI/AAAAAAAAAPs/M7RMlSus4Ck/s64/photo.jpg",
      "userId": "01764547955641237902"
     },
     "user_tz": 240
    },
    "id": "yGi5iC1BDzud",
    "outputId": "120d917d-4af9-44ee-caf0-de2c63724f2a"
   },
   "outputs": [
    {
     "name": "stdout",
     "output_type": "stream",
     "text": [
      "  Question Number  Feature Importance\n",
      "0              13            0.103655\n",
      "1               1            0.103362\n",
      "2              18            0.097085\n",
      "3              14            0.096716\n",
      "4              12            0.061164\n"
     ]
    }
   ],
   "source": [
    "# #Here are the most important questions according to the GB algorithm\n",
    "\n",
    "gb_importances = df_imp.values\n",
    "gb_index = df_imp.index\n",
    "new_index = gb_index\n",
    "\n",
    "featureimportance_gb = pd.DataFrame({'Question Number': new_index, 'Feature Importance': gb_importances}, columns=['Question Number', 'Feature Importance'])\n",
    "gb_df = featureimportance_gb.sort_values(by=['Feature Importance'], ascending=False)\n",
    "gb_df\n",
    "\n",
    "gb_five = gb_df.head(n=5)\n",
    "print(gb_five)\n",
    "\n",
    "question_column = gb_five.loc[:,'Question Number']\n",
    "\n",
    "imp_gb_questions = question_column.values\n",
    "\n",
    "\n",
    "\n",
    "\n"
   ]
  },
  {
   "cell_type": "code",
   "execution_count": 32,
   "metadata": {
    "colab": {
     "base_uri": "https://localhost:8080/"
    },
    "executionInfo": {
     "elapsed": 1151,
     "status": "ok",
     "timestamp": 1618504959791,
     "user": {
      "displayName": "Nikhil Pereira",
      "photoUrl": "https://lh3.googleusercontent.com/-KmpYA79GZFM/AAAAAAAAAAI/AAAAAAAAAPs/M7RMlSus4Ck/s64/photo.jpg",
      "userId": "01764547955641237902"
     },
     "user_tz": 240
    },
    "id": "9DDzYobmEyjG",
    "outputId": "46d3fa14-6c42-4245-c48c-9aae205a225f"
   },
   "outputs": [
    {
     "name": "stdout",
     "output_type": "stream",
     "text": [
      "The most important factors/questions are:  \n",
      " ['13' '1' '18' '14' '12']\n",
      "14. My job makes good use of my skills and abilities.\n",
      "2. I am confident about the future performance of the company.\n",
      "19. I would recommend my company as a great place to work.\n",
      "15. My direct manager supports my skill and career development.\n",
      "13. I am comfortable discussing concerns with my direct manager.\n"
     ]
    }
   ],
   "source": [
    "#returning the 5 most important questions\n",
    "\n",
    "print(\"The most important factors/questions are:  \\n\", imp_gb_questions)\n",
    "\n",
    "for i in imp_gb_questions:\n",
    "  print(trainQuestions[int(i)]) "
   ]
  },
  {
   "cell_type": "markdown",
   "metadata": {
    "id": "hRPdrQ92LHGI"
   },
   "source": [
    "# Logit Regressor"
   ]
  },
  {
   "cell_type": "code",
   "execution_count": 33,
   "metadata": {
    "executionInfo": {
     "elapsed": 871,
     "status": "ok",
     "timestamp": 1618504968245,
     "user": {
      "displayName": "Nikhil Pereira",
      "photoUrl": "https://lh3.googleusercontent.com/-KmpYA79GZFM/AAAAAAAAAAI/AAAAAAAAAPs/M7RMlSus4Ck/s64/photo.jpg",
      "userId": "01764547955641237902"
     },
     "user_tz": 240
    },
    "id": "OdiZ8QRz8Zl2"
   },
   "outputs": [],
   "source": [
    "baselineQs = list(imp_gb_questions)\n",
    "log_train_data = X_train.loc[:,baselineQs]\n",
    "Output = [item[0] for item in indexMap\n",
    "          if item[1] in baselineQs]\n",
    "log_test_data = X_test.loc[:,baselineQs]"
   ]
  },
  {
   "cell_type": "code",
   "execution_count": 34,
   "metadata": {
    "colab": {
     "base_uri": "https://localhost:8080/"
    },
    "executionInfo": {
     "elapsed": 868,
     "status": "ok",
     "timestamp": 1618504970784,
     "user": {
      "displayName": "Nikhil Pereira",
      "photoUrl": "https://lh3.googleusercontent.com/-KmpYA79GZFM/AAAAAAAAAAI/AAAAAAAAAPs/M7RMlSus4Ck/s64/photo.jpg",
      "userId": "01764547955641237902"
     },
     "user_tz": 240
    },
    "id": "4g2UpTVoLJ-T",
    "outputId": "f009508d-720b-4486-e515-cf3e8d5a2cf2"
   },
   "outputs": [
    {
     "data": {
      "text/plain": [
       "LogisticRegression(C=1.0, class_weight=None, dual=False, fit_intercept=True,\n",
       "                   intercept_scaling=1, l1_ratio=None, max_iter=100,\n",
       "                   multi_class='auto', n_jobs=None, penalty='l2',\n",
       "                   random_state=42, solver='lbfgs', tol=0.0001, verbose=0,\n",
       "                   warm_start=False)"
      ]
     },
     "execution_count": 34,
     "metadata": {
      "tags": []
     },
     "output_type": "execute_result"
    }
   ],
   "source": [
    "#consider normalizing the scores with z-scores- only use training set, not the test \n",
    "from sklearn.linear_model import LogisticRegression\n",
    "from sklearn import metrics\n",
    "logreg = LogisticRegression(random_state=42)\n",
    "logreg.fit(log_train_data, y_train)"
   ]
  },
  {
   "cell_type": "code",
   "execution_count": 35,
   "metadata": {
    "colab": {
     "base_uri": "https://localhost:8080/"
    },
    "executionInfo": {
     "elapsed": 870,
     "status": "ok",
     "timestamp": 1618504973697,
     "user": {
      "displayName": "Nikhil Pereira",
      "photoUrl": "https://lh3.googleusercontent.com/-KmpYA79GZFM/AAAAAAAAAAI/AAAAAAAAAPs/M7RMlSus4Ck/s64/photo.jpg",
      "userId": "01764547955641237902"
     },
     "user_tz": 240
    },
    "id": "CuiOY-HYLTK7",
    "outputId": "7b1c615d-2293-492b-c70f-767068798ae1"
   },
   "outputs": [
    {
     "name": "stdout",
     "output_type": "stream",
     "text": [
      "Accuracy of logistic regression classifier on test set: 0.99\n"
     ]
    }
   ],
   "source": [
    "y_pred = logreg.predict(log_test_data)\n",
    "print('Accuracy of logistic regression classifier on test set: {:.2f}'.format(logreg.score(log_test_data, y_test)))"
   ]
  },
  {
   "cell_type": "code",
   "execution_count": 36,
   "metadata": {
    "colab": {
     "base_uri": "https://localhost:8080/",
     "height": 287
    },
    "executionInfo": {
     "elapsed": 4179,
     "status": "ok",
     "timestamp": 1618504978446,
     "user": {
      "displayName": "Nikhil Pereira",
      "photoUrl": "https://lh3.googleusercontent.com/-KmpYA79GZFM/AAAAAAAAAAI/AAAAAAAAAPs/M7RMlSus4Ck/s64/photo.jpg",
      "userId": "01764547955641237902"
     },
     "user_tz": 240
    },
    "id": "nxdtylzpLZdF",
    "outputId": "dee9e0f3-d65a-41d0-b066-07677276f8d5"
   },
   "outputs": [
    {
     "data": {
      "text/plain": [
       "<matplotlib.axes._subplots.AxesSubplot at 0x7f80808bb5d0>"
      ]
     },
     "execution_count": 36,
     "metadata": {
      "tags": []
     },
     "output_type": "execute_result"
    },
    {
     "data": {
      "image/png": "[encoded data removed]",
      "text/plain": [
       "<Figure size 432x288 with 2 Axes>"
      ]
     },
     "metadata": {
      "tags": []
     },
     "output_type": "display_data"
    }
   ],
   "source": [
    "from sklearn.metrics import confusion_matrix\n",
    "label_names=['Stayed','Attrited']\n",
    "confusion_matrix = confusion_matrix(y_test, y_pred)\n",
    "cf_matrix = confusion_matrix\n",
    "sns.set(font_scale=1.0)\n",
    "sns.heatmap(cf_matrix, annot=True, yticklabels=label_names, xticklabels=label_names, fmt=\"g\", cmap=\"Blues\")"
   ]
  },
  {
   "cell_type": "code",
   "execution_count": 38,
   "metadata": {
    "colab": {
     "base_uri": "https://localhost:8080/"
    },
    "executionInfo": {
     "elapsed": 1448,
     "status": "ok",
     "timestamp": 1618505160673,
     "user": {
      "displayName": "Nikhil Pereira",
      "photoUrl": "https://lh3.googleusercontent.com/-KmpYA79GZFM/AAAAAAAAAAI/AAAAAAAAAPs/M7RMlSus4Ck/s64/photo.jpg",
      "userId": "01764547955641237902"
     },
     "user_tz": 240
    },
    "id": "CUmi59teLcrn",
    "outputId": "875979da-4dec-41fd-effa-185e1e375c53"
   },
   "outputs": [
    {
     "name": "stdout",
     "output_type": "stream",
     "text": [
      "              precision    recall  f1-score   support\n",
      "\n",
      "       False       0.99      1.00      1.00      3527\n",
      "        True       0.00      0.00      0.00        23\n",
      "\n",
      "    accuracy                           0.99      3550\n",
      "   macro avg       0.50      0.50      0.50      3550\n",
      "weighted avg       0.99      0.99      0.99      3550\n",
      "\n"
     ]
    },
    {
     "name": "stderr",
     "output_type": "stream",
     "text": [
      "/usr/local/lib/python3.7/dist-packages/sklearn/metrics/_classification.py:1272: UndefinedMetricWarning:\n",
      "\n",
      "Precision and F-score are ill-defined and being set to 0.0 in labels with no predicted samples. Use `zero_division` parameter to control this behavior.\n",
      "\n"
     ]
    }
   ],
   "source": [
    "from sklearn.metrics import classification_report\n",
    "print(classification_report(y_test, y_pred))"
   ]
  },
  {
   "cell_type": "code",
   "execution_count": 39,
   "metadata": {
    "colab": {
     "base_uri": "https://localhost:8080/",
     "height": 301
    },
    "executionInfo": {
     "elapsed": 1689,
     "status": "ok",
     "timestamp": 1618505163132,
     "user": {
      "displayName": "Nikhil Pereira",
      "photoUrl": "https://lh3.googleusercontent.com/-KmpYA79GZFM/AAAAAAAAAAI/AAAAAAAAAPs/M7RMlSus4Ck/s64/photo.jpg",
      "userId": "01764547955641237902"
     },
     "user_tz": 240
    },
    "id": "GPUlNm33Lxc2",
    "outputId": "7a0f2bd8-511b-40ad-d221-1b7c2509bde5"
   },
   "outputs": [
    {
     "data": {
      "image/png": "[encoded data removed]",
      "text/plain": [
       "<Figure size 432x288 with 1 Axes>"
      ]
     },
     "metadata": {
      "tags": []
     },
     "output_type": "display_data"
    }
   ],
   "source": [
    "from sklearn.metrics import roc_auc_score\n",
    "from sklearn.metrics import roc_curve\n",
    "sns.set(font_scale=1.0)\n",
    "logit_roc_auc = roc_auc_score(y_test, logreg.predict(log_test_data))\n",
    "fpr, tpr, thresholds = roc_curve(y_test, logreg.predict_proba(log_test_data)[:,1])\n",
    "plt.figure()\n",
    "plt.plot(fpr, tpr, label='Logistic Regression (area = %0.2f)' % logit_roc_auc)\n",
    "plt.plot([0, 1], [0, 1],'r--')\n",
    "plt.xlim([0.0, 1.0])\n",
    "plt.ylim([0.0, 1.05])\n",
    "plt.xlabel('False Positive Rate')\n",
    "plt.ylabel('True Positive Rate')\n",
    "plt.title('Receiver operating characteristic')\n",
    "plt.legend(loc=\"lower right\")\n",
    "plt.savefig('Log_ROC')\n",
    "plt.show()"
   ]
  },
  {
   "cell_type": "code",
   "execution_count": 48,
   "metadata": {
    "colab": {
     "background_save": true,
     "base_uri": "https://localhost:8080/",
     "height": 378
    },
    "executionInfo": {
     "elapsed": 3686,
     "status": "error",
     "timestamp": 1618505432509,
     "user": {
      "displayName": "Nikhil Pereira",
      "photoUrl": "https://lh3.googleusercontent.com/-KmpYA79GZFM/AAAAAAAAAAI/AAAAAAAAAPs/M7RMlSus4Ck/s64/photo.jpg",
      "userId": "01764547955641237902"
     },
     "user_tz": 240
    },
    "id": "HfE9sksucB2y"
   },
   "outputs": [
    {
     "ename": "ValueError",
     "evalue": "ignored",
     "output_type": "error",
     "traceback": [
      "\u001b[0;31m---------------------------------------------------------------------------\u001b[0m",
      "\u001b[0;31mValueError\u001b[0m                                Traceback (most recent call last)",
      "\u001b[0;32m<ipython-input-49-92ff8e771fbf>\u001b[0m in \u001b[0;36m<module>\u001b[0;34m()\u001b[0m\n\u001b[1;32m      5\u001b[0m \u001b[0;34m\u001b[0m\u001b[0m\n\u001b[1;32m      6\u001b[0m \u001b[0;31m#confusion matrix\u001b[0m\u001b[0;34m\u001b[0m\u001b[0;34m\u001b[0m\u001b[0;34m\u001b[0m\u001b[0m\n\u001b[0;32m----> 7\u001b[0;31m \u001b[0mcf_matrix_log\u001b[0m \u001b[0;34m=\u001b[0m \u001b[0mmetrics\u001b[0m\u001b[0;34m.\u001b[0m\u001b[0mconfusion_matrix\u001b[0m\u001b[0;34m(\u001b[0m\u001b[0my_test\u001b[0m\u001b[0;34m,\u001b[0m \u001b[0my_pred_log\u001b[0m\u001b[0;34m)\u001b[0m\u001b[0;34m\u001b[0m\u001b[0;34m\u001b[0m\u001b[0m\n\u001b[0m\u001b[1;32m      8\u001b[0m \u001b[0msns\u001b[0m\u001b[0;34m.\u001b[0m\u001b[0mset\u001b[0m\u001b[0;34m(\u001b[0m\u001b[0mfont_scale\u001b[0m\u001b[0;34m=\u001b[0m\u001b[0;36m1.0\u001b[0m\u001b[0;34m)\u001b[0m\u001b[0;34m\u001b[0m\u001b[0;34m\u001b[0m\u001b[0m\n\u001b[1;32m      9\u001b[0m \u001b[0msns\u001b[0m\u001b[0;34m.\u001b[0m\u001b[0mheatmap\u001b[0m\u001b[0;34m(\u001b[0m\u001b[0mcf_matrix_log\u001b[0m\u001b[0;34m,\u001b[0m \u001b[0mannot\u001b[0m\u001b[0;34m=\u001b[0m\u001b[0;32mTrue\u001b[0m\u001b[0;34m,\u001b[0m \u001b[0myticklabels\u001b[0m\u001b[0;34m=\u001b[0m\u001b[0mlabel_names\u001b[0m\u001b[0;34m,\u001b[0m \u001b[0mxticklabels\u001b[0m\u001b[0;34m=\u001b[0m\u001b[0mlabel_names\u001b[0m\u001b[0;34m,\u001b[0m \u001b[0mfmt\u001b[0m\u001b[0;34m=\u001b[0m\u001b[0;34m\"g\"\u001b[0m\u001b[0;34m,\u001b[0m \u001b[0mcmap\u001b[0m\u001b[0;34m=\u001b[0m\u001b[0;34m\"Blues\"\u001b[0m\u001b[0;34m)\u001b[0m\u001b[0;34m\u001b[0m\u001b[0;34m\u001b[0m\u001b[0m\n",
      "\u001b[0;32m/usr/local/lib/python3.7/dist-packages/sklearn/metrics/_classification.py\u001b[0m in \u001b[0;36mconfusion_matrix\u001b[0;34m(y_true, y_pred, labels, sample_weight, normalize)\u001b[0m\n\u001b[1;32m    266\u001b[0m \u001b[0;34m\u001b[0m\u001b[0m\n\u001b[1;32m    267\u001b[0m     \"\"\"\n\u001b[0;32m--> 268\u001b[0;31m     \u001b[0my_type\u001b[0m\u001b[0;34m,\u001b[0m \u001b[0my_true\u001b[0m\u001b[0;34m,\u001b[0m \u001b[0my_pred\u001b[0m \u001b[0;34m=\u001b[0m \u001b[0m_check_targets\u001b[0m\u001b[0;34m(\u001b[0m\u001b[0my_true\u001b[0m\u001b[0;34m,\u001b[0m \u001b[0my_pred\u001b[0m\u001b[0;34m)\u001b[0m\u001b[0;34m\u001b[0m\u001b[0;34m\u001b[0m\u001b[0m\n\u001b[0m\u001b[1;32m    269\u001b[0m     \u001b[0;32mif\u001b[0m \u001b[0my_type\u001b[0m \u001b[0;32mnot\u001b[0m \u001b[0;32min\u001b[0m \u001b[0;34m(\u001b[0m\u001b[0;34m\"binary\"\u001b[0m\u001b[0;34m,\u001b[0m \u001b[0;34m\"multiclass\"\u001b[0m\u001b[0;34m)\u001b[0m\u001b[0;34m:\u001b[0m\u001b[0;34m\u001b[0m\u001b[0;34m\u001b[0m\u001b[0m\n\u001b[1;32m    270\u001b[0m         \u001b[0;32mraise\u001b[0m \u001b[0mValueError\u001b[0m\u001b[0;34m(\u001b[0m\u001b[0;34m\"%s is not supported\"\u001b[0m \u001b[0;34m%\u001b[0m \u001b[0my_type\u001b[0m\u001b[0;34m)\u001b[0m\u001b[0;34m\u001b[0m\u001b[0;34m\u001b[0m\u001b[0m\n",
      "\u001b[0;32m/usr/local/lib/python3.7/dist-packages/sklearn/metrics/_classification.py\u001b[0m in \u001b[0;36m_check_targets\u001b[0;34m(y_true, y_pred)\u001b[0m\n\u001b[1;32m     78\u001b[0m     \u001b[0my_pred\u001b[0m \u001b[0;34m:\u001b[0m \u001b[0marray\u001b[0m \u001b[0;32mor\u001b[0m \u001b[0mindicator\u001b[0m \u001b[0mmatrix\u001b[0m\u001b[0;34m\u001b[0m\u001b[0;34m\u001b[0m\u001b[0m\n\u001b[1;32m     79\u001b[0m     \"\"\"\n\u001b[0;32m---> 80\u001b[0;31m     \u001b[0mcheck_consistent_length\u001b[0m\u001b[0;34m(\u001b[0m\u001b[0my_true\u001b[0m\u001b[0;34m,\u001b[0m \u001b[0my_pred\u001b[0m\u001b[0;34m)\u001b[0m\u001b[0;34m\u001b[0m\u001b[0;34m\u001b[0m\u001b[0m\n\u001b[0m\u001b[1;32m     81\u001b[0m     \u001b[0mtype_true\u001b[0m \u001b[0;34m=\u001b[0m \u001b[0mtype_of_target\u001b[0m\u001b[0;34m(\u001b[0m\u001b[0my_true\u001b[0m\u001b[0;34m)\u001b[0m\u001b[0;34m\u001b[0m\u001b[0;34m\u001b[0m\u001b[0m\n\u001b[1;32m     82\u001b[0m     \u001b[0mtype_pred\u001b[0m \u001b[0;34m=\u001b[0m \u001b[0mtype_of_target\u001b[0m\u001b[0;34m(\u001b[0m\u001b[0my_pred\u001b[0m\u001b[0;34m)\u001b[0m\u001b[0;34m\u001b[0m\u001b[0;34m\u001b[0m\u001b[0m\n",
      "\u001b[0;32m/usr/local/lib/python3.7/dist-packages/sklearn/utils/validation.py\u001b[0m in \u001b[0;36mcheck_consistent_length\u001b[0;34m(*arrays)\u001b[0m\n\u001b[1;32m    210\u001b[0m     \u001b[0;32mif\u001b[0m \u001b[0mlen\u001b[0m\u001b[0;34m(\u001b[0m\u001b[0muniques\u001b[0m\u001b[0;34m)\u001b[0m \u001b[0;34m>\u001b[0m \u001b[0;36m1\u001b[0m\u001b[0;34m:\u001b[0m\u001b[0;34m\u001b[0m\u001b[0;34m\u001b[0m\u001b[0m\n\u001b[1;32m    211\u001b[0m         raise ValueError(\"Found input variables with inconsistent numbers of\"\n\u001b[0;32m--> 212\u001b[0;31m                          \" samples: %r\" % [int(l) for l in lengths])\n\u001b[0m\u001b[1;32m    213\u001b[0m \u001b[0;34m\u001b[0m\u001b[0m\n\u001b[1;32m    214\u001b[0m \u001b[0;34m\u001b[0m\u001b[0m\n",
      "\u001b[0;31mValueError\u001b[0m: Found input variables with inconsistent numbers of samples: [3550, 3080]"
     ]
    }
   ],
   "source": [
    "#testing a different threshold value - default is 0.5\n",
    "from sklearn.metrics import roc_curve, precision_recall_curve, auc, make_scorer, recall_score, accuracy_score, precision_score, confusion_matrix\n",
    "\n",
    "y_pred_log = (logreg.predict_proba(X_test.select_dtypes(include=num))[:,1] >= 0.4).astype(bool) # set threshold as 0.4\n",
    "\n",
    "#confusion matrix\n",
    "cf_matrix_log = metrics.confusion_matrix(y_test, y_pred_log)\n",
    "sns.set(font_scale=1.0)\n",
    "sns.heatmap(cf_matrix_log, annot=True, yticklabels=label_names, xticklabels=label_names, fmt=\"g\", cmap=\"Blues\")"
   ]
  },
  {
   "cell_type": "markdown",
   "metadata": {
    "id": "uEzxc58AT70I"
   },
   "source": [
    "# Machine Learning Benchmarks"
   ]
  },
  {
   "cell_type": "markdown",
   "metadata": {
    "id": "KjMTZqgInPv-"
   },
   "source": [
    "# Hyper Parameter Search using Sklearn Grid Search Method for RF,\n",
    "Does RF only take numeric inputs?"
   ]
  },
  {
   "cell_type": "code",
   "execution_count": 40,
   "metadata": {
    "executionInfo": {
     "elapsed": 84972,
     "status": "ok",
     "timestamp": 1618505253016,
     "user": {
      "displayName": "Nikhil Pereira",
      "photoUrl": "https://lh3.googleusercontent.com/-KmpYA79GZFM/AAAAAAAAAAI/AAAAAAAAAPs/M7RMlSus4Ck/s64/photo.jpg",
      "userId": "01764547955641237902"
     },
     "user_tz": 240
    },
    "id": "kKN2Z3iwk66C"
   },
   "outputs": [],
   "source": [
    "#Try different loss functions check sample weight too\n",
    "import sklearn\n",
    "from sklearn.model_selection import GridSearchCV\n",
    "rf_parameters = {'n_jobs':[1], \n",
    "                 'max_depth':[3,5],\n",
    "                 'min_samples_split':[0.05,], \n",
    "                 'class_weight':[\"balanced\",'balanced_subsample'],\n",
    "                 'n_estimators':[50,100,500],\n",
    "                 'max_features':[0.3,'auto'], \n",
    "                 'random_state':[42]\n",
    "                 }\n",
    "svc = sklearn.ensemble.RandomForestClassifier()\n",
    "clf = GridSearchCV(svc, rf_parameters)\n",
    "clf.fit(X_train.select_dtypes(include=num), y_train)\n",
    "rf_results = pd.DataFrame.from_dict(clf.cv_results_)"
   ]
  },
  {
   "cell_type": "markdown",
   "metadata": {
    "id": "jV7OvbL2H7Pq"
   },
   "source": [
    "# Random Forest Hyper Parameter Results"
   ]
  },
  {
   "cell_type": "code",
   "execution_count": 41,
   "metadata": {
    "colab": {
     "base_uri": "https://localhost:8080/",
     "height": 1000
    },
    "executionInfo": {
     "elapsed": 19172,
     "status": "ok",
     "timestamp": 1618505253026,
     "user": {
      "displayName": "Nikhil Pereira",
      "photoUrl": "https://lh3.googleusercontent.com/-KmpYA79GZFM/AAAAAAAAAAI/AAAAAAAAAPs/M7RMlSus4Ck/s64/photo.jpg",
      "userId": "01764547955641237902"
     },
     "user_tz": 240
    },
    "id": "pDadOowcQui3",
    "outputId": "64e2294f-19ee-403d-a02f-871c2ff70f74"
   },
   "outputs": [
    {
     "data": {
      "text/html": [
       "<div>\n",
       "<style scoped>\n",
       "    .dataframe tbody tr th:only-of-type {\n",
       "        vertical-align: middle;\n",
       "    }\n",
       "\n",
       "    .dataframe tbody tr th {\n",
       "        vertical-align: top;\n",
       "    }\n",
       "\n",
       "    .dataframe thead th {\n",
       "        text-align: right;\n",
       "    }\n",
       "</style>\n",
       "<table border=\"1\" class=\"dataframe\">\n",
       "  <thead>\n",
       "    <tr style=\"text-align: right;\">\n",
       "      <th></th>\n",
       "      <th>class_weight</th>\n",
       "      <th>max_depth</th>\n",
       "      <th>max_features</th>\n",
       "      <th>min_samples_split</th>\n",
       "      <th>n_estimators</th>\n",
       "      <th>n_jobs</th>\n",
       "      <th>random_state</th>\n",
       "      <th>mean_fit_time</th>\n",
       "      <th>std_fit_time</th>\n",
       "      <th>mean_score_time</th>\n",
       "      <th>std_score_time</th>\n",
       "      <th>param_class_weight</th>\n",
       "      <th>param_max_depth</th>\n",
       "      <th>param_max_features</th>\n",
       "      <th>param_min_samples_split</th>\n",
       "      <th>param_n_estimators</th>\n",
       "      <th>param_n_jobs</th>\n",
       "      <th>param_random_state</th>\n",
       "      <th>params</th>\n",
       "      <th>split0_test_score</th>\n",
       "      <th>split1_test_score</th>\n",
       "      <th>split2_test_score</th>\n",
       "      <th>split3_test_score</th>\n",
       "      <th>split4_test_score</th>\n",
       "      <th>mean_test_score</th>\n",
       "      <th>std_test_score</th>\n",
       "      <th>rank_test_score</th>\n",
       "    </tr>\n",
       "  </thead>\n",
       "  <tbody>\n",
       "    <tr>\n",
       "      <th>21</th>\n",
       "      <td>balanced_subsample</td>\n",
       "      <td>5</td>\n",
       "      <td>auto</td>\n",
       "      <td>0.05</td>\n",
       "      <td>50</td>\n",
       "      <td>1</td>\n",
       "      <td>42</td>\n",
       "      <td>0.174367</td>\n",
       "      <td>0.006937</td>\n",
       "      <td>0.009105</td>\n",
       "      <td>0.000382</td>\n",
       "      <td>balanced_subsample</td>\n",
       "      <td>5</td>\n",
       "      <td>auto</td>\n",
       "      <td>0.05</td>\n",
       "      <td>50</td>\n",
       "      <td>1</td>\n",
       "      <td>42</td>\n",
       "      <td>{'class_weight': 'balanced_subsample', 'max_de...</td>\n",
       "      <td>0.972403</td>\n",
       "      <td>0.964286</td>\n",
       "      <td>0.964286</td>\n",
       "      <td>0.954545</td>\n",
       "      <td>0.391234</td>\n",
       "      <td>0.849351</td>\n",
       "      <td>0.229128</td>\n",
       "      <td>1</td>\n",
       "    </tr>\n",
       "    <tr>\n",
       "      <th>6</th>\n",
       "      <td>balanced</td>\n",
       "      <td>5</td>\n",
       "      <td>0.3</td>\n",
       "      <td>0.05</td>\n",
       "      <td>50</td>\n",
       "      <td>1</td>\n",
       "      <td>42</td>\n",
       "      <td>0.120676</td>\n",
       "      <td>0.005078</td>\n",
       "      <td>0.008850</td>\n",
       "      <td>0.000285</td>\n",
       "      <td>balanced</td>\n",
       "      <td>5</td>\n",
       "      <td>0.3</td>\n",
       "      <td>0.05</td>\n",
       "      <td>50</td>\n",
       "      <td>1</td>\n",
       "      <td>42</td>\n",
       "      <td>{'class_weight': 'balanced', 'max_depth': 5, '...</td>\n",
       "      <td>0.962662</td>\n",
       "      <td>0.969156</td>\n",
       "      <td>0.967532</td>\n",
       "      <td>0.965909</td>\n",
       "      <td>0.381494</td>\n",
       "      <td>0.849351</td>\n",
       "      <td>0.233938</td>\n",
       "      <td>2</td>\n",
       "    </tr>\n",
       "    <tr>\n",
       "      <th>11</th>\n",
       "      <td>balanced</td>\n",
       "      <td>5</td>\n",
       "      <td>auto</td>\n",
       "      <td>0.05</td>\n",
       "      <td>500</td>\n",
       "      <td>1</td>\n",
       "      <td>42</td>\n",
       "      <td>1.162248</td>\n",
       "      <td>0.036313</td>\n",
       "      <td>0.075193</td>\n",
       "      <td>0.001784</td>\n",
       "      <td>balanced</td>\n",
       "      <td>5</td>\n",
       "      <td>auto</td>\n",
       "      <td>0.05</td>\n",
       "      <td>500</td>\n",
       "      <td>1</td>\n",
       "      <td>42</td>\n",
       "      <td>{'class_weight': 'balanced', 'max_depth': 5, '...</td>\n",
       "      <td>0.969156</td>\n",
       "      <td>0.972403</td>\n",
       "      <td>0.957792</td>\n",
       "      <td>0.957792</td>\n",
       "      <td>0.386364</td>\n",
       "      <td>0.848701</td>\n",
       "      <td>0.231244</td>\n",
       "      <td>3</td>\n",
       "    </tr>\n",
       "    <tr>\n",
       "      <th>18</th>\n",
       "      <td>balanced_subsample</td>\n",
       "      <td>5</td>\n",
       "      <td>0.3</td>\n",
       "      <td>0.05</td>\n",
       "      <td>50</td>\n",
       "      <td>1</td>\n",
       "      <td>42</td>\n",
       "      <td>0.173777</td>\n",
       "      <td>0.004784</td>\n",
       "      <td>0.009034</td>\n",
       "      <td>0.000276</td>\n",
       "      <td>balanced_subsample</td>\n",
       "      <td>5</td>\n",
       "      <td>0.3</td>\n",
       "      <td>0.05</td>\n",
       "      <td>50</td>\n",
       "      <td>1</td>\n",
       "      <td>42</td>\n",
       "      <td>{'class_weight': 'balanced_subsample', 'max_de...</td>\n",
       "      <td>0.965909</td>\n",
       "      <td>0.967532</td>\n",
       "      <td>0.964286</td>\n",
       "      <td>0.964286</td>\n",
       "      <td>0.381494</td>\n",
       "      <td>0.848701</td>\n",
       "      <td>0.233607</td>\n",
       "      <td>3</td>\n",
       "    </tr>\n",
       "    <tr>\n",
       "      <th>23</th>\n",
       "      <td>balanced_subsample</td>\n",
       "      <td>5</td>\n",
       "      <td>auto</td>\n",
       "      <td>0.05</td>\n",
       "      <td>500</td>\n",
       "      <td>1</td>\n",
       "      <td>42</td>\n",
       "      <td>1.703278</td>\n",
       "      <td>0.022823</td>\n",
       "      <td>0.075256</td>\n",
       "      <td>0.001802</td>\n",
       "      <td>balanced_subsample</td>\n",
       "      <td>5</td>\n",
       "      <td>auto</td>\n",
       "      <td>0.05</td>\n",
       "      <td>500</td>\n",
       "      <td>1</td>\n",
       "      <td>42</td>\n",
       "      <td>{'class_weight': 'balanced_subsample', 'max_de...</td>\n",
       "      <td>0.967532</td>\n",
       "      <td>0.972403</td>\n",
       "      <td>0.956169</td>\n",
       "      <td>0.959416</td>\n",
       "      <td>0.386364</td>\n",
       "      <td>0.848377</td>\n",
       "      <td>0.231078</td>\n",
       "      <td>5</td>\n",
       "    </tr>\n",
       "    <tr>\n",
       "      <th>19</th>\n",
       "      <td>balanced_subsample</td>\n",
       "      <td>5</td>\n",
       "      <td>0.3</td>\n",
       "      <td>0.05</td>\n",
       "      <td>100</td>\n",
       "      <td>1</td>\n",
       "      <td>42</td>\n",
       "      <td>0.355753</td>\n",
       "      <td>0.020146</td>\n",
       "      <td>0.016565</td>\n",
       "      <td>0.000886</td>\n",
       "      <td>balanced_subsample</td>\n",
       "      <td>5</td>\n",
       "      <td>0.3</td>\n",
       "      <td>0.05</td>\n",
       "      <td>100</td>\n",
       "      <td>1</td>\n",
       "      <td>42</td>\n",
       "      <td>{'class_weight': 'balanced_subsample', 'max_de...</td>\n",
       "      <td>0.969156</td>\n",
       "      <td>0.967532</td>\n",
       "      <td>0.957792</td>\n",
       "      <td>0.961039</td>\n",
       "      <td>0.384740</td>\n",
       "      <td>0.848052</td>\n",
       "      <td>0.231693</td>\n",
       "      <td>6</td>\n",
       "    </tr>\n",
       "    <tr>\n",
       "      <th>7</th>\n",
       "      <td>balanced</td>\n",
       "      <td>5</td>\n",
       "      <td>0.3</td>\n",
       "      <td>0.05</td>\n",
       "      <td>100</td>\n",
       "      <td>1</td>\n",
       "      <td>42</td>\n",
       "      <td>0.238599</td>\n",
       "      <td>0.005406</td>\n",
       "      <td>0.016227</td>\n",
       "      <td>0.000779</td>\n",
       "      <td>balanced</td>\n",
       "      <td>5</td>\n",
       "      <td>0.3</td>\n",
       "      <td>0.05</td>\n",
       "      <td>100</td>\n",
       "      <td>1</td>\n",
       "      <td>42</td>\n",
       "      <td>{'class_weight': 'balanced', 'max_depth': 5, '...</td>\n",
       "      <td>0.964286</td>\n",
       "      <td>0.967532</td>\n",
       "      <td>0.961039</td>\n",
       "      <td>0.959416</td>\n",
       "      <td>0.386364</td>\n",
       "      <td>0.847727</td>\n",
       "      <td>0.230699</td>\n",
       "      <td>7</td>\n",
       "    </tr>\n",
       "    <tr>\n",
       "      <th>9</th>\n",
       "      <td>balanced</td>\n",
       "      <td>5</td>\n",
       "      <td>auto</td>\n",
       "      <td>0.05</td>\n",
       "      <td>50</td>\n",
       "      <td>1</td>\n",
       "      <td>42</td>\n",
       "      <td>0.119190</td>\n",
       "      <td>0.004238</td>\n",
       "      <td>0.009129</td>\n",
       "      <td>0.000655</td>\n",
       "      <td>balanced</td>\n",
       "      <td>5</td>\n",
       "      <td>auto</td>\n",
       "      <td>0.05</td>\n",
       "      <td>50</td>\n",
       "      <td>1</td>\n",
       "      <td>42</td>\n",
       "      <td>{'class_weight': 'balanced', 'max_depth': 5, '...</td>\n",
       "      <td>0.969156</td>\n",
       "      <td>0.957792</td>\n",
       "      <td>0.962662</td>\n",
       "      <td>0.957792</td>\n",
       "      <td>0.391234</td>\n",
       "      <td>0.847727</td>\n",
       "      <td>0.228285</td>\n",
       "      <td>7</td>\n",
       "    </tr>\n",
       "    <tr>\n",
       "      <th>20</th>\n",
       "      <td>balanced_subsample</td>\n",
       "      <td>5</td>\n",
       "      <td>0.3</td>\n",
       "      <td>0.05</td>\n",
       "      <td>500</td>\n",
       "      <td>1</td>\n",
       "      <td>42</td>\n",
       "      <td>1.744596</td>\n",
       "      <td>0.015113</td>\n",
       "      <td>0.076044</td>\n",
       "      <td>0.005449</td>\n",
       "      <td>balanced_subsample</td>\n",
       "      <td>5</td>\n",
       "      <td>0.3</td>\n",
       "      <td>0.05</td>\n",
       "      <td>500</td>\n",
       "      <td>1</td>\n",
       "      <td>42</td>\n",
       "      <td>{'class_weight': 'balanced_subsample', 'max_de...</td>\n",
       "      <td>0.969156</td>\n",
       "      <td>0.972403</td>\n",
       "      <td>0.956169</td>\n",
       "      <td>0.956169</td>\n",
       "      <td>0.384740</td>\n",
       "      <td>0.847727</td>\n",
       "      <td>0.231588</td>\n",
       "      <td>7</td>\n",
       "    </tr>\n",
       "    <tr>\n",
       "      <th>22</th>\n",
       "      <td>balanced_subsample</td>\n",
       "      <td>5</td>\n",
       "      <td>auto</td>\n",
       "      <td>0.05</td>\n",
       "      <td>100</td>\n",
       "      <td>1</td>\n",
       "      <td>42</td>\n",
       "      <td>0.338659</td>\n",
       "      <td>0.008375</td>\n",
       "      <td>0.017098</td>\n",
       "      <td>0.001240</td>\n",
       "      <td>balanced_subsample</td>\n",
       "      <td>5</td>\n",
       "      <td>auto</td>\n",
       "      <td>0.05</td>\n",
       "      <td>100</td>\n",
       "      <td>1</td>\n",
       "      <td>42</td>\n",
       "      <td>{'class_weight': 'balanced_subsample', 'max_de...</td>\n",
       "      <td>0.969156</td>\n",
       "      <td>0.962662</td>\n",
       "      <td>0.961039</td>\n",
       "      <td>0.956169</td>\n",
       "      <td>0.383117</td>\n",
       "      <td>0.846429</td>\n",
       "      <td>0.231693</td>\n",
       "      <td>10</td>\n",
       "    </tr>\n",
       "    <tr>\n",
       "      <th>8</th>\n",
       "      <td>balanced</td>\n",
       "      <td>5</td>\n",
       "      <td>0.3</td>\n",
       "      <td>0.05</td>\n",
       "      <td>500</td>\n",
       "      <td>1</td>\n",
       "      <td>42</td>\n",
       "      <td>1.184164</td>\n",
       "      <td>0.012604</td>\n",
       "      <td>0.075323</td>\n",
       "      <td>0.001620</td>\n",
       "      <td>balanced</td>\n",
       "      <td>5</td>\n",
       "      <td>0.3</td>\n",
       "      <td>0.05</td>\n",
       "      <td>500</td>\n",
       "      <td>1</td>\n",
       "      <td>42</td>\n",
       "      <td>{'class_weight': 'balanced', 'max_depth': 5, '...</td>\n",
       "      <td>0.965909</td>\n",
       "      <td>0.969156</td>\n",
       "      <td>0.954545</td>\n",
       "      <td>0.956169</td>\n",
       "      <td>0.384740</td>\n",
       "      <td>0.846104</td>\n",
       "      <td>0.230749</td>\n",
       "      <td>11</td>\n",
       "    </tr>\n",
       "    <tr>\n",
       "      <th>10</th>\n",
       "      <td>balanced</td>\n",
       "      <td>5</td>\n",
       "      <td>auto</td>\n",
       "      <td>0.05</td>\n",
       "      <td>100</td>\n",
       "      <td>1</td>\n",
       "      <td>42</td>\n",
       "      <td>0.235225</td>\n",
       "      <td>0.007237</td>\n",
       "      <td>0.016356</td>\n",
       "      <td>0.000602</td>\n",
       "      <td>balanced</td>\n",
       "      <td>5</td>\n",
       "      <td>auto</td>\n",
       "      <td>0.05</td>\n",
       "      <td>100</td>\n",
       "      <td>1</td>\n",
       "      <td>42</td>\n",
       "      <td>{'class_weight': 'balanced', 'max_depth': 5, '...</td>\n",
       "      <td>0.969156</td>\n",
       "      <td>0.957792</td>\n",
       "      <td>0.959416</td>\n",
       "      <td>0.957792</td>\n",
       "      <td>0.383117</td>\n",
       "      <td>0.845455</td>\n",
       "      <td>0.231208</td>\n",
       "      <td>12</td>\n",
       "    </tr>\n",
       "    <tr>\n",
       "      <th>5</th>\n",
       "      <td>balanced</td>\n",
       "      <td>3</td>\n",
       "      <td>auto</td>\n",
       "      <td>0.05</td>\n",
       "      <td>500</td>\n",
       "      <td>1</td>\n",
       "      <td>42</td>\n",
       "      <td>1.083595</td>\n",
       "      <td>0.012417</td>\n",
       "      <td>0.071075</td>\n",
       "      <td>0.001079</td>\n",
       "      <td>balanced</td>\n",
       "      <td>3</td>\n",
       "      <td>auto</td>\n",
       "      <td>0.05</td>\n",
       "      <td>500</td>\n",
       "      <td>1</td>\n",
       "      <td>42</td>\n",
       "      <td>{'class_weight': 'balanced', 'max_depth': 3, '...</td>\n",
       "      <td>0.970779</td>\n",
       "      <td>0.964286</td>\n",
       "      <td>0.951299</td>\n",
       "      <td>0.946429</td>\n",
       "      <td>0.368506</td>\n",
       "      <td>0.840260</td>\n",
       "      <td>0.236038</td>\n",
       "      <td>13</td>\n",
       "    </tr>\n",
       "    <tr>\n",
       "      <th>3</th>\n",
       "      <td>balanced</td>\n",
       "      <td>3</td>\n",
       "      <td>auto</td>\n",
       "      <td>0.05</td>\n",
       "      <td>50</td>\n",
       "      <td>1</td>\n",
       "      <td>42</td>\n",
       "      <td>0.110026</td>\n",
       "      <td>0.001831</td>\n",
       "      <td>0.009209</td>\n",
       "      <td>0.001318</td>\n",
       "      <td>balanced</td>\n",
       "      <td>3</td>\n",
       "      <td>auto</td>\n",
       "      <td>0.05</td>\n",
       "      <td>50</td>\n",
       "      <td>1</td>\n",
       "      <td>42</td>\n",
       "      <td>{'class_weight': 'balanced', 'max_depth': 3, '...</td>\n",
       "      <td>0.967532</td>\n",
       "      <td>0.948052</td>\n",
       "      <td>0.959416</td>\n",
       "      <td>0.952922</td>\n",
       "      <td>0.373377</td>\n",
       "      <td>0.840260</td>\n",
       "      <td>0.233533</td>\n",
       "      <td>13</td>\n",
       "    </tr>\n",
       "    <tr>\n",
       "      <th>0</th>\n",
       "      <td>balanced</td>\n",
       "      <td>3</td>\n",
       "      <td>0.3</td>\n",
       "      <td>0.05</td>\n",
       "      <td>50</td>\n",
       "      <td>1</td>\n",
       "      <td>42</td>\n",
       "      <td>0.121073</td>\n",
       "      <td>0.005889</td>\n",
       "      <td>0.008767</td>\n",
       "      <td>0.000260</td>\n",
       "      <td>balanced</td>\n",
       "      <td>3</td>\n",
       "      <td>0.3</td>\n",
       "      <td>0.05</td>\n",
       "      <td>50</td>\n",
       "      <td>1</td>\n",
       "      <td>42</td>\n",
       "      <td>{'class_weight': 'balanced', 'max_depth': 3, '...</td>\n",
       "      <td>0.957792</td>\n",
       "      <td>0.949675</td>\n",
       "      <td>0.959416</td>\n",
       "      <td>0.959416</td>\n",
       "      <td>0.368506</td>\n",
       "      <td>0.838961</td>\n",
       "      <td>0.235255</td>\n",
       "      <td>15</td>\n",
       "    </tr>\n",
       "    <tr>\n",
       "      <th>17</th>\n",
       "      <td>balanced_subsample</td>\n",
       "      <td>3</td>\n",
       "      <td>auto</td>\n",
       "      <td>0.05</td>\n",
       "      <td>500</td>\n",
       "      <td>1</td>\n",
       "      <td>42</td>\n",
       "      <td>1.604671</td>\n",
       "      <td>0.016036</td>\n",
       "      <td>0.073025</td>\n",
       "      <td>0.003485</td>\n",
       "      <td>balanced_subsample</td>\n",
       "      <td>3</td>\n",
       "      <td>auto</td>\n",
       "      <td>0.05</td>\n",
       "      <td>500</td>\n",
       "      <td>1</td>\n",
       "      <td>42</td>\n",
       "      <td>{'class_weight': 'balanced_subsample', 'max_de...</td>\n",
       "      <td>0.970779</td>\n",
       "      <td>0.961039</td>\n",
       "      <td>0.951299</td>\n",
       "      <td>0.941558</td>\n",
       "      <td>0.366883</td>\n",
       "      <td>0.838312</td>\n",
       "      <td>0.235915</td>\n",
       "      <td>16</td>\n",
       "    </tr>\n",
       "    <tr>\n",
       "      <th>2</th>\n",
       "      <td>balanced</td>\n",
       "      <td>3</td>\n",
       "      <td>0.3</td>\n",
       "      <td>0.05</td>\n",
       "      <td>500</td>\n",
       "      <td>1</td>\n",
       "      <td>42</td>\n",
       "      <td>1.129857</td>\n",
       "      <td>0.015773</td>\n",
       "      <td>0.071916</td>\n",
       "      <td>0.002614</td>\n",
       "      <td>balanced</td>\n",
       "      <td>3</td>\n",
       "      <td>0.3</td>\n",
       "      <td>0.05</td>\n",
       "      <td>500</td>\n",
       "      <td>1</td>\n",
       "      <td>42</td>\n",
       "      <td>{'class_weight': 'balanced', 'max_depth': 3, '...</td>\n",
       "      <td>0.967532</td>\n",
       "      <td>0.959416</td>\n",
       "      <td>0.948052</td>\n",
       "      <td>0.944805</td>\n",
       "      <td>0.368506</td>\n",
       "      <td>0.837662</td>\n",
       "      <td>0.234718</td>\n",
       "      <td>17</td>\n",
       "    </tr>\n",
       "    <tr>\n",
       "      <th>14</th>\n",
       "      <td>balanced_subsample</td>\n",
       "      <td>3</td>\n",
       "      <td>0.3</td>\n",
       "      <td>0.05</td>\n",
       "      <td>500</td>\n",
       "      <td>1</td>\n",
       "      <td>42</td>\n",
       "      <td>1.663514</td>\n",
       "      <td>0.025153</td>\n",
       "      <td>0.071859</td>\n",
       "      <td>0.001768</td>\n",
       "      <td>balanced_subsample</td>\n",
       "      <td>3</td>\n",
       "      <td>0.3</td>\n",
       "      <td>0.05</td>\n",
       "      <td>500</td>\n",
       "      <td>1</td>\n",
       "      <td>42</td>\n",
       "      <td>{'class_weight': 'balanced_subsample', 'max_de...</td>\n",
       "      <td>0.967532</td>\n",
       "      <td>0.959416</td>\n",
       "      <td>0.949675</td>\n",
       "      <td>0.939935</td>\n",
       "      <td>0.365260</td>\n",
       "      <td>0.836364</td>\n",
       "      <td>0.235734</td>\n",
       "      <td>18</td>\n",
       "    </tr>\n",
       "    <tr>\n",
       "      <th>1</th>\n",
       "      <td>balanced</td>\n",
       "      <td>3</td>\n",
       "      <td>0.3</td>\n",
       "      <td>0.05</td>\n",
       "      <td>100</td>\n",
       "      <td>1</td>\n",
       "      <td>42</td>\n",
       "      <td>0.227500</td>\n",
       "      <td>0.009212</td>\n",
       "      <td>0.017012</td>\n",
       "      <td>0.002048</td>\n",
       "      <td>balanced</td>\n",
       "      <td>3</td>\n",
       "      <td>0.3</td>\n",
       "      <td>0.05</td>\n",
       "      <td>100</td>\n",
       "      <td>1</td>\n",
       "      <td>42</td>\n",
       "      <td>{'class_weight': 'balanced', 'max_depth': 3, '...</td>\n",
       "      <td>0.957792</td>\n",
       "      <td>0.944805</td>\n",
       "      <td>0.954545</td>\n",
       "      <td>0.948052</td>\n",
       "      <td>0.373377</td>\n",
       "      <td>0.835714</td>\n",
       "      <td>0.231214</td>\n",
       "      <td>19</td>\n",
       "    </tr>\n",
       "    <tr>\n",
       "      <th>4</th>\n",
       "      <td>balanced</td>\n",
       "      <td>3</td>\n",
       "      <td>auto</td>\n",
       "      <td>0.05</td>\n",
       "      <td>100</td>\n",
       "      <td>1</td>\n",
       "      <td>42</td>\n",
       "      <td>0.220556</td>\n",
       "      <td>0.004164</td>\n",
       "      <td>0.016304</td>\n",
       "      <td>0.001180</td>\n",
       "      <td>balanced</td>\n",
       "      <td>3</td>\n",
       "      <td>auto</td>\n",
       "      <td>0.05</td>\n",
       "      <td>100</td>\n",
       "      <td>1</td>\n",
       "      <td>42</td>\n",
       "      <td>{'class_weight': 'balanced', 'max_depth': 3, '...</td>\n",
       "      <td>0.964286</td>\n",
       "      <td>0.946429</td>\n",
       "      <td>0.952922</td>\n",
       "      <td>0.943182</td>\n",
       "      <td>0.371753</td>\n",
       "      <td>0.835714</td>\n",
       "      <td>0.232093</td>\n",
       "      <td>19</td>\n",
       "    </tr>\n",
       "    <tr>\n",
       "      <th>15</th>\n",
       "      <td>balanced_subsample</td>\n",
       "      <td>3</td>\n",
       "      <td>auto</td>\n",
       "      <td>0.05</td>\n",
       "      <td>50</td>\n",
       "      <td>1</td>\n",
       "      <td>42</td>\n",
       "      <td>0.159286</td>\n",
       "      <td>0.003228</td>\n",
       "      <td>0.008901</td>\n",
       "      <td>0.000598</td>\n",
       "      <td>balanced_subsample</td>\n",
       "      <td>3</td>\n",
       "      <td>auto</td>\n",
       "      <td>0.05</td>\n",
       "      <td>50</td>\n",
       "      <td>1</td>\n",
       "      <td>42</td>\n",
       "      <td>{'class_weight': 'balanced_subsample', 'max_de...</td>\n",
       "      <td>0.970779</td>\n",
       "      <td>0.941558</td>\n",
       "      <td>0.952922</td>\n",
       "      <td>0.941558</td>\n",
       "      <td>0.365260</td>\n",
       "      <td>0.834416</td>\n",
       "      <td>0.234821</td>\n",
       "      <td>21</td>\n",
       "    </tr>\n",
       "    <tr>\n",
       "      <th>16</th>\n",
       "      <td>balanced_subsample</td>\n",
       "      <td>3</td>\n",
       "      <td>auto</td>\n",
       "      <td>0.05</td>\n",
       "      <td>100</td>\n",
       "      <td>1</td>\n",
       "      <td>42</td>\n",
       "      <td>0.323029</td>\n",
       "      <td>0.005518</td>\n",
       "      <td>0.016453</td>\n",
       "      <td>0.001454</td>\n",
       "      <td>balanced_subsample</td>\n",
       "      <td>3</td>\n",
       "      <td>auto</td>\n",
       "      <td>0.05</td>\n",
       "      <td>100</td>\n",
       "      <td>1</td>\n",
       "      <td>42</td>\n",
       "      <td>{'class_weight': 'balanced_subsample', 'max_de...</td>\n",
       "      <td>0.969156</td>\n",
       "      <td>0.943182</td>\n",
       "      <td>0.951299</td>\n",
       "      <td>0.939935</td>\n",
       "      <td>0.368506</td>\n",
       "      <td>0.834416</td>\n",
       "      <td>0.233175</td>\n",
       "      <td>21</td>\n",
       "    </tr>\n",
       "    <tr>\n",
       "      <th>13</th>\n",
       "      <td>balanced_subsample</td>\n",
       "      <td>3</td>\n",
       "      <td>0.3</td>\n",
       "      <td>0.05</td>\n",
       "      <td>100</td>\n",
       "      <td>1</td>\n",
       "      <td>42</td>\n",
       "      <td>0.332166</td>\n",
       "      <td>0.004616</td>\n",
       "      <td>0.015798</td>\n",
       "      <td>0.000498</td>\n",
       "      <td>balanced_subsample</td>\n",
       "      <td>3</td>\n",
       "      <td>0.3</td>\n",
       "      <td>0.05</td>\n",
       "      <td>100</td>\n",
       "      <td>1</td>\n",
       "      <td>42</td>\n",
       "      <td>{'class_weight': 'balanced_subsample', 'max_de...</td>\n",
       "      <td>0.961039</td>\n",
       "      <td>0.946429</td>\n",
       "      <td>0.952922</td>\n",
       "      <td>0.941558</td>\n",
       "      <td>0.366883</td>\n",
       "      <td>0.833766</td>\n",
       "      <td>0.233533</td>\n",
       "      <td>23</td>\n",
       "    </tr>\n",
       "    <tr>\n",
       "      <th>12</th>\n",
       "      <td>balanced_subsample</td>\n",
       "      <td>3</td>\n",
       "      <td>0.3</td>\n",
       "      <td>0.05</td>\n",
       "      <td>50</td>\n",
       "      <td>1</td>\n",
       "      <td>42</td>\n",
       "      <td>0.168855</td>\n",
       "      <td>0.003648</td>\n",
       "      <td>0.008940</td>\n",
       "      <td>0.000449</td>\n",
       "      <td>balanced_subsample</td>\n",
       "      <td>3</td>\n",
       "      <td>0.3</td>\n",
       "      <td>0.05</td>\n",
       "      <td>50</td>\n",
       "      <td>1</td>\n",
       "      <td>42</td>\n",
       "      <td>{'class_weight': 'balanced_subsample', 'max_de...</td>\n",
       "      <td>0.959416</td>\n",
       "      <td>0.936688</td>\n",
       "      <td>0.952922</td>\n",
       "      <td>0.943182</td>\n",
       "      <td>0.362013</td>\n",
       "      <td>0.830844</td>\n",
       "      <td>0.234546</td>\n",
       "      <td>24</td>\n",
       "    </tr>\n",
       "  </tbody>\n",
       "</table>\n",
       "</div>"
      ],
      "text/plain": [
       "          class_weight  max_depth  ... std_test_score  rank_test_score\n",
       "21  balanced_subsample          5  ...       0.229128                1\n",
       "6             balanced          5  ...       0.233938                2\n",
       "11            balanced          5  ...       0.231244                3\n",
       "18  balanced_subsample          5  ...       0.233607                3\n",
       "23  balanced_subsample          5  ...       0.231078                5\n",
       "19  balanced_subsample          5  ...       0.231693                6\n",
       "7             balanced          5  ...       0.230699                7\n",
       "9             balanced          5  ...       0.228285                7\n",
       "20  balanced_subsample          5  ...       0.231588                7\n",
       "22  balanced_subsample          5  ...       0.231693               10\n",
       "8             balanced          5  ...       0.230749               11\n",
       "10            balanced          5  ...       0.231208               12\n",
       "5             balanced          3  ...       0.236038               13\n",
       "3             balanced          3  ...       0.233533               13\n",
       "0             balanced          3  ...       0.235255               15\n",
       "17  balanced_subsample          3  ...       0.235915               16\n",
       "2             balanced          3  ...       0.234718               17\n",
       "14  balanced_subsample          3  ...       0.235734               18\n",
       "1             balanced          3  ...       0.231214               19\n",
       "4             balanced          3  ...       0.232093               19\n",
       "15  balanced_subsample          3  ...       0.234821               21\n",
       "16  balanced_subsample          3  ...       0.233175               21\n",
       "13  balanced_subsample          3  ...       0.233533               23\n",
       "12  balanced_subsample          3  ...       0.234546               24\n",
       "\n",
       "[24 rows x 27 columns]"
      ]
     },
     "execution_count": 41,
     "metadata": {
      "tags": []
     },
     "output_type": "execute_result"
    }
   ],
   "source": [
    "newdf = pd.DataFrame.from_dict(clf.cv_results_['params'])\n",
    "result = pd.concat([newdf,rf_results], axis=1, join='inner')\n",
    "result.sort_values('rank_test_score', ascending=True)"
   ]
  },
  {
   "cell_type": "markdown",
   "metadata": {
    "id": "UNetC7leG-as"
   },
   "source": [
    "# Using the best results of the Hyper Parameter Search on the Test Data"
   ]
  },
  {
   "cell_type": "code",
   "execution_count": 43,
   "metadata": {
    "colab": {
     "base_uri": "https://localhost:8080/",
     "height": 707
    },
    "executionInfo": {
     "elapsed": 3954,
     "status": "ok",
     "timestamp": 1618505296643,
     "user": {
      "displayName": "Nikhil Pereira",
      "photoUrl": "https://lh3.googleusercontent.com/-KmpYA79GZFM/AAAAAAAAAAI/AAAAAAAAAPs/M7RMlSus4Ck/s64/photo.jpg",
      "userId": "01764547955641237902"
     },
     "user_tz": 240
    },
    "id": "Ay29ebw7xd9S",
    "outputId": "14ed3ce4-8ed6-45ed-b3f7-4b5980fd54fc"
   },
   "outputs": [
    {
     "data": {
      "image/png": "[encoded data removed]",
      "text/plain": [
       "<Figure size 432x288 with 1 Axes>"
      ]
     },
     "metadata": {
      "tags": []
     },
     "output_type": "display_data"
    },
    {
     "name": "stdout",
     "output_type": "stream",
     "text": [
      "              precision    recall  f1-score   support\n",
      "\n",
      "      Stayed       0.99      0.92      0.95      3527\n",
      "    Attrited       0.01      0.09      0.01        23\n",
      "\n",
      "    accuracy                           0.91      3550\n",
      "   macro avg       0.50      0.50      0.48      3550\n",
      "weighted avg       0.99      0.91      0.95      3550\n",
      "\n"
     ]
    },
    {
     "data": {
      "image/png": "[encoded data removed]",
      "text/plain": [
       "<Figure size 432x288 with 2 Axes>"
      ]
     },
     "metadata": {
      "tags": []
     },
     "output_type": "display_data"
    }
   ],
   "source": [
    "from sklearn import metrics\n",
    "clf1 = RandomForestClassifier(**clf.best_params_) #defining the algorithm\n",
    "#Fitting the Data\n",
    "clf1.fit(X_train.select_dtypes(include=num), y_train)\n",
    "\n",
    "#ROC Curve\n",
    "RF_roc_auc = roc_auc_score(y_test, clf1.predict(X_test.select_dtypes(include=num)))\n",
    "fpr, tpr, thresholds = roc_curve(y_test, clf1.predict_proba(X_test.select_dtypes(include=num))[:,1])\n",
    "plt.figure()\n",
    "plt.plot(fpr, tpr, label='Random Forest (area = %0.2f)' % RF_roc_auc)\n",
    "plt.plot([0, 1], [0, 1],'r--')\n",
    "plt.xlim([0.0, 1.0])\n",
    "plt.ylim([0.0, 1.05])\n",
    "plt.xlabel('False Positive Rate')\n",
    "plt.ylabel('True Positive Rate')\n",
    "plt.title('Receiver operating characteristic')\n",
    "plt.legend(loc=\"lower right\")\n",
    "plt.savefig('RF_ROC')\n",
    "plt.show()\n",
    "\n",
    "#defining the predicted data and the list for the label names\n",
    "y_pred = clf1.predict(X_test.select_dtypes(include=num))\n",
    "label_names = [\"Stayed\", \"Attrited\"]\n",
    "\n",
    "#Creating the confustion matrix\n",
    "cf_matrix = metrics.confusion_matrix(y_test, y_pred)\n",
    "sns.set(font_scale=1.0)\n",
    "sns.heatmap(cf_matrix, annot=True, yticklabels=label_names, xticklabels=label_names, fmt=\"g\", cmap=\"Blues\")\n",
    "\n",
    "#Creating confustion matrix for the train set\n",
    "#cf1_matrix = metrics.confusion_matrix(y_train, clf1.predict(X_train.select_dtypes(include=num)))\n",
    "#sns.heatmap(cf1_matrix, annot=True, yticklabels=label_names, xticklabels=label_names, fmt=\"g\")\n",
    "\n",
    "#Creating the full statistical report   \n",
    "print(classification_report(y_test, y_pred, target_names=label_names))"
   ]
  },
  {
   "cell_type": "markdown",
   "metadata": {
    "id": "rqHpPmcFJgvv"
   },
   "source": [
    "# Testing different threshold values"
   ]
  },
  {
   "cell_type": "code",
   "execution_count": 45,
   "metadata": {
    "colab": {
     "base_uri": "https://localhost:8080/",
     "height": 285
    },
    "executionInfo": {
     "elapsed": 5412,
     "status": "ok",
     "timestamp": 1618505339920,
     "user": {
      "displayName": "Nikhil Pereira",
      "photoUrl": "https://lh3.googleusercontent.com/-KmpYA79GZFM/AAAAAAAAAAI/AAAAAAAAAPs/M7RMlSus4Ck/s64/photo.jpg",
      "userId": "01764547955641237902"
     },
     "user_tz": 240
    },
    "id": "DJ9xEuTHEIG2",
    "outputId": "f3ea7a79-91de-409a-c6c1-3d5c939668c5"
   },
   "outputs": [
    {
     "data": {
      "text/plain": [
       "<matplotlib.axes._subplots.AxesSubplot at 0x7f8077f9d650>"
      ]
     },
     "execution_count": 45,
     "metadata": {
      "tags": []
     },
     "output_type": "execute_result"
    },
    {
     "data": {
      "image/png": "[encoded data removed]",
      "text/plain": [
       "<Figure size 432x288 with 2 Axes>"
      ]
     },
     "metadata": {
      "tags": []
     },
     "output_type": "display_data"
    }
   ],
   "source": [
    "#testing a different threshold value - default is 0.5\n",
    "from sklearn.metrics import roc_curve, precision_recall_curve, auc, make_scorer, recall_score, accuracy_score, precision_score, confusion_matrix\n",
    "\n",
    "y_pred2 = (clf1.predict_proba(X_test.select_dtypes(include=num))[:,1] >= 0.4).astype(bool) # set threshold as 0.4\n",
    "\n",
    "#confusion matrix\n",
    "cf_matrix2 = metrics.confusion_matrix(y_test, y_pred2)\n",
    "sns.set(font_scale=1.0)\n",
    "sns.heatmap(cf_matrix2, annot=True, yticklabels=label_names, xticklabels=label_names, fmt=\"g\", cmap=\"Blues\")\n"
   ]
  },
  {
   "cell_type": "code",
   "execution_count": 46,
   "metadata": {
    "colab": {
     "base_uri": "https://localhost:8080/",
     "height": 285
    },
    "executionInfo": {
     "elapsed": 4267,
     "status": "ok",
     "timestamp": 1618505339923,
     "user": {
      "displayName": "Nikhil Pereira",
      "photoUrl": "https://lh3.googleusercontent.com/-KmpYA79GZFM/AAAAAAAAAAI/AAAAAAAAAPs/M7RMlSus4Ck/s64/photo.jpg",
      "userId": "01764547955641237902"
     },
     "user_tz": 240
    },
    "id": "o-hlXd4sJTkq",
    "outputId": "2995d01f-594c-4122-84c9-895206a053ff"
   },
   "outputs": [
    {
     "data": {
      "text/plain": [
       "<matplotlib.axes._subplots.AxesSubplot at 0x7f807811a9d0>"
      ]
     },
     "execution_count": 46,
     "metadata": {
      "tags": []
     },
     "output_type": "execute_result"
    },
    {
     "data": {
      "image/png": "[encoded data removed]",
      "text/plain": [
       "<Figure size 432x288 with 2 Axes>"
      ]
     },
     "metadata": {
      "tags": []
     },
     "output_type": "display_data"
    }
   ],
   "source": [
    "#testing a different threshold value - default is 0.5\n",
    "from sklearn.metrics import roc_curve, precision_recall_curve, auc, make_scorer, recall_score, accuracy_score, precision_score, confusion_matrix\n",
    "\n",
    "y_pred2 = (clf1.predict_proba(X_test.select_dtypes(include=num))[:,1] >= 0.3).astype(bool) # set threshold as 0.3\n",
    "\n",
    "#confusion matrix\n",
    "cf_matrix2 = metrics.confusion_matrix(y_test, y_pred2)\n",
    "sns.set(font_scale=1.0)\n",
    "sns.heatmap(cf_matrix2, annot=True, yticklabels=label_names, xticklabels=label_names, fmt=\"g\", cmap=\"Blues\")\n"
   ]
  },
  {
   "cell_type": "code",
   "execution_count": 47,
   "metadata": {
    "colab": {
     "base_uri": "https://localhost:8080/",
     "height": 288
    },
    "executionInfo": {
     "elapsed": 1678,
     "status": "ok",
     "timestamp": 1618505339924,
     "user": {
      "displayName": "Nikhil Pereira",
      "photoUrl": "https://lh3.googleusercontent.com/-KmpYA79GZFM/AAAAAAAAAAI/AAAAAAAAAPs/M7RMlSus4Ck/s64/photo.jpg",
      "userId": "01764547955641237902"
     },
     "user_tz": 240
    },
    "id": "9fNc7t41JWpu",
    "outputId": "4c99fadd-52b1-4ec3-e86f-42150e05882c"
   },
   "outputs": [
    {
     "data": {
      "text/plain": [
       "<matplotlib.axes._subplots.AxesSubplot at 0x7f80782aa290>"
      ]
     },
     "execution_count": 47,
     "metadata": {
      "tags": []
     },
     "output_type": "execute_result"
    },
    {
     "data": {
      "image/png": "[encoded data removed]",
      "text/plain": [
       "<Figure size 432x288 with 2 Axes>"
      ]
     },
     "metadata": {
      "tags": []
     },
     "output_type": "display_data"
    }
   ],
   "source": [
    "#testing a different threshold value - default is 0.5\n",
    "from sklearn.metrics import roc_curve, precision_recall_curve, auc, make_scorer, recall_score, accuracy_score, precision_score, confusion_matrix\n",
    "\n",
    "y_pred2 = (clf1.predict_proba(X_test.select_dtypes(include=num))[:,1] >= 0.2).astype(bool) # set threshold as 0.2\n",
    "\n",
    "#confusion matrix\n",
    "cf_matrix2 = metrics.confusion_matrix(y_test, y_pred2)\n",
    "sns.set(font_scale=1.0)\n",
    "sns.heatmap(cf_matrix2, annot=True, yticklabels=label_names, xticklabels=label_names, fmt=\"g\", cmap=\"Blues\")\n"
   ]
  },
  {
   "cell_type": "markdown",
   "metadata": {
    "id": "PZMYZt5kHmP1"
   },
   "source": [
    "# Scatter Plot of Feature Importance Determined from RF Model"
   ]
  },
  {
   "cell_type": "code",
   "execution_count": null,
   "metadata": {
    "colab": {
     "base_uri": "https://localhost:8080/",
     "height": 1000
    },
    "executionInfo": {
     "elapsed": 72465,
     "status": "ok",
     "timestamp": 1617891727693,
     "user": {
      "displayName": "Nikhil Pereira",
      "photoUrl": "https://lh3.googleusercontent.com/-KmpYA79GZFM/AAAAAAAAAAI/AAAAAAAAAPs/M7RMlSus4Ck/s64/photo.jpg",
      "userId": "01764547955641237902"
     },
     "user_tz": 240
    },
    "id": "1wgHdu4uxLAm",
    "outputId": "d6372b6a-3a31-4221-ed15-aeef5913baa3"
   },
   "outputs": [
    {
     "data": {
      "application/vnd.plotly.v1+json": {
       "config": {
        "linkText": "Export to plot.ly",
        "plotlyServerURL": "https://plot.ly",
        "showLink": false
       },
       "data": [
        {
         "marker": {
          "color": [
           0.03420574111017286,
           0.0292507204333798,
           0.027332093225319345,
           0.031166156200268063,
           0.06627529210715033,
           0.03499873825520552,
           0.02349613852296301,
           0.08663098320378688,
           0.028389577360529255,
           0.03709734652989778,
           0.024983939501769584,
           0.018006812269827133,
           0.039905064138625525,
           0.04353309634783955,
           0.038893697760782636,
           0.02554565273711824,
           0.04613770853424196,
           0.01996894292657309,
           0.05474770102948051,
           0.05361953905191617,
           0.04785784219867796,
           0.18795721655447484
          ],
          "colorscale": [
           [
            0,
            "rgb(12,51,131)"
           ],
           [
            0.25,
            "rgb(10,136,186)"
           ],
           [
            0.5,
            "rgb(242,211,56)"
           ],
           [
            0.75,
            "rgb(242,143,56)"
           ],
           [
            1,
            "rgb(217,30,30)"
           ]
          ],
          "showscale": true,
          "size": 13,
          "sizemode": "diameter",
          "sizeref": 1
         },
         "mode": "markers",
         "text": [
          "0",
          "1",
          "2",
          "3",
          "4",
          "5",
          "6",
          "7",
          "8",
          "9",
          "10",
          "11",
          "12",
          "13",
          "14",
          "15",
          "16",
          "17",
          "18",
          "19",
          "20",
          "21"
         ],
         "type": "scatter",
         "x": [
          "0",
          "1",
          "2",
          "3",
          "4",
          "5",
          "6",
          "7",
          "8",
          "9",
          "10",
          "11",
          "12",
          "13",
          "14",
          "15",
          "16",
          "17",
          "18",
          "19",
          "20",
          "21"
         ],
         "y": [
          0.03420574111017286,
          0.0292507204333798,
          0.027332093225319345,
          0.031166156200268063,
          0.06627529210715033,
          0.03499873825520552,
          0.02349613852296301,
          0.08663098320378688,
          0.028389577360529255,
          0.03709734652989778,
          0.024983939501769584,
          0.018006812269827133,
          0.039905064138625525,
          0.04353309634783955,
          0.038893697760782636,
          0.02554565273711824,
          0.04613770853424196,
          0.01996894292657309,
          0.05474770102948051,
          0.05361953905191617,
          0.04785784219867796,
          0.18795721655447484
         ]
        }
       ],
       "layout": {
        "autosize": true,
        "hovermode": "closest",
        "showlegend": false,
        "template": {
         "data": {
          "bar": [
           {
            "error_x": {
             "color": "#2a3f5f"
            },
            "error_y": {
             "color": "#2a3f5f"
            },
            "marker": {
             "line": {
              "color": "#E5ECF6",
              "width": 0.5
             }
            },
            "type": "bar"
           }
          ],
          "barpolar": [
           {
            "marker": {
             "line": {
              "color": "#E5ECF6",
              "width": 0.5
             }
            },
            "type": "barpolar"
           }
          ],
          "carpet": [
           {
            "aaxis": {
             "endlinecolor": "#2a3f5f",
             "gridcolor": "white",
             "linecolor": "white",
             "minorgridcolor": "white",
             "startlinecolor": "#2a3f5f"
            },
            "baxis": {
             "endlinecolor": "#2a3f5f",
             "gridcolor": "white",
             "linecolor": "white",
             "minorgridcolor": "white",
             "startlinecolor": "#2a3f5f"
            },
            "type": "carpet"
           }
          ],
          "choropleth": [
           {
            "colorbar": {
             "outlinewidth": 0,
             "ticks": ""
            },
            "type": "choropleth"
           }
          ],
          "contour": [
           {
            "colorbar": {
             "outlinewidth": 0,
             "ticks": ""
            },
            "colorscale": [
             [
              0,
              "#0d0887"
             ],
             [
              0.1111111111111111,
              "#46039f"
             ],
             [
              0.2222222222222222,
              "#7201a8"
             ],
             [
              0.3333333333333333,
              "#9c179e"
             ],
             [
              0.4444444444444444,
              "#bd3786"
             ],
             [
              0.5555555555555556,
              "#d8576b"
             ],
             [
              0.6666666666666666,
              "#ed7953"
             ],
             [
              0.7777777777777778,
              "#fb9f3a"
             ],
             [
              0.8888888888888888,
              "#fdca26"
             ],
             [
              1,
              "#f0f921"
             ]
            ],
            "type": "contour"
           }
          ],
          "contourcarpet": [
           {
            "colorbar": {
             "outlinewidth": 0,
             "ticks": ""
            },
            "type": "contourcarpet"
           }
          ],
          "heatmap": [
           {
            "colorbar": {
             "outlinewidth": 0,
             "ticks": ""
            },
            "colorscale": [
             [
              0,
              "#0d0887"
             ],
             [
              0.1111111111111111,
              "#46039f"
             ],
             [
              0.2222222222222222,
              "#7201a8"
             ],
             [
              0.3333333333333333,
              "#9c179e"
             ],
             [
              0.4444444444444444,
              "#bd3786"
             ],
             [
              0.5555555555555556,
              "#d8576b"
             ],
             [
              0.6666666666666666,
              "#ed7953"
             ],
             [
              0.7777777777777778,
              "#fb9f3a"
             ],
             [
              0.8888888888888888,
              "#fdca26"
             ],
             [
              1,
              "#f0f921"
             ]
            ],
            "type": "heatmap"
           }
          ],
          "heatmapgl": [
           {
            "colorbar": {
             "outlinewidth": 0,
             "ticks": ""
            },
            "colorscale": [
             [
              0,
              "#0d0887"
             ],
             [
              0.1111111111111111,
              "#46039f"
             ],
             [
              0.2222222222222222,
              "#7201a8"
             ],
             [
              0.3333333333333333,
              "#9c179e"
             ],
             [
              0.4444444444444444,
              "#bd3786"
             ],
             [
              0.5555555555555556,
              "#d8576b"
             ],
             [
              0.6666666666666666,
              "#ed7953"
             ],
             [
              0.7777777777777778,
              "#fb9f3a"
             ],
             [
              0.8888888888888888,
              "#fdca26"
             ],
             [
              1,
              "#f0f921"
             ]
            ],
            "type": "heatmapgl"
           }
          ],
          "histogram": [
           {
            "marker": {
             "colorbar": {
              "outlinewidth": 0,
              "ticks": ""
             }
            },
            "type": "histogram"
           }
          ],
          "histogram2d": [
           {
            "colorbar": {
             "outlinewidth": 0,
             "ticks": ""
            },
            "colorscale": [
             [
              0,
              "#0d0887"
             ],
             [
              0.1111111111111111,
              "#46039f"
             ],
             [
              0.2222222222222222,
              "#7201a8"
             ],
             [
              0.3333333333333333,
              "#9c179e"
             ],
             [
              0.4444444444444444,
              "#bd3786"
             ],
             [
              0.5555555555555556,
              "#d8576b"
             ],
             [
              0.6666666666666666,
              "#ed7953"
             ],
             [
              0.7777777777777778,
              "#fb9f3a"
             ],
             [
              0.8888888888888888,
              "#fdca26"
             ],
             [
              1,
              "#f0f921"
             ]
            ],
            "type": "histogram2d"
           }
          ],
          "histogram2dcontour": [
           {
            "colorbar": {
             "outlinewidth": 0,
             "ticks": ""
            },
            "colorscale": [
             [
              0,
              "#0d0887"
             ],
             [
              0.1111111111111111,
              "#46039f"
             ],
             [
              0.2222222222222222,
              "#7201a8"
             ],
             [
              0.3333333333333333,
              "#9c179e"
             ],
             [
              0.4444444444444444,
              "#bd3786"
             ],
             [
              0.5555555555555556,
              "#d8576b"
             ],
             [
              0.6666666666666666,
              "#ed7953"
             ],
             [
              0.7777777777777778,
              "#fb9f3a"
             ],
             [
              0.8888888888888888,
              "#fdca26"
             ],
             [
              1,
              "#f0f921"
             ]
            ],
            "type": "histogram2dcontour"
           }
          ],
          "mesh3d": [
           {
            "colorbar": {
             "outlinewidth": 0,
             "ticks": ""
            },
            "type": "mesh3d"
           }
          ],
          "parcoords": [
           {
            "line": {
             "colorbar": {
              "outlinewidth": 0,
              "ticks": ""
             }
            },
            "type": "parcoords"
           }
          ],
          "pie": [
           {
            "automargin": true,
            "type": "pie"
           }
          ],
          "scatter": [
           {
            "marker": {
             "colorbar": {
              "outlinewidth": 0,
              "ticks": ""
             }
            },
            "type": "scatter"
           }
          ],
          "scatter3d": [
           {
            "line": {
             "colorbar": {
              "outlinewidth": 0,
              "ticks": ""
             }
            },
            "marker": {
             "colorbar": {
              "outlinewidth": 0,
              "ticks": ""
             }
            },
            "type": "scatter3d"
           }
          ],
          "scattercarpet": [
           {
            "marker": {
             "colorbar": {
              "outlinewidth": 0,
              "ticks": ""
             }
            },
            "type": "scattercarpet"
           }
          ],
          "scattergeo": [
           {
            "marker": {
             "colorbar": {
              "outlinewidth": 0,
              "ticks": ""
             }
            },
            "type": "scattergeo"
           }
          ],
          "scattergl": [
           {
            "marker": {
             "colorbar": {
              "outlinewidth": 0,
              "ticks": ""
             }
            },
            "type": "scattergl"
           }
          ],
          "scattermapbox": [
           {
            "marker": {
             "colorbar": {
              "outlinewidth": 0,
              "ticks": ""
             }
            },
            "type": "scattermapbox"
           }
          ],
          "scatterpolar": [
           {
            "marker": {
             "colorbar": {
              "outlinewidth": 0,
              "ticks": ""
             }
            },
            "type": "scatterpolar"
           }
          ],
          "scatterpolargl": [
           {
            "marker": {
             "colorbar": {
              "outlinewidth": 0,
              "ticks": ""
             }
            },
            "type": "scatterpolargl"
           }
          ],
          "scatterternary": [
           {
            "marker": {
             "colorbar": {
              "outlinewidth": 0,
              "ticks": ""
             }
            },
            "type": "scatterternary"
           }
          ],
          "surface": [
           {
            "colorbar": {
             "outlinewidth": 0,
             "ticks": ""
            },
            "colorscale": [
             [
              0,
              "#0d0887"
             ],
             [
              0.1111111111111111,
              "#46039f"
             ],
             [
              0.2222222222222222,
              "#7201a8"
             ],
             [
              0.3333333333333333,
              "#9c179e"
             ],
             [
              0.4444444444444444,
              "#bd3786"
             ],
             [
              0.5555555555555556,
              "#d8576b"
             ],
             [
              0.6666666666666666,
              "#ed7953"
             ],
             [
              0.7777777777777778,
              "#fb9f3a"
             ],
             [
              0.8888888888888888,
              "#fdca26"
             ],
             [
              1,
              "#f0f921"
             ]
            ],
            "type": "surface"
           }
          ],
          "table": [
           {
            "cells": {
             "fill": {
              "color": "#EBF0F8"
             },
             "line": {
              "color": "white"
             }
            },
            "header": {
             "fill": {
              "color": "#C8D4E3"
             },
             "line": {
              "color": "white"
             }
            },
            "type": "table"
           }
          ]
         },
         "layout": {
          "annotationdefaults": {
           "arrowcolor": "#2a3f5f",
           "arrowhead": 0,
           "arrowwidth": 1
          },
          "coloraxis": {
           "colorbar": {
            "outlinewidth": 0,
            "ticks": ""
           }
          },
          "colorscale": {
           "diverging": [
            [
             0,
             "#8e0152"
            ],
            [
             0.1,
             "#c51b7d"
            ],
            [
             0.2,
             "#de77ae"
            ],
            [
             0.3,
             "#f1b6da"
            ],
            [
             0.4,
             "#fde0ef"
            ],
            [
             0.5,
             "#f7f7f7"
            ],
            [
             0.6,
             "#e6f5d0"
            ],
            [
             0.7,
             "#b8e186"
            ],
            [
             0.8,
             "#7fbc41"
            ],
            [
             0.9,
             "#4d9221"
            ],
            [
             1,
             "#276419"
            ]
           ],
           "sequential": [
            [
             0,
             "#0d0887"
            ],
            [
             0.1111111111111111,
             "#46039f"
            ],
            [
             0.2222222222222222,
             "#7201a8"
            ],
            [
             0.3333333333333333,
             "#9c179e"
            ],
            [
             0.4444444444444444,
             "#bd3786"
            ],
            [
             0.5555555555555556,
             "#d8576b"
            ],
            [
             0.6666666666666666,
             "#ed7953"
            ],
            [
             0.7777777777777778,
             "#fb9f3a"
            ],
            [
             0.8888888888888888,
             "#fdca26"
            ],
            [
             1,
             "#f0f921"
            ]
           ],
           "sequentialminus": [
            [
             0,
             "#0d0887"
            ],
            [
             0.1111111111111111,
             "#46039f"
            ],
            [
             0.2222222222222222,
             "#7201a8"
            ],
            [
             0.3333333333333333,
             "#9c179e"
            ],
            [
             0.4444444444444444,
             "#bd3786"
            ],
            [
             0.5555555555555556,
             "#d8576b"
            ],
            [
             0.6666666666666666,
             "#ed7953"
            ],
            [
             0.7777777777777778,
             "#fb9f3a"
            ],
            [
             0.8888888888888888,
             "#fdca26"
            ],
            [
             1,
             "#f0f921"
            ]
           ]
          },
          "colorway": [
           "#636efa",
           "#EF553B",
           "#00cc96",
           "#ab63fa",
           "#FFA15A",
           "#19d3f3",
           "#FF6692",
           "#B6E880",
           "#FF97FF",
           "#FECB52"
          ],
          "font": {
           "color": "#2a3f5f"
          },
          "geo": {
           "bgcolor": "white",
           "lakecolor": "white",
           "landcolor": "#E5ECF6",
           "showlakes": true,
           "showland": true,
           "subunitcolor": "white"
          },
          "hoverlabel": {
           "align": "left"
          },
          "hovermode": "closest",
          "mapbox": {
           "style": "light"
          },
          "paper_bgcolor": "white",
          "plot_bgcolor": "#E5ECF6",
          "polar": {
           "angularaxis": {
            "gridcolor": "white",
            "linecolor": "white",
            "ticks": ""
           },
           "bgcolor": "#E5ECF6",
           "radialaxis": {
            "gridcolor": "white",
            "linecolor": "white",
            "ticks": ""
           }
          },
          "scene": {
           "xaxis": {
            "backgroundcolor": "#E5ECF6",
            "gridcolor": "white",
            "gridwidth": 2,
            "linecolor": "white",
            "showbackground": true,
            "ticks": "",
            "zerolinecolor": "white"
           },
           "yaxis": {
            "backgroundcolor": "#E5ECF6",
            "gridcolor": "white",
            "gridwidth": 2,
            "linecolor": "white",
            "showbackground": true,
            "ticks": "",
            "zerolinecolor": "white"
           },
           "zaxis": {
            "backgroundcolor": "#E5ECF6",
            "gridcolor": "white",
            "gridwidth": 2,
            "linecolor": "white",
            "showbackground": true,
            "ticks": "",
            "zerolinecolor": "white"
           }
          },
          "shapedefaults": {
           "line": {
            "color": "#2a3f5f"
           }
          },
          "ternary": {
           "aaxis": {
            "gridcolor": "white",
            "linecolor": "white",
            "ticks": ""
           },
           "baxis": {
            "gridcolor": "white",
            "linecolor": "white",
            "ticks": ""
           },
           "bgcolor": "#E5ECF6",
           "caxis": {
            "gridcolor": "white",
            "linecolor": "white",
            "ticks": ""
           }
          },
          "title": {
           "x": 0.05
          },
          "xaxis": {
           "automargin": true,
           "gridcolor": "white",
           "linecolor": "white",
           "ticks": "",
           "title": {
            "standoff": 15
           },
           "zerolinecolor": "white",
           "zerolinewidth": 2
          },
          "yaxis": {
           "automargin": true,
           "gridcolor": "white",
           "linecolor": "white",
           "ticks": "",
           "title": {
            "standoff": 15
           },
           "zerolinecolor": "white",
           "zerolinewidth": 2
          }
         }
        },
        "title": {
         "font": {
          "size": 40
         },
         "text": "Random Forest Feature Importance"
        },
        "xaxis": {
         "showgrid": false,
         "showline": false,
         "ticklen": 1,
         "title": {
          "font": {
           "size": 30
          },
          "text": "Question Number"
         },
         "zeroline": false
        },
        "yaxis": {
         "gridwidth": 2,
         "showgrid": false,
         "ticklen": 5,
         "title": {
          "font": {
           "size": 30
          },
          "text": "Feature Importance"
         },
         "zeroline": false
        }
       }
      },
      "text/html": [
       "<div>\n",
       "        \n",
       "        \n",
       "            <div id=\"f655fb7f-cbb2-43ea-afde-c12d105f88c3\" class=\"plotly-graph-div\" style=\"height:525px; width:100%;\"></div>\n",
       "            <script type=\"text/javascript\">\n",
       "                require([\"plotly\"], function(Plotly) {\n",
       "                    window.PLOTLYENV=window.PLOTLYENV || {};\n",
       "                    \n",
       "                if (document.getElementById(\"f655fb7f-cbb2-43ea-afde-c12d105f88c3\")) {\n",
       "                    Plotly.newPlot(\n",
       "                        'f655fb7f-cbb2-43ea-afde-c12d105f88c3',\n",
       "                        [{\"marker\": {\"color\": [0.03420574111017286, 0.0292507204333798, 0.027332093225319345, 0.031166156200268063, 0.06627529210715033, 0.03499873825520552, 0.02349613852296301, 0.08663098320378688, 0.028389577360529255, 0.03709734652989778, 0.024983939501769584, 0.018006812269827133, 0.039905064138625525, 0.04353309634783955, 0.038893697760782636, 0.02554565273711824, 0.04613770853424196, 0.01996894292657309, 0.05474770102948051, 0.05361953905191617, 0.04785784219867796, 0.18795721655447484], \"colorscale\": [[0.0, \"rgb(12,51,131)\"], [0.25, \"rgb(10,136,186)\"], [0.5, \"rgb(242,211,56)\"], [0.75, \"rgb(242,143,56)\"], [1.0, \"rgb(217,30,30)\"]], \"showscale\": true, \"size\": 13, \"sizemode\": \"diameter\", \"sizeref\": 1}, \"mode\": \"markers\", \"text\": [\"0\", \"1\", \"2\", \"3\", \"4\", \"5\", \"6\", \"7\", \"8\", \"9\", \"10\", \"11\", \"12\", \"13\", \"14\", \"15\", \"16\", \"17\", \"18\", \"19\", \"20\", \"21\"], \"type\": \"scatter\", \"x\": [\"0\", \"1\", \"2\", \"3\", \"4\", \"5\", \"6\", \"7\", \"8\", \"9\", \"10\", \"11\", \"12\", \"13\", \"14\", \"15\", \"16\", \"17\", \"18\", \"19\", \"20\", \"21\"], \"y\": [0.03420574111017286, 0.0292507204333798, 0.027332093225319345, 0.031166156200268063, 0.06627529210715033, 0.03499873825520552, 0.02349613852296301, 0.08663098320378688, 0.028389577360529255, 0.03709734652989778, 0.024983939501769584, 0.018006812269827133, 0.039905064138625525, 0.04353309634783955, 0.038893697760782636, 0.02554565273711824, 0.04613770853424196, 0.01996894292657309, 0.05474770102948051, 0.05361953905191617, 0.04785784219867796, 0.18795721655447484]}],\n",
       "                        {\"autosize\": true, \"hovermode\": \"closest\", \"showlegend\": false, \"template\": {\"data\": {\"bar\": [{\"error_x\": {\"color\": \"#2a3f5f\"}, \"error_y\": {\"color\": \"#2a3f5f\"}, \"marker\": {\"line\": {\"color\": \"#E5ECF6\", \"width\": 0.5}}, \"type\": \"bar\"}], \"barpolar\": [{\"marker\": {\"line\": {\"color\": \"#E5ECF6\", \"width\": 0.5}}, \"type\": \"barpolar\"}], \"carpet\": [{\"aaxis\": {\"endlinecolor\": \"#2a3f5f\", \"gridcolor\": \"white\", \"linecolor\": \"white\", \"minorgridcolor\": \"white\", \"startlinecolor\": \"#2a3f5f\"}, \"baxis\": {\"endlinecolor\": \"#2a3f5f\", \"gridcolor\": \"white\", \"linecolor\": \"white\", \"minorgridcolor\": \"white\", \"startlinecolor\": \"#2a3f5f\"}, \"type\": \"carpet\"}], \"choropleth\": [{\"colorbar\": {\"outlinewidth\": 0, \"ticks\": \"\"}, \"type\": \"choropleth\"}], \"contour\": [{\"colorbar\": {\"outlinewidth\": 0, \"ticks\": \"\"}, \"colorscale\": [[0.0, \"#0d0887\"], [0.1111111111111111, \"#46039f\"], [0.2222222222222222, \"#7201a8\"], [0.3333333333333333, \"#9c179e\"], [0.4444444444444444, \"#bd3786\"], [0.5555555555555556, \"#d8576b\"], [0.6666666666666666, \"#ed7953\"], [0.7777777777777778, \"#fb9f3a\"], [0.8888888888888888, \"#fdca26\"], [1.0, \"#f0f921\"]], \"type\": \"contour\"}], \"contourcarpet\": [{\"colorbar\": {\"outlinewidth\": 0, \"ticks\": \"\"}, \"type\": \"contourcarpet\"}], \"heatmap\": [{\"colorbar\": {\"outlinewidth\": 0, \"ticks\": \"\"}, \"colorscale\": [[0.0, \"#0d0887\"], [0.1111111111111111, \"#46039f\"], [0.2222222222222222, \"#7201a8\"], [0.3333333333333333, \"#9c179e\"], [0.4444444444444444, \"#bd3786\"], [0.5555555555555556, \"#d8576b\"], [0.6666666666666666, \"#ed7953\"], [0.7777777777777778, \"#fb9f3a\"], [0.8888888888888888, \"#fdca26\"], [1.0, \"#f0f921\"]], \"type\": \"heatmap\"}], \"heatmapgl\": [{\"colorbar\": {\"outlinewidth\": 0, \"ticks\": \"\"}, \"colorscale\": [[0.0, \"#0d0887\"], [0.1111111111111111, \"#46039f\"], [0.2222222222222222, \"#7201a8\"], [0.3333333333333333, \"#9c179e\"], [0.4444444444444444, \"#bd3786\"], [0.5555555555555556, \"#d8576b\"], [0.6666666666666666, \"#ed7953\"], [0.7777777777777778, \"#fb9f3a\"], [0.8888888888888888, \"#fdca26\"], [1.0, \"#f0f921\"]], \"type\": \"heatmapgl\"}], \"histogram\": [{\"marker\": {\"colorbar\": {\"outlinewidth\": 0, \"ticks\": \"\"}}, \"type\": \"histogram\"}], \"histogram2d\": [{\"colorbar\": {\"outlinewidth\": 0, \"ticks\": \"\"}, \"colorscale\": [[0.0, \"#0d0887\"], [0.1111111111111111, \"#46039f\"], [0.2222222222222222, \"#7201a8\"], [0.3333333333333333, \"#9c179e\"], [0.4444444444444444, \"#bd3786\"], [0.5555555555555556, \"#d8576b\"], [0.6666666666666666, \"#ed7953\"], [0.7777777777777778, \"#fb9f3a\"], [0.8888888888888888, \"#fdca26\"], [1.0, \"#f0f921\"]], \"type\": \"histogram2d\"}], \"histogram2dcontour\": [{\"colorbar\": {\"outlinewidth\": 0, \"ticks\": \"\"}, \"colorscale\": [[0.0, \"#0d0887\"], [0.1111111111111111, \"#46039f\"], [0.2222222222222222, \"#7201a8\"], [0.3333333333333333, \"#9c179e\"], [0.4444444444444444, \"#bd3786\"], [0.5555555555555556, \"#d8576b\"], [0.6666666666666666, \"#ed7953\"], [0.7777777777777778, \"#fb9f3a\"], [0.8888888888888888, \"#fdca26\"], [1.0, \"#f0f921\"]], \"type\": \"histogram2dcontour\"}], \"mesh3d\": [{\"colorbar\": {\"outlinewidth\": 0, \"ticks\": \"\"}, \"type\": \"mesh3d\"}], \"parcoords\": [{\"line\": {\"colorbar\": {\"outlinewidth\": 0, \"ticks\": \"\"}}, \"type\": \"parcoords\"}], \"pie\": [{\"automargin\": true, \"type\": \"pie\"}], \"scatter\": [{\"marker\": {\"colorbar\": {\"outlinewidth\": 0, \"ticks\": \"\"}}, \"type\": \"scatter\"}], \"scatter3d\": [{\"line\": {\"colorbar\": {\"outlinewidth\": 0, \"ticks\": \"\"}}, \"marker\": {\"colorbar\": {\"outlinewidth\": 0, \"ticks\": \"\"}}, \"type\": \"scatter3d\"}], \"scattercarpet\": [{\"marker\": {\"colorbar\": {\"outlinewidth\": 0, \"ticks\": \"\"}}, \"type\": \"scattercarpet\"}], \"scattergeo\": [{\"marker\": {\"colorbar\": {\"outlinewidth\": 0, \"ticks\": \"\"}}, \"type\": \"scattergeo\"}], \"scattergl\": [{\"marker\": {\"colorbar\": {\"outlinewidth\": 0, \"ticks\": \"\"}}, \"type\": \"scattergl\"}], \"scattermapbox\": [{\"marker\": {\"colorbar\": {\"outlinewidth\": 0, \"ticks\": \"\"}}, \"type\": \"scattermapbox\"}], \"scatterpolar\": [{\"marker\": {\"colorbar\": {\"outlinewidth\": 0, \"ticks\": \"\"}}, \"type\": \"scatterpolar\"}], \"scatterpolargl\": [{\"marker\": {\"colorbar\": {\"outlinewidth\": 0, \"ticks\": \"\"}}, \"type\": \"scatterpolargl\"}], \"scatterternary\": [{\"marker\": {\"colorbar\": {\"outlinewidth\": 0, \"ticks\": \"\"}}, \"type\": \"scatterternary\"}], \"surface\": [{\"colorbar\": {\"outlinewidth\": 0, \"ticks\": \"\"}, \"colorscale\": [[0.0, \"#0d0887\"], [0.1111111111111111, \"#46039f\"], [0.2222222222222222, \"#7201a8\"], [0.3333333333333333, \"#9c179e\"], [0.4444444444444444, \"#bd3786\"], [0.5555555555555556, \"#d8576b\"], [0.6666666666666666, \"#ed7953\"], [0.7777777777777778, \"#fb9f3a\"], [0.8888888888888888, \"#fdca26\"], [1.0, \"#f0f921\"]], \"type\": \"surface\"}], \"table\": [{\"cells\": {\"fill\": {\"color\": \"#EBF0F8\"}, \"line\": {\"color\": \"white\"}}, \"header\": {\"fill\": {\"color\": \"#C8D4E3\"}, \"line\": {\"color\": \"white\"}}, \"type\": \"table\"}]}, \"layout\": {\"annotationdefaults\": {\"arrowcolor\": \"#2a3f5f\", \"arrowhead\": 0, \"arrowwidth\": 1}, \"coloraxis\": {\"colorbar\": {\"outlinewidth\": 0, \"ticks\": \"\"}}, \"colorscale\": {\"diverging\": [[0, \"#8e0152\"], [0.1, \"#c51b7d\"], [0.2, \"#de77ae\"], [0.3, \"#f1b6da\"], [0.4, \"#fde0ef\"], [0.5, \"#f7f7f7\"], [0.6, \"#e6f5d0\"], [0.7, \"#b8e186\"], [0.8, \"#7fbc41\"], [0.9, \"#4d9221\"], [1, \"#276419\"]], \"sequential\": [[0.0, \"#0d0887\"], [0.1111111111111111, \"#46039f\"], [0.2222222222222222, \"#7201a8\"], [0.3333333333333333, \"#9c179e\"], [0.4444444444444444, \"#bd3786\"], [0.5555555555555556, \"#d8576b\"], [0.6666666666666666, \"#ed7953\"], [0.7777777777777778, \"#fb9f3a\"], [0.8888888888888888, \"#fdca26\"], [1.0, \"#f0f921\"]], \"sequentialminus\": [[0.0, \"#0d0887\"], [0.1111111111111111, \"#46039f\"], [0.2222222222222222, \"#7201a8\"], [0.3333333333333333, \"#9c179e\"], [0.4444444444444444, \"#bd3786\"], [0.5555555555555556, \"#d8576b\"], [0.6666666666666666, \"#ed7953\"], [0.7777777777777778, \"#fb9f3a\"], [0.8888888888888888, \"#fdca26\"], [1.0, \"#f0f921\"]]}, \"colorway\": [\"#636efa\", \"#EF553B\", \"#00cc96\", \"#ab63fa\", \"#FFA15A\", \"#19d3f3\", \"#FF6692\", \"#B6E880\", \"#FF97FF\", \"#FECB52\"], \"font\": {\"color\": \"#2a3f5f\"}, \"geo\": {\"bgcolor\": \"white\", \"lakecolor\": \"white\", \"landcolor\": \"#E5ECF6\", \"showlakes\": true, \"showland\": true, \"subunitcolor\": \"white\"}, \"hoverlabel\": {\"align\": \"left\"}, \"hovermode\": \"closest\", \"mapbox\": {\"style\": \"light\"}, \"paper_bgcolor\": \"white\", \"plot_bgcolor\": \"#E5ECF6\", \"polar\": {\"angularaxis\": {\"gridcolor\": \"white\", \"linecolor\": \"white\", \"ticks\": \"\"}, \"bgcolor\": \"#E5ECF6\", \"radialaxis\": {\"gridcolor\": \"white\", \"linecolor\": \"white\", \"ticks\": \"\"}}, \"scene\": {\"xaxis\": {\"backgroundcolor\": \"#E5ECF6\", \"gridcolor\": \"white\", \"gridwidth\": 2, \"linecolor\": \"white\", \"showbackground\": true, \"ticks\": \"\", \"zerolinecolor\": \"white\"}, \"yaxis\": {\"backgroundcolor\": \"#E5ECF6\", \"gridcolor\": \"white\", \"gridwidth\": 2, \"linecolor\": \"white\", \"showbackground\": true, \"ticks\": \"\", \"zerolinecolor\": \"white\"}, \"zaxis\": {\"backgroundcolor\": \"#E5ECF6\", \"gridcolor\": \"white\", \"gridwidth\": 2, \"linecolor\": \"white\", \"showbackground\": true, \"ticks\": \"\", \"zerolinecolor\": \"white\"}}, \"shapedefaults\": {\"line\": {\"color\": \"#2a3f5f\"}}, \"ternary\": {\"aaxis\": {\"gridcolor\": \"white\", \"linecolor\": \"white\", \"ticks\": \"\"}, \"baxis\": {\"gridcolor\": \"white\", \"linecolor\": \"white\", \"ticks\": \"\"}, \"bgcolor\": \"#E5ECF6\", \"caxis\": {\"gridcolor\": \"white\", \"linecolor\": \"white\", \"ticks\": \"\"}}, \"title\": {\"x\": 0.05}, \"xaxis\": {\"automargin\": true, \"gridcolor\": \"white\", \"linecolor\": \"white\", \"ticks\": \"\", \"title\": {\"standoff\": 15}, \"zerolinecolor\": \"white\", \"zerolinewidth\": 2}, \"yaxis\": {\"automargin\": true, \"gridcolor\": \"white\", \"linecolor\": \"white\", \"ticks\": \"\", \"title\": {\"standoff\": 15}, \"zerolinecolor\": \"white\", \"zerolinewidth\": 2}}}, \"title\": {\"font\": {\"size\": 40}, \"text\": \"Random Forest Feature Importance\"}, \"xaxis\": {\"showgrid\": false, \"showline\": false, \"ticklen\": 1, \"title\": {\"font\": {\"size\": 30}, \"text\": \"Question Number\"}, \"zeroline\": false}, \"yaxis\": {\"gridwidth\": 2, \"showgrid\": false, \"ticklen\": 5, \"title\": {\"font\": {\"size\": 30}, \"text\": \"Feature Importance\"}, \"zeroline\": false}},\n",
       "                        {\"responsive\": true}\n",
       "                    ).then(function(){\n",
       "                            \n",
       "var gd = document.getElementById('f655fb7f-cbb2-43ea-afde-c12d105f88c3');\n",
       "var x = new MutationObserver(function (mutations, observer) {{\n",
       "        var display = window.getComputedStyle(gd).display;\n",
       "        if (!display || display === 'none') {{\n",
       "            console.log([gd, 'removed!']);\n",
       "            Plotly.purge(gd);\n",
       "            observer.disconnect();\n",
       "        }}\n",
       "}});\n",
       "\n",
       "// Listen for the removal of the full notebook cells\n",
       "var notebookContainer = gd.closest('#notebook-container');\n",
       "if (notebookContainer) {{\n",
       "    x.observe(notebookContainer, {childList: true});\n",
       "}}\n",
       "\n",
       "// Listen for the clearing of the current output cell\n",
       "var outputEl = gd.closest('.output');\n",
       "if (outputEl) {{\n",
       "    x.observe(outputEl, {childList: true});\n",
       "}}\n",
       "\n",
       "                        })\n",
       "                };\n",
       "                });\n",
       "            </script>\n",
       "        </div>"
      ]
     },
     "metadata": {
      "tags": []
     },
     "output_type": "display_data"
    },
    {
     "data": {
      "text/html": [
       "<html>\n",
       "<head><meta charset=\"utf-8\" /></head>\n",
       "<body>\n",
       "    <div>\n",
       "            <script src=\"https://cdnjs.cloudflare.com/ajax/libs/mathjax/2.7.5/MathJax.js?config=TeX-AMS-MML_SVG\"></script><script type=\"text/javascript\">if (window.MathJax) {MathJax.Hub.Config({SVG: {font: \"STIX-Web\"}});}</script>\n",
       "                <script type=\"text/javascript\">window.PlotlyConfig = {MathJaxConfig: 'local'};</script>\n",
       "        <script src=\"https://cdn.plot.ly/plotly-latest.min.js\"></script>    \n",
       "            <div id=\"5f68dcc9-70cb-485a-a320-baea48441df2\" class=\"plotly-graph-div\" style=\"height:525px; width:100%;\"></div>\n",
       "            <script type=\"text/javascript\">\n",
       "                \n",
       "                    window.PLOTLYENV=window.PLOTLYENV || {};\n",
       "                    \n",
       "                if (document.getElementById(\"5f68dcc9-70cb-485a-a320-baea48441df2\")) {\n",
       "                    Plotly.newPlot(\n",
       "                        '5f68dcc9-70cb-485a-a320-baea48441df2',\n",
       "                        [{\"marker\": {\"color\": [0.03420574111017286, 0.0292507204333798, 0.027332093225319345, 0.031166156200268063, 0.06627529210715033, 0.03499873825520552, 0.02349613852296301, 0.08663098320378688, 0.028389577360529255, 0.03709734652989778, 0.024983939501769584, 0.018006812269827133, 0.039905064138625525, 0.04353309634783955, 0.038893697760782636, 0.02554565273711824, 0.04613770853424196, 0.01996894292657309, 0.05474770102948051, 0.05361953905191617, 0.04785784219867796, 0.18795721655447484], \"colorscale\": [[0.0, \"rgb(12,51,131)\"], [0.25, \"rgb(10,136,186)\"], [0.5, \"rgb(242,211,56)\"], [0.75, \"rgb(242,143,56)\"], [1.0, \"rgb(217,30,30)\"]], \"showscale\": true, \"size\": 13, \"sizemode\": \"diameter\", \"sizeref\": 1}, \"mode\": \"markers\", \"text\": [\"0\", \"1\", \"2\", \"3\", \"4\", \"5\", \"6\", \"7\", \"8\", \"9\", \"10\", \"11\", \"12\", \"13\", \"14\", \"15\", \"16\", \"17\", \"18\", \"19\", \"20\", \"21\"], \"type\": \"scatter\", \"x\": [\"0\", \"1\", \"2\", \"3\", \"4\", \"5\", \"6\", \"7\", \"8\", \"9\", \"10\", \"11\", \"12\", \"13\", \"14\", \"15\", \"16\", \"17\", \"18\", \"19\", \"20\", \"21\"], \"y\": [0.03420574111017286, 0.0292507204333798, 0.027332093225319345, 0.031166156200268063, 0.06627529210715033, 0.03499873825520552, 0.02349613852296301, 0.08663098320378688, 0.028389577360529255, 0.03709734652989778, 0.024983939501769584, 0.018006812269827133, 0.039905064138625525, 0.04353309634783955, 0.038893697760782636, 0.02554565273711824, 0.04613770853424196, 0.01996894292657309, 0.05474770102948051, 0.05361953905191617, 0.04785784219867796, 0.18795721655447484]}],\n",
       "                        {\"autosize\": true, \"hovermode\": \"closest\", \"showlegend\": false, \"template\": {\"data\": {\"bar\": [{\"error_x\": {\"color\": \"#2a3f5f\"}, \"error_y\": {\"color\": \"#2a3f5f\"}, \"marker\": {\"line\": {\"color\": \"#E5ECF6\", \"width\": 0.5}}, \"type\": \"bar\"}], \"barpolar\": [{\"marker\": {\"line\": {\"color\": \"#E5ECF6\", \"width\": 0.5}}, \"type\": \"barpolar\"}], \"carpet\": [{\"aaxis\": {\"endlinecolor\": \"#2a3f5f\", \"gridcolor\": \"white\", \"linecolor\": \"white\", \"minorgridcolor\": \"white\", \"startlinecolor\": \"#2a3f5f\"}, \"baxis\": {\"endlinecolor\": \"#2a3f5f\", \"gridcolor\": \"white\", \"linecolor\": \"white\", \"minorgridcolor\": \"white\", \"startlinecolor\": \"#2a3f5f\"}, \"type\": \"carpet\"}], \"choropleth\": [{\"colorbar\": {\"outlinewidth\": 0, \"ticks\": \"\"}, \"type\": \"choropleth\"}], \"contour\": [{\"colorbar\": {\"outlinewidth\": 0, \"ticks\": \"\"}, \"colorscale\": [[0.0, \"#0d0887\"], [0.1111111111111111, \"#46039f\"], [0.2222222222222222, \"#7201a8\"], [0.3333333333333333, \"#9c179e\"], [0.4444444444444444, \"#bd3786\"], [0.5555555555555556, \"#d8576b\"], [0.6666666666666666, \"#ed7953\"], [0.7777777777777778, \"#fb9f3a\"], [0.8888888888888888, \"#fdca26\"], [1.0, \"#f0f921\"]], \"type\": \"contour\"}], \"contourcarpet\": [{\"colorbar\": {\"outlinewidth\": 0, \"ticks\": \"\"}, \"type\": \"contourcarpet\"}], \"heatmap\": [{\"colorbar\": {\"outlinewidth\": 0, \"ticks\": \"\"}, \"colorscale\": [[0.0, \"#0d0887\"], [0.1111111111111111, \"#46039f\"], [0.2222222222222222, \"#7201a8\"], [0.3333333333333333, \"#9c179e\"], [0.4444444444444444, \"#bd3786\"], [0.5555555555555556, \"#d8576b\"], [0.6666666666666666, \"#ed7953\"], [0.7777777777777778, \"#fb9f3a\"], [0.8888888888888888, \"#fdca26\"], [1.0, \"#f0f921\"]], \"type\": \"heatmap\"}], \"heatmapgl\": [{\"colorbar\": {\"outlinewidth\": 0, \"ticks\": \"\"}, \"colorscale\": [[0.0, \"#0d0887\"], [0.1111111111111111, \"#46039f\"], [0.2222222222222222, \"#7201a8\"], [0.3333333333333333, \"#9c179e\"], [0.4444444444444444, \"#bd3786\"], [0.5555555555555556, \"#d8576b\"], [0.6666666666666666, \"#ed7953\"], [0.7777777777777778, \"#fb9f3a\"], [0.8888888888888888, \"#fdca26\"], [1.0, \"#f0f921\"]], \"type\": \"heatmapgl\"}], \"histogram\": [{\"marker\": {\"colorbar\": {\"outlinewidth\": 0, \"ticks\": \"\"}}, \"type\": \"histogram\"}], \"histogram2d\": [{\"colorbar\": {\"outlinewidth\": 0, \"ticks\": \"\"}, \"colorscale\": [[0.0, \"#0d0887\"], [0.1111111111111111, \"#46039f\"], [0.2222222222222222, \"#7201a8\"], [0.3333333333333333, \"#9c179e\"], [0.4444444444444444, \"#bd3786\"], [0.5555555555555556, \"#d8576b\"], [0.6666666666666666, \"#ed7953\"], [0.7777777777777778, \"#fb9f3a\"], [0.8888888888888888, \"#fdca26\"], [1.0, \"#f0f921\"]], \"type\": \"histogram2d\"}], \"histogram2dcontour\": [{\"colorbar\": {\"outlinewidth\": 0, \"ticks\": \"\"}, \"colorscale\": [[0.0, \"#0d0887\"], [0.1111111111111111, \"#46039f\"], [0.2222222222222222, \"#7201a8\"], [0.3333333333333333, \"#9c179e\"], [0.4444444444444444, \"#bd3786\"], [0.5555555555555556, \"#d8576b\"], [0.6666666666666666, \"#ed7953\"], [0.7777777777777778, \"#fb9f3a\"], [0.8888888888888888, \"#fdca26\"], [1.0, \"#f0f921\"]], \"type\": \"histogram2dcontour\"}], \"mesh3d\": [{\"colorbar\": {\"outlinewidth\": 0, \"ticks\": \"\"}, \"type\": \"mesh3d\"}], \"parcoords\": [{\"line\": {\"colorbar\": {\"outlinewidth\": 0, \"ticks\": \"\"}}, \"type\": \"parcoords\"}], \"pie\": [{\"automargin\": true, \"type\": \"pie\"}], \"scatter\": [{\"marker\": {\"colorbar\": {\"outlinewidth\": 0, \"ticks\": \"\"}}, \"type\": \"scatter\"}], \"scatter3d\": [{\"line\": {\"colorbar\": {\"outlinewidth\": 0, \"ticks\": \"\"}}, \"marker\": {\"colorbar\": {\"outlinewidth\": 0, \"ticks\": \"\"}}, \"type\": \"scatter3d\"}], \"scattercarpet\": [{\"marker\": {\"colorbar\": {\"outlinewidth\": 0, \"ticks\": \"\"}}, \"type\": \"scattercarpet\"}], \"scattergeo\": [{\"marker\": {\"colorbar\": {\"outlinewidth\": 0, \"ticks\": \"\"}}, \"type\": \"scattergeo\"}], \"scattergl\": [{\"marker\": {\"colorbar\": {\"outlinewidth\": 0, \"ticks\": \"\"}}, \"type\": \"scattergl\"}], \"scattermapbox\": [{\"marker\": {\"colorbar\": {\"outlinewidth\": 0, \"ticks\": \"\"}}, \"type\": \"scattermapbox\"}], \"scatterpolar\": [{\"marker\": {\"colorbar\": {\"outlinewidth\": 0, \"ticks\": \"\"}}, \"type\": \"scatterpolar\"}], \"scatterpolargl\": [{\"marker\": {\"colorbar\": {\"outlinewidth\": 0, \"ticks\": \"\"}}, \"type\": \"scatterpolargl\"}], \"scatterternary\": [{\"marker\": {\"colorbar\": {\"outlinewidth\": 0, \"ticks\": \"\"}}, \"type\": \"scatterternary\"}], \"surface\": [{\"colorbar\": {\"outlinewidth\": 0, \"ticks\": \"\"}, \"colorscale\": [[0.0, \"#0d0887\"], [0.1111111111111111, \"#46039f\"], [0.2222222222222222, \"#7201a8\"], [0.3333333333333333, \"#9c179e\"], [0.4444444444444444, \"#bd3786\"], [0.5555555555555556, \"#d8576b\"], [0.6666666666666666, \"#ed7953\"], [0.7777777777777778, \"#fb9f3a\"], [0.8888888888888888, \"#fdca26\"], [1.0, \"#f0f921\"]], \"type\": \"surface\"}], \"table\": [{\"cells\": {\"fill\": {\"color\": \"#EBF0F8\"}, \"line\": {\"color\": \"white\"}}, \"header\": {\"fill\": {\"color\": \"#C8D4E3\"}, \"line\": {\"color\": \"white\"}}, \"type\": \"table\"}]}, \"layout\": {\"annotationdefaults\": {\"arrowcolor\": \"#2a3f5f\", \"arrowhead\": 0, \"arrowwidth\": 1}, \"coloraxis\": {\"colorbar\": {\"outlinewidth\": 0, \"ticks\": \"\"}}, \"colorscale\": {\"diverging\": [[0, \"#8e0152\"], [0.1, \"#c51b7d\"], [0.2, \"#de77ae\"], [0.3, \"#f1b6da\"], [0.4, \"#fde0ef\"], [0.5, \"#f7f7f7\"], [0.6, \"#e6f5d0\"], [0.7, \"#b8e186\"], [0.8, \"#7fbc41\"], [0.9, \"#4d9221\"], [1, \"#276419\"]], \"sequential\": [[0.0, \"#0d0887\"], [0.1111111111111111, \"#46039f\"], [0.2222222222222222, \"#7201a8\"], [0.3333333333333333, \"#9c179e\"], [0.4444444444444444, \"#bd3786\"], [0.5555555555555556, \"#d8576b\"], [0.6666666666666666, \"#ed7953\"], [0.7777777777777778, \"#fb9f3a\"], [0.8888888888888888, \"#fdca26\"], [1.0, \"#f0f921\"]], \"sequentialminus\": [[0.0, \"#0d0887\"], [0.1111111111111111, \"#46039f\"], [0.2222222222222222, \"#7201a8\"], [0.3333333333333333, \"#9c179e\"], [0.4444444444444444, \"#bd3786\"], [0.5555555555555556, \"#d8576b\"], [0.6666666666666666, \"#ed7953\"], [0.7777777777777778, \"#fb9f3a\"], [0.8888888888888888, \"#fdca26\"], [1.0, \"#f0f921\"]]}, \"colorway\": [\"#636efa\", \"#EF553B\", \"#00cc96\", \"#ab63fa\", \"#FFA15A\", \"#19d3f3\", \"#FF6692\", \"#B6E880\", \"#FF97FF\", \"#FECB52\"], \"font\": {\"color\": \"#2a3f5f\"}, \"geo\": {\"bgcolor\": \"white\", \"lakecolor\": \"white\", \"landcolor\": \"#E5ECF6\", \"showlakes\": true, \"showland\": true, \"subunitcolor\": \"white\"}, \"hoverlabel\": {\"align\": \"left\"}, \"hovermode\": \"closest\", \"mapbox\": {\"style\": \"light\"}, \"paper_bgcolor\": \"white\", \"plot_bgcolor\": \"#E5ECF6\", \"polar\": {\"angularaxis\": {\"gridcolor\": \"white\", \"linecolor\": \"white\", \"ticks\": \"\"}, \"bgcolor\": \"#E5ECF6\", \"radialaxis\": {\"gridcolor\": \"white\", \"linecolor\": \"white\", \"ticks\": \"\"}}, \"scene\": {\"xaxis\": {\"backgroundcolor\": \"#E5ECF6\", \"gridcolor\": \"white\", \"gridwidth\": 2, \"linecolor\": \"white\", \"showbackground\": true, \"ticks\": \"\", \"zerolinecolor\": \"white\"}, \"yaxis\": {\"backgroundcolor\": \"#E5ECF6\", \"gridcolor\": \"white\", \"gridwidth\": 2, \"linecolor\": \"white\", \"showbackground\": true, \"ticks\": \"\", \"zerolinecolor\": \"white\"}, \"zaxis\": {\"backgroundcolor\": \"#E5ECF6\", \"gridcolor\": \"white\", \"gridwidth\": 2, \"linecolor\": \"white\", \"showbackground\": true, \"ticks\": \"\", \"zerolinecolor\": \"white\"}}, \"shapedefaults\": {\"line\": {\"color\": \"#2a3f5f\"}}, \"ternary\": {\"aaxis\": {\"gridcolor\": \"white\", \"linecolor\": \"white\", \"ticks\": \"\"}, \"baxis\": {\"gridcolor\": \"white\", \"linecolor\": \"white\", \"ticks\": \"\"}, \"bgcolor\": \"#E5ECF6\", \"caxis\": {\"gridcolor\": \"white\", \"linecolor\": \"white\", \"ticks\": \"\"}}, \"title\": {\"x\": 0.05}, \"xaxis\": {\"automargin\": true, \"gridcolor\": \"white\", \"linecolor\": \"white\", \"ticks\": \"\", \"title\": {\"standoff\": 15}, \"zerolinecolor\": \"white\", \"zerolinewidth\": 2}, \"yaxis\": {\"automargin\": true, \"gridcolor\": \"white\", \"linecolor\": \"white\", \"ticks\": \"\", \"title\": {\"standoff\": 15}, \"zerolinecolor\": \"white\", \"zerolinewidth\": 2}}}, \"title\": {\"font\": {\"size\": 40}, \"text\": \"Random Forest Feature Importance\"}, \"xaxis\": {\"showgrid\": false, \"showline\": false, \"ticklen\": 1, \"title\": {\"font\": {\"size\": 30}, \"text\": \"Question Number\"}, \"zeroline\": false}, \"yaxis\": {\"gridwidth\": 2, \"showgrid\": false, \"ticklen\": 5, \"title\": {\"font\": {\"size\": 30}, \"text\": \"Feature Importance\"}, \"zeroline\": false}},\n",
       "                        {\"responsive\": true}\n",
       "                    ).then(function(){\n",
       "                            \n",
       "var gd = document.getElementById('5f68dcc9-70cb-485a-a320-baea48441df2');\n",
       "var x = new MutationObserver(function (mutations, observer) {{\n",
       "        var display = window.getComputedStyle(gd).display;\n",
       "        if (!display || display === 'none') {{\n",
       "            console.log([gd, 'removed!']);\n",
       "            Plotly.purge(gd);\n",
       "            observer.disconnect();\n",
       "        }}\n",
       "}});\n",
       "\n",
       "// Listen for the removal of the full notebook cells\n",
       "var notebookContainer = gd.closest('#notebook-container');\n",
       "if (notebookContainer) {{\n",
       "    x.observe(notebookContainer, {childList: true});\n",
       "}}\n",
       "\n",
       "// Listen for the clearing of the current output cell\n",
       "var outputEl = gd.closest('.output');\n",
       "if (outputEl) {{\n",
       "    x.observe(outputEl, {childList: true});\n",
       "}}\n",
       "\n",
       "                        })\n",
       "                };\n",
       "                \n",
       "            </script>\n",
       "        </div>\n",
       "</body>\n",
       "</html>"
      ]
     },
     "metadata": {
      "tags": []
     },
     "output_type": "display_data"
    }
   ],
   "source": [
    "# Scatter plot \n",
    "trace = go.Scatter(\n",
    "    y = clf1.feature_importances_,\n",
    "    x = X_train.columns.values,\n",
    "    mode='markers',\n",
    "    marker=dict(\n",
    "        sizemode = 'diameter',\n",
    "        sizeref = 1,\n",
    "        size = 13,\n",
    "        #size= rf.feature_importances_,\n",
    "        #color = np.random.randn(500), #set color equal to a variable\n",
    "        color = clf1.feature_importances_,\n",
    "        colorscale='Portland',\n",
    "        showscale=True\n",
    "    ),\n",
    "    text = X_train.columns.values\n",
    ")\n",
    "data = [trace]\n",
    "\n",
    "layout= go.Layout(\n",
    "    autosize= True,\n",
    "    title= 'Random Forest Feature Importance',\n",
    "    titlefont=dict(\n",
    "            size=40),\n",
    "    hovermode= 'closest',\n",
    "     xaxis= dict(\n",
    "         title = 'Question Number',\n",
    "         titlefont=dict(size=30),\n",
    "         ticklen= 1,\n",
    "         showgrid=False,\n",
    "        zeroline=False,\n",
    "        showline=False\n",
    "     ),\n",
    "    yaxis=dict(\n",
    "        title= 'Feature Importance',\n",
    "        titlefont=dict(size=30),\n",
    "        showgrid=False,\n",
    "        zeroline=False,\n",
    "        ticklen= 5,\n",
    "        gridwidth= 2\n",
    "    ),\n",
    "    showlegend= False\n",
    ")\n",
    "fig = go.Figure(data=data, layout=layout)\n",
    "py.iplot(fig,filename='scatterrf1')\n",
    "fig.show(renderer=\"colab\")"
   ]
  },
  {
   "cell_type": "markdown",
   "metadata": {
    "id": "mVcXmb70D58A"
   },
   "source": [
    "#Ranking of important questions for RF"
   ]
  },
  {
   "cell_type": "code",
   "execution_count": null,
   "metadata": {
    "colab": {
     "base_uri": "https://localhost:8080/"
    },
    "executionInfo": {
     "elapsed": 2895,
     "status": "ok",
     "timestamp": 1617891136956,
     "user": {
      "displayName": "Nikhil Pereira",
      "photoUrl": "https://lh3.googleusercontent.com/-KmpYA79GZFM/AAAAAAAAAAI/AAAAAAAAAPs/M7RMlSus4Ck/s64/photo.jpg",
      "userId": "01764547955641237902"
     },
     "user_tz": 240
    },
    "id": "VedmA2dvIDBS",
    "outputId": "2695c7c9-b81c-483c-c604-c6c262e98704"
   },
   "outputs": [
    {
     "name": "stdout",
     "output_type": "stream",
     "text": [
      "   Question Number  Feature Importance\n",
      "21              21            0.168980\n",
      "20              20            0.117202\n",
      "13              13            0.113431\n",
      "18              18            0.108540\n",
      "19              19            0.079383\n",
      "The most important questions are: \n",
      "How likely is it you would recommend the company as a good place to work?\n",
      "I enjoy working on my day to day tasks and assignments.\n",
      "My job makes good use of my skills and abilities.\n",
      "I intend to stay with the company for at least the next twelve months.\n",
      "I enjoy working for my company.\n"
     ]
    }
   ],
   "source": [
    "#Here are the most important questions according to the RF algorithm\n",
    "\n",
    "rf_importances = clf1.feature_importances_\n",
    "rf_index = surveyPd.select_dtypes(include=num).columns.values \n",
    "\n",
    "\n",
    "featureimportance_df = pd.DataFrame({'Question Number': rf_index, 'Feature Importance': rf_importances}, columns=['Question Number', 'Feature Importance'])\n",
    "fi_df = featureimportance_df.sort_values(by=['Feature Importance'], ascending=False)\n",
    "fi_df\n",
    "\n",
    "top_five = fi_df.head(n=5)\n",
    "print(top_five)\n",
    "\n",
    "question_column = top_five.loc[:,'Question Number']\n",
    "imp_questions = question_column.values\n",
    "\n",
    "#returning the 5 most important questions\n",
    "\n",
    "print(\"The most important questions are: \")\n",
    "\n",
    "for i in imp_questions:\n",
    "  print(trainQuestions[int(i)])\n",
    "\n"
   ]
  },
  {
   "cell_type": "markdown",
   "metadata": {
    "id": "3Gjb9aMRjHMK"
   },
   "source": [
    "## Hyper-Parameter Search for RF (K-Fold Cross Validation)\n",
    "\n"
   ]
  },
  {
   "cell_type": "code",
   "execution_count": null,
   "metadata": {
    "colab": {
     "base_uri": "https://localhost:8080/"
    },
    "executionInfo": {
     "elapsed": 12708,
     "status": "ok",
     "timestamp": 1617891136955,
     "user": {
      "displayName": "Nikhil Pereira",
      "photoUrl": "https://lh3.googleusercontent.com/-KmpYA79GZFM/AAAAAAAAAAI/AAAAAAAAAPs/M7RMlSus4Ck/s64/photo.jpg",
      "userId": "01764547955641237902"
     },
     "user_tz": 240
    },
    "id": "10RQrCoVjPc6",
    "outputId": "7465528f-0d2b-444f-e51e-56e026bb8828"
   },
   "outputs": [
    {
     "name": "stdout",
     "output_type": "stream",
     "text": [
      "0.82 accuracy with a standard deviation of 0.23\n"
     ]
    }
   ],
   "source": [
    "from sklearn.model_selection import cross_val_score\n",
    "from sklearn.model_selection import cross_val_predict\n",
    "\n",
    "#scores = cross_val_score(clf, surveyPd.loc[:,0:38], surveyPd[39], cv=5)\n",
    "scores = cross_val_score(clf1, X_train.select_dtypes(include=num), y_train,cv=5)\n",
    "print(\"%0.2f accuracy with a standard deviation of %0.2f\" % (scores.mean(), scores.std()))\n",
    "# from sklearn.model_selection import cross_val_predict\n",
    "# predicted = cross_val_predict(clf1, surveyPd.loc[:,0:38], surveyPd[39], cv=10)\n",
    "# predicted"
   ]
  },
  {
   "cell_type": "markdown",
   "metadata": {
    "id": "9AH5-wmUhvEI"
   },
   "source": [
    "# Hyper Parameter Search using Sklearn Grid Search Method for Gradient Boost"
   ]
  },
  {
   "cell_type": "code",
   "execution_count": null,
   "metadata": {
    "id": "MsW0aVZYhxh8"
   },
   "outputs": [],
   "source": [
    "#Trying out Gradient Boosting\n",
    "#importing\n",
    "from sklearn.ensemble import GradientBoostingClassifier, GradientBoostingRegressor\n",
    "from sklearn import metrics\n",
    "\n",
    "#setting the gradient boosting parameter -- come back later if we need to change anything other than n_estimators\n",
    "gbm = GradientBoostingClassifier()"
   ]
  },
  {
   "cell_type": "markdown",
   "metadata": {
    "id": "E2XqhfZoniRE"
   },
   "source": [
    "# Hyper Parameter Search using Sklearn Grid Search Method for Gradient Boost"
   ]
  },
  {
   "cell_type": "code",
   "execution_count": null,
   "metadata": {
    "colab": {
     "base_uri": "https://localhost:8080/"
    },
    "executionInfo": {
     "elapsed": 60472,
     "status": "ok",
     "timestamp": 1617891217036,
     "user": {
      "displayName": "Nikhil Pereira",
      "photoUrl": "https://lh3.googleusercontent.com/-KmpYA79GZFM/AAAAAAAAAAI/AAAAAAAAAPs/M7RMlSus4Ck/s64/photo.jpg",
      "userId": "01764547955641237902"
     },
     "user_tz": 240
    },
    "id": "JR__5lB71CFz",
    "outputId": "29db4a64-ef4c-4b65-a9a6-3a4428f6ca62"
   },
   "outputs": [
    {
     "data": {
      "text/plain": [
       "GridSearchCV(cv=None, error_score=nan,\n",
       "             estimator=GradientBoostingClassifier(ccp_alpha=0.0,\n",
       "                                                  criterion='friedman_mse',\n",
       "                                                  init=None, learning_rate=0.1,\n",
       "                                                  loss='deviance', max_depth=3,\n",
       "                                                  max_features=None,\n",
       "                                                  max_leaf_nodes=None,\n",
       "                                                  min_impurity_decrease=0.0,\n",
       "                                                  min_impurity_split=None,\n",
       "                                                  min_samples_leaf=1,\n",
       "                                                  min_samples_split=2,\n",
       "                                                  min_weight_fraction_leaf=0.0,\n",
       "                                                  n_estimators=100,\n",
       "                                                  n_iter_n...\n",
       "                                                  subsample=1.0, tol=0.0001,\n",
       "                                                  validation_fraction=0.1,\n",
       "                                                  verbose=0, warm_start=False),\n",
       "             iid='deprecated', n_jobs=None,\n",
       "             param_grid={'learning_rate': [0.1, 0.25],\n",
       "                         'loss': ['deviance', 'exponential'],\n",
       "                         'max_depth': [1, 3, 5],\n",
       "                         'max_features': ['auto', 'sqrt'],\n",
       "                         'n_estimators': [50, 100], 'random_state': [42]},\n",
       "             pre_dispatch='2*n_jobs', refit=True, return_train_score=False,\n",
       "             scoring=None, verbose=0)"
      ]
     },
     "execution_count": 49,
     "metadata": {
      "tags": []
     },
     "output_type": "execute_result"
    }
   ],
   "source": [
    "from sklearn.model_selection import GridSearchCV\n",
    "gb_parameters = {\n",
    "    \"n_estimators\":[50,100], \n",
    "    'max_features':['auto','sqrt'],\n",
    "    \"max_depth\":[1,3,5],\n",
    "    \"random_state\":[42],\n",
    "    \"learning_rate\":[0.1,0.25],\n",
    "    \"loss\": ['deviance', 'exponential']\n",
    "}\n",
    "\n",
    "gbm1 = GridSearchCV(gbm, gb_parameters)\n",
    "gbm1.fit(X_train.select_dtypes(include=num),y_train)"
   ]
  },
  {
   "cell_type": "markdown",
   "metadata": {
    "id": "LVYfHKMII2IE"
   },
   "source": [
    "# Gradient Boost Hyper Parameter Search Results"
   ]
  },
  {
   "cell_type": "code",
   "execution_count": null,
   "metadata": {
    "colab": {
     "base_uri": "https://localhost:8080/",
     "height": 1000
    },
    "executionInfo": {
     "elapsed": 51516,
     "status": "ok",
     "timestamp": 1617891217039,
     "user": {
      "displayName": "Nikhil Pereira",
      "photoUrl": "https://lh3.googleusercontent.com/-KmpYA79GZFM/AAAAAAAAAAI/AAAAAAAAAPs/M7RMlSus4Ck/s64/photo.jpg",
      "userId": "01764547955641237902"
     },
     "user_tz": 240
    },
    "id": "dfvrgJgaUrF2",
    "outputId": "c693507f-f3b0-405b-c55d-3f9fd7ae3145"
   },
   "outputs": [
    {
     "data": {
      "text/html": [
       "<div>\n",
       "<style scoped>\n",
       "    .dataframe tbody tr th:only-of-type {\n",
       "        vertical-align: middle;\n",
       "    }\n",
       "\n",
       "    .dataframe tbody tr th {\n",
       "        vertical-align: top;\n",
       "    }\n",
       "\n",
       "    .dataframe thead th {\n",
       "        text-align: right;\n",
       "    }\n",
       "</style>\n",
       "<table border=\"1\" class=\"dataframe\">\n",
       "  <thead>\n",
       "    <tr style=\"text-align: right;\">\n",
       "      <th></th>\n",
       "      <th>learning_rate</th>\n",
       "      <th>loss</th>\n",
       "      <th>max_depth</th>\n",
       "      <th>max_features</th>\n",
       "      <th>n_estimators</th>\n",
       "      <th>random_state</th>\n",
       "      <th>mean_fit_time</th>\n",
       "      <th>std_fit_time</th>\n",
       "      <th>mean_score_time</th>\n",
       "      <th>std_score_time</th>\n",
       "      <th>param_learning_rate</th>\n",
       "      <th>param_loss</th>\n",
       "      <th>param_max_depth</th>\n",
       "      <th>param_max_features</th>\n",
       "      <th>param_n_estimators</th>\n",
       "      <th>param_random_state</th>\n",
       "      <th>params</th>\n",
       "      <th>split0_test_score</th>\n",
       "      <th>split1_test_score</th>\n",
       "      <th>split2_test_score</th>\n",
       "      <th>split3_test_score</th>\n",
       "      <th>split4_test_score</th>\n",
       "      <th>mean_test_score</th>\n",
       "      <th>std_test_score</th>\n",
       "      <th>rank_test_score</th>\n",
       "    </tr>\n",
       "  </thead>\n",
       "  <tbody>\n",
       "    <tr>\n",
       "      <th>0</th>\n",
       "      <td>0.10</td>\n",
       "      <td>deviance</td>\n",
       "      <td>1</td>\n",
       "      <td>auto</td>\n",
       "      <td>50</td>\n",
       "      <td>42</td>\n",
       "      <td>0.096839</td>\n",
       "      <td>0.005876</td>\n",
       "      <td>0.001890</td>\n",
       "      <td>0.000059</td>\n",
       "      <td>0.1</td>\n",
       "      <td>deviance</td>\n",
       "      <td>1</td>\n",
       "      <td>auto</td>\n",
       "      <td>50</td>\n",
       "      <td>42</td>\n",
       "      <td>{'learning_rate': 0.1, 'loss': 'deviance', 'ma...</td>\n",
       "      <td>0.985276</td>\n",
       "      <td>0.985276</td>\n",
       "      <td>0.985258</td>\n",
       "      <td>0.985258</td>\n",
       "      <td>0.396806</td>\n",
       "      <td>0.867575</td>\n",
       "      <td>0.235384</td>\n",
       "      <td>1</td>\n",
       "    </tr>\n",
       "    <tr>\n",
       "      <th>42</th>\n",
       "      <td>0.25</td>\n",
       "      <td>exponential</td>\n",
       "      <td>3</td>\n",
       "      <td>sqrt</td>\n",
       "      <td>50</td>\n",
       "      <td>42</td>\n",
       "      <td>0.094366</td>\n",
       "      <td>0.003537</td>\n",
       "      <td>0.002319</td>\n",
       "      <td>0.000148</td>\n",
       "      <td>0.25</td>\n",
       "      <td>exponential</td>\n",
       "      <td>3</td>\n",
       "      <td>sqrt</td>\n",
       "      <td>50</td>\n",
       "      <td>42</td>\n",
       "      <td>{'learning_rate': 0.25, 'loss': 'exponential',...</td>\n",
       "      <td>0.985276</td>\n",
       "      <td>0.985276</td>\n",
       "      <td>0.985258</td>\n",
       "      <td>0.985258</td>\n",
       "      <td>0.396806</td>\n",
       "      <td>0.867575</td>\n",
       "      <td>0.235384</td>\n",
       "      <td>1</td>\n",
       "    </tr>\n",
       "    <tr>\n",
       "      <th>39</th>\n",
       "      <td>0.25</td>\n",
       "      <td>exponential</td>\n",
       "      <td>1</td>\n",
       "      <td>sqrt</td>\n",
       "      <td>100</td>\n",
       "      <td>42</td>\n",
       "      <td>0.116983</td>\n",
       "      <td>0.002940</td>\n",
       "      <td>0.002214</td>\n",
       "      <td>0.000113</td>\n",
       "      <td>0.25</td>\n",
       "      <td>exponential</td>\n",
       "      <td>1</td>\n",
       "      <td>sqrt</td>\n",
       "      <td>100</td>\n",
       "      <td>42</td>\n",
       "      <td>{'learning_rate': 0.25, 'loss': 'exponential',...</td>\n",
       "      <td>0.985276</td>\n",
       "      <td>0.985276</td>\n",
       "      <td>0.985258</td>\n",
       "      <td>0.985258</td>\n",
       "      <td>0.396806</td>\n",
       "      <td>0.867575</td>\n",
       "      <td>0.235384</td>\n",
       "      <td>1</td>\n",
       "    </tr>\n",
       "    <tr>\n",
       "      <th>38</th>\n",
       "      <td>0.25</td>\n",
       "      <td>exponential</td>\n",
       "      <td>1</td>\n",
       "      <td>sqrt</td>\n",
       "      <td>50</td>\n",
       "      <td>42</td>\n",
       "      <td>0.060173</td>\n",
       "      <td>0.003478</td>\n",
       "      <td>0.001879</td>\n",
       "      <td>0.000016</td>\n",
       "      <td>0.25</td>\n",
       "      <td>exponential</td>\n",
       "      <td>1</td>\n",
       "      <td>sqrt</td>\n",
       "      <td>50</td>\n",
       "      <td>42</td>\n",
       "      <td>{'learning_rate': 0.25, 'loss': 'exponential',...</td>\n",
       "      <td>0.985276</td>\n",
       "      <td>0.985276</td>\n",
       "      <td>0.985258</td>\n",
       "      <td>0.985258</td>\n",
       "      <td>0.396806</td>\n",
       "      <td>0.867575</td>\n",
       "      <td>0.235384</td>\n",
       "      <td>1</td>\n",
       "    </tr>\n",
       "    <tr>\n",
       "      <th>37</th>\n",
       "      <td>0.25</td>\n",
       "      <td>exponential</td>\n",
       "      <td>1</td>\n",
       "      <td>auto</td>\n",
       "      <td>100</td>\n",
       "      <td>42</td>\n",
       "      <td>0.201571</td>\n",
       "      <td>0.002246</td>\n",
       "      <td>0.002263</td>\n",
       "      <td>0.000174</td>\n",
       "      <td>0.25</td>\n",
       "      <td>exponential</td>\n",
       "      <td>1</td>\n",
       "      <td>auto</td>\n",
       "      <td>100</td>\n",
       "      <td>42</td>\n",
       "      <td>{'learning_rate': 0.25, 'loss': 'exponential',...</td>\n",
       "      <td>0.985276</td>\n",
       "      <td>0.985276</td>\n",
       "      <td>0.985258</td>\n",
       "      <td>0.985258</td>\n",
       "      <td>0.396806</td>\n",
       "      <td>0.867575</td>\n",
       "      <td>0.235384</td>\n",
       "      <td>1</td>\n",
       "    </tr>\n",
       "    <tr>\n",
       "      <th>36</th>\n",
       "      <td>0.25</td>\n",
       "      <td>exponential</td>\n",
       "      <td>1</td>\n",
       "      <td>auto</td>\n",
       "      <td>50</td>\n",
       "      <td>42</td>\n",
       "      <td>0.099595</td>\n",
       "      <td>0.000995</td>\n",
       "      <td>0.001881</td>\n",
       "      <td>0.000086</td>\n",
       "      <td>0.25</td>\n",
       "      <td>exponential</td>\n",
       "      <td>1</td>\n",
       "      <td>auto</td>\n",
       "      <td>50</td>\n",
       "      <td>42</td>\n",
       "      <td>{'learning_rate': 0.25, 'loss': 'exponential',...</td>\n",
       "      <td>0.985276</td>\n",
       "      <td>0.985276</td>\n",
       "      <td>0.985258</td>\n",
       "      <td>0.985258</td>\n",
       "      <td>0.396806</td>\n",
       "      <td>0.867575</td>\n",
       "      <td>0.235384</td>\n",
       "      <td>1</td>\n",
       "    </tr>\n",
       "    <tr>\n",
       "      <th>27</th>\n",
       "      <td>0.25</td>\n",
       "      <td>deviance</td>\n",
       "      <td>1</td>\n",
       "      <td>sqrt</td>\n",
       "      <td>100</td>\n",
       "      <td>42</td>\n",
       "      <td>0.097242</td>\n",
       "      <td>0.002576</td>\n",
       "      <td>0.002059</td>\n",
       "      <td>0.000074</td>\n",
       "      <td>0.25</td>\n",
       "      <td>deviance</td>\n",
       "      <td>1</td>\n",
       "      <td>sqrt</td>\n",
       "      <td>100</td>\n",
       "      <td>42</td>\n",
       "      <td>{'learning_rate': 0.25, 'loss': 'deviance', 'm...</td>\n",
       "      <td>0.985276</td>\n",
       "      <td>0.985276</td>\n",
       "      <td>0.985258</td>\n",
       "      <td>0.985258</td>\n",
       "      <td>0.396806</td>\n",
       "      <td>0.867575</td>\n",
       "      <td>0.235384</td>\n",
       "      <td>1</td>\n",
       "    </tr>\n",
       "    <tr>\n",
       "      <th>26</th>\n",
       "      <td>0.25</td>\n",
       "      <td>deviance</td>\n",
       "      <td>1</td>\n",
       "      <td>sqrt</td>\n",
       "      <td>50</td>\n",
       "      <td>42</td>\n",
       "      <td>0.049272</td>\n",
       "      <td>0.000351</td>\n",
       "      <td>0.001821</td>\n",
       "      <td>0.000051</td>\n",
       "      <td>0.25</td>\n",
       "      <td>deviance</td>\n",
       "      <td>1</td>\n",
       "      <td>sqrt</td>\n",
       "      <td>50</td>\n",
       "      <td>42</td>\n",
       "      <td>{'learning_rate': 0.25, 'loss': 'deviance', 'm...</td>\n",
       "      <td>0.985276</td>\n",
       "      <td>0.985276</td>\n",
       "      <td>0.985258</td>\n",
       "      <td>0.985258</td>\n",
       "      <td>0.396806</td>\n",
       "      <td>0.867575</td>\n",
       "      <td>0.235384</td>\n",
       "      <td>1</td>\n",
       "    </tr>\n",
       "    <tr>\n",
       "      <th>46</th>\n",
       "      <td>0.25</td>\n",
       "      <td>exponential</td>\n",
       "      <td>5</td>\n",
       "      <td>sqrt</td>\n",
       "      <td>50</td>\n",
       "      <td>42</td>\n",
       "      <td>0.154574</td>\n",
       "      <td>0.002555</td>\n",
       "      <td>0.002852</td>\n",
       "      <td>0.000226</td>\n",
       "      <td>0.25</td>\n",
       "      <td>exponential</td>\n",
       "      <td>5</td>\n",
       "      <td>sqrt</td>\n",
       "      <td>50</td>\n",
       "      <td>42</td>\n",
       "      <td>{'learning_rate': 0.25, 'loss': 'exponential',...</td>\n",
       "      <td>0.985276</td>\n",
       "      <td>0.985276</td>\n",
       "      <td>0.985258</td>\n",
       "      <td>0.985258</td>\n",
       "      <td>0.396806</td>\n",
       "      <td>0.867575</td>\n",
       "      <td>0.235384</td>\n",
       "      <td>1</td>\n",
       "    </tr>\n",
       "    <tr>\n",
       "      <th>22</th>\n",
       "      <td>0.10</td>\n",
       "      <td>exponential</td>\n",
       "      <td>5</td>\n",
       "      <td>sqrt</td>\n",
       "      <td>50</td>\n",
       "      <td>42</td>\n",
       "      <td>0.157467</td>\n",
       "      <td>0.002443</td>\n",
       "      <td>0.002853</td>\n",
       "      <td>0.000241</td>\n",
       "      <td>0.1</td>\n",
       "      <td>exponential</td>\n",
       "      <td>5</td>\n",
       "      <td>sqrt</td>\n",
       "      <td>50</td>\n",
       "      <td>42</td>\n",
       "      <td>{'learning_rate': 0.1, 'loss': 'exponential', ...</td>\n",
       "      <td>0.985276</td>\n",
       "      <td>0.985276</td>\n",
       "      <td>0.985258</td>\n",
       "      <td>0.985258</td>\n",
       "      <td>0.396806</td>\n",
       "      <td>0.867575</td>\n",
       "      <td>0.235384</td>\n",
       "      <td>1</td>\n",
       "    </tr>\n",
       "    <tr>\n",
       "      <th>20</th>\n",
       "      <td>0.10</td>\n",
       "      <td>exponential</td>\n",
       "      <td>5</td>\n",
       "      <td>auto</td>\n",
       "      <td>50</td>\n",
       "      <td>42</td>\n",
       "      <td>0.337095</td>\n",
       "      <td>0.003778</td>\n",
       "      <td>0.002932</td>\n",
       "      <td>0.000244</td>\n",
       "      <td>0.1</td>\n",
       "      <td>exponential</td>\n",
       "      <td>5</td>\n",
       "      <td>auto</td>\n",
       "      <td>50</td>\n",
       "      <td>42</td>\n",
       "      <td>{'learning_rate': 0.1, 'loss': 'exponential', ...</td>\n",
       "      <td>0.985276</td>\n",
       "      <td>0.985276</td>\n",
       "      <td>0.985258</td>\n",
       "      <td>0.985258</td>\n",
       "      <td>0.396806</td>\n",
       "      <td>0.867575</td>\n",
       "      <td>0.235384</td>\n",
       "      <td>1</td>\n",
       "    </tr>\n",
       "    <tr>\n",
       "      <th>19</th>\n",
       "      <td>0.10</td>\n",
       "      <td>exponential</td>\n",
       "      <td>3</td>\n",
       "      <td>sqrt</td>\n",
       "      <td>100</td>\n",
       "      <td>42</td>\n",
       "      <td>0.189211</td>\n",
       "      <td>0.007552</td>\n",
       "      <td>0.003037</td>\n",
       "      <td>0.000229</td>\n",
       "      <td>0.1</td>\n",
       "      <td>exponential</td>\n",
       "      <td>3</td>\n",
       "      <td>sqrt</td>\n",
       "      <td>100</td>\n",
       "      <td>42</td>\n",
       "      <td>{'learning_rate': 0.1, 'loss': 'exponential', ...</td>\n",
       "      <td>0.985276</td>\n",
       "      <td>0.985276</td>\n",
       "      <td>0.985258</td>\n",
       "      <td>0.985258</td>\n",
       "      <td>0.396806</td>\n",
       "      <td>0.867575</td>\n",
       "      <td>0.235384</td>\n",
       "      <td>1</td>\n",
       "    </tr>\n",
       "    <tr>\n",
       "      <th>18</th>\n",
       "      <td>0.10</td>\n",
       "      <td>exponential</td>\n",
       "      <td>3</td>\n",
       "      <td>sqrt</td>\n",
       "      <td>50</td>\n",
       "      <td>42</td>\n",
       "      <td>0.095490</td>\n",
       "      <td>0.002869</td>\n",
       "      <td>0.002544</td>\n",
       "      <td>0.000519</td>\n",
       "      <td>0.1</td>\n",
       "      <td>exponential</td>\n",
       "      <td>3</td>\n",
       "      <td>sqrt</td>\n",
       "      <td>50</td>\n",
       "      <td>42</td>\n",
       "      <td>{'learning_rate': 0.1, 'loss': 'exponential', ...</td>\n",
       "      <td>0.985276</td>\n",
       "      <td>0.985276</td>\n",
       "      <td>0.985258</td>\n",
       "      <td>0.985258</td>\n",
       "      <td>0.396806</td>\n",
       "      <td>0.867575</td>\n",
       "      <td>0.235384</td>\n",
       "      <td>1</td>\n",
       "    </tr>\n",
       "    <tr>\n",
       "      <th>16</th>\n",
       "      <td>0.10</td>\n",
       "      <td>exponential</td>\n",
       "      <td>3</td>\n",
       "      <td>auto</td>\n",
       "      <td>50</td>\n",
       "      <td>42</td>\n",
       "      <td>0.215972</td>\n",
       "      <td>0.004024</td>\n",
       "      <td>0.002345</td>\n",
       "      <td>0.000116</td>\n",
       "      <td>0.1</td>\n",
       "      <td>exponential</td>\n",
       "      <td>3</td>\n",
       "      <td>auto</td>\n",
       "      <td>50</td>\n",
       "      <td>42</td>\n",
       "      <td>{'learning_rate': 0.1, 'loss': 'exponential', ...</td>\n",
       "      <td>0.985276</td>\n",
       "      <td>0.985276</td>\n",
       "      <td>0.985258</td>\n",
       "      <td>0.985258</td>\n",
       "      <td>0.396806</td>\n",
       "      <td>0.867575</td>\n",
       "      <td>0.235384</td>\n",
       "      <td>1</td>\n",
       "    </tr>\n",
       "    <tr>\n",
       "      <th>15</th>\n",
       "      <td>0.10</td>\n",
       "      <td>exponential</td>\n",
       "      <td>1</td>\n",
       "      <td>sqrt</td>\n",
       "      <td>100</td>\n",
       "      <td>42</td>\n",
       "      <td>0.114888</td>\n",
       "      <td>0.001614</td>\n",
       "      <td>0.002165</td>\n",
       "      <td>0.000139</td>\n",
       "      <td>0.1</td>\n",
       "      <td>exponential</td>\n",
       "      <td>1</td>\n",
       "      <td>sqrt</td>\n",
       "      <td>100</td>\n",
       "      <td>42</td>\n",
       "      <td>{'learning_rate': 0.1, 'loss': 'exponential', ...</td>\n",
       "      <td>0.985276</td>\n",
       "      <td>0.985276</td>\n",
       "      <td>0.985258</td>\n",
       "      <td>0.985258</td>\n",
       "      <td>0.396806</td>\n",
       "      <td>0.867575</td>\n",
       "      <td>0.235384</td>\n",
       "      <td>1</td>\n",
       "    </tr>\n",
       "    <tr>\n",
       "      <th>23</th>\n",
       "      <td>0.10</td>\n",
       "      <td>exponential</td>\n",
       "      <td>5</td>\n",
       "      <td>sqrt</td>\n",
       "      <td>100</td>\n",
       "      <td>42</td>\n",
       "      <td>0.312805</td>\n",
       "      <td>0.005625</td>\n",
       "      <td>0.004078</td>\n",
       "      <td>0.000455</td>\n",
       "      <td>0.1</td>\n",
       "      <td>exponential</td>\n",
       "      <td>5</td>\n",
       "      <td>sqrt</td>\n",
       "      <td>100</td>\n",
       "      <td>42</td>\n",
       "      <td>{'learning_rate': 0.1, 'loss': 'exponential', ...</td>\n",
       "      <td>0.985276</td>\n",
       "      <td>0.985276</td>\n",
       "      <td>0.985258</td>\n",
       "      <td>0.985258</td>\n",
       "      <td>0.396806</td>\n",
       "      <td>0.867575</td>\n",
       "      <td>0.235384</td>\n",
       "      <td>1</td>\n",
       "    </tr>\n",
       "    <tr>\n",
       "      <th>13</th>\n",
       "      <td>0.10</td>\n",
       "      <td>exponential</td>\n",
       "      <td>1</td>\n",
       "      <td>auto</td>\n",
       "      <td>100</td>\n",
       "      <td>42</td>\n",
       "      <td>0.204666</td>\n",
       "      <td>0.005053</td>\n",
       "      <td>0.002156</td>\n",
       "      <td>0.000082</td>\n",
       "      <td>0.1</td>\n",
       "      <td>exponential</td>\n",
       "      <td>1</td>\n",
       "      <td>auto</td>\n",
       "      <td>100</td>\n",
       "      <td>42</td>\n",
       "      <td>{'learning_rate': 0.1, 'loss': 'exponential', ...</td>\n",
       "      <td>0.985276</td>\n",
       "      <td>0.985276</td>\n",
       "      <td>0.985258</td>\n",
       "      <td>0.985258</td>\n",
       "      <td>0.396806</td>\n",
       "      <td>0.867575</td>\n",
       "      <td>0.235384</td>\n",
       "      <td>1</td>\n",
       "    </tr>\n",
       "    <tr>\n",
       "      <th>12</th>\n",
       "      <td>0.10</td>\n",
       "      <td>exponential</td>\n",
       "      <td>1</td>\n",
       "      <td>auto</td>\n",
       "      <td>50</td>\n",
       "      <td>42</td>\n",
       "      <td>0.101748</td>\n",
       "      <td>0.001924</td>\n",
       "      <td>0.001933</td>\n",
       "      <td>0.000047</td>\n",
       "      <td>0.1</td>\n",
       "      <td>exponential</td>\n",
       "      <td>1</td>\n",
       "      <td>auto</td>\n",
       "      <td>50</td>\n",
       "      <td>42</td>\n",
       "      <td>{'learning_rate': 0.1, 'loss': 'exponential', ...</td>\n",
       "      <td>0.985276</td>\n",
       "      <td>0.985276</td>\n",
       "      <td>0.985258</td>\n",
       "      <td>0.985258</td>\n",
       "      <td>0.396806</td>\n",
       "      <td>0.867575</td>\n",
       "      <td>0.235384</td>\n",
       "      <td>1</td>\n",
       "    </tr>\n",
       "    <tr>\n",
       "      <th>1</th>\n",
       "      <td>0.10</td>\n",
       "      <td>deviance</td>\n",
       "      <td>1</td>\n",
       "      <td>auto</td>\n",
       "      <td>100</td>\n",
       "      <td>42</td>\n",
       "      <td>0.185053</td>\n",
       "      <td>0.011860</td>\n",
       "      <td>0.002106</td>\n",
       "      <td>0.000099</td>\n",
       "      <td>0.1</td>\n",
       "      <td>deviance</td>\n",
       "      <td>1</td>\n",
       "      <td>auto</td>\n",
       "      <td>100</td>\n",
       "      <td>42</td>\n",
       "      <td>{'learning_rate': 0.1, 'loss': 'deviance', 'ma...</td>\n",
       "      <td>0.985276</td>\n",
       "      <td>0.985276</td>\n",
       "      <td>0.985258</td>\n",
       "      <td>0.985258</td>\n",
       "      <td>0.396806</td>\n",
       "      <td>0.867575</td>\n",
       "      <td>0.235384</td>\n",
       "      <td>1</td>\n",
       "    </tr>\n",
       "    <tr>\n",
       "      <th>2</th>\n",
       "      <td>0.10</td>\n",
       "      <td>deviance</td>\n",
       "      <td>1</td>\n",
       "      <td>sqrt</td>\n",
       "      <td>50</td>\n",
       "      <td>42</td>\n",
       "      <td>0.053670</td>\n",
       "      <td>0.004383</td>\n",
       "      <td>0.001815</td>\n",
       "      <td>0.000065</td>\n",
       "      <td>0.1</td>\n",
       "      <td>deviance</td>\n",
       "      <td>1</td>\n",
       "      <td>sqrt</td>\n",
       "      <td>50</td>\n",
       "      <td>42</td>\n",
       "      <td>{'learning_rate': 0.1, 'loss': 'deviance', 'ma...</td>\n",
       "      <td>0.985276</td>\n",
       "      <td>0.985276</td>\n",
       "      <td>0.985258</td>\n",
       "      <td>0.985258</td>\n",
       "      <td>0.396806</td>\n",
       "      <td>0.867575</td>\n",
       "      <td>0.235384</td>\n",
       "      <td>1</td>\n",
       "    </tr>\n",
       "    <tr>\n",
       "      <th>3</th>\n",
       "      <td>0.10</td>\n",
       "      <td>deviance</td>\n",
       "      <td>1</td>\n",
       "      <td>sqrt</td>\n",
       "      <td>100</td>\n",
       "      <td>42</td>\n",
       "      <td>0.099416</td>\n",
       "      <td>0.002725</td>\n",
       "      <td>0.002127</td>\n",
       "      <td>0.000033</td>\n",
       "      <td>0.1</td>\n",
       "      <td>deviance</td>\n",
       "      <td>1</td>\n",
       "      <td>sqrt</td>\n",
       "      <td>100</td>\n",
       "      <td>42</td>\n",
       "      <td>{'learning_rate': 0.1, 'loss': 'deviance', 'ma...</td>\n",
       "      <td>0.985276</td>\n",
       "      <td>0.985276</td>\n",
       "      <td>0.985258</td>\n",
       "      <td>0.985258</td>\n",
       "      <td>0.396806</td>\n",
       "      <td>0.867575</td>\n",
       "      <td>0.235384</td>\n",
       "      <td>1</td>\n",
       "    </tr>\n",
       "    <tr>\n",
       "      <th>14</th>\n",
       "      <td>0.10</td>\n",
       "      <td>exponential</td>\n",
       "      <td>1</td>\n",
       "      <td>sqrt</td>\n",
       "      <td>50</td>\n",
       "      <td>42</td>\n",
       "      <td>0.060575</td>\n",
       "      <td>0.002962</td>\n",
       "      <td>0.001908</td>\n",
       "      <td>0.000080</td>\n",
       "      <td>0.1</td>\n",
       "      <td>exponential</td>\n",
       "      <td>1</td>\n",
       "      <td>sqrt</td>\n",
       "      <td>50</td>\n",
       "      <td>42</td>\n",
       "      <td>{'learning_rate': 0.1, 'loss': 'exponential', ...</td>\n",
       "      <td>0.985276</td>\n",
       "      <td>0.985276</td>\n",
       "      <td>0.985258</td>\n",
       "      <td>0.985258</td>\n",
       "      <td>0.396806</td>\n",
       "      <td>0.867575</td>\n",
       "      <td>0.235384</td>\n",
       "      <td>1</td>\n",
       "    </tr>\n",
       "    <tr>\n",
       "      <th>43</th>\n",
       "      <td>0.25</td>\n",
       "      <td>exponential</td>\n",
       "      <td>3</td>\n",
       "      <td>sqrt</td>\n",
       "      <td>100</td>\n",
       "      <td>42</td>\n",
       "      <td>0.187436</td>\n",
       "      <td>0.007406</td>\n",
       "      <td>0.003037</td>\n",
       "      <td>0.000175</td>\n",
       "      <td>0.25</td>\n",
       "      <td>exponential</td>\n",
       "      <td>3</td>\n",
       "      <td>sqrt</td>\n",
       "      <td>100</td>\n",
       "      <td>42</td>\n",
       "      <td>{'learning_rate': 0.25, 'loss': 'exponential',...</td>\n",
       "      <td>0.985276</td>\n",
       "      <td>0.984049</td>\n",
       "      <td>0.985258</td>\n",
       "      <td>0.985258</td>\n",
       "      <td>0.396806</td>\n",
       "      <td>0.867329</td>\n",
       "      <td>0.235262</td>\n",
       "      <td>23</td>\n",
       "    </tr>\n",
       "    <tr>\n",
       "      <th>7</th>\n",
       "      <td>0.10</td>\n",
       "      <td>deviance</td>\n",
       "      <td>3</td>\n",
       "      <td>sqrt</td>\n",
       "      <td>100</td>\n",
       "      <td>42</td>\n",
       "      <td>0.167835</td>\n",
       "      <td>0.002337</td>\n",
       "      <td>0.002887</td>\n",
       "      <td>0.000196</td>\n",
       "      <td>0.1</td>\n",
       "      <td>deviance</td>\n",
       "      <td>3</td>\n",
       "      <td>sqrt</td>\n",
       "      <td>100</td>\n",
       "      <td>42</td>\n",
       "      <td>{'learning_rate': 0.1, 'loss': 'deviance', 'ma...</td>\n",
       "      <td>0.985276</td>\n",
       "      <td>0.984049</td>\n",
       "      <td>0.985258</td>\n",
       "      <td>0.985258</td>\n",
       "      <td>0.396806</td>\n",
       "      <td>0.867329</td>\n",
       "      <td>0.235262</td>\n",
       "      <td>23</td>\n",
       "    </tr>\n",
       "    <tr>\n",
       "      <th>17</th>\n",
       "      <td>0.10</td>\n",
       "      <td>exponential</td>\n",
       "      <td>3</td>\n",
       "      <td>auto</td>\n",
       "      <td>100</td>\n",
       "      <td>42</td>\n",
       "      <td>0.427785</td>\n",
       "      <td>0.006895</td>\n",
       "      <td>0.003226</td>\n",
       "      <td>0.000484</td>\n",
       "      <td>0.1</td>\n",
       "      <td>exponential</td>\n",
       "      <td>3</td>\n",
       "      <td>auto</td>\n",
       "      <td>100</td>\n",
       "      <td>42</td>\n",
       "      <td>{'learning_rate': 0.1, 'loss': 'exponential', ...</td>\n",
       "      <td>0.985276</td>\n",
       "      <td>0.985276</td>\n",
       "      <td>0.985258</td>\n",
       "      <td>0.984029</td>\n",
       "      <td>0.396806</td>\n",
       "      <td>0.867329</td>\n",
       "      <td>0.235262</td>\n",
       "      <td>25</td>\n",
       "    </tr>\n",
       "    <tr>\n",
       "      <th>24</th>\n",
       "      <td>0.25</td>\n",
       "      <td>deviance</td>\n",
       "      <td>1</td>\n",
       "      <td>auto</td>\n",
       "      <td>50</td>\n",
       "      <td>42</td>\n",
       "      <td>0.094005</td>\n",
       "      <td>0.004137</td>\n",
       "      <td>0.001821</td>\n",
       "      <td>0.000038</td>\n",
       "      <td>0.25</td>\n",
       "      <td>deviance</td>\n",
       "      <td>1</td>\n",
       "      <td>auto</td>\n",
       "      <td>50</td>\n",
       "      <td>42</td>\n",
       "      <td>{'learning_rate': 0.25, 'loss': 'deviance', 'm...</td>\n",
       "      <td>0.985276</td>\n",
       "      <td>0.985276</td>\n",
       "      <td>0.985258</td>\n",
       "      <td>0.985258</td>\n",
       "      <td>0.395577</td>\n",
       "      <td>0.867329</td>\n",
       "      <td>0.235876</td>\n",
       "      <td>25</td>\n",
       "    </tr>\n",
       "    <tr>\n",
       "      <th>25</th>\n",
       "      <td>0.25</td>\n",
       "      <td>deviance</td>\n",
       "      <td>1</td>\n",
       "      <td>auto</td>\n",
       "      <td>100</td>\n",
       "      <td>42</td>\n",
       "      <td>0.182005</td>\n",
       "      <td>0.003595</td>\n",
       "      <td>0.002062</td>\n",
       "      <td>0.000055</td>\n",
       "      <td>0.25</td>\n",
       "      <td>deviance</td>\n",
       "      <td>1</td>\n",
       "      <td>auto</td>\n",
       "      <td>100</td>\n",
       "      <td>42</td>\n",
       "      <td>{'learning_rate': 0.25, 'loss': 'deviance', 'm...</td>\n",
       "      <td>0.985276</td>\n",
       "      <td>0.985276</td>\n",
       "      <td>0.985258</td>\n",
       "      <td>0.985258</td>\n",
       "      <td>0.395577</td>\n",
       "      <td>0.867329</td>\n",
       "      <td>0.235876</td>\n",
       "      <td>25</td>\n",
       "    </tr>\n",
       "    <tr>\n",
       "      <th>40</th>\n",
       "      <td>0.25</td>\n",
       "      <td>exponential</td>\n",
       "      <td>3</td>\n",
       "      <td>auto</td>\n",
       "      <td>50</td>\n",
       "      <td>42</td>\n",
       "      <td>0.208248</td>\n",
       "      <td>0.002836</td>\n",
       "      <td>0.002424</td>\n",
       "      <td>0.000068</td>\n",
       "      <td>0.25</td>\n",
       "      <td>exponential</td>\n",
       "      <td>3</td>\n",
       "      <td>auto</td>\n",
       "      <td>50</td>\n",
       "      <td>42</td>\n",
       "      <td>{'learning_rate': 0.25, 'loss': 'exponential',...</td>\n",
       "      <td>0.985276</td>\n",
       "      <td>0.985276</td>\n",
       "      <td>0.985258</td>\n",
       "      <td>0.984029</td>\n",
       "      <td>0.396806</td>\n",
       "      <td>0.867329</td>\n",
       "      <td>0.235262</td>\n",
       "      <td>25</td>\n",
       "    </tr>\n",
       "    <tr>\n",
       "      <th>44</th>\n",
       "      <td>0.25</td>\n",
       "      <td>exponential</td>\n",
       "      <td>5</td>\n",
       "      <td>auto</td>\n",
       "      <td>50</td>\n",
       "      <td>42</td>\n",
       "      <td>0.340208</td>\n",
       "      <td>0.002924</td>\n",
       "      <td>0.002848</td>\n",
       "      <td>0.000210</td>\n",
       "      <td>0.25</td>\n",
       "      <td>exponential</td>\n",
       "      <td>5</td>\n",
       "      <td>auto</td>\n",
       "      <td>50</td>\n",
       "      <td>42</td>\n",
       "      <td>{'learning_rate': 0.25, 'loss': 'exponential',...</td>\n",
       "      <td>0.985276</td>\n",
       "      <td>0.985276</td>\n",
       "      <td>0.984029</td>\n",
       "      <td>0.985258</td>\n",
       "      <td>0.396806</td>\n",
       "      <td>0.867329</td>\n",
       "      <td>0.235262</td>\n",
       "      <td>29</td>\n",
       "    </tr>\n",
       "    <tr>\n",
       "      <th>6</th>\n",
       "      <td>0.10</td>\n",
       "      <td>deviance</td>\n",
       "      <td>3</td>\n",
       "      <td>sqrt</td>\n",
       "      <td>50</td>\n",
       "      <td>42</td>\n",
       "      <td>0.087429</td>\n",
       "      <td>0.002549</td>\n",
       "      <td>0.002366</td>\n",
       "      <td>0.000323</td>\n",
       "      <td>0.1</td>\n",
       "      <td>deviance</td>\n",
       "      <td>3</td>\n",
       "      <td>sqrt</td>\n",
       "      <td>50</td>\n",
       "      <td>42</td>\n",
       "      <td>{'learning_rate': 0.1, 'loss': 'deviance', 'ma...</td>\n",
       "      <td>0.985276</td>\n",
       "      <td>0.985276</td>\n",
       "      <td>0.984029</td>\n",
       "      <td>0.985258</td>\n",
       "      <td>0.396806</td>\n",
       "      <td>0.867329</td>\n",
       "      <td>0.235262</td>\n",
       "      <td>29</td>\n",
       "    </tr>\n",
       "    <tr>\n",
       "      <th>21</th>\n",
       "      <td>0.10</td>\n",
       "      <td>exponential</td>\n",
       "      <td>5</td>\n",
       "      <td>auto</td>\n",
       "      <td>100</td>\n",
       "      <td>42</td>\n",
       "      <td>0.685985</td>\n",
       "      <td>0.008537</td>\n",
       "      <td>0.004030</td>\n",
       "      <td>0.000413</td>\n",
       "      <td>0.1</td>\n",
       "      <td>exponential</td>\n",
       "      <td>5</td>\n",
       "      <td>auto</td>\n",
       "      <td>100</td>\n",
       "      <td>42</td>\n",
       "      <td>{'learning_rate': 0.1, 'loss': 'exponential', ...</td>\n",
       "      <td>0.985276</td>\n",
       "      <td>0.985276</td>\n",
       "      <td>0.984029</td>\n",
       "      <td>0.985258</td>\n",
       "      <td>0.395577</td>\n",
       "      <td>0.867083</td>\n",
       "      <td>0.235753</td>\n",
       "      <td>31</td>\n",
       "    </tr>\n",
       "    <tr>\n",
       "      <th>45</th>\n",
       "      <td>0.25</td>\n",
       "      <td>exponential</td>\n",
       "      <td>5</td>\n",
       "      <td>auto</td>\n",
       "      <td>100</td>\n",
       "      <td>42</td>\n",
       "      <td>0.675292</td>\n",
       "      <td>0.010236</td>\n",
       "      <td>0.004104</td>\n",
       "      <td>0.000386</td>\n",
       "      <td>0.25</td>\n",
       "      <td>exponential</td>\n",
       "      <td>5</td>\n",
       "      <td>auto</td>\n",
       "      <td>100</td>\n",
       "      <td>42</td>\n",
       "      <td>{'learning_rate': 0.25, 'loss': 'exponential',...</td>\n",
       "      <td>0.985276</td>\n",
       "      <td>0.985276</td>\n",
       "      <td>0.984029</td>\n",
       "      <td>0.984029</td>\n",
       "      <td>0.395577</td>\n",
       "      <td>0.866838</td>\n",
       "      <td>0.235631</td>\n",
       "      <td>32</td>\n",
       "    </tr>\n",
       "    <tr>\n",
       "      <th>47</th>\n",
       "      <td>0.25</td>\n",
       "      <td>exponential</td>\n",
       "      <td>5</td>\n",
       "      <td>sqrt</td>\n",
       "      <td>100</td>\n",
       "      <td>42</td>\n",
       "      <td>0.311533</td>\n",
       "      <td>0.005003</td>\n",
       "      <td>0.004197</td>\n",
       "      <td>0.000462</td>\n",
       "      <td>0.25</td>\n",
       "      <td>exponential</td>\n",
       "      <td>5</td>\n",
       "      <td>sqrt</td>\n",
       "      <td>100</td>\n",
       "      <td>42</td>\n",
       "      <td>{'learning_rate': 0.25, 'loss': 'exponential',...</td>\n",
       "      <td>0.985276</td>\n",
       "      <td>0.985276</td>\n",
       "      <td>0.984029</td>\n",
       "      <td>0.984029</td>\n",
       "      <td>0.395577</td>\n",
       "      <td>0.866838</td>\n",
       "      <td>0.235631</td>\n",
       "      <td>32</td>\n",
       "    </tr>\n",
       "    <tr>\n",
       "      <th>10</th>\n",
       "      <td>0.10</td>\n",
       "      <td>deviance</td>\n",
       "      <td>5</td>\n",
       "      <td>sqrt</td>\n",
       "      <td>50</td>\n",
       "      <td>42</td>\n",
       "      <td>0.153209</td>\n",
       "      <td>0.008647</td>\n",
       "      <td>0.003002</td>\n",
       "      <td>0.000305</td>\n",
       "      <td>0.1</td>\n",
       "      <td>deviance</td>\n",
       "      <td>5</td>\n",
       "      <td>sqrt</td>\n",
       "      <td>50</td>\n",
       "      <td>42</td>\n",
       "      <td>{'learning_rate': 0.1, 'loss': 'deviance', 'ma...</td>\n",
       "      <td>0.985276</td>\n",
       "      <td>0.985276</td>\n",
       "      <td>0.984029</td>\n",
       "      <td>0.981572</td>\n",
       "      <td>0.396806</td>\n",
       "      <td>0.866592</td>\n",
       "      <td>0.234897</td>\n",
       "      <td>34</td>\n",
       "    </tr>\n",
       "    <tr>\n",
       "      <th>11</th>\n",
       "      <td>0.10</td>\n",
       "      <td>deviance</td>\n",
       "      <td>5</td>\n",
       "      <td>sqrt</td>\n",
       "      <td>100</td>\n",
       "      <td>42</td>\n",
       "      <td>0.290851</td>\n",
       "      <td>0.006264</td>\n",
       "      <td>0.004467</td>\n",
       "      <td>0.000870</td>\n",
       "      <td>0.1</td>\n",
       "      <td>deviance</td>\n",
       "      <td>5</td>\n",
       "      <td>sqrt</td>\n",
       "      <td>100</td>\n",
       "      <td>42</td>\n",
       "      <td>{'learning_rate': 0.1, 'loss': 'deviance', 'ma...</td>\n",
       "      <td>0.985276</td>\n",
       "      <td>0.985276</td>\n",
       "      <td>0.984029</td>\n",
       "      <td>0.982801</td>\n",
       "      <td>0.395577</td>\n",
       "      <td>0.866592</td>\n",
       "      <td>0.235509</td>\n",
       "      <td>34</td>\n",
       "    </tr>\n",
       "    <tr>\n",
       "      <th>41</th>\n",
       "      <td>0.25</td>\n",
       "      <td>exponential</td>\n",
       "      <td>3</td>\n",
       "      <td>auto</td>\n",
       "      <td>100</td>\n",
       "      <td>42</td>\n",
       "      <td>0.423461</td>\n",
       "      <td>0.006564</td>\n",
       "      <td>0.003014</td>\n",
       "      <td>0.000191</td>\n",
       "      <td>0.25</td>\n",
       "      <td>exponential</td>\n",
       "      <td>3</td>\n",
       "      <td>auto</td>\n",
       "      <td>100</td>\n",
       "      <td>42</td>\n",
       "      <td>{'learning_rate': 0.25, 'loss': 'exponential',...</td>\n",
       "      <td>0.982822</td>\n",
       "      <td>0.984049</td>\n",
       "      <td>0.985258</td>\n",
       "      <td>0.984029</td>\n",
       "      <td>0.395577</td>\n",
       "      <td>0.866347</td>\n",
       "      <td>0.235386</td>\n",
       "      <td>36</td>\n",
       "    </tr>\n",
       "    <tr>\n",
       "      <th>31</th>\n",
       "      <td>0.25</td>\n",
       "      <td>deviance</td>\n",
       "      <td>3</td>\n",
       "      <td>sqrt</td>\n",
       "      <td>100</td>\n",
       "      <td>42</td>\n",
       "      <td>0.165643</td>\n",
       "      <td>0.005144</td>\n",
       "      <td>0.003020</td>\n",
       "      <td>0.000377</td>\n",
       "      <td>0.25</td>\n",
       "      <td>deviance</td>\n",
       "      <td>3</td>\n",
       "      <td>sqrt</td>\n",
       "      <td>100</td>\n",
       "      <td>42</td>\n",
       "      <td>{'learning_rate': 0.25, 'loss': 'deviance', 'm...</td>\n",
       "      <td>0.982822</td>\n",
       "      <td>0.984049</td>\n",
       "      <td>0.984029</td>\n",
       "      <td>0.984029</td>\n",
       "      <td>0.396806</td>\n",
       "      <td>0.866347</td>\n",
       "      <td>0.234771</td>\n",
       "      <td>36</td>\n",
       "    </tr>\n",
       "    <tr>\n",
       "      <th>4</th>\n",
       "      <td>0.10</td>\n",
       "      <td>deviance</td>\n",
       "      <td>3</td>\n",
       "      <td>auto</td>\n",
       "      <td>50</td>\n",
       "      <td>42</td>\n",
       "      <td>0.206570</td>\n",
       "      <td>0.007179</td>\n",
       "      <td>0.002329</td>\n",
       "      <td>0.000129</td>\n",
       "      <td>0.1</td>\n",
       "      <td>deviance</td>\n",
       "      <td>3</td>\n",
       "      <td>auto</td>\n",
       "      <td>50</td>\n",
       "      <td>42</td>\n",
       "      <td>{'learning_rate': 0.1, 'loss': 'deviance', 'ma...</td>\n",
       "      <td>0.984049</td>\n",
       "      <td>0.984049</td>\n",
       "      <td>0.982801</td>\n",
       "      <td>0.982801</td>\n",
       "      <td>0.396806</td>\n",
       "      <td>0.866101</td>\n",
       "      <td>0.234648</td>\n",
       "      <td>38</td>\n",
       "    </tr>\n",
       "    <tr>\n",
       "      <th>30</th>\n",
       "      <td>0.25</td>\n",
       "      <td>deviance</td>\n",
       "      <td>3</td>\n",
       "      <td>sqrt</td>\n",
       "      <td>50</td>\n",
       "      <td>42</td>\n",
       "      <td>0.086683</td>\n",
       "      <td>0.002732</td>\n",
       "      <td>0.002554</td>\n",
       "      <td>0.000589</td>\n",
       "      <td>0.25</td>\n",
       "      <td>deviance</td>\n",
       "      <td>3</td>\n",
       "      <td>sqrt</td>\n",
       "      <td>50</td>\n",
       "      <td>42</td>\n",
       "      <td>{'learning_rate': 0.25, 'loss': 'deviance', 'm...</td>\n",
       "      <td>0.984049</td>\n",
       "      <td>0.985276</td>\n",
       "      <td>0.982801</td>\n",
       "      <td>0.982801</td>\n",
       "      <td>0.395577</td>\n",
       "      <td>0.866101</td>\n",
       "      <td>0.235264</td>\n",
       "      <td>39</td>\n",
       "    </tr>\n",
       "    <tr>\n",
       "      <th>9</th>\n",
       "      <td>0.10</td>\n",
       "      <td>deviance</td>\n",
       "      <td>5</td>\n",
       "      <td>auto</td>\n",
       "      <td>100</td>\n",
       "      <td>42</td>\n",
       "      <td>0.652540</td>\n",
       "      <td>0.009817</td>\n",
       "      <td>0.004281</td>\n",
       "      <td>0.000616</td>\n",
       "      <td>0.1</td>\n",
       "      <td>deviance</td>\n",
       "      <td>5</td>\n",
       "      <td>auto</td>\n",
       "      <td>100</td>\n",
       "      <td>42</td>\n",
       "      <td>{'learning_rate': 0.1, 'loss': 'deviance', 'ma...</td>\n",
       "      <td>0.985276</td>\n",
       "      <td>0.985276</td>\n",
       "      <td>0.982801</td>\n",
       "      <td>0.980344</td>\n",
       "      <td>0.395577</td>\n",
       "      <td>0.865855</td>\n",
       "      <td>0.235146</td>\n",
       "      <td>40</td>\n",
       "    </tr>\n",
       "    <tr>\n",
       "      <th>5</th>\n",
       "      <td>0.10</td>\n",
       "      <td>deviance</td>\n",
       "      <td>3</td>\n",
       "      <td>auto</td>\n",
       "      <td>100</td>\n",
       "      <td>42</td>\n",
       "      <td>0.408875</td>\n",
       "      <td>0.007771</td>\n",
       "      <td>0.002987</td>\n",
       "      <td>0.000235</td>\n",
       "      <td>0.1</td>\n",
       "      <td>deviance</td>\n",
       "      <td>3</td>\n",
       "      <td>auto</td>\n",
       "      <td>100</td>\n",
       "      <td>42</td>\n",
       "      <td>{'learning_rate': 0.1, 'loss': 'deviance', 'ma...</td>\n",
       "      <td>0.984049</td>\n",
       "      <td>0.984049</td>\n",
       "      <td>0.982801</td>\n",
       "      <td>0.981572</td>\n",
       "      <td>0.395577</td>\n",
       "      <td>0.865610</td>\n",
       "      <td>0.235018</td>\n",
       "      <td>41</td>\n",
       "    </tr>\n",
       "    <tr>\n",
       "      <th>35</th>\n",
       "      <td>0.25</td>\n",
       "      <td>deviance</td>\n",
       "      <td>5</td>\n",
       "      <td>sqrt</td>\n",
       "      <td>100</td>\n",
       "      <td>42</td>\n",
       "      <td>0.280853</td>\n",
       "      <td>0.006226</td>\n",
       "      <td>0.004121</td>\n",
       "      <td>0.000409</td>\n",
       "      <td>0.25</td>\n",
       "      <td>deviance</td>\n",
       "      <td>5</td>\n",
       "      <td>sqrt</td>\n",
       "      <td>100</td>\n",
       "      <td>42</td>\n",
       "      <td>{'learning_rate': 0.25, 'loss': 'deviance', 'm...</td>\n",
       "      <td>0.985276</td>\n",
       "      <td>0.985276</td>\n",
       "      <td>0.981572</td>\n",
       "      <td>0.981572</td>\n",
       "      <td>0.394349</td>\n",
       "      <td>0.865609</td>\n",
       "      <td>0.235636</td>\n",
       "      <td>42</td>\n",
       "    </tr>\n",
       "    <tr>\n",
       "      <th>34</th>\n",
       "      <td>0.25</td>\n",
       "      <td>deviance</td>\n",
       "      <td>5</td>\n",
       "      <td>sqrt</td>\n",
       "      <td>50</td>\n",
       "      <td>42</td>\n",
       "      <td>0.141190</td>\n",
       "      <td>0.003544</td>\n",
       "      <td>0.002866</td>\n",
       "      <td>0.000098</td>\n",
       "      <td>0.25</td>\n",
       "      <td>deviance</td>\n",
       "      <td>5</td>\n",
       "      <td>sqrt</td>\n",
       "      <td>50</td>\n",
       "      <td>42</td>\n",
       "      <td>{'learning_rate': 0.25, 'loss': 'deviance', 'm...</td>\n",
       "      <td>0.984049</td>\n",
       "      <td>0.984049</td>\n",
       "      <td>0.982801</td>\n",
       "      <td>0.981572</td>\n",
       "      <td>0.394349</td>\n",
       "      <td>0.865364</td>\n",
       "      <td>0.235509</td>\n",
       "      <td>43</td>\n",
       "    </tr>\n",
       "    <tr>\n",
       "      <th>33</th>\n",
       "      <td>0.25</td>\n",
       "      <td>deviance</td>\n",
       "      <td>5</td>\n",
       "      <td>auto</td>\n",
       "      <td>100</td>\n",
       "      <td>42</td>\n",
       "      <td>0.636286</td>\n",
       "      <td>0.009956</td>\n",
       "      <td>0.004322</td>\n",
       "      <td>0.000594</td>\n",
       "      <td>0.25</td>\n",
       "      <td>deviance</td>\n",
       "      <td>5</td>\n",
       "      <td>auto</td>\n",
       "      <td>100</td>\n",
       "      <td>42</td>\n",
       "      <td>{'learning_rate': 0.25, 'loss': 'deviance', 'm...</td>\n",
       "      <td>0.984049</td>\n",
       "      <td>0.982822</td>\n",
       "      <td>0.982801</td>\n",
       "      <td>0.980344</td>\n",
       "      <td>0.395577</td>\n",
       "      <td>0.865119</td>\n",
       "      <td>0.234774</td>\n",
       "      <td>44</td>\n",
       "    </tr>\n",
       "    <tr>\n",
       "      <th>8</th>\n",
       "      <td>0.10</td>\n",
       "      <td>deviance</td>\n",
       "      <td>5</td>\n",
       "      <td>auto</td>\n",
       "      <td>50</td>\n",
       "      <td>42</td>\n",
       "      <td>0.325126</td>\n",
       "      <td>0.004306</td>\n",
       "      <td>0.002870</td>\n",
       "      <td>0.000120</td>\n",
       "      <td>0.1</td>\n",
       "      <td>deviance</td>\n",
       "      <td>5</td>\n",
       "      <td>auto</td>\n",
       "      <td>50</td>\n",
       "      <td>42</td>\n",
       "      <td>{'learning_rate': 0.1, 'loss': 'deviance', 'ma...</td>\n",
       "      <td>0.985276</td>\n",
       "      <td>0.984049</td>\n",
       "      <td>0.982801</td>\n",
       "      <td>0.977887</td>\n",
       "      <td>0.395577</td>\n",
       "      <td>0.865118</td>\n",
       "      <td>0.234784</td>\n",
       "      <td>45</td>\n",
       "    </tr>\n",
       "    <tr>\n",
       "      <th>32</th>\n",
       "      <td>0.25</td>\n",
       "      <td>deviance</td>\n",
       "      <td>5</td>\n",
       "      <td>auto</td>\n",
       "      <td>50</td>\n",
       "      <td>42</td>\n",
       "      <td>0.329602</td>\n",
       "      <td>0.009097</td>\n",
       "      <td>0.002872</td>\n",
       "      <td>0.000186</td>\n",
       "      <td>0.25</td>\n",
       "      <td>deviance</td>\n",
       "      <td>5</td>\n",
       "      <td>auto</td>\n",
       "      <td>50</td>\n",
       "      <td>42</td>\n",
       "      <td>{'learning_rate': 0.25, 'loss': 'deviance', 'm...</td>\n",
       "      <td>0.985276</td>\n",
       "      <td>0.984049</td>\n",
       "      <td>0.981572</td>\n",
       "      <td>0.977887</td>\n",
       "      <td>0.394349</td>\n",
       "      <td>0.864627</td>\n",
       "      <td>0.235152</td>\n",
       "      <td>46</td>\n",
       "    </tr>\n",
       "    <tr>\n",
       "      <th>29</th>\n",
       "      <td>0.25</td>\n",
       "      <td>deviance</td>\n",
       "      <td>3</td>\n",
       "      <td>auto</td>\n",
       "      <td>100</td>\n",
       "      <td>42</td>\n",
       "      <td>0.400735</td>\n",
       "      <td>0.004400</td>\n",
       "      <td>0.002992</td>\n",
       "      <td>0.000198</td>\n",
       "      <td>0.25</td>\n",
       "      <td>deviance</td>\n",
       "      <td>3</td>\n",
       "      <td>auto</td>\n",
       "      <td>100</td>\n",
       "      <td>42</td>\n",
       "      <td>{'learning_rate': 0.25, 'loss': 'deviance', 'm...</td>\n",
       "      <td>0.979141</td>\n",
       "      <td>0.982822</td>\n",
       "      <td>0.982801</td>\n",
       "      <td>0.979115</td>\n",
       "      <td>0.394349</td>\n",
       "      <td>0.863646</td>\n",
       "      <td>0.234654</td>\n",
       "      <td>47</td>\n",
       "    </tr>\n",
       "    <tr>\n",
       "      <th>28</th>\n",
       "      <td>0.25</td>\n",
       "      <td>deviance</td>\n",
       "      <td>3</td>\n",
       "      <td>auto</td>\n",
       "      <td>50</td>\n",
       "      <td>42</td>\n",
       "      <td>0.201659</td>\n",
       "      <td>0.004339</td>\n",
       "      <td>0.002295</td>\n",
       "      <td>0.000098</td>\n",
       "      <td>0.25</td>\n",
       "      <td>deviance</td>\n",
       "      <td>3</td>\n",
       "      <td>auto</td>\n",
       "      <td>50</td>\n",
       "      <td>42</td>\n",
       "      <td>{'learning_rate': 0.25, 'loss': 'deviance', 'm...</td>\n",
       "      <td>0.980368</td>\n",
       "      <td>0.982822</td>\n",
       "      <td>0.981572</td>\n",
       "      <td>0.979115</td>\n",
       "      <td>0.394349</td>\n",
       "      <td>0.863645</td>\n",
       "      <td>0.234651</td>\n",
       "      <td>48</td>\n",
       "    </tr>\n",
       "  </tbody>\n",
       "</table>\n",
       "</div>"
      ],
      "text/plain": [
       "    learning_rate         loss  ...  std_test_score rank_test_score\n",
       "0            0.10     deviance  ...        0.235384               1\n",
       "42           0.25  exponential  ...        0.235384               1\n",
       "39           0.25  exponential  ...        0.235384               1\n",
       "38           0.25  exponential  ...        0.235384               1\n",
       "37           0.25  exponential  ...        0.235384               1\n",
       "36           0.25  exponential  ...        0.235384               1\n",
       "27           0.25     deviance  ...        0.235384               1\n",
       "26           0.25     deviance  ...        0.235384               1\n",
       "46           0.25  exponential  ...        0.235384               1\n",
       "22           0.10  exponential  ...        0.235384               1\n",
       "20           0.10  exponential  ...        0.235384               1\n",
       "19           0.10  exponential  ...        0.235384               1\n",
       "18           0.10  exponential  ...        0.235384               1\n",
       "16           0.10  exponential  ...        0.235384               1\n",
       "15           0.10  exponential  ...        0.235384               1\n",
       "23           0.10  exponential  ...        0.235384               1\n",
       "13           0.10  exponential  ...        0.235384               1\n",
       "12           0.10  exponential  ...        0.235384               1\n",
       "1            0.10     deviance  ...        0.235384               1\n",
       "2            0.10     deviance  ...        0.235384               1\n",
       "3            0.10     deviance  ...        0.235384               1\n",
       "14           0.10  exponential  ...        0.235384               1\n",
       "43           0.25  exponential  ...        0.235262              23\n",
       "7            0.10     deviance  ...        0.235262              23\n",
       "17           0.10  exponential  ...        0.235262              25\n",
       "24           0.25     deviance  ...        0.235876              25\n",
       "25           0.25     deviance  ...        0.235876              25\n",
       "40           0.25  exponential  ...        0.235262              25\n",
       "44           0.25  exponential  ...        0.235262              29\n",
       "6            0.10     deviance  ...        0.235262              29\n",
       "21           0.10  exponential  ...        0.235753              31\n",
       "45           0.25  exponential  ...        0.235631              32\n",
       "47           0.25  exponential  ...        0.235631              32\n",
       "10           0.10     deviance  ...        0.234897              34\n",
       "11           0.10     deviance  ...        0.235509              34\n",
       "41           0.25  exponential  ...        0.235386              36\n",
       "31           0.25     deviance  ...        0.234771              36\n",
       "4            0.10     deviance  ...        0.234648              38\n",
       "30           0.25     deviance  ...        0.235264              39\n",
       "9            0.10     deviance  ...        0.235146              40\n",
       "5            0.10     deviance  ...        0.235018              41\n",
       "35           0.25     deviance  ...        0.235636              42\n",
       "34           0.25     deviance  ...        0.235509              43\n",
       "33           0.25     deviance  ...        0.234774              44\n",
       "8            0.10     deviance  ...        0.234784              45\n",
       "32           0.25     deviance  ...        0.235152              46\n",
       "29           0.25     deviance  ...        0.234654              47\n",
       "28           0.25     deviance  ...        0.234651              48\n",
       "\n",
       "[48 rows x 25 columns]"
      ]
     },
     "execution_count": 50,
     "metadata": {
      "tags": []
     },
     "output_type": "execute_result"
    }
   ],
   "source": [
    "gbm_results = pd.DataFrame.from_dict(gbm1.cv_results_)\n",
    "newdf = pd.DataFrame.from_dict(gbm1.cv_results_['params'])\n",
    "result = pd.concat([newdf,gbm_results], axis=1, join='inner')\n",
    "result.sort_values('rank_test_score', ascending=True)"
   ]
  },
  {
   "cell_type": "markdown",
   "metadata": {
    "id": "zf_lSj3MI75L"
   },
   "source": [
    "# Fitting the best parameters on test data using Gradient Boost"
   ]
  },
  {
   "cell_type": "code",
   "execution_count": null,
   "metadata": {
    "colab": {
     "base_uri": "https://localhost:8080/",
     "height": 852
    },
    "executionInfo": {
     "elapsed": 31676,
     "status": "ok",
     "timestamp": 1617891217043,
     "user": {
      "displayName": "Nikhil Pereira",
      "photoUrl": "https://lh3.googleusercontent.com/-KmpYA79GZFM/AAAAAAAAAAI/AAAAAAAAAPs/M7RMlSus4Ck/s64/photo.jpg",
      "userId": "01764547955641237902"
     },
     "user_tz": 240
    },
    "id": "UZ185Yqn82jN",
    "outputId": "ac3eaab3-0915-4ab7-b777-dc48d1ac3801"
   },
   "outputs": [
    {
     "name": "stderr",
     "output_type": "stream",
     "text": [
      "/usr/local/lib/python3.7/dist-packages/sklearn/metrics/_classification.py:1272: UndefinedMetricWarning:\n",
      "\n",
      "Precision and F-score are ill-defined and being set to 0.0 in labels with no predicted samples. Use `zero_division` parameter to control this behavior.\n",
      "\n",
      "/usr/local/lib/python3.7/dist-packages/sklearn/metrics/_classification.py:1272: UndefinedMetricWarning:\n",
      "\n",
      "Precision and F-score are ill-defined and being set to 0.0 in labels with no predicted samples. Use `zero_division` parameter to control this behavior.\n",
      "\n"
     ]
    },
    {
     "name": "stdout",
     "output_type": "stream",
     "text": [
      "              precision    recall  f1-score   support\n",
      "\n",
      "       False       0.99      1.00      0.99      4012\n",
      "        True       0.00      0.00      0.00        60\n",
      "\n",
      "    accuracy                           0.99      4072\n",
      "   macro avg       0.49      0.50      0.50      4072\n",
      "weighted avg       0.97      0.99      0.98      4072\n",
      "\n",
      "              precision    recall  f1-score   support\n",
      "\n",
      "       False       0.99      1.00      1.00      4566\n",
      "        True       0.00      0.00      0.00        43\n",
      "\n",
      "    accuracy                           0.99      4609\n",
      "   macro avg       0.50      0.50      0.50      4609\n",
      "weighted avg       0.98      0.99      0.99      4609\n",
      "\n"
     ]
    },
    {
     "data": {
      "image/png": "[encoded data removed]",
      "text/plain": [
       "<Figure size 432x288 with 1 Axes>"
      ]
     },
     "metadata": {
      "tags": []
     },
     "output_type": "display_data"
    },
    {
     "name": "stdout",
     "output_type": "stream",
     "text": [
      "Confusion Matrix - Training Dataset\n",
      "Predicted  False   All\n",
      "True                  \n",
      "False       4566  4566\n",
      "True          43    43\n",
      "All         4609  4609\n"
     ]
    }
   ],
   "source": [
    "from sklearn import metrics\n",
    "#Fitting the model\n",
    "gbm2 = GradientBoostingClassifier(**gbm1.best_params_)\n",
    "gbm2.fit(X_train.select_dtypes(include=num), y_train)\n",
    "\n",
    "#Predicting based on the test set\n",
    "y_grad_predicted = gbm2.predict(X_test.select_dtypes(include=num))\n",
    "\n",
    "#printing full metrics report\n",
    "#print(metrics.classification_report(y_test, y_grad_predicted))\n",
    "print(classification_report(y_train, gbm2.predict(X_train.select_dtypes(include=num))))     \n",
    "print(classification_report(y_test, gbm2.predict(X_test.select_dtypes(include=num))))\n",
    "\n",
    "\n",
    "GB_roc_auc = roc_auc_score(y_test, gbm2.predict(X_test.select_dtypes(include=num)))\n",
    "fpr, tpr, thresholds = roc_curve(y_test, gbm2.predict_proba(X_test.select_dtypes(include=num))[:,1])\n",
    "plt.figure()\n",
    "plt.plot(fpr, tpr, label='Gradient Boost (area = %0.2f)' % GB_roc_auc)\n",
    "plt.plot([0, 1], [0, 1],'r--')\n",
    "plt.xlim([0.0, 1.0])\n",
    "plt.ylim([0.0, 1.05])\n",
    "plt.xlabel('False Positive Rate')\n",
    "plt.ylabel('True Positive Rate')\n",
    "plt.title('Receiver operating characteristic')\n",
    "plt.legend(loc=\"lower right\")\n",
    "plt.savefig('Gradient Boost_ROC')\n",
    "plt.show()\n",
    "\n",
    "print('Confusion Matrix - Training Dataset')\n",
    "print(pd.crosstab(y_test.ravel(), y_grad_predicted, rownames = ['True'], colnames = ['Predicted'], margins = True))"
   ]
  },
  {
   "cell_type": "markdown",
   "metadata": {
    "id": "P-mp98Y4JBiT"
   },
   "source": [
    "# Feature Importance Visual as Determined by Gradient Boost Model"
   ]
  },
  {
   "cell_type": "code",
   "execution_count": null,
   "metadata": {
    "id": "QlfZGJVdJGA2"
   },
   "outputs": [],
   "source": [
    "# Scatter plot \n",
    "trace = go.Scatter(\n",
    "    y = gbm2.feature_importances_,\n",
    "    x = surveyPd.columns.values,\n",
    "    mode='markers',\n",
    "    marker=dict(\n",
    "        sizemode = 'diameter',\n",
    "        sizeref = 1,\n",
    "        size = 13,\n",
    "        #size= rf.feature_importances_,\n",
    "        #color = np.random.randn(500), #set color equal to a variable\n",
    "        color = gbm2.feature_importances_,\n",
    "        colorscale='Portland',\n",
    "        showscale=True\n",
    "    ),\n",
    "    text = surveyPd.columns.values\n",
    ")\n",
    "data = [trace]\n",
    "\n",
    "layout= go.Layout(\n",
    "    autosize= True,\n",
    "    title= 'Gradient Boost Feature Importance',\n",
    "    hovermode= 'closest',\n",
    "     xaxis= dict(\n",
    "         ticklen= 1,\n",
    "         showgrid=False,\n",
    "        zeroline=False,\n",
    "        showline=False\n",
    "     ),\n",
    "    yaxis=dict(\n",
    "        title= 'Feature Importance',\n",
    "        showgrid=False,\n",
    "        zeroline=False,\n",
    "        ticklen= 5,\n",
    "        gridwidth= 2\n",
    "    ),\n",
    "    showlegend= False\n",
    ")\n",
    "fig = go.Figure(data=data, layout=layout)\n",
    "py.iplot(fig,filename='scattergb')\n",
    "fig.show(renderer=\"colab\")"
   ]
  },
  {
   "cell_type": "code",
   "execution_count": null,
   "metadata": {
    "id": "N00c6LO8gpfw"
   },
   "outputs": [],
   "source": [
    "#Here are the most important questions according to the GB algorithm\n",
    "\n",
    "gb_importances = gbm2.feature_importances_\n",
    "gb_index = surveyPd.select_dtypes(include=num).columns.values \n",
    "#new_index = np.delete(rf_index, -1)\n",
    "\n",
    "featureimportance_df = pd.DataFrame({'Question Number': gb_index, 'Feature Importance': gb_importances}, columns=['Question Number', 'Feature Importance'])\n",
    "fi_df = featureimportance_df.sort_values(by=['Feature Importance'], ascending=False)\n",
    "fi_df\n",
    "\n",
    "top_five = fi_df.head(n=5)\n",
    "print(top_five)\n",
    "\n",
    "question_column = top_five.loc[:,'Question Number']\n",
    "\n",
    "imp_questions = question_column.values\n",
    "\n",
    "#returning the 5 most important questions\n",
    "\n",
    "#print(imp_questions)\n",
    "print('The questions are:')\n",
    "for i in imp_questions:\n",
    "  print(trainQuestions[int(i)])\n",
    "\n"
   ]
  },
  {
   "cell_type": "markdown",
   "metadata": {
    "id": "rq8J_cLjJHmS"
   },
   "source": [
    "# K Fold Cross Validation on the Gradient Boost Model"
   ]
  },
  {
   "cell_type": "code",
   "execution_count": null,
   "metadata": {
    "id": "FF4FqTptFh2W"
   },
   "outputs": [],
   "source": [
    "scores = cross_val_score(gbm2, X_train.select_dtypes(include=num), y_train,cv=5)\n",
    "print(\"%0.2f accuracy with a standard deviation of %0.2f\" % (scores.mean(), scores.std()))\n",
    "from sklearn.model_selection import cross_val_predict\n",
    "predicted = cross_val_predict(gbm2, X_train.select_dtypes(include=num), y_train, cv=10)\n",
    "predicted"
   ]
  },
  {
   "cell_type": "markdown",
   "metadata": {
    "id": "RLz0SG_NokCb"
   },
   "source": [
    "# Hyper Parameter Search using Sklearn Grid Search Method for Xtreme Gradient Boost"
   ]
  },
  {
   "cell_type": "code",
   "execution_count": null,
   "metadata": {
    "id": "_mbk9-25om-M"
   },
   "outputs": [],
   "source": [
    "from xgboost import XGBClassifier\n",
    "\n",
    "xgm = XGBClassifier()\n",
    "\n",
    "#try a more different learning rates and other parameter values\n",
    "xgm_parameters = {\n",
    "    \"n_estimators\":[50,100,200], \n",
    "    'max_features':[1, 10,'auto','sqrt'],\n",
    "    \"max_depth\":[1,3,5],\n",
    "    \"random_state\":[42],\n",
    "    \"learning_rate\":[0.05,0.1,0.25],\n",
    "    \n",
    "}\n",
    "xgm1 = GridSearchCV(xgm, xgm_parameters)\n",
    "xgm1.fit(X_train.select_dtypes(include=num),y_train.values.ravel())"
   ]
  },
  {
   "cell_type": "markdown",
   "metadata": {
    "id": "zr-KMFJPJNH8"
   },
   "source": [
    "# Hyper Parameter Experiment Results using XGB"
   ]
  },
  {
   "cell_type": "code",
   "execution_count": null,
   "metadata": {
    "id": "Nt3cp-66VdAo"
   },
   "outputs": [],
   "source": [
    "xgm_results = pd.DataFrame.from_dict(xgm1.cv_results_)\n",
    "newdf = pd.DataFrame.from_dict(xgm1.cv_results_['params'])\n",
    "result = pd.concat([newdf,xgm_results], axis=1, join='inner')\n",
    "result.sort_values('rank_test_score', ascending=True)"
   ]
  },
  {
   "cell_type": "markdown",
   "metadata": {
    "id": "oFUz2vc_JUPP"
   },
   "source": [
    "# Testing Best Parameters from HP search on Test Data using XGB Model"
   ]
  },
  {
   "cell_type": "code",
   "execution_count": null,
   "metadata": {
    "id": "GZ1ypJMIpLzt"
   },
   "outputs": [],
   "source": [
    "#XGboost\n",
    "from xgboost import XGBClassifier\n",
    "xgm2 = XGBClassifier(**xgm1.best_params_)\n",
    "\n",
    "xgm2.fit(X_train.select_dtypes(include=num), y_train)\n",
    "\n",
    "y_xg_predicted = xgm2.predict(X_test.select_dtypes(include=num))\n",
    "\n",
    "#print(metrics.classification_report(y_test, y_xg_predicted))\n",
    "print(classification_report(y_train, gbm2.predict(X_train.select_dtypes(include=num))))     \n",
    "print(classification_report(y_test, gbm2.predict(X_test.select_dtypes(include=num))))\n",
    "\n",
    "XGB_roc_auc = roc_auc_score(y_test, xgm2.predict(X_test.select_dtypes(include=num)))\n",
    "fpr, tpr, thresholds = roc_curve(y_test, xgm2.predict_proba(X_test.select_dtypes(include=num))[:,1])\n",
    "plt.figure()\n",
    "plt.plot(fpr, tpr, label='X Gradient Boost (area = %0.2f)' % XGB_roc_auc)\n",
    "plt.plot([0, 1], [0, 1],'r--')\n",
    "plt.xlim([0.0, 1.0])\n",
    "plt.ylim([0.0, 1.05])\n",
    "plt.xlabel('False Positive Rate')\n",
    "plt.ylabel('True Positive Rate')\n",
    "plt.title('Receiver operating characteristic')\n",
    "plt.legend(loc=\"lower right\")\n",
    "plt.savefig('XGB_ROC')\n",
    "plt.show()\n",
    "\n",
    "print('Confusion Matrix - Training Dataset')\n",
    "print(pd.crosstab(y_test.ravel(), y_xg_predicted, rownames = ['True'], colnames = ['Predicted'], margins = True))"
   ]
  },
  {
   "cell_type": "markdown",
   "metadata": {
    "id": "Gs1GF5XhJfyj"
   },
   "source": [
    "# Feature Importance Visual from XGB Model"
   ]
  },
  {
   "cell_type": "code",
   "execution_count": null,
   "metadata": {
    "id": "oN5Su9gcJl-z"
   },
   "outputs": [],
   "source": [
    "# Scatter plot \n",
    "trace = go.Scatter(\n",
    "    y = xgm2.feature_importances_,\n",
    "    x = surveyPd.columns.values,\n",
    "    mode='markers',\n",
    "    marker=dict(\n",
    "        sizemode = 'diameter',\n",
    "        sizeref = 1,\n",
    "        size = 13,\n",
    "        #size= rf.feature_importances_,\n",
    "        #color = np.random.randn(500), #set color equal to a variable\n",
    "        color = xgm2.feature_importances_,\n",
    "        colorscale='Portland',\n",
    "        showscale=True\n",
    "    ),\n",
    "    text = surveyPd.columns.values\n",
    ")\n",
    "data = [trace]\n",
    "\n",
    "layout= go.Layout(\n",
    "    autosize= True,\n",
    "    title= 'XG Boost Feature Importance',\n",
    "    hovermode= 'closest',\n",
    "     xaxis= dict(\n",
    "         ticklen= 1,\n",
    "         showgrid=False,\n",
    "        zeroline=False,\n",
    "        showline=False\n",
    "     ),\n",
    "    yaxis=dict(\n",
    "        title= 'Feature Importance',\n",
    "        showgrid=False,\n",
    "        zeroline=False,\n",
    "        ticklen= 5,\n",
    "        gridwidth= 2\n",
    "    ),\n",
    "    showlegend= False\n",
    ")\n",
    "fig = go.Figure(data=data, layout=layout)\n",
    "py.iplot(fig,filename='scatterxg')\n",
    "fig.show(renderer=\"colab\")"
   ]
  },
  {
   "cell_type": "code",
   "execution_count": null,
   "metadata": {
    "id": "lnaWG8sziJ-h"
   },
   "outputs": [],
   "source": [
    "#Here are the most important questions according to the RF algorithm\n",
    "\n",
    "xg_importances = xgm2.feature_importances_\n",
    "xg_index = surveyPd.select_dtypes(include=num).columns.values \n",
    "#new_index = np.delete(rf_index, -1)\n",
    "\n",
    "featureimportance_df = pd.DataFrame({'Question Number': xg_index, 'Feature Importance': xg_importances}, columns=['Question Number', 'Feature Importance'])\n",
    "fi_df = featureimportance_df.sort_values(by=['Feature Importance'], ascending=False)\n",
    "fi_df\n",
    "\n",
    "top_five = fi_df.head(n=5)\n",
    "print(top_five)\n",
    "\n",
    "question_column = top_five.loc[:,'Question Number']\n",
    "\n",
    "imp_questions = question_column.values\n",
    "\n",
    "#returning the 5 most important questions\n",
    "\n",
    "print(imp_questions)\n",
    "\n",
    "for i in imp_questions:\n",
    "  print(trainQuestions[int(i)])\n",
    "\n"
   ]
  },
  {
   "cell_type": "markdown",
   "metadata": {
    "id": "qXiE76UAJovj"
   },
   "source": [
    "# K Fold Cross Validation on the XGB Model"
   ]
  },
  {
   "cell_type": "code",
   "execution_count": null,
   "metadata": {
    "id": "hiSRiDJKFuXE"
   },
   "outputs": [],
   "source": [
    "scores = cross_val_score(xgm2, X_train.select_dtypes(include=num), y_train,cv=5)\n",
    "print(\"%0.2f accuracy with a standard deviation of %0.2f\" % (scores.mean(), scores.std()))\n",
    "from sklearn.model_selection import cross_val_predict\n",
    "predicted = cross_val_predict(xgm2, X_train.select_dtypes(include=num), y_train, cv=10)\n",
    "predicted"
   ]
  },
  {
   "cell_type": "markdown",
   "metadata": {
    "id": "O4s43-ukJ2tf"
   },
   "source": [
    "# AUTO KERAS MODELLING"
   ]
  },
  {
   "cell_type": "markdown",
   "metadata": {
    "id": "dEu7Izs6IRW4"
   },
   "source": [
    "# Using Auto Keras to build a Classification Model\n"
   ]
  },
  {
   "cell_type": "code",
   "execution_count": null,
   "metadata": {
    "id": "KiV3PqJ9AJC_"
   },
   "outputs": [],
   "source": [
    "\n",
    "#AutoKeras\n",
    "#Try this with a different loss function\n",
    "\n",
    "import logging\n",
    "tf.get_logger().setLevel(logging.ERROR)\n",
    "\n",
    "from sklearn.metrics import classification_report, confusion_matrix\n",
    "import autokeras as ak\n",
    "\n",
    "\n",
    "#fitting the model\n",
    "alf = ak.StructuredDataClassifier(max_trials=5, loss=\"binary_crossentropy\")\n",
    "alf.fit(X_train,y_train, verbose=1, epochs=10)\n",
    "\n",
    "alf_eval = alf.evaluate(X_train, y_train)\n",
    "alf_eval\n",
    "\n",
    "\n",
    "#alf_predict = alf.predict(X_test)\n",
    "#cm = confusion_matrix(y_test,alf_predict)\n",
    "#sns.heatmap(cm, annot=True)\n",
    "\n",
    "model = alf.export_model()\n",
    "model.summary()\n"
   ]
  },
  {
   "cell_type": "markdown",
   "metadata": {
    "id": "e-SzRCKaf20y"
   },
   "source": [
    "Keras"
   ]
  },
  {
   "cell_type": "markdown",
   "metadata": {
    "id": "U5KugpzUss4N"
   },
   "source": [
    "# Class Weight Experiment with Keras"
   ]
  },
  {
   "cell_type": "code",
   "execution_count": null,
   "metadata": {
    "id": "TO5mw3QpiIHE"
   },
   "outputs": [],
   "source": [
    "#checking the shape of our data\n",
    "\n",
    "print(X_train.shape)\n",
    "print(y_train.shape)"
   ]
  },
  {
   "cell_type": "code",
   "execution_count": null,
   "metadata": {
    "id": "qmnXy5jie4FS"
   },
   "outputs": [],
   "source": [
    "counts = np.bincount(y_train)\n",
    "print(\n",
    "    \"Number of positive samples in training data: {} ({:.2f}% of total)\".format(\n",
    "        counts[1], 100 * float(counts[1]) / len(y_train)\n",
    "    )\n",
    ")\n",
    "\n",
    "#Determining the weight needed for each class\n",
    "##This could be changed if we wished to weight the attriting class even more strongly\n",
    "weight_for_0 = 1.0 / counts[0]\n",
    "weight_for_1 = 1.0 / counts[1]\n",
    "\n",
    "print(\"Weight for neg class\", weight_for_0)\n",
    "print(\"Weight for attrit class\", weight_for_1)"
   ]
  },
  {
   "cell_type": "code",
   "execution_count": null,
   "metadata": {
    "id": "V76LVrw4GhTO"
   },
   "outputs": [],
   "source": [
    "#trying regular keras based on this credit card fraud example- https://keras.io/examples/structured_data/imbalanced_classification/\n",
    "#class weight serves to make the loss function pay more attention to a miss\n",
    "from tensorflow import keras\n",
    "\n",
    "#defining the model\n",
    "model = keras.Sequential(\n",
    "    [\n",
    "        keras.layers.Dense(\n",
    "            32, activation=\"relu\", input_shape=(X_train.shape[-1],)\n",
    "        ),\n",
    "        keras.layers.Dense(32, activation=\"relu\"),\n",
    "        keras.layers.Dropout(0.3),\n",
    "        keras.layers.Dense(32, activation=\"relu\"),\n",
    "        keras.layers.Dropout(0.3),\n",
    "        keras.layers.Dense(1, activation=\"sigmoid\")\n",
    "    ]\n",
    ")\n",
    "model.summary()\n"
   ]
  },
  {
   "cell_type": "code",
   "execution_count": null,
   "metadata": {
    "id": "BIq4RXT-d68R"
   },
   "outputs": [],
   "source": [
    "from sklearn.utils import class_weight\n",
    "\n",
    "metrics = [\n",
    "    keras.metrics.FalseNegatives(name=\"fn\"),\n",
    "    keras.metrics.FalsePositives(name=\"fp\"),\n",
    "    keras.metrics.TrueNegatives(name=\"tn\"),\n",
    "    keras.metrics.TruePositives(name=\"tp\"),\n",
    "    keras.metrics.Precision(name=\"precision\"),\n",
    "    keras.metrics.Recall(name=\"recall\"),\n",
    "]\n",
    "\n",
    "model.compile(\n",
    "    optimizer=keras.optimizers.Adam(1e-2), loss=\"binary_crossentropy\", metrics=metrics\n",
    ")\n",
    "\n",
    "callbacks = [keras.callbacks.ModelCheckpoint(\"atrrit_model_at_epoch_{epoch}.h5\")]\n",
    "class_weight = {0:weight_for_0, 1:weight_for_1} #adjust this to determine the penalty for missing\n",
    "\n",
    "model.fit(X_train,y_train,\n",
    "    batch_size=2048,\n",
    "    epochs=10,\n",
    "    verbose=2,\n",
    "    callbacks=callbacks,\n",
    "    validation_data=(X_test, y_test),\n",
    "    class_weight=class_weight\n",
    "\n",
    ")\n"
   ]
  },
  {
   "cell_type": "code",
   "execution_count": null,
   "metadata": {
    "id": "gs6ljtJpoAMc"
   },
   "outputs": [],
   "source": [
    "# np.set_printoptions(precision=4, suppress=True)\n",
    "from sklearn import metrics\n",
    "# eval_results = model.evaluate(X_test, y_test, verbose=0) \n",
    "\n",
    "# print(\"\\nLoss, accuracy on test data: \")\n",
    "# print(\"%0.4f, %0.2f%%\" % (eval_results[0], \\\n",
    "#   eval_results[1]*100))\n",
    "\n",
    "keras_predicted = model.predict(X_test)\n",
    "\n",
    "\n",
    "y_pred = np.argmax(keras_predicted, axis=1)\n",
    "print('Confusion Matrix')\n",
    "print(confusion_matrix(y_test, y_pred))\n",
    "\n",
    "print('Classification Report')\n",
    "target_names = ['Stay','Attrit']\n",
    "print(classification_report(y_test, y_pred, target_names=target_names))\n",
    "\n",
    "#print(metrics.classification_report(y_test, keras_predicted))\n"
   ]
  },
  {
   "cell_type": "markdown",
   "metadata": {
    "id": "cnZPPk1TsX4P"
   },
   "source": [
    "# Appendix"
   ]
  },
  {
   "cell_type": "markdown",
   "metadata": {
    "id": "UpIfAduysc75"
   },
   "source": [
    "\n",
    "\n",
    "```\n",
    "# This is formatted as code\n",
    "```\n",
    "\n",
    "Questions that were asked to the recipients of Client #1's survey"
   ]
  },
  {
   "cell_type": "code",
   "execution_count": null,
   "metadata": {
    "id": "0fCqEDSTKpo7"
   },
   "outputs": [],
   "source": [
    "q_cols = ['general empl satisfaction',\n",
    " 'recommend empl unit to friend',\n",
    " 'motivation of direct colleagues you are working with day to day? *Top 3',\n",
    " 'My direct colleagues are coping well with the change and transformation in our division/function',\n",
    " 'People in my team frequently go above and beyond the requirements of the job',\n",
    " 'I am proud working for my company and gladly tell people about it',\n",
    " 'I believe strongly in and support the future direction of my company',\n",
    " 'I trust that my company takes action that balances the best interests of our people, business and clients',\n",
    " \"My company's handling of this year’s challenges leaves me confident in our future success\",\n",
    " \"My company's future direction leaves me confident about my career opportunities here\",\n",
    " 'In my team we continuously use client feedback to improve our products/services',\n",
    " 'In my team we have an ongoing dialogue about our clients and their requirements and expectations',\n",
    " 'Compared to last year, our clients now view us as:',\n",
    " 'My immediate manager creates an atmosphere of openness and trust',\n",
    " 'I have confidence in my immediate manager',\n",
    " 'I have confidence in the global senior management of [division]',\n",
    " 'I have confidence in the senior management of [FUNCTION: Finance, HR, Technology, Operations, Marketing]',\n",
    " 'I have confidence in my local/country senior management',\n",
    " 'As a member of [FUNCTION: Finance, HR, Technology, Operations, Marketing] I am familiar with the overall objectives & strategies of my function',\n",
    " 'I am familiar with the overall objectives & strategies of [division]',\n",
    " 'I can clearly see how my own work contributes to the overall objectives & strategies of [division]',\n",
    " 'In my team we work towards clear objectives',\n",
    " 'In my team we make decisions rapidly when it is necessary',\n",
    " 'In my team actions are taken quickly when decisions have been made',\n",
    " 'Please rate the cooperation between different units within [division]',\n",
    " 'Please rate the cooperation within [FUNCTION: Finance, HR, Technology, Operations, Marketing]',\n",
    " 'Please rate the cooperation across the company as a whole',\n",
    " 'In my team new ideas receive very strong support and encouragement',\n",
    " 'I feel I can make my own decisions concerning my work',\n",
    " \"I have seen action taken based on the results of last year's survey\",\n",
    " 'In my company diversity of skills, experiences, background and ways of working are recognized and appreciated',\n",
    " 'My immediate manager treats all team members fairly, regardless of age, gender identity, sex, family status, race, national origin, nationality, religion, disability or sexual orientation',\n",
    " 'My immediate manager effectively works with people who are different from them to achieve business results',\n",
    " 'In my team we treat each other fairly, regardless of age, sex, gender identity, family status, race, national origin, nationality, religion, disability or sexual orientation',\n",
    " 'I feel included in my team',\n",
    " 'My company takes an interest in my well-being',\n",
    " 'My work schedule allows me sufficient flexibility to meet my personal/family needs',\n",
    " 'Career opportunities always go to the most qualified person regardless of age, gender identity, sex, family status, race, national origin, nationality, religion, disability or sexual orientation',\n",
    " 'Is there anything else you want to share with us?']"
   ]
  },
  {
   "cell_type": "markdown",
   "metadata": {
    "id": "PteRb98iq7a0"
   },
   "source": [
    "#Catboost"
   ]
  },
  {
   "cell_type": "code",
   "execution_count": null,
   "metadata": {
    "id": "eKbFDlRuetxr"
   },
   "outputs": [],
   "source": [
    "#one hot encoding is built into this model. do not need to use it in the preprocessing\n",
    "from catboost import CatBoostClassifier, Pool\n",
    "from sklearn import metrics\n",
    "from catboost.utils import get_confusion_matrix\n",
    "\n",
    "#train the model\n",
    "\n",
    "train_dataset = Pool(data=X_train,\n",
    "                     label=y_train)\n",
    "\n",
    "eval_dataset = Pool(data=X_test,\n",
    "                    label=y_test)\n",
    "\n",
    "\n",
    "cbm = CatBoostClassifier(verbose=200, loss_function='Logloss', eval_metric='AUC',random_seed=42)\n",
    "\n",
    "cbm.fit(train_dataset, use_best_model=True, eval_set=eval_dataset, plot=True)\n",
    "\n",
    "\n",
    "cat_predict = cbm.predict(X_test)\n",
    "\n",
    "print(cat_predict)\n",
    "\n",
    "cm1 = get_confusion_matrix(cbm, Pool(X_train, y_train))\n",
    "print(cm1)\n",
    "\n",
    "cm2 = get_confusion_matrix(cbm, Pool(X_test, y_test))\n",
    "print(cm2)\n",
    "\n",
    "print(cbm.get_best_score())\n",
    "print(cbm.get_best_iteration())\n",
    "\n",
    "print(\"Count of trees in model = {}\".format(cbm.tree_count_))\n"
   ]
  },
  {
   "cell_type": "markdown",
   "metadata": {
    "id": "QuucWo5_r-xe"
   },
   "source": [
    "#Hyper Parameter Search using Sklearn Grid Search Method for SVM"
   ]
  },
  {
   "cell_type": "code",
   "execution_count": null,
   "metadata": {
    "id": "tYJoCF4thTgo"
   },
   "outputs": [],
   "source": [
    "from sklearn import svm, datasets\n",
    "from sklearn.model_selection import GridSearchCV\n",
    "svm_parameters = {'kernel':('linear', 'rbf'), 'C':[1,5]} #added a class weight\n",
    "svc = svm.SVC()\n",
    "clf2 = GridSearchCV(svc, svm_parameters)\n",
    "clf2.fit(X_train, y_train)"
   ]
  },
  {
   "cell_type": "markdown",
   "metadata": {
    "id": "FfoD5AOGIaz0"
   },
   "source": [
    "# Hyper Parameter Results for SVM\n",
    "\n",
    "---\n",
    "\n"
   ]
  },
  {
   "cell_type": "code",
   "execution_count": null,
   "metadata": {
    "id": "zfq6fPEYqBuN"
   },
   "outputs": [],
   "source": [
    "svm_results = pd.DataFrame.from_dict(clf2.cv_results_)\n",
    "newdf = pd.DataFrame.from_dict(clf2.cv_results_['params'])\n",
    "result = pd.concat([newdf,svm_results], axis=1, join='inner')\n",
    "result"
   ]
  },
  {
   "cell_type": "markdown",
   "metadata": {
    "id": "wzqRC3wbIf0D"
   },
   "source": [
    "# Best Parameters Chosen for SVM on Test Data"
   ]
  },
  {
   "cell_type": "code",
   "execution_count": null,
   "metadata": {
    "id": "N5iLwdYT8bWd"
   },
   "outputs": [],
   "source": [
    "from sklearn import svm\n",
    "clf3 = svm.SVC(**clf2.best_params_).fit(X_train, y_train)\n",
    "clf3.score(X_test, y_test)\n",
    "print(classification_report(y_train, clf3.predict(X_train)))\n",
    "      \n",
    "print(classification_report(y_test, clf3.predict(X_test)))\n",
    "\n",
    "plot_roc_curve(clf3, X_test, y_test)\n",
    "print('Confusion Matrix - Training Dataset')\n",
    "print(pd.crosstab(y_test.ravel(),  clf3.predict(X_test), rownames = ['True'], colnames = ['Predicted'], margins = True))"
   ]
  },
  {
   "cell_type": "markdown",
   "metadata": {
    "id": "mp4WFfX5IuUU"
   },
   "source": [
    "# K-Fold Cross Validation of SVM Model"
   ]
  },
  {
   "cell_type": "code",
   "execution_count": null,
   "metadata": {
    "id": "-Utzf69pf53F"
   },
   "outputs": [],
   "source": [
    "scores = cross_val_score(clf3, X_train, y_train,cv=5)\n",
    "print(\"%0.2f accuracy with a standard deviation of %0.2f\" % (scores.mean(), scores.std()))\n",
    "from sklearn.model_selection import cross_val_predict\n",
    "predicted = cross_val_predict(clf3, X_train, y_train, cv=10)\n",
    "predicted"
   ]
  },
  {
   "cell_type": "code",
   "execution_count": null,
   "metadata": {
    "id": "R48KnAeJaBX3"
   },
   "outputs": [],
   "source": []
  }
 ],
 "metadata": {
  "colab": {
   "collapsed_sections": [],
   "name": "Attrition Prediction.ipynb",
   "version": ""
  },
  "kernelspec": {
   "display_name": "Python 3",
   "language": "python",
   "name": "python3"
  },
  "language_info": {
   "codemirror_mode": {
    "name": "ipython",
    "version": 3
   },
   "file_extension": ".py",
   "mimetype": "text/x-python",
   "name": "python",
   "nbconvert_exporter": "python",
   "pygments_lexer": "ipython3",
   "version": "3.7.3"
  },
  "widgets": {
   "application/vnd.jupyter.widget-state+json": {
    "4f0d3fbe6b4b466396b1c1a6d8e5d132": {
     "model_module": "@jupyter-widgets/controls",
     "model_name": "DropdownModel",
     "state": {
      "_dom_classes": [],
      "_model_module": "@jupyter-widgets/controls",
      "_model_module_version": "1.5.0",
      "_model_name": "DropdownModel",
      "_options_labels": [
       "Q1_2018",
       "Q3_2018",
       "Q1_2019",
       "Q3_2019",
       "Q1_2020"
      ],
      "_view_count": null,
      "_view_module": "@jupyter-widgets/controls",
      "_view_module_version": "1.5.0",
      "_view_name": "DropdownView",
      "description": "Test Data:",
      "description_tooltip": null,
      "disabled": false,
      "index": 1,
      "layout": "IPY_MODEL_c2f9ee1303494ee8b886393d092ce52e",
      "style": "IPY_MODEL_a91bb68c50614534bba236b85c61b1dd"
     }
    },
    "601e7d877dbb44719ade584b30d64fea": {
     "model_module": "@jupyter-widgets/base",
     "model_name": "LayoutModel",
     "state": {
      "_model_module": "@jupyter-widgets/base",
      "_model_module_version": "1.2.0",
      "_model_name": "LayoutModel",
      "_view_count": null,
      "_view_module": "@jupyter-widgets/base",
      "_view_module_version": "1.2.0",
      "_view_name": "LayoutView",
      "align_content": null,
      "align_items": null,
      "align_self": null,
      "border": null,
      "bottom": null,
      "display": null,
      "flex": null,
      "flex_flow": null,
      "grid_area": null,
      "grid_auto_columns": null,
      "grid_auto_flow": null,
      "grid_auto_rows": null,
      "grid_column": null,
      "grid_gap": null,
      "grid_row": null,
      "grid_template_areas": null,
      "grid_template_columns": null,
      "grid_template_rows": null,
      "height": null,
      "justify_content": null,
      "justify_items": null,
      "left": null,
      "margin": null,
      "max_height": null,
      "max_width": null,
      "min_height": null,
      "min_width": null,
      "object_fit": null,
      "object_position": null,
      "order": null,
      "overflow": null,
      "overflow_x": null,
      "overflow_y": null,
      "padding": null,
      "right": null,
      "top": null,
      "visibility": null,
      "width": null
     }
    },
    "90241fff64844e8bbf31230d3de3b372": {
     "model_module": "@jupyter-widgets/controls",
     "model_name": "DropdownModel",
     "state": {
      "_dom_classes": [],
      "_model_module": "@jupyter-widgets/controls",
      "_model_module_version": "1.5.0",
      "_model_name": "DropdownModel",
      "_options_labels": [
       "Q1_2018",
       "Q3_2018",
       "Q1_2019",
       "Q3_2019",
       "Q1_2020"
      ],
      "_view_count": null,
      "_view_module": "@jupyter-widgets/controls",
      "_view_module_version": "1.5.0",
      "_view_name": "DropdownView",
      "description": "Training Data:",
      "description_tooltip": null,
      "disabled": false,
      "index": 0,
      "layout": "IPY_MODEL_601e7d877dbb44719ade584b30d64fea",
      "style": "IPY_MODEL_bd7c74f7ac214a259cef36c1e4c501fc"
     }
    },
    "a91bb68c50614534bba236b85c61b1dd": {
     "model_module": "@jupyter-widgets/controls",
     "model_name": "DescriptionStyleModel",
     "state": {
      "_model_module": "@jupyter-widgets/controls",
      "_model_module_version": "1.5.0",
      "_model_name": "DescriptionStyleModel",
      "_view_count": null,
      "_view_module": "@jupyter-widgets/base",
      "_view_module_version": "1.2.0",
      "_view_name": "StyleView",
      "description_width": ""
     }
    },
    "bd7c74f7ac214a259cef36c1e4c501fc": {
     "model_module": "@jupyter-widgets/controls",
     "model_name": "DescriptionStyleModel",
     "state": {
      "_model_module": "@jupyter-widgets/controls",
      "_model_module_version": "1.5.0",
      "_model_name": "DescriptionStyleModel",
      "_view_count": null,
      "_view_module": "@jupyter-widgets/base",
      "_view_module_version": "1.2.0",
      "_view_name": "StyleView",
      "description_width": ""
     }
    },
    "c2f9ee1303494ee8b886393d092ce52e": {
     "model_module": "@jupyter-widgets/base",
     "model_name": "LayoutModel",
     "state": {
      "_model_module": "@jupyter-widgets/base",
      "_model_module_version": "1.2.0",
      "_model_name": "LayoutModel",
      "_view_count": null,
      "_view_module": "@jupyter-widgets/base",
      "_view_module_version": "1.2.0",
      "_view_name": "LayoutView",
      "align_content": null,
      "align_items": null,
      "align_self": null,
      "border": null,
      "bottom": null,
      "display": null,
      "flex": null,
      "flex_flow": null,
      "grid_area": null,
      "grid_auto_columns": null,
      "grid_auto_flow": null,
      "grid_auto_rows": null,
      "grid_column": null,
      "grid_gap": null,
      "grid_row": null,
      "grid_template_areas": null,
      "grid_template_columns": null,
      "grid_template_rows": null,
      "height": null,
      "justify_content": null,
      "justify_items": null,
      "left": null,
      "margin": null,
      "max_height": null,
      "max_width": null,
      "min_height": null,
      "min_width": null,
      "object_fit": null,
      "object_position": null,
      "order": null,
      "overflow": null,
      "overflow_x": null,
      "overflow_y": null,
      "padding": null,
      "right": null,
      "top": null,
      "visibility": null,
      "width": null
     }
    }
   }
  }
 },
 "nbformat": 4,
 "nbformat_minor": 1
}
